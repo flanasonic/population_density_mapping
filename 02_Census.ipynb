{
 "cells": [
  {
   "cell_type": "markdown",
   "id": "4fb7aac7-a982-4958-90d8-e11b9ad4db97",
   "metadata": {},
   "source": [
    "## GEOID codes\n",
    "\n",
    "*Geographic Identifier (GEOID)* is a general term for the unique numeric codes used to identify geographic entities. Specifically, the Census Bureau uses Federal Information Processing Series (FIPS) codes to identify most of the geographies for which it tabulates data, such as states, counties, and \"places\". Because FIPS codes are maintained by the American National Standards Institute (ANSI), they may be referred to as \"ANSI\", \"FIPS\", or \"ANSI/FIPS\" codes. To eliminate confusion, we'll refer to them here just as \"FIPS\" codes. The exception here is census tract codes, these are maintained by the Census Bureau, so we'll just call them \"Census Tract Codes.\" \n",
    "\n",
    "\n",
    "### Why do we need GEOIDs?\n",
    "Regardless of what we call them, GEOIDs are the critical piece of information that allows us to tie population data to geographic data. A unique GEOID can be derived for every piece of geography in the US by concatenating its FIPS code with those of the geographies in which it nests. The geography we'll be mapping, the *census tract*, nests within a *county*, which nests within a *state*. So, to derive a census tract's unique GEOID we concatenate it: STATE + COUNTY + TRACT codes.\n",
    "\n",
    "For example, the GEOID for the census tract in Brooklyn where I currently sit writing this is:\n",
    "\n",
    "```\n",
    "STATE + COUNTY + TRACT\n",
    "NY + Kings County + Tract #\n",
    "36 + 047 + 016500 \n",
    "= 36047016500\n",
    "\n",
    "```"
   ]
  },
  {
   "cell_type": "markdown",
   "id": "4a287aa2-6ac4-4169-96da-99d4a87071ab",
   "metadata": {},
   "source": [
    "### Which specific GEOIDs do we need?\n",
    "\n",
    "Because a glance at the [FTP Archive](https://www2.census.gov/geo/tiger/TIGER2020PL/LAYER/TRACT/2020/) of shapefiles, quickly revealsa that the dataset required to map every census tract in the US is *enormous*, for this initial mapping exercise, we'll narrow our scope to a smaller subsection of particular interest within the indoor farming industry, New York City. We will, however, write our code in such a way that we can easily add more locations when we're ready.\n",
    "\n",
    "Given the [hierarchy by which census geographic entities are oganized](https://www2.census.gov/geo/pdfs/reference/geodiagram.pdf), accessing New York City shapefiles at the census tract level is not quite as straightforward as one might expect. We've downloaded the full set of NY state shapefiles and will be joining several sets of GEOIDs to isolate the specific census tracts belonging to New York City.As mentioned above, we'll need state FIPS, county FIPS, and census tract codes. We've also got a fourth to add to our list - \"Place\". We need this last one because, interestingly, \"City\" isn't one of the categories within the hierarchy of census geographic entities, rather the Census Bureau categorizes New York City, the area we'll be mapping, as a \"Place\". \n",
    "\n",
    "We'll produce a clean DataFrame for each, containing just the info we want, then merge into one big DataFrame with the name and GEOIDs for every state, county, place, and census tract in the US. While our initial mapping exercise will be limited to NYC, we'll include all of the US in our codes DataFrame, as we'll need it for future mapping of additional areas."
   ]
  },
  {
   "cell_type": "markdown",
   "id": "5e047653-a08a-4c8d-94e3-675b21c7eddd",
   "metadata": {
    "tags": []
   },
   "source": [
    "### Data Sources\n",
    "\n",
    "The below list details the data sources used for this section of the project. Since several routes can be taken to access the same census data, I've included the specific steps I followed to access them.\n",
    "\n",
    "*GEOID Codes*\n",
    "\n",
    "Files downloaded from census.gov ftp archive via ftp client.\n",
    "* State FIPS codes - ftp://ftp2.census.gov/geo/docs/reference/codes/state.txt\n",
    "* County - ftp://ftp2.census.gov/geo/docs/reference/codes/national_county.txt# \n",
    "* Place - ftp://ftp2.census.gov/geo/docs/reference/codes/PLACElist.txt"
   ]
  },
  {
   "cell_type": "code",
   "execution_count": 1,
   "id": "688434d7-1045-4af9-add5-bb7d92bcac35",
   "metadata": {},
   "outputs": [],
   "source": [
    "# os module provides a variety of frequently used file system functions including path.join\n",
    "# pathlib module makes it easier to manipulate folder and file paths with Python\n",
    "# everything builds off base_dir, so if we move our code later, we'll only need to change base_dir\n",
    "import os, pathlib\n",
    "# base_dir - the immediate parent folder of this notebook\n",
    "# we expect our data folders to be found here\n",
    "base_dir = pathlib.Path(os.getcwd()).parent\n",
    "\n",
    "# data_archive - we'll store compressed files here\n",
    "# these will be preserved in git\n",
    "data_archive_dir = os.path.join(base_dir, \"data_archive\")\n",
    "\n",
    "# data_dir - large/numerous files will go here\n",
    "# these will not be preserved in git!\n",
    "# we'll only put files here that can be recreated with some python code (e.g. downloaded \n",
    "# or unpacked from data_archive, or generated from a DataFrame)\n",
    "data_dir = os.path.join(base_dir, \"data\")\n",
    "\n",
    "# shapes_dir - folders containing shapefiles go here\n",
    "shapes_dir = os.path.join(data_dir,\"shapes\")\n",
    "\n",
    "# json_dir - we'll store here GeoJSON we've generated and want to save for re-use \n",
    "json_dir = os.path.join(data_dir,\"geojson\")\n"
   ]
  },
  {
   "cell_type": "markdown",
   "id": "38044eaa-25b8-4496-852f-77fc43ce1eb6",
   "metadata": {},
   "source": [
    "### State Codes\n",
    "\n",
    "Let's go ahead and load as a DataFrame the list of codes for the states and state equivalents we downloaded from the Census FTP Site and examine the first few rows. We'll include just the columns we want, rename them to better describe their contents, and reorder them as we like. "
   ]
  },
  {
   "cell_type": "code",
   "execution_count": 2,
   "id": "64d8193b-465a-43e7-adbd-695e9ca81b5b",
   "metadata": {},
   "outputs": [
    {
     "data": {
      "text/html": [
       "<div>\n",
       "<style scoped>\n",
       "    .dataframe tbody tr th:only-of-type {\n",
       "        vertical-align: middle;\n",
       "    }\n",
       "\n",
       "    .dataframe tbody tr th {\n",
       "        vertical-align: top;\n",
       "    }\n",
       "\n",
       "    .dataframe thead th {\n",
       "        text-align: right;\n",
       "    }\n",
       "</style>\n",
       "<table border=\"1\" class=\"dataframe\">\n",
       "  <thead>\n",
       "    <tr style=\"text-align: right;\">\n",
       "      <th></th>\n",
       "      <th>State Name</th>\n",
       "      <th>State</th>\n",
       "      <th>State FIPS</th>\n",
       "    </tr>\n",
       "  </thead>\n",
       "  <tbody>\n",
       "    <tr>\n",
       "      <th>0</th>\n",
       "      <td>Alabama</td>\n",
       "      <td>AL</td>\n",
       "      <td>1</td>\n",
       "    </tr>\n",
       "    <tr>\n",
       "      <th>1</th>\n",
       "      <td>Alaska</td>\n",
       "      <td>AK</td>\n",
       "      <td>2</td>\n",
       "    </tr>\n",
       "    <tr>\n",
       "      <th>2</th>\n",
       "      <td>Arizona</td>\n",
       "      <td>AZ</td>\n",
       "      <td>4</td>\n",
       "    </tr>\n",
       "    <tr>\n",
       "      <th>3</th>\n",
       "      <td>Arkansas</td>\n",
       "      <td>AR</td>\n",
       "      <td>5</td>\n",
       "    </tr>\n",
       "    <tr>\n",
       "      <th>4</th>\n",
       "      <td>California</td>\n",
       "      <td>CA</td>\n",
       "      <td>6</td>\n",
       "    </tr>\n",
       "  </tbody>\n",
       "</table>\n",
       "</div>"
      ],
      "text/plain": [
       "   State Name State  State FIPS\n",
       "0     Alabama    AL           1\n",
       "1      Alaska    AK           2\n",
       "2     Arizona    AZ           4\n",
       "3    Arkansas    AR           5\n",
       "4  California    CA           6"
      ]
     },
     "execution_count": 2,
     "metadata": {},
     "output_type": "execute_result"
    }
   ],
   "source": [
    "import pandas as pd\n",
    "\n",
    "# these options determine how much data is displayed in the notebook\n",
    "pd.set_option('display.width', None)\n",
    "pd.set_option('display.max_colwidth', None)\n",
    "\n",
    "# this text file uses UTF-8 encoding\n",
    "\n",
    "file_state = os.path.join(data_archive_dir, 'state.txt')\n",
    "\n",
    "# change some options that determine how much data is displayed in the notebook\n",
    "pd.set_option('display.width', None)\n",
    "pd.set_option('display.max_colwidth', None)\n",
    "\n",
    "df_state = pd.read_csv(file_state, \n",
    "                       usecols=['STATE', 'STUSAB', 'STATE_NAME'], # use only these columns\n",
    "                       delimiter=\"|\", # load txt file as pandas DataFrame \n",
    "                       encoding=\"iso-8859-1\", # QUESTION: Patrick - text file uses UTF-8, what encoding should we use here? \n",
    "                       encoding_errors='ignore')[['STATE_NAME', 'STUSAB', 'STATE',]] # reorder cols\n",
    "\n",
    "df_state.rename(columns={'STATE': 'State FIPS', 'STUSAB': 'State', 'STATE_NAME': 'State Name'}, inplace=True) # rename columns\n",
    "df_state.head()"
   ]
  },
  {
   "cell_type": "code",
   "execution_count": 3,
   "id": "5d19356e-4c20-4d1e-b8a7-d5cb419e9a6d",
   "metadata": {},
   "outputs": [
    {
     "data": {
      "text/plain": [
       "(57, 3)"
      ]
     },
     "execution_count": 3,
     "metadata": {},
     "output_type": "execute_result"
    }
   ],
   "source": [
    "df_state.shape"
   ]
  },
  {
   "cell_type": "code",
   "execution_count": 4,
   "id": "a6432247-606b-4659-b5e0-3032e2fdf13c",
   "metadata": {},
   "outputs": [
    {
     "data": {
      "text/html": [
       "<div>\n",
       "<style scoped>\n",
       "    .dataframe tbody tr th:only-of-type {\n",
       "        vertical-align: middle;\n",
       "    }\n",
       "\n",
       "    .dataframe tbody tr th {\n",
       "        vertical-align: top;\n",
       "    }\n",
       "\n",
       "    .dataframe thead th {\n",
       "        text-align: right;\n",
       "    }\n",
       "</style>\n",
       "<table border=\"1\" class=\"dataframe\">\n",
       "  <thead>\n",
       "    <tr style=\"text-align: right;\">\n",
       "      <th></th>\n",
       "      <th>State Name</th>\n",
       "      <th>State</th>\n",
       "      <th>State FIPS</th>\n",
       "    </tr>\n",
       "  </thead>\n",
       "  <tbody>\n",
       "    <tr>\n",
       "      <th>52</th>\n",
       "      <td>Guam</td>\n",
       "      <td>GU</td>\n",
       "      <td>66</td>\n",
       "    </tr>\n",
       "    <tr>\n",
       "      <th>53</th>\n",
       "      <td>Northern Mariana Islands</td>\n",
       "      <td>MP</td>\n",
       "      <td>69</td>\n",
       "    </tr>\n",
       "    <tr>\n",
       "      <th>54</th>\n",
       "      <td>Puerto Rico</td>\n",
       "      <td>PR</td>\n",
       "      <td>72</td>\n",
       "    </tr>\n",
       "    <tr>\n",
       "      <th>55</th>\n",
       "      <td>U.S. Minor Outlying Islands</td>\n",
       "      <td>UM</td>\n",
       "      <td>74</td>\n",
       "    </tr>\n",
       "    <tr>\n",
       "      <th>56</th>\n",
       "      <td>U.S. Virgin Islands</td>\n",
       "      <td>VI</td>\n",
       "      <td>78</td>\n",
       "    </tr>\n",
       "  </tbody>\n",
       "</table>\n",
       "</div>"
      ],
      "text/plain": [
       "                     State Name State  State FIPS\n",
       "52                         Guam    GU          66\n",
       "53     Northern Mariana Islands    MP          69\n",
       "54                  Puerto Rico    PR          72\n",
       "55  U.S. Minor Outlying Islands    UM          74\n",
       "56          U.S. Virgin Islands    VI          78"
      ]
     },
     "execution_count": 4,
     "metadata": {},
     "output_type": "execute_result"
    }
   ],
   "source": [
    "df_state.tail()"
   ]
  },
  {
   "cell_type": "code",
   "execution_count": 5,
   "id": "65562fe2-022f-4836-93d1-04fcfd9c272f",
   "metadata": {},
   "outputs": [
    {
     "data": {
      "text/plain": [
       "State Name    object\n",
       "State         object\n",
       "State FIPS     int64\n",
       "dtype: object"
      ]
     },
     "execution_count": 5,
     "metadata": {},
     "output_type": "execute_result"
    }
   ],
   "source": [
    "df_state.dtypes"
   ]
  },
  {
   "cell_type": "markdown",
   "id": "1a853e12-9caf-4187-a7de-9c2862a67080",
   "metadata": {},
   "source": [
    "***** DOUBLE CHECK THIS****\n",
    "\n",
    "Note - this list includes the United States, Puerto Rico, and the Island Areas (American Samoa, Guam, Commonwealth of the Northern Mariana Islands, and United States Virgin Islands). Our population data is limited to the United States and Puerto Rico, it does not include the other Island Areas."
   ]
  },
  {
   "cell_type": "code",
   "execution_count": 6,
   "id": "c9838306-31d2-4618-831f-5fde401cc700",
   "metadata": {},
   "outputs": [],
   "source": [
    "df_state['State FIPS'] = df_state['State FIPS'].astype(str)"
   ]
  },
  {
   "cell_type": "markdown",
   "id": "429a26f6-a8c1-4f97-a1a6-7a1479f9a40f",
   "metadata": {},
   "source": [
    "Now we can do our usual search for data oddities, making sure there are no missing values or datatypes that don't make sense."
   ]
  },
  {
   "cell_type": "code",
   "execution_count": 7,
   "id": "c31bbc28-ab9e-4a39-b9a8-a32abcfe1776",
   "metadata": {},
   "outputs": [
    {
     "name": "stdout",
     "output_type": "stream",
     "text": [
      "<class 'pandas.core.frame.DataFrame'>\n",
      "RangeIndex: 57 entries, 0 to 56\n",
      "Data columns (total 3 columns):\n",
      " #   Column      Non-Null Count  Dtype \n",
      "---  ------      --------------  ----- \n",
      " 0   State Name  57 non-null     object\n",
      " 1   State       57 non-null     object\n",
      " 2   State FIPS  57 non-null     object\n",
      "dtypes: object(3)\n",
      "memory usage: 1.5+ KB\n"
     ]
    }
   ],
   "source": [
    "df_state.info()"
   ]
  },
  {
   "cell_type": "markdown",
   "id": "f7e18e73-2c7a-4926-ae05-0f84a6eb860b",
   "metadata": {},
   "source": [
    "<!-- ****DOUBLE CHECK - do we want State FIPS as integer or string? Population data has GEOIDs as strings. What about shapefiles? Let's leave it for now.****\n",
    "\n",
    "Hmm. \"State\" and \"State Name\" are of type \"object\", which makes sense since our visual inspection makes it clear they are strings. State FIPS, however, is showing up as an integer type. This makes sense, but since our population data has GEOIDs formatted as strings, we'll follow its lead and change the dtype here, so we'll be able match on this column if needed in the future.  -->"
   ]
  },
  {
   "cell_type": "markdown",
   "id": "0aa353df-c1ec-4e19-91d4-f0f2f45cee7e",
   "metadata": {},
   "source": [
    "According to `.info()` our list has no null values. To be safe, let's double check this using `.isna().sum().`"
   ]
  },
  {
   "cell_type": "code",
   "execution_count": 8,
   "id": "8ae7d0bc-d5e0-49e6-bee5-e27019e79c39",
   "metadata": {},
   "outputs": [
    {
     "data": {
      "text/plain": [
       "State Name    0\n",
       "State         0\n",
       "State FIPS    0\n",
       "dtype: int64"
      ]
     },
     "execution_count": 8,
     "metadata": {},
     "output_type": "execute_result"
    }
   ],
   "source": [
    "df_state.isna().sum()"
   ]
  },
  {
   "cell_type": "markdown",
   "id": "2b72b876-eb85-4596-a33a-b51c1a3c72a6",
   "metadata": {},
   "source": [
    "Looks good. Let's move on to our next list, County Codes."
   ]
  },
  {
   "cell_type": "markdown",
   "id": "8d0f5683-6599-4337-80f5-8383d10b6f1b",
   "metadata": {},
   "source": [
    "### County Codes\n",
    "\n",
    "Now, let's load as a DataFrame the list of County FIPS codes we downloaded previously. Again, we'll include only the columns we need, reorder and rename them as we like, and examine the first few rows."
   ]
  },
  {
   "cell_type": "code",
   "execution_count": 9,
   "id": "2f4a0d5b-8c9f-4896-bca4-33ef7d79c2c3",
   "metadata": {},
   "outputs": [
    {
     "data": {
      "text/html": [
       "<div>\n",
       "<style scoped>\n",
       "    .dataframe tbody tr th:only-of-type {\n",
       "        vertical-align: middle;\n",
       "    }\n",
       "\n",
       "    .dataframe tbody tr th {\n",
       "        vertical-align: top;\n",
       "    }\n",
       "\n",
       "    .dataframe thead th {\n",
       "        text-align: right;\n",
       "    }\n",
       "</style>\n",
       "<table border=\"1\" class=\"dataframe\">\n",
       "  <thead>\n",
       "    <tr style=\"text-align: right;\">\n",
       "      <th></th>\n",
       "      <th>State FIPS</th>\n",
       "      <th>County</th>\n",
       "      <th>County FIPS</th>\n",
       "    </tr>\n",
       "  </thead>\n",
       "  <tbody>\n",
       "    <tr>\n",
       "      <th>0</th>\n",
       "      <td>1</td>\n",
       "      <td>Autauga County</td>\n",
       "      <td>1</td>\n",
       "    </tr>\n",
       "    <tr>\n",
       "      <th>1</th>\n",
       "      <td>1</td>\n",
       "      <td>Baldwin County</td>\n",
       "      <td>3</td>\n",
       "    </tr>\n",
       "    <tr>\n",
       "      <th>2</th>\n",
       "      <td>1</td>\n",
       "      <td>Barbour County</td>\n",
       "      <td>5</td>\n",
       "    </tr>\n",
       "  </tbody>\n",
       "</table>\n",
       "</div>"
      ],
      "text/plain": [
       "   State FIPS          County  County FIPS\n",
       "0           1  Autauga County            1\n",
       "1           1  Baldwin County            3\n",
       "2           1  Barbour County            5"
      ]
     },
     "execution_count": 9,
     "metadata": {},
     "output_type": "execute_result"
    }
   ],
   "source": [
    "# this text file uses UTF-8 encoding \n",
    "file_national_county = os.path.join(data_archive_dir, 'national_county.txt')\n",
    "\n",
    "df_county = pd.read_csv(file_national_county,\n",
    "                        delimiter=\",\",\n",
    "                        usecols=['State ANSI', 'County ANSI', 'County Name'], # use only these columns\n",
    "                        encoding=\"iso-8859-1\", # QUESTION: Patrick, this text file uses UTF-8 encoding, what should we use here?\n",
    "                        encoding_errors='ignore')[['State ANSI', 'County Name', 'County ANSI']] # reorder columns\n",
    "\n",
    "# rename columns\n",
    "df_county.columns = ['State FIPS', 'County', 'County FIPS']\n",
    "df_county.head(3)"
   ]
  },
  {
   "cell_type": "markdown",
   "id": "a25a16c0-88b1-44d6-a143-3ccd9dd68bd3",
   "metadata": {},
   "source": [
    "Let's proceed with our usual checks - making sure there are no missing values or data types that don't seem quite right."
   ]
  },
  {
   "cell_type": "code",
   "execution_count": 10,
   "id": "d9751db7-2db7-461f-86a5-d7cc73282be2",
   "metadata": {},
   "outputs": [
    {
     "data": {
      "text/html": [
       "<div>\n",
       "<style scoped>\n",
       "    .dataframe tbody tr th:only-of-type {\n",
       "        vertical-align: middle;\n",
       "    }\n",
       "\n",
       "    .dataframe tbody tr th {\n",
       "        vertical-align: top;\n",
       "    }\n",
       "\n",
       "    .dataframe thead th {\n",
       "        text-align: right;\n",
       "    }\n",
       "</style>\n",
       "<table border=\"1\" class=\"dataframe\">\n",
       "  <thead>\n",
       "    <tr style=\"text-align: right;\">\n",
       "      <th></th>\n",
       "      <th>State FIPS</th>\n",
       "      <th>County</th>\n",
       "      <th>County FIPS</th>\n",
       "    </tr>\n",
       "  </thead>\n",
       "  <tbody>\n",
       "    <tr>\n",
       "      <th>3232</th>\n",
       "      <td>78</td>\n",
       "      <td>St. Croix Island</td>\n",
       "      <td>10</td>\n",
       "    </tr>\n",
       "    <tr>\n",
       "      <th>3233</th>\n",
       "      <td>78</td>\n",
       "      <td>St. John Island</td>\n",
       "      <td>20</td>\n",
       "    </tr>\n",
       "    <tr>\n",
       "      <th>3234</th>\n",
       "      <td>78</td>\n",
       "      <td>St. Thomas Island</td>\n",
       "      <td>30</td>\n",
       "    </tr>\n",
       "  </tbody>\n",
       "</table>\n",
       "</div>"
      ],
      "text/plain": [
       "      State FIPS             County  County FIPS\n",
       "3232          78   St. Croix Island           10\n",
       "3233          78    St. John Island           20\n",
       "3234          78  St. Thomas Island           30"
      ]
     },
     "execution_count": 10,
     "metadata": {},
     "output_type": "execute_result"
    }
   ],
   "source": [
    "df_county.tail(3)"
   ]
  },
  {
   "cell_type": "code",
   "execution_count": 11,
   "id": "9d4d5758-0f28-455b-83e4-22d7d36642c1",
   "metadata": {},
   "outputs": [
    {
     "data": {
      "text/plain": [
       "State FIPS     object\n",
       "County         object\n",
       "County FIPS    object\n",
       "dtype: object"
      ]
     },
     "execution_count": 11,
     "metadata": {},
     "output_type": "execute_result"
    }
   ],
   "source": [
    "df_county['State FIPS'] = df_county['State FIPS'].astype(str)\n",
    "df_county['County FIPS'] = df_county['County FIPS'].astype(str)\n",
    "df_county.dtypes"
   ]
  },
  {
   "cell_type": "code",
   "execution_count": 12,
   "id": "8ea03112-4cbe-4926-a4c5-50da1a0edb59",
   "metadata": {},
   "outputs": [
    {
     "data": {
      "text/plain": [
       "State FIPS     0\n",
       "County         0\n",
       "County FIPS    0\n",
       "dtype: int64"
      ]
     },
     "execution_count": 12,
     "metadata": {},
     "output_type": "execute_result"
    }
   ],
   "source": [
    "df_county.isna().sum()"
   ]
  },
  {
   "cell_type": "markdown",
   "id": "990d2aa3-6b71-4fe7-a493-ad783b0b8c60",
   "metadata": {},
   "source": [
    "Before we move on to places, let's add to *df_county* the \"State Names\" column from our *df_states* DataFrame."
   ]
  },
  {
   "cell_type": "code",
   "execution_count": 13,
   "id": "4a0842dd-3efc-4ace-b989-7b4dc1907716",
   "metadata": {},
   "outputs": [
    {
     "data": {
      "text/html": [
       "<div>\n",
       "<style scoped>\n",
       "    .dataframe tbody tr th:only-of-type {\n",
       "        vertical-align: middle;\n",
       "    }\n",
       "\n",
       "    .dataframe tbody tr th {\n",
       "        vertical-align: top;\n",
       "    }\n",
       "\n",
       "    .dataframe thead th {\n",
       "        text-align: right;\n",
       "    }\n",
       "</style>\n",
       "<table border=\"1\" class=\"dataframe\">\n",
       "  <thead>\n",
       "    <tr style=\"text-align: right;\">\n",
       "      <th></th>\n",
       "      <th>State Name</th>\n",
       "      <th>State</th>\n",
       "      <th>State FIPS</th>\n",
       "      <th>County</th>\n",
       "      <th>County FIPS</th>\n",
       "    </tr>\n",
       "  </thead>\n",
       "  <tbody>\n",
       "    <tr>\n",
       "      <th>0</th>\n",
       "      <td>Alabama</td>\n",
       "      <td>AL</td>\n",
       "      <td>1</td>\n",
       "      <td>Autauga County</td>\n",
       "      <td>1</td>\n",
       "    </tr>\n",
       "    <tr>\n",
       "      <th>1</th>\n",
       "      <td>Alabama</td>\n",
       "      <td>AL</td>\n",
       "      <td>1</td>\n",
       "      <td>Baldwin County</td>\n",
       "      <td>3</td>\n",
       "    </tr>\n",
       "    <tr>\n",
       "      <th>2</th>\n",
       "      <td>Alabama</td>\n",
       "      <td>AL</td>\n",
       "      <td>1</td>\n",
       "      <td>Barbour County</td>\n",
       "      <td>5</td>\n",
       "    </tr>\n",
       "    <tr>\n",
       "      <th>3</th>\n",
       "      <td>Alabama</td>\n",
       "      <td>AL</td>\n",
       "      <td>1</td>\n",
       "      <td>Bibb County</td>\n",
       "      <td>7</td>\n",
       "    </tr>\n",
       "    <tr>\n",
       "      <th>4</th>\n",
       "      <td>Alabama</td>\n",
       "      <td>AL</td>\n",
       "      <td>1</td>\n",
       "      <td>Blount County</td>\n",
       "      <td>9</td>\n",
       "    </tr>\n",
       "  </tbody>\n",
       "</table>\n",
       "</div>"
      ],
      "text/plain": [
       "  State Name State State FIPS          County County FIPS\n",
       "0    Alabama    AL          1  Autauga County           1\n",
       "1    Alabama    AL          1  Baldwin County           3\n",
       "2    Alabama    AL          1  Barbour County           5\n",
       "3    Alabama    AL          1     Bibb County           7\n",
       "4    Alabama    AL          1   Blount County           9"
      ]
     },
     "execution_count": 13,
     "metadata": {},
     "output_type": "execute_result"
    }
   ],
   "source": [
    "df_county = pd.merge(df_state, df_county, on=['State FIPS'], how='left') \n",
    "df_county.head()"
   ]
  },
  {
   "cell_type": "code",
   "execution_count": 14,
   "id": "d9c2137d-81a5-4840-9997-93ae4df9c22a",
   "metadata": {},
   "outputs": [
    {
     "data": {
      "text/html": [
       "<div>\n",
       "<style scoped>\n",
       "    .dataframe tbody tr th:only-of-type {\n",
       "        vertical-align: middle;\n",
       "    }\n",
       "\n",
       "    .dataframe tbody tr th {\n",
       "        vertical-align: top;\n",
       "    }\n",
       "\n",
       "    .dataframe thead th {\n",
       "        text-align: right;\n",
       "    }\n",
       "</style>\n",
       "<table border=\"1\" class=\"dataframe\">\n",
       "  <thead>\n",
       "    <tr style=\"text-align: right;\">\n",
       "      <th></th>\n",
       "      <th>State Name</th>\n",
       "      <th>State</th>\n",
       "      <th>State FIPS</th>\n",
       "      <th>County</th>\n",
       "      <th>County FIPS</th>\n",
       "    </tr>\n",
       "  </thead>\n",
       "  <tbody>\n",
       "    <tr>\n",
       "      <th>3230</th>\n",
       "      <td>Puerto Rico</td>\n",
       "      <td>PR</td>\n",
       "      <td>72</td>\n",
       "      <td>Yauco Municipio</td>\n",
       "      <td>153</td>\n",
       "    </tr>\n",
       "    <tr>\n",
       "      <th>3231</th>\n",
       "      <td>U.S. Minor Outlying Islands</td>\n",
       "      <td>UM</td>\n",
       "      <td>74</td>\n",
       "      <td>Midway Islands</td>\n",
       "      <td>300</td>\n",
       "    </tr>\n",
       "    <tr>\n",
       "      <th>3232</th>\n",
       "      <td>U.S. Virgin Islands</td>\n",
       "      <td>VI</td>\n",
       "      <td>78</td>\n",
       "      <td>St. Croix Island</td>\n",
       "      <td>10</td>\n",
       "    </tr>\n",
       "    <tr>\n",
       "      <th>3233</th>\n",
       "      <td>U.S. Virgin Islands</td>\n",
       "      <td>VI</td>\n",
       "      <td>78</td>\n",
       "      <td>St. John Island</td>\n",
       "      <td>20</td>\n",
       "    </tr>\n",
       "    <tr>\n",
       "      <th>3234</th>\n",
       "      <td>U.S. Virgin Islands</td>\n",
       "      <td>VI</td>\n",
       "      <td>78</td>\n",
       "      <td>St. Thomas Island</td>\n",
       "      <td>30</td>\n",
       "    </tr>\n",
       "  </tbody>\n",
       "</table>\n",
       "</div>"
      ],
      "text/plain": [
       "                       State Name State State FIPS             County  \\\n",
       "3230                  Puerto Rico    PR         72    Yauco Municipio   \n",
       "3231  U.S. Minor Outlying Islands    UM         74     Midway Islands   \n",
       "3232          U.S. Virgin Islands    VI         78   St. Croix Island   \n",
       "3233          U.S. Virgin Islands    VI         78    St. John Island   \n",
       "3234          U.S. Virgin Islands    VI         78  St. Thomas Island   \n",
       "\n",
       "     County FIPS  \n",
       "3230         153  \n",
       "3231         300  \n",
       "3232          10  \n",
       "3233          20  \n",
       "3234          30  "
      ]
     },
     "execution_count": 14,
     "metadata": {},
     "output_type": "execute_result"
    }
   ],
   "source": [
    "df_county.tail()"
   ]
  },
  {
   "cell_type": "code",
   "execution_count": 15,
   "id": "6bb09f5c-a441-4515-975c-132edd0e8be0",
   "metadata": {},
   "outputs": [
    {
     "data": {
      "text/plain": [
       "(3235, 5)"
      ]
     },
     "execution_count": 15,
     "metadata": {},
     "output_type": "execute_result"
    }
   ],
   "source": [
    "df_county.shape"
   ]
  },
  {
   "cell_type": "markdown",
   "id": "07d3f225-16ff-4ecf-a1ef-6916bb30b77a",
   "metadata": {},
   "source": [
    "<!-- The Tally page tells us there are 3,143 Counties & Equivalents in the 50 states and DC. (This does not include Puerto Rico and the Island Areas.) We can check if the number of rows in our DF looks right by selecting all states and excluding PR (72), American Samoa (60), Guam (66), Commonwealth of the Northern Mariana Islands (69), United States Virgin Islands (78) and comparing this to the Tally page count (3,143). -->"
   ]
  },
  {
   "cell_type": "markdown",
   "id": "81cfe6dd-15bc-4abb-ae88-b9d7df0fccc3",
   "metadata": {},
   "source": [
    "Looks good. Let's move on to our list of Place codes."
   ]
  },
  {
   "cell_type": "markdown",
   "id": "70a7bef4-a8fb-4405-a359-f8801fb0d677",
   "metadata": {
    "tags": []
   },
   "source": [
    "### Place Codes\n",
    "\n",
    "As per usual, we'll load our list as a DataFrame, rename and reorder columns, and inspect the first few rows. "
   ]
  },
  {
   "cell_type": "code",
   "execution_count": 16,
   "id": "f191066f-d6c6-4420-b720-587ce6e67cb2",
   "metadata": {},
   "outputs": [
    {
     "data": {
      "text/html": [
       "<div>\n",
       "<style scoped>\n",
       "    .dataframe tbody tr th:only-of-type {\n",
       "        vertical-align: middle;\n",
       "    }\n",
       "\n",
       "    .dataframe tbody tr th {\n",
       "        vertical-align: top;\n",
       "    }\n",
       "\n",
       "    .dataframe thead th {\n",
       "        text-align: right;\n",
       "    }\n",
       "</style>\n",
       "<table border=\"1\" class=\"dataframe\">\n",
       "  <thead>\n",
       "    <tr style=\"text-align: right;\">\n",
       "      <th></th>\n",
       "      <th>State</th>\n",
       "      <th>State FIPS</th>\n",
       "      <th>Place</th>\n",
       "      <th>Place FIPS</th>\n",
       "      <th>County</th>\n",
       "    </tr>\n",
       "  </thead>\n",
       "  <tbody>\n",
       "    <tr>\n",
       "      <th>0</th>\n",
       "      <td>AL</td>\n",
       "      <td>1</td>\n",
       "      <td>Abanda CDP</td>\n",
       "      <td>100</td>\n",
       "      <td>Chambers County</td>\n",
       "    </tr>\n",
       "    <tr>\n",
       "      <th>1</th>\n",
       "      <td>AL</td>\n",
       "      <td>1</td>\n",
       "      <td>Abbeville city</td>\n",
       "      <td>124</td>\n",
       "      <td>Henry County</td>\n",
       "    </tr>\n",
       "    <tr>\n",
       "      <th>2</th>\n",
       "      <td>AL</td>\n",
       "      <td>1</td>\n",
       "      <td>Adamsville city</td>\n",
       "      <td>460</td>\n",
       "      <td>Jefferson County</td>\n",
       "    </tr>\n",
       "  </tbody>\n",
       "</table>\n",
       "</div>"
      ],
      "text/plain": [
       "  State  State FIPS            Place  Place FIPS            County\n",
       "0    AL           1       Abanda CDP         100   Chambers County\n",
       "1    AL           1   Abbeville city         124      Henry County\n",
       "2    AL           1  Adamsville city         460  Jefferson County"
      ]
     },
     "execution_count": 16,
     "metadata": {},
     "output_type": "execute_result"
    }
   ],
   "source": [
    "# this text file uses ANSI encoding\n",
    "file_place = os.path.join(data_archive_dir, 'PLACElist.txt')\n",
    "\n",
    "df_place = pd.read_csv(file_place, \n",
    "                       delimiter=\"|\", \n",
    "                       usecols=['STATE', 'STATEFP', 'PLACEFP', 'PLACENAME', 'COUNTY'], # use only these columns\n",
    "                       encoding=\"iso-8859-1\", # QUESTION: Patrick, this txt file uses ANSI encoding, what should we use here?\n",
    "                       encoding_errors='ignore')[['STATE','STATEFP', 'PLACENAME', 'PLACEFP', 'COUNTY']] # reorder columns\n",
    "\n",
    "df_place.rename(columns={'STATE': 'State', 'STATEFP': 'State FIPS', 'PLACENAME': 'Place', 'PLACEFP': 'Place FIPS', 'COUNTY': 'County'}, inplace=True) # rename columns\n",
    "                         \n",
    "df_place.head(3)  # display first 3 rows"
   ]
  },
  {
   "cell_type": "markdown",
   "id": "62d66bd3-0a7e-435f-9f4b-03f771e62d62",
   "metadata": {},
   "source": [
    "Since we'll be mapping just New York City to start, let's see what the data for this \"place\" looks like."
   ]
  },
  {
   "cell_type": "code",
   "execution_count": 17,
   "id": "586e3489-ff5e-4fd1-8a05-c4f470ca8b2f",
   "metadata": {},
   "outputs": [
    {
     "data": {
      "text/plain": [
       "State         object\n",
       "State FIPS    object\n",
       "Place         object\n",
       "Place FIPS    object\n",
       "County        object\n",
       "dtype: object"
      ]
     },
     "execution_count": 17,
     "metadata": {},
     "output_type": "execute_result"
    }
   ],
   "source": [
    "df_place['State FIPS'] = df_place['State FIPS'].astype(str)\n",
    "df_place['Place FIPS'] = df_place['Place FIPS'].astype(str)\n",
    "df_place.dtypes"
   ]
  },
  {
   "cell_type": "code",
   "execution_count": 18,
   "id": "4424b254-40f4-4628-8f30-f8a866fd2d29",
   "metadata": {},
   "outputs": [
    {
     "data": {
      "text/html": [
       "<div>\n",
       "<style scoped>\n",
       "    .dataframe tbody tr th:only-of-type {\n",
       "        vertical-align: middle;\n",
       "    }\n",
       "\n",
       "    .dataframe tbody tr th {\n",
       "        vertical-align: top;\n",
       "    }\n",
       "\n",
       "    .dataframe thead th {\n",
       "        text-align: right;\n",
       "    }\n",
       "</style>\n",
       "<table border=\"1\" class=\"dataframe\">\n",
       "  <thead>\n",
       "    <tr style=\"text-align: right;\">\n",
       "      <th></th>\n",
       "      <th>State</th>\n",
       "      <th>State FIPS</th>\n",
       "      <th>Place</th>\n",
       "      <th>Place FIPS</th>\n",
       "      <th>County</th>\n",
       "    </tr>\n",
       "  </thead>\n",
       "  <tbody>\n",
       "    <tr>\n",
       "      <th>24316</th>\n",
       "      <td>NY</td>\n",
       "      <td>36</td>\n",
       "      <td>New York city</td>\n",
       "      <td>51000</td>\n",
       "      <td>Bronx County, Kings County, New York County, Queens County, Richmond County</td>\n",
       "    </tr>\n",
       "  </tbody>\n",
       "</table>\n",
       "</div>"
      ],
      "text/plain": [
       "      State State FIPS          Place Place FIPS  \\\n",
       "24316    NY         36  New York city      51000   \n",
       "\n",
       "                                                                            County  \n",
       "24316  Bronx County, Kings County, New York County, Queens County, Richmond County  "
      ]
     },
     "execution_count": 18,
     "metadata": {},
     "output_type": "execute_result"
    }
   ],
   "source": [
    "df_place.loc[df_place['Place'] == (\"New York city\")]"
   ]
  },
  {
   "cell_type": "markdown",
   "id": "8f0d859e-350d-45e0-af84-53d24724a47e",
   "metadata": {},
   "source": [
    "Oh no! We see from the above that the \"County\" column for the Place called 'New York City' includes not one, but several counties. This breaks one of our cardinal rules of data tidiness! Let's fix this throughout our DataFrame, so that any county associated with a place appears in a separate row. To do this, we'll first extract our county column, save it as Series called 'srs_place_expanded', and clean up the string."
   ]
  },
  {
   "cell_type": "code",
   "execution_count": 19,
   "id": "6f82e204-6fa9-488e-a57c-e9881f2f8c40",
   "metadata": {},
   "outputs": [
    {
     "data": {
      "text/html": [
       "<div>\n",
       "<style scoped>\n",
       "    .dataframe tbody tr th:only-of-type {\n",
       "        vertical-align: middle;\n",
       "    }\n",
       "\n",
       "    .dataframe tbody tr th {\n",
       "        vertical-align: top;\n",
       "    }\n",
       "\n",
       "    .dataframe thead th {\n",
       "        text-align: right;\n",
       "    }\n",
       "</style>\n",
       "<table border=\"1\" class=\"dataframe\">\n",
       "  <thead>\n",
       "    <tr style=\"text-align: right;\">\n",
       "      <th></th>\n",
       "      <th>State</th>\n",
       "      <th>State FIPS</th>\n",
       "      <th>Place</th>\n",
       "      <th>Place FIPS</th>\n",
       "      <th>County</th>\n",
       "    </tr>\n",
       "  </thead>\n",
       "  <tbody>\n",
       "    <tr>\n",
       "      <th>11</th>\n",
       "      <td>AL</td>\n",
       "      <td>1</td>\n",
       "      <td>Altoona town</td>\n",
       "      <td>1660</td>\n",
       "      <td>Blount County, Etowah County</td>\n",
       "    </tr>\n",
       "    <tr>\n",
       "      <th>15</th>\n",
       "      <td>AL</td>\n",
       "      <td>1</td>\n",
       "      <td>Arab city</td>\n",
       "      <td>2116</td>\n",
       "      <td>Cullman County, Marshall County</td>\n",
       "    </tr>\n",
       "    <tr>\n",
       "      <th>17</th>\n",
       "      <td>AL</td>\n",
       "      <td>1</td>\n",
       "      <td>Argo town</td>\n",
       "      <td>2320</td>\n",
       "      <td>Jefferson County, St. Clair County</td>\n",
       "    </tr>\n",
       "    <tr>\n",
       "      <th>48</th>\n",
       "      <td>AL</td>\n",
       "      <td>1</td>\n",
       "      <td>Birmingham city</td>\n",
       "      <td>7000</td>\n",
       "      <td>Jefferson County, Shelby County</td>\n",
       "    </tr>\n",
       "    <tr>\n",
       "      <th>53</th>\n",
       "      <td>AL</td>\n",
       "      <td>1</td>\n",
       "      <td>Boaz city</td>\n",
       "      <td>7912</td>\n",
       "      <td>Etowah County, Marshall County</td>\n",
       "    </tr>\n",
       "    <tr>\n",
       "      <th>...</th>\n",
       "      <td>...</td>\n",
       "      <td>...</td>\n",
       "      <td>...</td>\n",
       "      <td>...</td>\n",
       "      <td>...</td>\n",
       "    </tr>\n",
       "    <tr>\n",
       "      <th>41276</th>\n",
       "      <td>PR</td>\n",
       "      <td>72</td>\n",
       "      <td>La Fermina comunidad</td>\n",
       "      <td>40563</td>\n",
       "      <td>Humacao Municipio, Las Piedras Municipio</td>\n",
       "    </tr>\n",
       "    <tr>\n",
       "      <th>41309</th>\n",
       "      <td>PR</td>\n",
       "      <td>72</td>\n",
       "      <td>Mariano Colón comunidad</td>\n",
       "      <td>51055</td>\n",
       "      <td>Coamo Municipio, Santa Isabel Municipio</td>\n",
       "    </tr>\n",
       "    <tr>\n",
       "      <th>41317</th>\n",
       "      <td>PR</td>\n",
       "      <td>72</td>\n",
       "      <td>Monserrate comunidad</td>\n",
       "      <td>53979</td>\n",
       "      <td>Vega Alta Municipio, Vega Baja Municipio</td>\n",
       "    </tr>\n",
       "    <tr>\n",
       "      <th>41331</th>\n",
       "      <td>PR</td>\n",
       "      <td>72</td>\n",
       "      <td>Palmas comunidad</td>\n",
       "      <td>58516</td>\n",
       "      <td>Arroyo Municipio, Patillas Municipio</td>\n",
       "    </tr>\n",
       "    <tr>\n",
       "      <th>41374</th>\n",
       "      <td>PR</td>\n",
       "      <td>72</td>\n",
       "      <td>Sabana comunidad</td>\n",
       "      <td>73200</td>\n",
       "      <td>Vega Alta Municipio, Vega Baja Municipio</td>\n",
       "    </tr>\n",
       "  </tbody>\n",
       "</table>\n",
       "<p>1344 rows × 5 columns</p>\n",
       "</div>"
      ],
      "text/plain": [
       "      State State FIPS                    Place Place FIPS  \\\n",
       "11       AL          1             Altoona town       1660   \n",
       "15       AL          1                Arab city       2116   \n",
       "17       AL          1                Argo town       2320   \n",
       "48       AL          1          Birmingham city       7000   \n",
       "53       AL          1                Boaz city       7912   \n",
       "...     ...        ...                      ...        ...   \n",
       "41276    PR         72     La Fermina comunidad      40563   \n",
       "41309    PR         72  Mariano Colón comunidad      51055   \n",
       "41317    PR         72     Monserrate comunidad      53979   \n",
       "41331    PR         72         Palmas comunidad      58516   \n",
       "41374    PR         72         Sabana comunidad      73200   \n",
       "\n",
       "                                         County  \n",
       "11                 Blount County, Etowah County  \n",
       "15              Cullman County, Marshall County  \n",
       "17           Jefferson County, St. Clair County  \n",
       "48              Jefferson County, Shelby County  \n",
       "53               Etowah County, Marshall County  \n",
       "...                                         ...  \n",
       "41276  Humacao Municipio, Las Piedras Municipio  \n",
       "41309   Coamo Municipio, Santa Isabel Municipio  \n",
       "41317  Vega Alta Municipio, Vega Baja Municipio  \n",
       "41331      Arroyo Municipio, Patillas Municipio  \n",
       "41374  Vega Alta Municipio, Vega Baja Municipio  \n",
       "\n",
       "[1344 rows x 5 columns]"
      ]
     },
     "execution_count": 19,
     "metadata": {},
     "output_type": "execute_result"
    }
   ],
   "source": [
    "# search for any rows containing a comma in the \"County\" column\n",
    "df_place[df_place['County'].str.contains(',')]"
   ]
  },
  {
   "cell_type": "code",
   "execution_count": 20,
   "id": "3679e965-a7db-40af-8098-3e91ef071b9e",
   "metadata": {},
   "outputs": [
    {
     "data": {
      "text/html": [
       "<div>\n",
       "<style scoped>\n",
       "    .dataframe tbody tr th:only-of-type {\n",
       "        vertical-align: middle;\n",
       "    }\n",
       "\n",
       "    .dataframe tbody tr th {\n",
       "        vertical-align: top;\n",
       "    }\n",
       "\n",
       "    .dataframe thead th {\n",
       "        text-align: right;\n",
       "    }\n",
       "</style>\n",
       "<table border=\"1\" class=\"dataframe\">\n",
       "  <thead>\n",
       "    <tr style=\"text-align: right;\">\n",
       "      <th></th>\n",
       "      <th>State</th>\n",
       "      <th>State FIPS</th>\n",
       "      <th>Place</th>\n",
       "      <th>Place FIPS</th>\n",
       "      <th>County</th>\n",
       "    </tr>\n",
       "  </thead>\n",
       "  <tbody>\n",
       "    <tr>\n",
       "      <th>0</th>\n",
       "      <td>AL</td>\n",
       "      <td>1</td>\n",
       "      <td>Abanda CDP</td>\n",
       "      <td>100</td>\n",
       "      <td>Chambers County</td>\n",
       "    </tr>\n",
       "    <tr>\n",
       "      <th>1</th>\n",
       "      <td>AL</td>\n",
       "      <td>1</td>\n",
       "      <td>Abbeville city</td>\n",
       "      <td>124</td>\n",
       "      <td>Henry County</td>\n",
       "    </tr>\n",
       "    <tr>\n",
       "      <th>2</th>\n",
       "      <td>AL</td>\n",
       "      <td>1</td>\n",
       "      <td>Adamsville city</td>\n",
       "      <td>460</td>\n",
       "      <td>Jefferson County</td>\n",
       "    </tr>\n",
       "    <tr>\n",
       "      <th>3</th>\n",
       "      <td>AL</td>\n",
       "      <td>1</td>\n",
       "      <td>Addison town</td>\n",
       "      <td>484</td>\n",
       "      <td>Winston County</td>\n",
       "    </tr>\n",
       "    <tr>\n",
       "      <th>4</th>\n",
       "      <td>AL</td>\n",
       "      <td>1</td>\n",
       "      <td>Akron town</td>\n",
       "      <td>676</td>\n",
       "      <td>Hale County</td>\n",
       "    </tr>\n",
       "    <tr>\n",
       "      <th>...</th>\n",
       "      <td>...</td>\n",
       "      <td>...</td>\n",
       "      <td>...</td>\n",
       "      <td>...</td>\n",
       "      <td>...</td>\n",
       "    </tr>\n",
       "    <tr>\n",
       "      <th>41409</th>\n",
       "      <td>PR</td>\n",
       "      <td>72</td>\n",
       "      <td>Vieques zona urbana</td>\n",
       "      <td>86014</td>\n",
       "      <td>Vieques Municipio</td>\n",
       "    </tr>\n",
       "    <tr>\n",
       "      <th>41410</th>\n",
       "      <td>PR</td>\n",
       "      <td>72</td>\n",
       "      <td>Villalba zona urbana</td>\n",
       "      <td>86831</td>\n",
       "      <td>Villalba Municipio</td>\n",
       "    </tr>\n",
       "    <tr>\n",
       "      <th>41411</th>\n",
       "      <td>PR</td>\n",
       "      <td>72</td>\n",
       "      <td>Yabucoa zona urbana</td>\n",
       "      <td>87863</td>\n",
       "      <td>Yabucoa Municipio</td>\n",
       "    </tr>\n",
       "    <tr>\n",
       "      <th>41412</th>\n",
       "      <td>PR</td>\n",
       "      <td>72</td>\n",
       "      <td>Yauco zona urbana</td>\n",
       "      <td>88035</td>\n",
       "      <td>Yauco Municipio</td>\n",
       "    </tr>\n",
       "    <tr>\n",
       "      <th>41413</th>\n",
       "      <td>PR</td>\n",
       "      <td>72</td>\n",
       "      <td>Yaurel comunidad</td>\n",
       "      <td>88121</td>\n",
       "      <td>Arroyo Municipio</td>\n",
       "    </tr>\n",
       "  </tbody>\n",
       "</table>\n",
       "<p>42887 rows × 5 columns</p>\n",
       "</div>"
      ],
      "text/plain": [
       "      State State FIPS                 Place Place FIPS              County\n",
       "0        AL          1            Abanda CDP        100     Chambers County\n",
       "1        AL          1        Abbeville city        124        Henry County\n",
       "2        AL          1       Adamsville city        460    Jefferson County\n",
       "3        AL          1          Addison town        484      Winston County\n",
       "4        AL          1            Akron town        676         Hale County\n",
       "...     ...        ...                   ...        ...                 ...\n",
       "41409    PR         72   Vieques zona urbana      86014   Vieques Municipio\n",
       "41410    PR         72  Villalba zona urbana      86831  Villalba Municipio\n",
       "41411    PR         72   Yabucoa zona urbana      87863   Yabucoa Municipio\n",
       "41412    PR         72     Yauco zona urbana      88035     Yauco Municipio\n",
       "41413    PR         72      Yaurel comunidad      88121    Arroyo Municipio\n",
       "\n",
       "[42887 rows x 5 columns]"
      ]
     },
     "execution_count": 20,
     "metadata": {},
     "output_type": "execute_result"
    }
   ],
   "source": [
    "# srs_place_expanded = (df_place['County']\n",
    "#                           .str.strip( ) # strip any leading/trailing spaces\n",
    "#                           .str.split(\",\", expand=True) # split the string wherever a comma appears\n",
    "#                           .melt(ignore_index=False) # we want to preserve the index here, so we can use join to add it back to df_place\n",
    "#                           .dropna() # drop any rows with null values\n",
    "#                           .drop('variable', axis=1) # drop the new index column (labeled 'variable')\n",
    "#                           .rename(columns={'value': 'County'})\n",
    "#                          )\n",
    "\n",
    "# strip any leading/trailing spaces\n",
    "# split the string wherever a comma appears\n",
    "srs_place_expanded = (df_place['County'].str.strip( ).str.split(\",\", expand=True)) \n",
    "\n",
    "# we want to preserve the index here, so we can use join to add it back to df_place\n",
    "# .dropna() # drop any rows with null values\n",
    "# .drop('variable', axis=1) # drop the new index column (labeled 'variable')\n",
    "# .rename(columns={'value': 'County'})\n",
    "srs_place_expanded = srs_place_expanded.melt(ignore_index=False).dropna().drop('variable', axis=1).rename(columns={'value': 'County'})\n",
    "                          \n",
    "# rejoin our series into our df\n",
    "# adding rsuffix '_messy' as a reminder that this is the 'County' column we'll be dropping shortly\n",
    "df_place_expanded = srs_place_expanded.join(df_place, rsuffix='_messy')\n",
    "\n",
    "# now let's drop \"County_messy\"\n",
    "df_place_expanded = df_place_expanded.drop(['County_messy'], axis=1)\n",
    "\n",
    "# reorder the columns\n",
    "df_place_expanded = df_place_expanded[['State', 'State FIPS', 'Place', 'Place FIPS', 'County']]\n",
    "df_place_expanded"
   ]
  },
  {
   "cell_type": "code",
   "execution_count": 21,
   "id": "ca695548-d7e1-4493-bb33-123a6f5054da",
   "metadata": {},
   "outputs": [
    {
     "data": {
      "text/html": [
       "<div>\n",
       "<style scoped>\n",
       "    .dataframe tbody tr th:only-of-type {\n",
       "        vertical-align: middle;\n",
       "    }\n",
       "\n",
       "    .dataframe tbody tr th {\n",
       "        vertical-align: top;\n",
       "    }\n",
       "\n",
       "    .dataframe thead th {\n",
       "        text-align: right;\n",
       "    }\n",
       "</style>\n",
       "<table border=\"1\" class=\"dataframe\">\n",
       "  <thead>\n",
       "    <tr style=\"text-align: right;\">\n",
       "      <th></th>\n",
       "      <th>State</th>\n",
       "      <th>State FIPS</th>\n",
       "      <th>Place</th>\n",
       "      <th>Place FIPS</th>\n",
       "      <th>County</th>\n",
       "    </tr>\n",
       "  </thead>\n",
       "  <tbody>\n",
       "    <tr>\n",
       "      <th>24316</th>\n",
       "      <td>NY</td>\n",
       "      <td>36</td>\n",
       "      <td>New York city</td>\n",
       "      <td>51000</td>\n",
       "      <td>Bronx County</td>\n",
       "    </tr>\n",
       "    <tr>\n",
       "      <th>24316</th>\n",
       "      <td>NY</td>\n",
       "      <td>36</td>\n",
       "      <td>New York city</td>\n",
       "      <td>51000</td>\n",
       "      <td>Kings County</td>\n",
       "    </tr>\n",
       "    <tr>\n",
       "      <th>24316</th>\n",
       "      <td>NY</td>\n",
       "      <td>36</td>\n",
       "      <td>New York city</td>\n",
       "      <td>51000</td>\n",
       "      <td>New York County</td>\n",
       "    </tr>\n",
       "    <tr>\n",
       "      <th>24316</th>\n",
       "      <td>NY</td>\n",
       "      <td>36</td>\n",
       "      <td>New York city</td>\n",
       "      <td>51000</td>\n",
       "      <td>Queens County</td>\n",
       "    </tr>\n",
       "    <tr>\n",
       "      <th>24316</th>\n",
       "      <td>NY</td>\n",
       "      <td>36</td>\n",
       "      <td>New York city</td>\n",
       "      <td>51000</td>\n",
       "      <td>Richmond County</td>\n",
       "    </tr>\n",
       "  </tbody>\n",
       "</table>\n",
       "</div>"
      ],
      "text/plain": [
       "      State State FIPS          Place Place FIPS            County\n",
       "24316    NY         36  New York city      51000      Bronx County\n",
       "24316    NY         36  New York city      51000      Kings County\n",
       "24316    NY         36  New York city      51000   New York County\n",
       "24316    NY         36  New York city      51000     Queens County\n",
       "24316    NY         36  New York city      51000   Richmond County"
      ]
     },
     "execution_count": 21,
     "metadata": {},
     "output_type": "execute_result"
    }
   ],
   "source": [
    "# let's look at New York City to make sure the melt worked and each county really is in a new row \n",
    "df_place_expanded.loc[df_place_expanded['Place'] == (\"New York city\")]\n",
    "# df_place_expanded.loc[df_place_expanded['Place'].str.startswith(\"New York\")]"
   ]
  },
  {
   "cell_type": "markdown",
   "id": "a9964119-b2a5-4234-9991-83c8115b32e6",
   "metadata": {},
   "source": [
    "Let's run through the usual data tidiness checks."
   ]
  },
  {
   "cell_type": "code",
   "execution_count": 22,
   "id": "a7284ba1-2efb-4939-bcc0-e1247a7576b0",
   "metadata": {},
   "outputs": [
    {
     "data": {
      "text/html": [
       "<div>\n",
       "<style scoped>\n",
       "    .dataframe tbody tr th:only-of-type {\n",
       "        vertical-align: middle;\n",
       "    }\n",
       "\n",
       "    .dataframe tbody tr th {\n",
       "        vertical-align: top;\n",
       "    }\n",
       "\n",
       "    .dataframe thead th {\n",
       "        text-align: right;\n",
       "    }\n",
       "</style>\n",
       "<table border=\"1\" class=\"dataframe\">\n",
       "  <thead>\n",
       "    <tr style=\"text-align: right;\">\n",
       "      <th></th>\n",
       "      <th>State</th>\n",
       "      <th>State FIPS</th>\n",
       "      <th>Place</th>\n",
       "      <th>Place FIPS</th>\n",
       "      <th>County</th>\n",
       "    </tr>\n",
       "  </thead>\n",
       "  <tbody>\n",
       "  </tbody>\n",
       "</table>\n",
       "</div>"
      ],
      "text/plain": [
       "Empty DataFrame\n",
       "Columns: [State, State FIPS, Place, Place FIPS, County]\n",
       "Index: []"
      ]
     },
     "execution_count": 22,
     "metadata": {},
     "output_type": "execute_result"
    }
   ],
   "source": [
    "# Let's check for any characters with diacritic marks\n",
    "##### Is there a better way to check for diacritic marks???\n",
    "df_place_expanded.loc[df_place_expanded['Place FIPS'] == 3820]"
   ]
  },
  {
   "cell_type": "code",
   "execution_count": 23,
   "id": "af34a6a3-3f7b-49ee-b086-66cd5af7e18d",
   "metadata": {},
   "outputs": [
    {
     "data": {
      "text/html": [
       "<div>\n",
       "<style scoped>\n",
       "    .dataframe tbody tr th:only-of-type {\n",
       "        vertical-align: middle;\n",
       "    }\n",
       "\n",
       "    .dataframe tbody tr th {\n",
       "        vertical-align: top;\n",
       "    }\n",
       "\n",
       "    .dataframe thead th {\n",
       "        text-align: right;\n",
       "    }\n",
       "</style>\n",
       "<table border=\"1\" class=\"dataframe\">\n",
       "  <thead>\n",
       "    <tr style=\"text-align: right;\">\n",
       "      <th></th>\n",
       "      <th>State</th>\n",
       "      <th>State FIPS</th>\n",
       "      <th>Place</th>\n",
       "      <th>Place FIPS</th>\n",
       "      <th>County</th>\n",
       "    </tr>\n",
       "  </thead>\n",
       "  <tbody>\n",
       "  </tbody>\n",
       "</table>\n",
       "</div>"
      ],
      "text/plain": [
       "Empty DataFrame\n",
       "Columns: [State, State FIPS, Place, Place FIPS, County]\n",
       "Index: []"
      ]
     },
     "execution_count": 23,
     "metadata": {},
     "output_type": "execute_result"
    }
   ],
   "source": [
    "import json\n",
    "# Open a json file with mappings of characters with diacritics to their\n",
    "# closest approximate in the english 26 letter alphabet\n",
    "diacritic_mapping_file = os.path.join(data_dir,\"util/diacritic_translate.json\")\n",
    "with open(diacritic_mapping_file, \"r\") as mapping_file:\n",
    "    diac_char_map = json.load(mapping_file)\n",
    "\n",
    "# Now we have a dict of diacritic char to english char\n",
    "# but we need the integer oridnal of each to use with\n",
    "# pandas Series str.translate\n",
    "    \n",
    "# Create an empty dict\n",
    "diac_ord_map = dict()\n",
    "\n",
    "# Iterate over the entries in the character dict\n",
    "for k,v in diac_char_map.items():\n",
    "    # populate the oridnal dict with the ordinals\n",
    "    # of each key => value character\n",
    "    diac_ord_map[ord(k)] = ord(v)\n",
    "    \n",
    "# Use pandas Series.str.trannslate to translate all our County names\n",
    "# with diacritics\n",
    "df_place_expanded['County'] = df_place_expanded['County'].str.translate(diac_ord_map)\n",
    "df_place_expanded.loc[df_place_expanded['Place FIPS'] == 3820]"
   ]
  },
  {
   "cell_type": "markdown",
   "id": "1c893e78-b186-42aa-9cb9-b1299c63208a",
   "metadata": {},
   "source": [
    "Adios, diacritics! So, let's probe a little now using .info() to detect any oddities that might need our attention. "
   ]
  },
  {
   "cell_type": "code",
   "execution_count": 24,
   "id": "c58dc87e-c7f8-4c08-bccf-0a1ffbaa8abe",
   "metadata": {},
   "outputs": [
    {
     "name": "stdout",
     "output_type": "stream",
     "text": [
      "<class 'pandas.core.frame.DataFrame'>\n",
      "Int64Index: 42887 entries, 0 to 41413\n",
      "Data columns (total 5 columns):\n",
      " #   Column      Non-Null Count  Dtype \n",
      "---  ------      --------------  ----- \n",
      " 0   State       42887 non-null  object\n",
      " 1   State FIPS  42887 non-null  object\n",
      " 2   Place       42887 non-null  object\n",
      " 3   Place FIPS  42887 non-null  object\n",
      " 4   County      42887 non-null  object\n",
      "dtypes: object(5)\n",
      "memory usage: 2.0+ MB\n"
     ]
    }
   ],
   "source": [
    "df_place_expanded.info() # do the dtypes make sense?"
   ]
  },
  {
   "cell_type": "markdown",
   "id": "f92a02f7-19e3-4453-bb25-280378abd6b5",
   "metadata": {},
   "source": [
    "Looks like all of our dtypes make sense and, according to `.info()`, there are no missing values. To be safe, let's double check for missing values using `.isna().sum()`."
   ]
  },
  {
   "cell_type": "code",
   "execution_count": 25,
   "id": "216e1697-ba78-4348-b791-095b7faf5819",
   "metadata": {},
   "outputs": [
    {
     "data": {
      "text/plain": [
       "State         0\n",
       "State FIPS    0\n",
       "Place         0\n",
       "Place FIPS    0\n",
       "County        0\n",
       "dtype: int64"
      ]
     },
     "execution_count": 25,
     "metadata": {},
     "output_type": "execute_result"
    }
   ],
   "source": [
    "df_place_expanded.isna().sum()"
   ]
  },
  {
   "cell_type": "markdown",
   "id": "fbc49738-a375-42ba-aa28-2afc07473a42",
   "metadata": {},
   "source": [
    "Looks good! No missing values. "
   ]
  },
  {
   "cell_type": "markdown",
   "id": "9fb7199a-64d8-4e99-93f4-e85d4bee7c7c",
   "metadata": {},
   "source": [
    "Now let's merge into one big list with State Name, State, State FIPS, County, County FIPS, Place, and Place FIPS. "
   ]
  },
  {
   "cell_type": "code",
   "execution_count": 26,
   "id": "e141cb34-fc0e-49e2-ae74-a04c360d3b27",
   "metadata": {},
   "outputs": [
    {
     "data": {
      "text/plain": [
       "State         object\n",
       "State FIPS    object\n",
       "Place         object\n",
       "Place FIPS    object\n",
       "County        object\n",
       "dtype: object"
      ]
     },
     "execution_count": 26,
     "metadata": {},
     "output_type": "execute_result"
    }
   ],
   "source": [
    "# need to strip whitepsace from df_place['County'] (apparently the melt thing above didn't do it...!)\n",
    "df_place_expanded['County'] = df_place_expanded['County'].str.strip()\n",
    "df_place_expanded.dtypes"
   ]
  },
  {
   "cell_type": "code",
   "execution_count": 27,
   "id": "7e4cad42-1606-4f10-a952-f0de58555fd9",
   "metadata": {},
   "outputs": [
    {
     "data": {
      "text/html": [
       "<div>\n",
       "<style scoped>\n",
       "    .dataframe tbody tr th:only-of-type {\n",
       "        vertical-align: middle;\n",
       "    }\n",
       "\n",
       "    .dataframe tbody tr th {\n",
       "        vertical-align: top;\n",
       "    }\n",
       "\n",
       "    .dataframe thead th {\n",
       "        text-align: right;\n",
       "    }\n",
       "</style>\n",
       "<table border=\"1\" class=\"dataframe\">\n",
       "  <thead>\n",
       "    <tr style=\"text-align: right;\">\n",
       "      <th></th>\n",
       "      <th>State</th>\n",
       "      <th>State FIPS</th>\n",
       "      <th>Place</th>\n",
       "      <th>Place FIPS</th>\n",
       "      <th>County</th>\n",
       "    </tr>\n",
       "  </thead>\n",
       "  <tbody>\n",
       "    <tr>\n",
       "      <th>0</th>\n",
       "      <td>AL</td>\n",
       "      <td>1</td>\n",
       "      <td>Abanda CDP</td>\n",
       "      <td>100</td>\n",
       "      <td>Chambers County</td>\n",
       "    </tr>\n",
       "    <tr>\n",
       "      <th>1</th>\n",
       "      <td>AL</td>\n",
       "      <td>1</td>\n",
       "      <td>Abbeville city</td>\n",
       "      <td>124</td>\n",
       "      <td>Henry County</td>\n",
       "    </tr>\n",
       "    <tr>\n",
       "      <th>2</th>\n",
       "      <td>AL</td>\n",
       "      <td>1</td>\n",
       "      <td>Adamsville city</td>\n",
       "      <td>460</td>\n",
       "      <td>Jefferson County</td>\n",
       "    </tr>\n",
       "    <tr>\n",
       "      <th>3</th>\n",
       "      <td>AL</td>\n",
       "      <td>1</td>\n",
       "      <td>Addison town</td>\n",
       "      <td>484</td>\n",
       "      <td>Winston County</td>\n",
       "    </tr>\n",
       "    <tr>\n",
       "      <th>4</th>\n",
       "      <td>AL</td>\n",
       "      <td>1</td>\n",
       "      <td>Akron town</td>\n",
       "      <td>676</td>\n",
       "      <td>Hale County</td>\n",
       "    </tr>\n",
       "  </tbody>\n",
       "</table>\n",
       "</div>"
      ],
      "text/plain": [
       "  State State FIPS            Place Place FIPS            County\n",
       "0    AL          1       Abanda CDP        100   Chambers County\n",
       "1    AL          1   Abbeville city        124      Henry County\n",
       "2    AL          1  Adamsville city        460  Jefferson County\n",
       "3    AL          1     Addison town        484    Winston County\n",
       "4    AL          1       Akron town        676       Hale County"
      ]
     },
     "execution_count": 27,
     "metadata": {},
     "output_type": "execute_result"
    }
   ],
   "source": [
    "# change datatypes of FIPS codes to strings to be consistent with their format in the shapefiles.\n",
    "df_place_expanded.head()"
   ]
  },
  {
   "cell_type": "code",
   "execution_count": 28,
   "id": "fc062228-6f77-4dc8-be84-2051ac09f996",
   "metadata": {},
   "outputs": [
    {
     "data": {
      "text/html": [
       "<div>\n",
       "<style scoped>\n",
       "    .dataframe tbody tr th:only-of-type {\n",
       "        vertical-align: middle;\n",
       "    }\n",
       "\n",
       "    .dataframe tbody tr th {\n",
       "        vertical-align: top;\n",
       "    }\n",
       "\n",
       "    .dataframe thead th {\n",
       "        text-align: right;\n",
       "    }\n",
       "</style>\n",
       "<table border=\"1\" class=\"dataframe\">\n",
       "  <thead>\n",
       "    <tr style=\"text-align: right;\">\n",
       "      <th></th>\n",
       "      <th>State Name</th>\n",
       "      <th>State</th>\n",
       "      <th>State FIPS</th>\n",
       "      <th>Place</th>\n",
       "      <th>Place FIPS</th>\n",
       "      <th>County</th>\n",
       "      <th>County FIPS</th>\n",
       "    </tr>\n",
       "  </thead>\n",
       "  <tbody>\n",
       "    <tr>\n",
       "      <th>0</th>\n",
       "      <td>Alabama</td>\n",
       "      <td>AL</td>\n",
       "      <td>1</td>\n",
       "      <td>Abanda CDP</td>\n",
       "      <td>100</td>\n",
       "      <td>Chambers County</td>\n",
       "      <td>17</td>\n",
       "    </tr>\n",
       "    <tr>\n",
       "      <th>1</th>\n",
       "      <td>Alabama</td>\n",
       "      <td>AL</td>\n",
       "      <td>1</td>\n",
       "      <td>Abbeville city</td>\n",
       "      <td>124</td>\n",
       "      <td>Henry County</td>\n",
       "      <td>67</td>\n",
       "    </tr>\n",
       "    <tr>\n",
       "      <th>2</th>\n",
       "      <td>Alabama</td>\n",
       "      <td>AL</td>\n",
       "      <td>1</td>\n",
       "      <td>Adamsville city</td>\n",
       "      <td>460</td>\n",
       "      <td>Jefferson County</td>\n",
       "      <td>73</td>\n",
       "    </tr>\n",
       "  </tbody>\n",
       "</table>\n",
       "</div>"
      ],
      "text/plain": [
       "  State Name State State FIPS            Place Place FIPS            County  \\\n",
       "0    Alabama    AL          1       Abanda CDP        100   Chambers County   \n",
       "1    Alabama    AL          1   Abbeville city        124      Henry County   \n",
       "2    Alabama    AL          1  Adamsville city        460  Jefferson County   \n",
       "\n",
       "  County FIPS  \n",
       "0          17  \n",
       "1          67  \n",
       "2          73  "
      ]
     },
     "execution_count": 28,
     "metadata": {},
     "output_type": "execute_result"
    }
   ],
   "source": [
    "df_codes = pd.merge(df_place_expanded, df_county, on=['State', 'State FIPS', 'County'], how = 'left') \n",
    "df_codes =  df_codes[['State Name', 'State', 'State FIPS', 'Place', 'Place FIPS', 'County', 'County FIPS']] \n",
    "df_codes.head(3)"
   ]
  },
  {
   "cell_type": "markdown",
   "id": "cacc4dfc-7610-4c98-ab80-06b83e9659bd",
   "metadata": {},
   "source": [
    "It's been bothering us that the \"city\" in \"New York city\" is not capitalized. Let's change this throughout our DataFrame, so that every place names is in titlecase. Since our main concern right now is New York City, let's create a subsection of df_codes that contains just New York City and call it *df_codes_nyc*."
   ]
  },
  {
   "cell_type": "code",
   "execution_count": 29,
   "id": "b368a017-1775-4b8a-9b19-4190501822a0",
   "metadata": {},
   "outputs": [
    {
     "data": {
      "text/html": [
       "<div>\n",
       "<style scoped>\n",
       "    .dataframe tbody tr th:only-of-type {\n",
       "        vertical-align: middle;\n",
       "    }\n",
       "\n",
       "    .dataframe tbody tr th {\n",
       "        vertical-align: top;\n",
       "    }\n",
       "\n",
       "    .dataframe thead th {\n",
       "        text-align: right;\n",
       "    }\n",
       "</style>\n",
       "<table border=\"1\" class=\"dataframe\">\n",
       "  <thead>\n",
       "    <tr style=\"text-align: right;\">\n",
       "      <th></th>\n",
       "      <th>State Name</th>\n",
       "      <th>State</th>\n",
       "      <th>State FIPS</th>\n",
       "      <th>Place</th>\n",
       "      <th>Place FIPS</th>\n",
       "      <th>County</th>\n",
       "      <th>County FIPS</th>\n",
       "    </tr>\n",
       "  </thead>\n",
       "  <tbody>\n",
       "    <tr>\n",
       "      <th>25080</th>\n",
       "      <td>New York</td>\n",
       "      <td>NY</td>\n",
       "      <td>36</td>\n",
       "      <td>New York City</td>\n",
       "      <td>51000</td>\n",
       "      <td>Bronx County</td>\n",
       "      <td>5</td>\n",
       "    </tr>\n",
       "    <tr>\n",
       "      <th>25081</th>\n",
       "      <td>New York</td>\n",
       "      <td>NY</td>\n",
       "      <td>36</td>\n",
       "      <td>New York City</td>\n",
       "      <td>51000</td>\n",
       "      <td>Kings County</td>\n",
       "      <td>47</td>\n",
       "    </tr>\n",
       "    <tr>\n",
       "      <th>25082</th>\n",
       "      <td>New York</td>\n",
       "      <td>NY</td>\n",
       "      <td>36</td>\n",
       "      <td>New York City</td>\n",
       "      <td>51000</td>\n",
       "      <td>New York County</td>\n",
       "      <td>61</td>\n",
       "    </tr>\n",
       "    <tr>\n",
       "      <th>25083</th>\n",
       "      <td>New York</td>\n",
       "      <td>NY</td>\n",
       "      <td>36</td>\n",
       "      <td>New York City</td>\n",
       "      <td>51000</td>\n",
       "      <td>Queens County</td>\n",
       "      <td>81</td>\n",
       "    </tr>\n",
       "    <tr>\n",
       "      <th>25084</th>\n",
       "      <td>New York</td>\n",
       "      <td>NY</td>\n",
       "      <td>36</td>\n",
       "      <td>New York City</td>\n",
       "      <td>51000</td>\n",
       "      <td>Richmond County</td>\n",
       "      <td>85</td>\n",
       "    </tr>\n",
       "  </tbody>\n",
       "</table>\n",
       "</div>"
      ],
      "text/plain": [
       "      State Name State State FIPS          Place Place FIPS           County  \\\n",
       "25080   New York    NY         36  New York City      51000     Bronx County   \n",
       "25081   New York    NY         36  New York City      51000     Kings County   \n",
       "25082   New York    NY         36  New York City      51000  New York County   \n",
       "25083   New York    NY         36  New York City      51000    Queens County   \n",
       "25084   New York    NY         36  New York City      51000  Richmond County   \n",
       "\n",
       "      County FIPS  \n",
       "25080           5  \n",
       "25081          47  \n",
       "25082          61  \n",
       "25083          81  \n",
       "25084          85  "
      ]
     },
     "execution_count": 29,
     "metadata": {},
     "output_type": "execute_result"
    }
   ],
   "source": [
    "df_codes['Place'] = df_codes['Place'].str.title()\n",
    "df_codes_nyc=df_codes[df_codes['Place']=='New York City']\n",
    "df_codes_nyc"
   ]
  },
  {
   "cell_type": "markdown",
   "id": "a056bff6-5682-4d53-b668-747e69b12748",
   "metadata": {},
   "source": [
    "Done. Above, we've got a clean DataFrame of the codes for New York City and have saved it as a .csv. Below is a clean DataFrame for the entire US, also saved as a .csv file."
   ]
  },
  {
   "cell_type": "code",
   "execution_count": 30,
   "id": "1df17a94-024e-4b3f-a304-a045b09ecb60",
   "metadata": {},
   "outputs": [
    {
     "data": {
      "text/html": [
       "<div>\n",
       "<style scoped>\n",
       "    .dataframe tbody tr th:only-of-type {\n",
       "        vertical-align: middle;\n",
       "    }\n",
       "\n",
       "    .dataframe tbody tr th {\n",
       "        vertical-align: top;\n",
       "    }\n",
       "\n",
       "    .dataframe thead th {\n",
       "        text-align: right;\n",
       "    }\n",
       "</style>\n",
       "<table border=\"1\" class=\"dataframe\">\n",
       "  <thead>\n",
       "    <tr style=\"text-align: right;\">\n",
       "      <th></th>\n",
       "      <th>State Name</th>\n",
       "      <th>State</th>\n",
       "      <th>State FIPS</th>\n",
       "      <th>Place</th>\n",
       "      <th>Place FIPS</th>\n",
       "      <th>County</th>\n",
       "      <th>County FIPS</th>\n",
       "    </tr>\n",
       "  </thead>\n",
       "  <tbody>\n",
       "    <tr>\n",
       "      <th>0</th>\n",
       "      <td>Alabama</td>\n",
       "      <td>AL</td>\n",
       "      <td>1</td>\n",
       "      <td>Abanda Cdp</td>\n",
       "      <td>100</td>\n",
       "      <td>Chambers County</td>\n",
       "      <td>17</td>\n",
       "    </tr>\n",
       "    <tr>\n",
       "      <th>1</th>\n",
       "      <td>Alabama</td>\n",
       "      <td>AL</td>\n",
       "      <td>1</td>\n",
       "      <td>Abbeville City</td>\n",
       "      <td>124</td>\n",
       "      <td>Henry County</td>\n",
       "      <td>67</td>\n",
       "    </tr>\n",
       "    <tr>\n",
       "      <th>2</th>\n",
       "      <td>Alabama</td>\n",
       "      <td>AL</td>\n",
       "      <td>1</td>\n",
       "      <td>Adamsville City</td>\n",
       "      <td>460</td>\n",
       "      <td>Jefferson County</td>\n",
       "      <td>73</td>\n",
       "    </tr>\n",
       "    <tr>\n",
       "      <th>3</th>\n",
       "      <td>Alabama</td>\n",
       "      <td>AL</td>\n",
       "      <td>1</td>\n",
       "      <td>Addison Town</td>\n",
       "      <td>484</td>\n",
       "      <td>Winston County</td>\n",
       "      <td>133</td>\n",
       "    </tr>\n",
       "    <tr>\n",
       "      <th>4</th>\n",
       "      <td>Alabama</td>\n",
       "      <td>AL</td>\n",
       "      <td>1</td>\n",
       "      <td>Akron Town</td>\n",
       "      <td>676</td>\n",
       "      <td>Hale County</td>\n",
       "      <td>65</td>\n",
       "    </tr>\n",
       "  </tbody>\n",
       "</table>\n",
       "</div>"
      ],
      "text/plain": [
       "  State Name State State FIPS            Place Place FIPS            County  \\\n",
       "0    Alabama    AL          1       Abanda Cdp        100   Chambers County   \n",
       "1    Alabama    AL          1   Abbeville City        124      Henry County   \n",
       "2    Alabama    AL          1  Adamsville City        460  Jefferson County   \n",
       "3    Alabama    AL          1     Addison Town        484    Winston County   \n",
       "4    Alabama    AL          1       Akron Town        676       Hale County   \n",
       "\n",
       "  County FIPS  \n",
       "0          17  \n",
       "1          67  \n",
       "2          73  \n",
       "3         133  \n",
       "4          65  "
      ]
     },
     "execution_count": 30,
     "metadata": {},
     "output_type": "execute_result"
    }
   ],
   "source": [
    "df_codes.to_csv('codes.csv')\n",
    "df_codes.head()"
   ]
  },
  {
   "cell_type": "code",
   "execution_count": 31,
   "id": "abd5e235-2539-41e4-a3ee-b49d287de6eb",
   "metadata": {},
   "outputs": [
    {
     "data": {
      "text/html": [
       "<div>\n",
       "<style scoped>\n",
       "    .dataframe tbody tr th:only-of-type {\n",
       "        vertical-align: middle;\n",
       "    }\n",
       "\n",
       "    .dataframe tbody tr th {\n",
       "        vertical-align: top;\n",
       "    }\n",
       "\n",
       "    .dataframe thead th {\n",
       "        text-align: right;\n",
       "    }\n",
       "</style>\n",
       "<table border=\"1\" class=\"dataframe\">\n",
       "  <thead>\n",
       "    <tr style=\"text-align: right;\">\n",
       "      <th></th>\n",
       "      <th>State Name</th>\n",
       "      <th>State</th>\n",
       "      <th>State FIPS</th>\n",
       "      <th>Place</th>\n",
       "      <th>Place FIPS</th>\n",
       "      <th>County</th>\n",
       "      <th>County FIPS</th>\n",
       "    </tr>\n",
       "  </thead>\n",
       "  <tbody>\n",
       "    <tr>\n",
       "      <th>25080</th>\n",
       "      <td>New York</td>\n",
       "      <td>NY</td>\n",
       "      <td>36</td>\n",
       "      <td>New York City</td>\n",
       "      <td>51000</td>\n",
       "      <td>Bronx County</td>\n",
       "      <td>5</td>\n",
       "    </tr>\n",
       "    <tr>\n",
       "      <th>25081</th>\n",
       "      <td>New York</td>\n",
       "      <td>NY</td>\n",
       "      <td>36</td>\n",
       "      <td>New York City</td>\n",
       "      <td>51000</td>\n",
       "      <td>Kings County</td>\n",
       "      <td>47</td>\n",
       "    </tr>\n",
       "    <tr>\n",
       "      <th>25082</th>\n",
       "      <td>New York</td>\n",
       "      <td>NY</td>\n",
       "      <td>36</td>\n",
       "      <td>New York City</td>\n",
       "      <td>51000</td>\n",
       "      <td>New York County</td>\n",
       "      <td>61</td>\n",
       "    </tr>\n",
       "    <tr>\n",
       "      <th>25083</th>\n",
       "      <td>New York</td>\n",
       "      <td>NY</td>\n",
       "      <td>36</td>\n",
       "      <td>New York City</td>\n",
       "      <td>51000</td>\n",
       "      <td>Queens County</td>\n",
       "      <td>81</td>\n",
       "    </tr>\n",
       "    <tr>\n",
       "      <th>25084</th>\n",
       "      <td>New York</td>\n",
       "      <td>NY</td>\n",
       "      <td>36</td>\n",
       "      <td>New York City</td>\n",
       "      <td>51000</td>\n",
       "      <td>Richmond County</td>\n",
       "      <td>85</td>\n",
       "    </tr>\n",
       "  </tbody>\n",
       "</table>\n",
       "</div>"
      ],
      "text/plain": [
       "      State Name State State FIPS          Place Place FIPS           County  \\\n",
       "25080   New York    NY         36  New York City      51000     Bronx County   \n",
       "25081   New York    NY         36  New York City      51000     Kings County   \n",
       "25082   New York    NY         36  New York City      51000  New York County   \n",
       "25083   New York    NY         36  New York City      51000    Queens County   \n",
       "25084   New York    NY         36  New York City      51000  Richmond County   \n",
       "\n",
       "      County FIPS  \n",
       "25080           5  \n",
       "25081          47  \n",
       "25082          61  \n",
       "25083          81  \n",
       "25084          85  "
      ]
     },
     "execution_count": 31,
     "metadata": {},
     "output_type": "execute_result"
    }
   ],
   "source": [
    "df_codes_nyc.to_csv('codes_nyc.csv')\n",
    "df_codes_nyc.head()"
   ]
  }
 ],
 "metadata": {
  "kernelspec": {
   "display_name": "Python 3 (ipykernel)",
   "language": "python",
   "name": "python3"
  },
  "language_info": {
   "codemirror_mode": {
    "name": "ipython",
    "version": 3
   },
   "file_extension": ".py",
   "mimetype": "text/x-python",
   "name": "python",
   "nbconvert_exporter": "python",
   "pygments_lexer": "ipython3",
   "version": "3.8.10"
  }
 },
 "nbformat": 4,
 "nbformat_minor": 5
}
