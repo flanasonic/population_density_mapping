{
 "cells": [
  {
   "cell_type": "markdown",
   "id": "89318201-f160-47ae-aeeb-3d11c42ff817",
   "metadata": {
    "tags": []
   },
   "source": [
    "# Data Cleanup: US Census Population Data"
   ]
  },
  {
   "cell_type": "code",
   "execution_count": null,
   "id": "6619f8d6-78da-4029-8a6a-f06c0376f2f7",
   "metadata": {},
   "outputs": [],
   "source": []
  },
  {
   "cell_type": "markdown",
   "id": "2b60158f-0002-4c04-986d-9a40e2fc4560",
   "metadata": {
    "tags": []
   },
   "source": [
    "In this notebook, we'll turn raw 2020 US Census population data, downloaded as a CSV file, into a clean, ready-to-use DataFrame containing total population for all census tracts in the US and Puerto Rico. We'll then save this to Parquet format to reduce both file size and load time for use in subsequent notebooks."
   ]
  },
  {
   "cell_type": "markdown",
   "id": "2cecbdb8-f562-4418-a78c-e84a96d50158",
   "metadata": {
    "tags": []
   },
   "source": [
    "#### *Data sources*\n",
    "\n",
    "A variety of different routes can be taken to reach the same US census data, the specific steps I followed are detailed below. To save time and space, I stored the raw population data compressed as a TGZ file.\n",
    "\n",
    "* 2020 Census: Redistricting File (Public Law 94-171) \n",
    "   - downloaded from the [\"Table\" tab](https://data.census.gov/cedsci/table?q=United%20States) on *Census.gov*\n",
    "  - filters selected: Years: 2020 > Geography: Tract: All Census Tracts within United States > Topics: Populations and People: Populations and People\n",
    "  - results list selection: \"Decennial Census, P1 | RACE, 2020: DEC Redistricting Data (PL 94-171)\" "
   ]
  },
  {
   "cell_type": "markdown",
   "id": "b2cf8be6-2592-4565-9330-7a2146c24d8f",
   "metadata": {},
   "source": [
    "#### *Up close: data cleaning and mapping*\n",
    "\n",
    "The notebooks below provide a detailed look at the other stages of cleaning and mapping the data for this project. The final steps of creating a SQL database of indoor farms in New York City and then mapping them will follow shortly.\n",
    "\n",
    "* [Introduction: The State of Indoor Farming in the US](00_IndoorAgriculture_start.ipynb) \n",
    "<!-- * [Data Cleanup: US Census population data](01_DataCleanup_Population.ipynb)  -->\n",
    "* [Data Cleanup: GEOID tables](02_DataCleanup_GEOIDs.ipynb)\n",
    "* [Data Cleanup: Geographic data](03_DataCleanup_GIS.ipynb)\n",
    "* [Mapping NY State: Population Density](04_Mapping_Population.ipynb)\n",
    "* SQL Database Creation: Indoor Farms - *coming soon...*\n",
    "* Mapping NY State: Indoor Farms - *coming soon...*"
   ]
  },
  {
   "cell_type": "markdown",
   "id": "49e6257f-1ba9-48d3-a03a-2701cd6e6d44",
   "metadata": {
    "tags": []
   },
   "source": [
    "#### *Some helper code for managing file paths*\n",
    "We'll use the code below throughout this project to make it easier to refer to the folders where our various data files are stored."
   ]
  },
  {
   "cell_type": "code",
   "execution_count": 1,
   "id": "a64df104-6781-4544-afbf-8e78cd655373",
   "metadata": {},
   "outputs": [],
   "source": [
    "# the code in this cell uses the `os` and `pathlib` modules to make it easier to refer to \n",
    "# the various folders where data files for this project are stored\n",
    "# everything builds off base_dir, so if we move our code later, we'll only need to change base_dir\n",
    "\n",
    "# os module provides a variety of frequently used file system functions, including path.join\n",
    "# pathlib module makes it easier to manipulate folder and file paths with Python\n",
    "import os, pathlib\n",
    "\n",
    "# base_dir - the immediate parent folder of this notebook\n",
    "# our data folders are found in here\n",
    "base_dir = pathlib.Path(os.getcwd()).parent\n",
    "\n",
    "# data_archive - compressed files are stored here\n",
    "# these will be preserved in git\n",
    "data_archive_dir = os.path.join(base_dir, \"data_archive\")\n",
    "\n",
    "# cleaned data files are stored here\n",
    "clean_data_dir = os.path.join(data_archive_dir, \"clean\")\n",
    "\n",
    "# data_dir - large/numerous files will go here\n",
    "# these will not be preserved in git!\n",
    "# only files that can be recreated are stored here (e.g. downloaded or unpacked from \n",
    "# data_archive, or generated from a DataFrame)\n",
    "data_dir = os.path.join(base_dir, \"data\")\n",
    "\n",
    "# shapes_dir - folders containing shapefiles go here\n",
    "shapes_dir = os.path.join(data_dir,\"shapes\")\n",
    "\n",
    "# json_dir - GeoJSON files we generate and want to save for re-use go here\n",
    "json_dir = os.path.join(data_dir,\"geojson\")\n",
    "\n",
    "# store here any special utility files we might want to reuse\n",
    "util_dir = os.path.join(data_dir,\"util\")"
   ]
  },
  {
   "cell_type": "markdown",
   "id": "d0ce0f6a-9962-4c23-bb59-065021faba9a",
   "metadata": {},
   "source": [
    "## What are we looking at here?"
   ]
  },
  {
   "cell_type": "markdown",
   "id": "2977eedb-ce44-4a12-9b27-3a15dad3e0f5",
   "metadata": {},
   "source": [
    "Let's load our population data as a pandas DataFrame. Since our data is stored as a TGZ file, we'll use the `extract_from_tgz` function below to open it. If we were working with a regular non-compressed CSV file, we'd skip this step and simply open the file as a pandas DataFrame using `pd.read_csv`."
   ]
  },
  {
   "cell_type": "markdown",
   "id": "fab6fdfe-424e-4b84-8b80-c5d6bab223d6",
   "metadata": {},
   "source": [
    "Using `.shape`, we can tell before even setting eyes on it, that our DataFrame is enormous - 73 columns and 85,000+ rows! Handily, the [Tallies list on Census.gov](https://www.census.gov/geographies/reference-files/time-series/geo/tallies.html#tract_bg_block) tells us the total number of ensus tracts for the US and Puerto Rico is 85,395. The count provided by `.shape` indicates one additional row, 85,396 total, but we'll be seeing shortly why that's ok."
   ]
  },
  {
   "cell_type": "code",
   "execution_count": 2,
   "id": "2f09932d-4347-4514-89ec-8aeebbd77bf0",
   "metadata": {},
   "outputs": [
    {
     "data": {
      "text/plain": [
       "(85396, 3)"
      ]
     },
     "execution_count": 2,
     "metadata": {},
     "output_type": "execute_result"
    }
   ],
   "source": [
    "# population data has been stored compressed as TGZ files to save time and space\n",
    "import tarfile\n",
    "import pandas as pd\n",
    "\n",
    "# these options determine how much data is displayed in the notebook\n",
    "pd.set_option('display.width', None)\n",
    "pd.set_option('display.max_colwidth', None)\n",
    "\n",
    "# 32mb+ of census data saved in a 4.7mb archive\n",
    "file_census_data_tgz = os.path.join(data_archive_dir, 'census_data_2022_03_01.tgz')\n",
    "\n",
    "# this is the population data file we'll extract from the above tgz file\n",
    "file_census_data_csv = 'DECENNIALPL2020.P1_data_with_overlays_2021-12-02T121459.csv'\n",
    "\n",
    "# this function creates a DataFrame from our tgz archive file\n",
    "def extract_from_tgz(filename):\n",
    "    with tarfile.open(filename) as tf:\n",
    "        for file in tf.getmembers():\n",
    "            if file.name == file_census_data_csv:\n",
    "                data = tf.extractfile(file)\n",
    "                return pd.read_csv(data, low_memory=False, usecols=[0, 1, 2])\n",
    "\n",
    "# now call the function to extract our tgz file and load it as a pandas DataFrame\n",
    "df_census_pop = extract_from_tgz(file_census_data_tgz)\n",
    "\n",
    "df_census_pop.shape"
   ]
  },
  {
   "cell_type": "code",
   "execution_count": null,
   "id": "5dd6df4d-ad85-4dc5-a02c-41f6a54a1f2f",
   "metadata": {},
   "outputs": [],
   "source": []
  },
  {
   "cell_type": "markdown",
   "id": "4d2550a5-faf7-4338-ba97-b49916add24f",
   "metadata": {},
   "source": [
    "We can get a pretty good sense of the actual data by using `.head()` and `.tail()`to view just the first and last few rows."
   ]
  },
  {
   "cell_type": "code",
   "execution_count": 3,
   "id": "47901740-95fb-4f22-998e-61579373c56c",
   "metadata": {},
   "outputs": [
    {
     "data": {
      "text/html": [
       "<div>\n",
       "<style scoped>\n",
       "    .dataframe tbody tr th:only-of-type {\n",
       "        vertical-align: middle;\n",
       "    }\n",
       "\n",
       "    .dataframe tbody tr th {\n",
       "        vertical-align: top;\n",
       "    }\n",
       "\n",
       "    .dataframe thead th {\n",
       "        text-align: right;\n",
       "    }\n",
       "</style>\n",
       "<table border=\"1\" class=\"dataframe\">\n",
       "  <thead>\n",
       "    <tr style=\"text-align: right;\">\n",
       "      <th></th>\n",
       "      <th>GEO_ID</th>\n",
       "      <th>NAME</th>\n",
       "      <th>P1_001N</th>\n",
       "    </tr>\n",
       "  </thead>\n",
       "  <tbody>\n",
       "    <tr>\n",
       "      <th>0</th>\n",
       "      <td>id</td>\n",
       "      <td>Geographic Area Name</td>\n",
       "      <td>!!Total:</td>\n",
       "    </tr>\n",
       "    <tr>\n",
       "      <th>1</th>\n",
       "      <td>1400000US01001020100</td>\n",
       "      <td>Census Tract 201, Autauga County, Alabama</td>\n",
       "      <td>1775</td>\n",
       "    </tr>\n",
       "    <tr>\n",
       "      <th>2</th>\n",
       "      <td>1400000US01001020200</td>\n",
       "      <td>Census Tract 202, Autauga County, Alabama</td>\n",
       "      <td>2055</td>\n",
       "    </tr>\n",
       "  </tbody>\n",
       "</table>\n",
       "</div>"
      ],
      "text/plain": [
       "                 GEO_ID                                       NAME    P1_001N\n",
       "0                    id                       Geographic Area Name   !!Total:\n",
       "1  1400000US01001020100  Census Tract 201, Autauga County, Alabama       1775\n",
       "2  1400000US01001020200  Census Tract 202, Autauga County, Alabama       2055"
      ]
     },
     "execution_count": 3,
     "metadata": {},
     "output_type": "execute_result"
    }
   ],
   "source": [
    "df_census_pop.head(3)"
   ]
  },
  {
   "cell_type": "code",
   "execution_count": 4,
   "id": "3ea61dc4-c711-4792-84d0-eb167da7e1b6",
   "metadata": {},
   "outputs": [
    {
     "data": {
      "text/html": [
       "<div>\n",
       "<style scoped>\n",
       "    .dataframe tbody tr th:only-of-type {\n",
       "        vertical-align: middle;\n",
       "    }\n",
       "\n",
       "    .dataframe tbody tr th {\n",
       "        vertical-align: top;\n",
       "    }\n",
       "\n",
       "    .dataframe thead th {\n",
       "        text-align: right;\n",
       "    }\n",
       "</style>\n",
       "<table border=\"1\" class=\"dataframe\">\n",
       "  <thead>\n",
       "    <tr style=\"text-align: right;\">\n",
       "      <th></th>\n",
       "      <th>GEO_ID</th>\n",
       "      <th>NAME</th>\n",
       "      <th>P1_001N</th>\n",
       "    </tr>\n",
       "  </thead>\n",
       "  <tbody>\n",
       "    <tr>\n",
       "      <th>85393</th>\n",
       "      <td>1400000US72153750503</td>\n",
       "      <td>Census Tract 7505.03, Yauco Municipio, Puerto Rico</td>\n",
       "      <td>2155</td>\n",
       "    </tr>\n",
       "    <tr>\n",
       "      <th>85394</th>\n",
       "      <td>1400000US72153750601</td>\n",
       "      <td>Census Tract 7506.01, Yauco Municipio, Puerto Rico</td>\n",
       "      <td>4368</td>\n",
       "    </tr>\n",
       "    <tr>\n",
       "      <th>85395</th>\n",
       "      <td>1400000US72153750602</td>\n",
       "      <td>Census Tract 7506.02, Yauco Municipio, Puerto Rico</td>\n",
       "      <td>2587</td>\n",
       "    </tr>\n",
       "  </tbody>\n",
       "</table>\n",
       "</div>"
      ],
      "text/plain": [
       "                     GEO_ID  \\\n",
       "85393  1400000US72153750503   \n",
       "85394  1400000US72153750601   \n",
       "85395  1400000US72153750602   \n",
       "\n",
       "                                                     NAME P1_001N  \n",
       "85393  Census Tract 7505.03, Yauco Municipio, Puerto Rico    2155  \n",
       "85394  Census Tract 7506.01, Yauco Municipio, Puerto Rico    4368  \n",
       "85395  Census Tract 7506.02, Yauco Municipio, Puerto Rico    2587  "
      ]
     },
     "execution_count": 4,
     "metadata": {},
     "output_type": "execute_result"
    }
   ],
   "source": [
    "df_census_pop.tail(3)"
   ]
  },
  {
   "cell_type": "markdown",
   "id": "c7d14cdf-a282-43e7-ab2c-21e043206e94",
   "metadata": {},
   "source": [
    "## Making things a little nicer"
   ]
  },
  {
   "cell_type": "markdown",
   "id": "2529d0db-ca17-4625-b7c5-1227faffb3a4",
   "metadata": {},
   "source": [
    "We can see that our columns have been named using codes that aren't terribly meaningful to us. The first table row, however, contains descriptions of the data that are a bit more helpful. Let's go ahead and drop the column headers and replace them with descriptions in the first data row. (This now make our total row count 85,395, which, as mentioned above, matched the total count of census tracts provided on the [Tallies list on Census.gov](https://www.census.gov/geographies/reference-files/time-series/geo/tallies.html#tract_bg_block)."
   ]
  },
  {
   "cell_type": "code",
   "execution_count": 5,
   "id": "222373c8-ba04-4c6b-8e87-ef7a26a53a7c",
   "metadata": {},
   "outputs": [],
   "source": [
    "df_census_pop = df_census_pop.drop(0)"
   ]
  },
  {
   "cell_type": "markdown",
   "id": "fa2f1ab8-0927-4235-a683-ed9b23c12b47",
   "metadata": {},
   "source": [
    "We also want to specify that our first column contains the full 20-character GEOIDs used in CSV files downloaded from *data.census.gov*, rather than the shorter form 11-digit GEOIDs used in the Tiger/Line shapefiles we'll be looking at in the next notebook. A detailed explanation of [how GEOIDs work](https://www.census.gov/programs-surveys/geography/guidance/geo-identifiers.html), can be found in this [helpful article](https://www.census.gov/programs-surveys/geography/guidance/geo-identifiers.html) on *census.gov*."
   ]
  },
  {
   "cell_type": "code",
   "execution_count": 6,
   "id": "e201c87e-4a0b-4fd2-876f-f0d8f3682e53",
   "metadata": {},
   "outputs": [
    {
     "data": {
      "text/html": [
       "<div>\n",
       "<style scoped>\n",
       "    .dataframe tbody tr th:only-of-type {\n",
       "        vertical-align: middle;\n",
       "    }\n",
       "\n",
       "    .dataframe tbody tr th {\n",
       "        vertical-align: top;\n",
       "    }\n",
       "\n",
       "    .dataframe thead th {\n",
       "        text-align: right;\n",
       "    }\n",
       "</style>\n",
       "<table border=\"1\" class=\"dataframe\">\n",
       "  <thead>\n",
       "    <tr style=\"text-align: right;\">\n",
       "      <th></th>\n",
       "      <th>GEOID Census Tract Full</th>\n",
       "      <th>Census Tract Name</th>\n",
       "      <th>Population</th>\n",
       "    </tr>\n",
       "  </thead>\n",
       "  <tbody>\n",
       "    <tr>\n",
       "      <th>1</th>\n",
       "      <td>1400000US01001020100</td>\n",
       "      <td>Census Tract 201, Autauga County, Alabama</td>\n",
       "      <td>1775</td>\n",
       "    </tr>\n",
       "    <tr>\n",
       "      <th>2</th>\n",
       "      <td>1400000US01001020200</td>\n",
       "      <td>Census Tract 202, Autauga County, Alabama</td>\n",
       "      <td>2055</td>\n",
       "    </tr>\n",
       "    <tr>\n",
       "      <th>3</th>\n",
       "      <td>1400000US01001020300</td>\n",
       "      <td>Census Tract 203, Autauga County, Alabama</td>\n",
       "      <td>3216</td>\n",
       "    </tr>\n",
       "  </tbody>\n",
       "</table>\n",
       "</div>"
      ],
      "text/plain": [
       "  GEOID Census Tract Full                          Census Tract Name  \\\n",
       "1    1400000US01001020100  Census Tract 201, Autauga County, Alabama   \n",
       "2    1400000US01001020200  Census Tract 202, Autauga County, Alabama   \n",
       "3    1400000US01001020300  Census Tract 203, Autauga County, Alabama   \n",
       "\n",
       "  Population  \n",
       "1       1775  \n",
       "2       2055  \n",
       "3       3216  "
      ]
     },
     "execution_count": 6,
     "metadata": {},
     "output_type": "execute_result"
    }
   ],
   "source": [
    "df_census_pop.columns = [\"GEOID Census Tract Full\", \"Census Tract Name\", \"Population\"]\n",
    "df_census_pop.head(3)"
   ]
  },
  {
   "cell_type": "markdown",
   "id": "3d7e23d5-ae11-4451-86ff-fe723c2a9ccd",
   "metadata": {},
   "source": [
    "## Rooting out missing values\n",
    "\n",
    "Now that our columns names are all set, we can begin addressing some common data issues that might create problems later, such as missing/null values. Let's use`.info()` to check for these now."
   ]
  },
  {
   "cell_type": "code",
   "execution_count": 7,
   "id": "9ff17cdd-2413-43a0-9d2c-1b104de27700",
   "metadata": {},
   "outputs": [
    {
     "name": "stdout",
     "output_type": "stream",
     "text": [
      "<class 'pandas.core.frame.DataFrame'>\n",
      "RangeIndex: 85395 entries, 1 to 85395\n",
      "Data columns (total 3 columns):\n",
      " #   Column                   Non-Null Count  Dtype \n",
      "---  ------                   --------------  ----- \n",
      " 0   GEOID Census Tract Full  85395 non-null  object\n",
      " 1   Census Tract Name        85395 non-null  object\n",
      " 2   Population               85395 non-null  object\n",
      "dtypes: object(3)\n",
      "memory usage: 2.0+ MB\n"
     ]
    }
   ],
   "source": [
    "df_census_pop.info()"
   ]
  },
  {
   "cell_type": "markdown",
   "id": "18648d10-d420-4e6e-ab04-9a3c9a2a4980",
   "metadata": {
    "tags": []
   },
   "source": [
    "According to `.info()`, our columns are free of null values. We *really* want to make sure this is the case, so that we can avoid the complications null once can create once we start working with our data. Let's probe a bit more, using `.isna()` to return a boolean indicating whether the observation in each column is missing, `True`, or not, `False`. "
   ]
  },
  {
   "cell_type": "code",
   "execution_count": 8,
   "id": "16d4e84e-d97a-4da0-b721-88b25e2b9cc1",
   "metadata": {},
   "outputs": [
    {
     "data": {
      "text/html": [
       "<div>\n",
       "<style scoped>\n",
       "    .dataframe tbody tr th:only-of-type {\n",
       "        vertical-align: middle;\n",
       "    }\n",
       "\n",
       "    .dataframe tbody tr th {\n",
       "        vertical-align: top;\n",
       "    }\n",
       "\n",
       "    .dataframe thead th {\n",
       "        text-align: right;\n",
       "    }\n",
       "</style>\n",
       "<table border=\"1\" class=\"dataframe\">\n",
       "  <thead>\n",
       "    <tr style=\"text-align: right;\">\n",
       "      <th></th>\n",
       "      <th>GEOID Census Tract Full</th>\n",
       "      <th>Census Tract Name</th>\n",
       "      <th>Population</th>\n",
       "    </tr>\n",
       "  </thead>\n",
       "  <tbody>\n",
       "    <tr>\n",
       "      <th>1</th>\n",
       "      <td>False</td>\n",
       "      <td>False</td>\n",
       "      <td>False</td>\n",
       "    </tr>\n",
       "    <tr>\n",
       "      <th>2</th>\n",
       "      <td>False</td>\n",
       "      <td>False</td>\n",
       "      <td>False</td>\n",
       "    </tr>\n",
       "    <tr>\n",
       "      <th>3</th>\n",
       "      <td>False</td>\n",
       "      <td>False</td>\n",
       "      <td>False</td>\n",
       "    </tr>\n",
       "    <tr>\n",
       "      <th>4</th>\n",
       "      <td>False</td>\n",
       "      <td>False</td>\n",
       "      <td>False</td>\n",
       "    </tr>\n",
       "    <tr>\n",
       "      <th>5</th>\n",
       "      <td>False</td>\n",
       "      <td>False</td>\n",
       "      <td>False</td>\n",
       "    </tr>\n",
       "    <tr>\n",
       "      <th>...</th>\n",
       "      <td>...</td>\n",
       "      <td>...</td>\n",
       "      <td>...</td>\n",
       "    </tr>\n",
       "    <tr>\n",
       "      <th>85391</th>\n",
       "      <td>False</td>\n",
       "      <td>False</td>\n",
       "      <td>False</td>\n",
       "    </tr>\n",
       "    <tr>\n",
       "      <th>85392</th>\n",
       "      <td>False</td>\n",
       "      <td>False</td>\n",
       "      <td>False</td>\n",
       "    </tr>\n",
       "    <tr>\n",
       "      <th>85393</th>\n",
       "      <td>False</td>\n",
       "      <td>False</td>\n",
       "      <td>False</td>\n",
       "    </tr>\n",
       "    <tr>\n",
       "      <th>85394</th>\n",
       "      <td>False</td>\n",
       "      <td>False</td>\n",
       "      <td>False</td>\n",
       "    </tr>\n",
       "    <tr>\n",
       "      <th>85395</th>\n",
       "      <td>False</td>\n",
       "      <td>False</td>\n",
       "      <td>False</td>\n",
       "    </tr>\n",
       "  </tbody>\n",
       "</table>\n",
       "<p>85395 rows × 3 columns</p>\n",
       "</div>"
      ],
      "text/plain": [
       "       GEOID Census Tract Full  Census Tract Name  Population\n",
       "1                        False              False       False\n",
       "2                        False              False       False\n",
       "3                        False              False       False\n",
       "4                        False              False       False\n",
       "5                        False              False       False\n",
       "...                        ...                ...         ...\n",
       "85391                    False              False       False\n",
       "85392                    False              False       False\n",
       "85393                    False              False       False\n",
       "85394                    False              False       False\n",
       "85395                    False              False       False\n",
       "\n",
       "[85395 rows x 3 columns]"
      ]
     },
     "execution_count": 8,
     "metadata": {},
     "output_type": "execute_result"
    }
   ],
   "source": [
    "df_census_pop.isna()"
   ]
  },
  {
   "cell_type": "markdown",
   "id": "9362d8f5-d121-421b-a9b6-6d78fe49b30a",
   "metadata": {},
   "source": [
    "So far, so good. All rows are returning `False`, indicating no missing values. Let's use `.sum()` to get a full count of missing values, just in case some are lurking deeper in the data, out of sight in our current display."
   ]
  },
  {
   "cell_type": "code",
   "execution_count": 9,
   "id": "9662e9f3-ecb3-485d-9447-e46d11ab6cba",
   "metadata": {},
   "outputs": [
    {
     "data": {
      "text/plain": [
       "GEOID Census Tract Full    0\n",
       "Census Tract Name          0\n",
       "Population                 0\n",
       "dtype: int64"
      ]
     },
     "execution_count": 9,
     "metadata": {},
     "output_type": "execute_result"
    }
   ],
   "source": [
    "df_census_pop.isna().sum()"
   ]
  },
  {
   "cell_type": "markdown",
   "id": "5101bdea-ade1-4d9f-a530-feac85c66387",
   "metadata": {},
   "source": [
    "Good - still seeing 0 missing values. As a final check, lets tell pandas to actually *show us* any rows with missing values. "
   ]
  },
  {
   "cell_type": "code",
   "execution_count": 10,
   "id": "6a81ac74-5b2d-4051-80c1-8c2fdfe6bc23",
   "metadata": {},
   "outputs": [
    {
     "data": {
      "text/html": [
       "<div>\n",
       "<style scoped>\n",
       "    .dataframe tbody tr th:only-of-type {\n",
       "        vertical-align: middle;\n",
       "    }\n",
       "\n",
       "    .dataframe tbody tr th {\n",
       "        vertical-align: top;\n",
       "    }\n",
       "\n",
       "    .dataframe thead th {\n",
       "        text-align: right;\n",
       "    }\n",
       "</style>\n",
       "<table border=\"1\" class=\"dataframe\">\n",
       "  <thead>\n",
       "    <tr style=\"text-align: right;\">\n",
       "      <th></th>\n",
       "      <th>GEOID Census Tract Full</th>\n",
       "      <th>Census Tract Name</th>\n",
       "      <th>Population</th>\n",
       "    </tr>\n",
       "  </thead>\n",
       "  <tbody>\n",
       "  </tbody>\n",
       "</table>\n",
       "</div>"
      ],
      "text/plain": [
       "Empty DataFrame\n",
       "Columns: [GEOID Census Tract Full, Census Tract Name, Population]\n",
       "Index: []"
      ]
     },
     "execution_count": 10,
     "metadata": {},
     "output_type": "execute_result"
    }
   ],
   "source": [
    "df_census_pop[df_census_pop.isna().any(axis=1)]"
   ]
  },
  {
   "cell_type": "markdown",
   "id": "8f1224e3-9e08-47c5-b543-18377ce5d9b0",
   "metadata": {},
   "source": [
    "Again, nothing! So, it looks like we are in the clear - no missing values to address. On to the next step. "
   ]
  },
  {
   "cell_type": "markdown",
   "id": "e1202e7c-b4ee-489c-bd6f-f3b7536be315",
   "metadata": {},
   "source": [
    "## Do our datatypes make sense?\n",
    "\n",
    "We can call `.dtypes` on our DataFrame to check the datatypes for each column."
   ]
  },
  {
   "cell_type": "code",
   "execution_count": 11,
   "id": "0dbb3c5d-3934-4cb4-a642-9a6a08329ec7",
   "metadata": {},
   "outputs": [
    {
     "data": {
      "text/plain": [
       "GEOID Census Tract Full    object\n",
       "Census Tract Name          object\n",
       "Population                 object\n",
       "dtype: object"
      ]
     },
     "execution_count": 11,
     "metadata": {},
     "output_type": "execute_result"
    }
   ],
   "source": [
    "df_census_pop.dtypes"
   ]
  },
  {
   "cell_type": "markdown",
   "id": "19c69638-7161-4c0d-87db-d318903a3ab6",
   "metadata": {},
   "source": [
    "Hmm...something isn't quite right here. Based on our initial visual inspection we know that \"Population\" is an integer value, but `dtypes` is telling us it's data type is \"object\". Let's fix this by setting the datatype to, `int`.\n",
    "\n",
    "We know that both \"GEOID Census Tract Full\" and \"Census Tract Name\" are strings. Pandas uses the data type `object` to store string values, so this means the data types for these columns are beings correctly reflected when we run `dtypes`."
   ]
  },
  {
   "cell_type": "code",
   "execution_count": 12,
   "id": "9133eef0-e368-45af-be41-0160e9297a58",
   "metadata": {},
   "outputs": [
    {
     "data": {
      "text/plain": [
       "GEOID Census Tract Full    object\n",
       "Census Tract Name          object\n",
       "Population                  int64\n",
       "dtype: object"
      ]
     },
     "execution_count": 12,
     "metadata": {},
     "output_type": "execute_result"
    }
   ],
   "source": [
    "df_census_pop['Population'] = df_census_pop['Population'].astype(int)\n",
    "df_census_pop.dtypes"
   ]
  },
  {
   "cell_type": "markdown",
   "id": "6ca02ace-dfd1-47b4-a7bb-0d92a3b24927",
   "metadata": {},
   "source": [
    "In preparation for future steps in our data journey, we'll add a new column for \"GEOID Census Tract\" to our *df_census_pop* DataFrame. We'll be using this later to match our population data with our GIS data. We know that the last 11 digits of \"GEOID Census Tract Full\" represent the census tract level, so we can use a lambda to grab these digits and place them in our new column and set its data type to `int`."
   ]
  },
  {
   "cell_type": "code",
   "execution_count": 13,
   "id": "a8091de7-9238-4bf1-8db7-3aaf8306cc8e",
   "metadata": {},
   "outputs": [],
   "source": [
    "df_census_pop['GEOID Census Tract'] = df_census_pop['GEOID Census Tract Full'].apply(lambda x: str(x)[-11:]).astype(int)"
   ]
  },
  {
   "cell_type": "markdown",
   "id": "a0ba370f-00df-4bc9-894b-b7a17485941f",
   "metadata": {
    "tags": []
   },
   "source": [
    "## A nice, tidy DataFrame!\n",
    "\n",
    "There we have it - a clean, tidy, ready-to-use DataFrame of population data for every census tract in the US and Puerto Rico. Before we move on, we'll save it to our *Clean Data* directory, so it will be readily available when we need it."
   ]
  },
  {
   "cell_type": "code",
   "execution_count": 14,
   "id": "87f2e101-c732-48ac-9e49-c91a30d46646",
   "metadata": {},
   "outputs": [
    {
     "data": {
      "text/html": [
       "<div>\n",
       "<style scoped>\n",
       "    .dataframe tbody tr th:only-of-type {\n",
       "        vertical-align: middle;\n",
       "    }\n",
       "\n",
       "    .dataframe tbody tr th {\n",
       "        vertical-align: top;\n",
       "    }\n",
       "\n",
       "    .dataframe thead th {\n",
       "        text-align: right;\n",
       "    }\n",
       "</style>\n",
       "<table border=\"1\" class=\"dataframe\">\n",
       "  <thead>\n",
       "    <tr style=\"text-align: right;\">\n",
       "      <th></th>\n",
       "      <th>GEOID Census Tract Full</th>\n",
       "      <th>Census Tract Name</th>\n",
       "      <th>Population</th>\n",
       "      <th>GEOID Census Tract</th>\n",
       "    </tr>\n",
       "  </thead>\n",
       "  <tbody>\n",
       "    <tr>\n",
       "      <th>1</th>\n",
       "      <td>1400000US01001020100</td>\n",
       "      <td>Census Tract 201, Autauga County, Alabama</td>\n",
       "      <td>1775</td>\n",
       "      <td>1001020100</td>\n",
       "    </tr>\n",
       "    <tr>\n",
       "      <th>2</th>\n",
       "      <td>1400000US01001020200</td>\n",
       "      <td>Census Tract 202, Autauga County, Alabama</td>\n",
       "      <td>2055</td>\n",
       "      <td>1001020200</td>\n",
       "    </tr>\n",
       "    <tr>\n",
       "      <th>3</th>\n",
       "      <td>1400000US01001020300</td>\n",
       "      <td>Census Tract 203, Autauga County, Alabama</td>\n",
       "      <td>3216</td>\n",
       "      <td>1001020300</td>\n",
       "    </tr>\n",
       "  </tbody>\n",
       "</table>\n",
       "</div>"
      ],
      "text/plain": [
       "  GEOID Census Tract Full                          Census Tract Name  \\\n",
       "1    1400000US01001020100  Census Tract 201, Autauga County, Alabama   \n",
       "2    1400000US01001020200  Census Tract 202, Autauga County, Alabama   \n",
       "3    1400000US01001020300  Census Tract 203, Autauga County, Alabama   \n",
       "\n",
       "   Population  GEOID Census Tract  \n",
       "1        1775          1001020100  \n",
       "2        2055          1001020200  \n",
       "3        3216          1001020300  "
      ]
     },
     "execution_count": 14,
     "metadata": {},
     "output_type": "execute_result"
    }
   ],
   "source": [
    "df_census_pop.head(3)"
   ]
  },
  {
   "cell_type": "code",
   "execution_count": 15,
   "id": "a9c76646-a03e-4c44-8e0a-d5e528514886",
   "metadata": {},
   "outputs": [],
   "source": [
    "# clean_census_pop_file = os.path.join(clean_data_dir,'census_pop.csv')\n",
    "# df_census_pop.to_csv(clean_census_pop_file)"
   ]
  },
  {
   "cell_type": "code",
   "execution_count": 18,
   "id": "4f14614c-1f4e-42f8-9c48-d25127199cc0",
   "metadata": {},
   "outputs": [
    {
     "data": {
      "text/plain": [
       "GEOID Census Tract Full: string\n",
       "Census Tract Name: string\n",
       "Population: int64\n",
       "GEOID Census Tract: int64\n",
       "-- schema metadata --\n",
       "pandas: '{\"index_columns\": [], \"column_indexes\": [], \"columns\": [{\"name\":' + 604"
      ]
     },
     "execution_count": 18,
     "metadata": {},
     "output_type": "execute_result"
    }
   ],
   "source": [
    "# let's save as arrow/parquet and see if it's a smaller file with dtypes preserved\n",
    "import pyarrow as pa\n",
    "import pyarrow.parquet as pq\n",
    "\n",
    "census_table = pa.Table.from_pandas(df_census_pop, preserve_index=False)\n",
    "\n",
    "clean_census_pop_file = os.path.join(clean_data_dir,'census_pop.parquet')\n",
    "pq.write_table(census_table, clean_census_pop_file, compression='BROTLI')\n",
    "census_table.schema"
   ]
  },
  {
   "cell_type": "code",
   "execution_count": 17,
   "id": "1d28b3a7-b19e-40e1-b588-ac39d951dd13",
   "metadata": {},
   "outputs": [],
   "source": [
    "# # this is a test to see if df loads ok from parquet file\n",
    "# # it does!\n",
    "# import dask.dataframe as dd\n",
    "# df_census_test = dd.read_parquet(clean_census_pop_file)\n",
    "# df_census_test.head()"
   ]
  },
  {
   "cell_type": "code",
   "execution_count": null,
   "id": "4eeaf776-2f11-4b04-a9f2-40cd0bd6479d",
   "metadata": {},
   "outputs": [],
   "source": []
  }
 ],
 "metadata": {
  "kernelspec": {
   "display_name": "Python 3 (ipykernel)",
   "language": "python",
   "name": "python3"
  },
  "language_info": {
   "codemirror_mode": {
    "name": "ipython",
    "version": 3
   },
   "file_extension": ".py",
   "mimetype": "text/x-python",
   "name": "python",
   "nbconvert_exporter": "python",
   "pygments_lexer": "ipython3",
   "version": "3.9.12"
  }
 },
 "nbformat": 4,
 "nbformat_minor": 5
}
