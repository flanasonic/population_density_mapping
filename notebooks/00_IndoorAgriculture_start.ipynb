{
 "cells": [
  {
   "cell_type": "markdown",
   "id": "e487966d-3931-433e-b301-b089155fbea4",
   "metadata": {},
   "source": [
    "***Please note:*** there is a map in this notebook, you must restart the kernel to view it. (Press the double arrow button in the top menu bar.) It may take a few minutes to load on Binder, as there is quite *a lot of data* behind it."
   ]
  },
  {
   "cell_type": "markdown",
   "id": "91058d0e-fecc-49fa-b9e1-bc7b830ccda0",
   "metadata": {},
   "source": [
    "# What's the State of Indoor Agriculture in the US?\n",
    "\n",
    "Having worked in food distribution for a decade, I probably spend more time thinking about the logistics of food than most people do. When I eat, it's hard for me *not to* imagine where my food came from and how it reached me. Still, it wasn't until the pandemic approached New York City that the thought of losing access to fresh food had ever seemed like a real possiblity. The combination of fear and free time is powerful.\n",
    "\n",
    "I found my interest in gardening, long dormant, had awoken virtually overnight. The ability to grow a few vegetables at home provided a little bit of comfort. It was really the knowledge, though, that food was being grown on a commercial scale within walking distance of my home that was able to nudge my mind closer to ease. For years, I'd happily been paying a premium for hydroponically grown greens based on their quality alone. But suddenly, as the pandemic gained momentum and the city locked down, what had once been to me purely source of luxury - indoor farms - became a symbol of hope. \n",
    "\n",
    "Sure the world was a mess, but we might just be able to dig ourselves out of it."
   ]
  },
  {
   "cell_type": "markdown",
   "id": "3533cb22-fb76-4c6c-801f-0aee2c60c598",
   "metadata": {},
   "source": [
    "## Population density and the emergence of indoor farming\n",
    "\n",
    "Once I became attuned, indoor farms seemed to crop up left and right. Apparently, the industry was quite a bit larger than I'd realized. Looking to understand the landscape better, the question of where these farms were located seemed like a good starting point.\n",
    "\n",
    "So, what kinds of places become home to indoor farms? Because there are so many different ways to characterize a place, I decided to narrow my initial scope to population density using data from the most recent US Census, 2020. My own neighborhood can very significantly in the span of a block or two, so I wanted to work with the most granular population data I could get. While *census blocks* are actually the smallest geographic unit for which census data is gathered, at the time I began this project, 2020 data at this level had not yet been released. Data at the *census tract* level, however, was available and I decided it would suffice."
   ]
  },
  {
   "cell_type": "markdown",
   "id": "6eeaa266-5918-4422-84e2-3bc0b1ee720d",
   "metadata": {},
   "source": [
    "## Taming the data beast\n",
    "\n",
    "The US Decennial Census of Population and Housing provides a very rich source of raw data, but it can be challenging to decipher and synthesize into usable features. This set of project notebooks walks through the data cleaning and analysis techniques I applied towards my goal of contributing to the understanding of the indoor farming industry and it's role in overall food security. The \"Data Sources\" section of each notebook details the individual files used and the specific steps I followed to access them."
   ]
  },
  {
   "cell_type": "markdown",
   "id": "7eb8a255-d880-4d07-90b5-ed658369fd93",
   "metadata": {},
   "source": [
    "#### *Some helper code for managing file paths*\n",
    "\n",
    "We'll use the code below throughout this project to make it easier to refer to the folders where our various data files are stored."
   ]
  },
  {
   "cell_type": "code",
   "execution_count": 1,
   "id": "48fb9a8c-65d7-47c8-bc33-9ce77e63cccf",
   "metadata": {
    "tags": []
   },
   "outputs": [],
   "source": [
    "# the code below uses the `os` and `pathlib` modules to make it easier to\n",
    "# refer to the various folders where data files for this project are stored\n",
    "# we'll use it in each of the notebooks for this project\n",
    "\n",
    "import os, pathlib\n",
    "base_dir = pathlib.Path(os.getcwd()).parent\n",
    "data_archive_dir = os.path.join(base_dir, \"data_archive\")\n",
    "clean_data_dir = os.path.join(data_archive_dir, \"clean\")\n",
    "data_dir = os.path.join(base_dir, \"data\")\n",
    "shapes_dir = os.path.join(data_dir,\"shapes\")\n",
    "json_dir = os.path.join(data_dir,\"geojson\")\n",
    "util_dir = os.path.join(data_dir,\"util\")"
   ]
  },
  {
   "cell_type": "markdown",
   "id": "f8a31831-b8ec-4a59-98b5-fbdf22b314cd",
   "metadata": {
    "tags": []
   },
   "source": [
    "## The 50,000 foot view: NYC population density"
   ]
  },
  {
   "cell_type": "code",
   "execution_count": 2,
   "id": "0a382c04-8941-4f91-a322-5dee3a3ea942",
   "metadata": {
    "tags": []
   },
   "outputs": [],
   "source": [
    "import pandas as pd"
   ]
  },
  {
   "cell_type": "code",
   "execution_count": 3,
   "id": "d4ed257b-e26b-4a8e-a3c1-bb9d1d5845d9",
   "metadata": {
    "tags": []
   },
   "outputs": [],
   "source": [
    "# load GEO DataFrame of the \"place\" New York City from CSV file\n",
    "clean_geodf_place_nyc_file_csv  = os.path.join(clean_data_dir, \"geodf_place_nyc.csv\")\n",
    "geodf_place_nyc = pd.read_csv(clean_geodf_place_nyc_file_csv, index_col=0)"
   ]
  },
  {
   "cell_type": "code",
   "execution_count": 4,
   "id": "8ebaada5-6494-4b56-9075-8822bb87a2f5",
   "metadata": {
    "tags": []
   },
   "outputs": [],
   "source": [
    "# load GEO DataFrame of NY State census tracts from CSV file\n",
    "clean_geodf_tract_ny_file_csv = os.path.join(clean_data_dir,'tl_2020_36_tract20.csv')\n",
    "geodf_tract_ny = pd.read_csv(clean_geodf_tract_ny_file_csv, index_col=0)"
   ]
  },
  {
   "cell_type": "code",
   "execution_count": 5,
   "id": "74a2748a-b3c6-4392-8f59-ae44855232dc",
   "metadata": {
    "tags": []
   },
   "outputs": [],
   "source": [
    "from keplergl import KeplerGl\n",
    "\n",
    "ny_map = KeplerGl(height=600, show_docs=False)\n",
    "ny_map.add_data(data=geodf_place_nyc, name='New York City') \n",
    "ny_map.add_data(data=geodf_tract_ny, name= 'Population Density')"
   ]
  },
  {
   "cell_type": "code",
   "execution_count": 6,
   "id": "68117284-6172-42f5-9ea5-9806f627e361",
   "metadata": {
    "tags": []
   },
   "outputs": [],
   "source": [
    "ny_map.config = {\n",
    "    'version': 'v1',\n",
    " 'config': {'visState': {'filters': [],\n",
    "   'layers': [{'id': 'hjl4aki',\n",
    "     'type': 'geojson',\n",
    "     'config': {'dataId': 'New York City',\n",
    "      'label': 'New York City',\n",
    "      'color': [173, 185, 51],\n",
    "      'highlightColor': [252, 242, 26, 255],\n",
    "      'columns': {'geojson': 'geometry'},\n",
    "      'isVisible': True,\n",
    "      'visConfig': {'opacity': 0,\n",
    "       'strokeOpacity': 0.8,\n",
    "       'thickness': 0.5,\n",
    "       'strokeColor': [173, 185, 51],\n",
    "       'colorRange': {'name': 'Global Warming',\n",
    "        'type': 'sequential',\n",
    "        'category': 'Uber',\n",
    "        'colors': ['#5A1846',\n",
    "         '#900C3F',\n",
    "         '#C70039',\n",
    "         '#E3611C',\n",
    "         '#F1920E',\n",
    "         '#FFC300']},\n",
    "       'strokeColorRange': {'name': 'Global Warming',\n",
    "        'type': 'sequential',\n",
    "        'category': 'Uber',\n",
    "        'colors': ['#5A1846',\n",
    "         '#900C3F',\n",
    "         '#C70039',\n",
    "         '#E3611C',\n",
    "         '#F1920E',\n",
    "         '#FFC300']},\n",
    "       'radius': 10,\n",
    "       'sizeRange': [0, 10],\n",
    "       'radiusRange': [0, 50],\n",
    "       'heightRange': [0, 500],\n",
    "       'elevationScale': 5,\n",
    "       'enableElevationZoomFactor': True,\n",
    "       'stroked': True,\n",
    "       'filled': True,\n",
    "       'enable3d': False,\n",
    "       'wireframe': False},\n",
    "      'hidden': False,\n",
    "      'textLabel': [{'field': None,\n",
    "        'color': [255, 255, 255],\n",
    "        'size': 18,\n",
    "        'offset': [0, 0],\n",
    "        'anchor': 'start',\n",
    "        'alignment': 'center'}]},\n",
    "     'visualChannels': {'colorField': None,\n",
    "      'colorScale': 'quantile',\n",
    "      'strokeColorField': None,\n",
    "      'strokeColorScale': 'quantile',\n",
    "      'sizeField': None,\n",
    "      'sizeScale': 'linear',\n",
    "      'heightField': None,\n",
    "      'heightScale': 'linear',\n",
    "      'radiusField': None,\n",
    "      'radiusScale': 'linear'}},\n",
    "    {'id': 'ge5p5d',\n",
    "     'type': 'geojson',\n",
    "     'config': {'dataId': 'Population Density',\n",
    "      'label': 'Population Density',\n",
    "      'color': [255, 203, 153],\n",
    "      'highlightColor': [252, 242, 26, 255],\n",
    "      'columns': {'geojson': 'geometry'},\n",
    "      'isVisible': True,\n",
    "      'visConfig': {'opacity': 0.8,\n",
    "       'strokeOpacity': 0.8,\n",
    "       'thickness': 0,\n",
    "       'strokeColor': [248, 149, 112],\n",
    "       'colorRange': {'name': 'Global Warming',\n",
    "        'type': 'sequential',\n",
    "        'category': 'Uber',\n",
    "        'colors': ['#5A1846',\n",
    "         '#900C3F',\n",
    "         '#C70039',\n",
    "         '#E3611C',\n",
    "         '#F1920E',\n",
    "         '#FFC300']},\n",
    "       'strokeColorRange': {'name': 'Global Warming',\n",
    "        'type': 'sequential',\n",
    "        'category': 'Uber',\n",
    "        'colors': ['#5A1846',\n",
    "         '#900C3F',\n",
    "         '#C70039',\n",
    "         '#E3611C',\n",
    "         '#F1920E',\n",
    "         '#FFC300']},\n",
    "       'radius': 10,\n",
    "       'sizeRange': [0, 10],\n",
    "       'radiusRange': [0, 50],\n",
    "       'heightRange': [0, 500],\n",
    "       'elevationScale': 5,\n",
    "       'enableElevationZoomFactor': True,\n",
    "       'stroked': True,\n",
    "       'filled': True,\n",
    "       'enable3d': False,\n",
    "       'wireframe': False},\n",
    "      'hidden': False,\n",
    "      'textLabel': [{'field': None,\n",
    "        'color': [255, 255, 255],\n",
    "        'size': 18,\n",
    "        'offset': [0, 0],\n",
    "        'anchor': 'start',\n",
    "        'alignment': 'center'}]},\n",
    "     'visualChannels': {'colorField': {'name': 'Population Density',\n",
    "       'type': 'integer'},\n",
    "      'colorScale': 'quantile',\n",
    "      'strokeColorField': None,\n",
    "      'strokeColorScale': 'quantile',\n",
    "      'sizeField': None,\n",
    "      'sizeScale': 'linear',\n",
    "      'heightField': None,\n",
    "      'heightScale': 'linear',\n",
    "      'radiusField': None,\n",
    "      'radiusScale': 'linear'}}],\n",
    "   'interactionConfig': {'tooltip': {'fieldsToShow': {'New York City': [{'name': 'State',\n",
    "        'format': None},\n",
    "       {'name': 'State FIPS', 'format': None},\n",
    "       {'name': 'Place', 'format': None},\n",
    "       {'name': 'Place FIPS', 'format': None},\n",
    "       {'name': 'County', 'format': None}],\n",
    "      'Population Density': [{'name': 'County FIPS', 'format': None},\n",
    "       {'name': 'Census Tract Name', 'format': None},\n",
    "       {'name': 'GEOID Census Tract', 'format': None},\n",
    "       {'name': 'Population', 'format': None},\n",
    "       {'name': 'Land Area', 'format': None}]},\n",
    "     'compareMode': False,\n",
    "     'compareType': 'absolute',\n",
    "     'enabled': True},\n",
    "    'brush': {'size': 0.5, 'enabled': False},\n",
    "    'geocoder': {'enabled': False},\n",
    "    'coordinate': {'enabled': False}},\n",
    "   'layerBlending': 'normal',\n",
    "   'splitMaps': [],\n",
    "   'animationConfig': {'currentTime': None, 'speed': 1}},\n",
    "  'mapState': {'bearing': 0,\n",
    "   'dragRotate': False,\n",
    "   'latitude': 40.70679298375131,\n",
    "   'longitude': -74.0709215373596,\n",
    "   'pitch': 0,\n",
    "   'zoom': 9,\n",
    "   'isSplit': False},\n",
    "  'mapStyle': {'styleType': 'dark',\n",
    "   'topLayerGroups': {},\n",
    "   'visibleLayerGroups': {'label': True,\n",
    "    'road': True,\n",
    "    'border': False,\n",
    "    'building': True,\n",
    "    'water': True,\n",
    "    'land': True,\n",
    "    '3d building': False},\n",
    "   'threeDBuildingColor': [9.665468314072013,\n",
    "    17.18305478057247,\n",
    "    31.1442867897876],\n",
    "   'mapStyles': {}}}}"
   ]
  },
  {
   "cell_type": "code",
   "execution_count": 7,
   "id": "7972d43b-4b82-4064-8c74-229ac787cb43",
   "metadata": {
    "tags": []
   },
   "outputs": [
    {
     "data": {
      "application/vnd.jupyter.widget-view+json": {
       "model_id": "eca8535480ef430c972de7c86b0321f5",
       "version_major": 2,
       "version_minor": 0
      },
      "text/plain": [
       "KeplerGl(config={'version': 'v1', 'config': {'visState': {'filters': [], 'layers': [{'id': 'hjl4aki', 'type': …"
      ]
     },
     "metadata": {},
     "output_type": "display_data"
    }
   ],
   "source": [
    "ny_map"
   ]
  },
  {
   "cell_type": "markdown",
   "id": "f9de25bf-138a-4aee-a727-1e716ec19eca",
   "metadata": {
    "tags": []
   },
   "source": [
    "## Up close: data cleaning and mapping\n",
    "\n",
    "The following project notebooks provide a detailed look at the various steps of cleaning and mapping the data for this project. The final steps of creating a SQL database of indoor farms in New York City and then mapping them will follow shortly.\n",
    "\n",
    "* [Data Cleanup: US Census population data](http://localhost:8888/lab/tree/notebooks/01_DataCleanup_Population.ipynb) \n",
    "* [Data Cleanup: GEOID tables](http://localhost:8888/lab/tree/notebooks/02_DataCleanup_GEOIDs.ipynb)\n",
    "* [Data Cleanup: Geographic data](http://localhost:8888/lab/tree/notebooks/03_DataCleanup_GIS.ipynb)\n",
    "* [Mapping NY State: Population Density](http://localhost:8888/lab/tree/notebooks/04_Mapping_Population.ipynb)\n",
    "* SQL Database Creation: Indoor Farms - *coming soon...*\n",
    "* Mapping NY State: Indoor Farms - *coming soon...*"
   ]
  }
 ],
 "metadata": {
  "kernelspec": {
   "display_name": "Python 3 (ipykernel)",
   "language": "python",
   "name": "python3"
  },
  "language_info": {
   "codemirror_mode": {
    "name": "ipython",
    "version": 3
   },
   "file_extension": ".py",
   "mimetype": "text/x-python",
   "name": "python",
   "nbconvert_exporter": "python",
   "pygments_lexer": "ipython3",
   "version": "3.8.10"
  }
 },
 "nbformat": 4,
 "nbformat_minor": 5
}
