{
 "cells": [
  {
   "cell_type": "markdown",
   "id": "9fcb5f8a-228d-4e23-88e1-5fd0be05e97a",
   "metadata": {},
   "source": [
    "## What's so hard about getting the data? \n",
    "\n",
    "The difficulty is not a lack of data, there's a ton of it. The US Census Bureau seems to have taken great pains to make it available for public in just a few clicks. The hard part is deciphering exactly what it is you've downloaded, so you can be certain you've pulled the right data and can disregard what you don't need.\n",
    "\n",
    "## Surely, Google can point you to a page with this info, no? \n",
    "\n",
    "Nope. No amount of wishful Googling was able to deliver data that was direct from the source, current, and neatly bundled. That required downloading more fields than I needed and taking the time to actually learning the nomenclature and thought processes behind the US Census.\n",
    "\n",
    "## Is there a quick way to learn what I need to know to access Census Data? \n",
    "\n",
    "**Thankfully, yes! This fanstastic [YouTube video](https://youtu.be/ZpAFvdwPAU0) created by a GIS and Data Librarian at Brown University who also writes [this blog](https://atcoordinates.info/about) breaks it all down succinctly. The 30ish minutes I spent watching it saved me HOURS of pain. \n",
    "\n",
    "## It's 2022, why couldn't you get Summary File 1 for the 2020 Census?\n",
    "\n",
    "In non-pandemic times, decennial census data is released as a series of files of varying complexity, according to a specific schedule. Not suprisingly, the pandemic complicated things and the release of the main census data file, Summary File 1, has been delayed So, I settled for the redistricting file."
   ]
  },
  {
   "cell_type": "code",
   "execution_count": null,
   "id": "dd266266-a593-408b-b4d4-ec6c512d4c98",
   "metadata": {},
   "outputs": [],
   "source": []
  }
 ],
 "metadata": {
  "kernelspec": {
   "display_name": "Python 3 (ipykernel)",
   "language": "python",
   "name": "python3"
  },
  "language_info": {
   "codemirror_mode": {
    "name": "ipython",
    "version": 3
   },
   "file_extension": ".py",
   "mimetype": "text/x-python",
   "name": "python",
   "nbconvert_exporter": "python",
   "pygments_lexer": "ipython3",
   "version": "3.9.0"
  }
 },
 "nbformat": 4,
 "nbformat_minor": 5
}
