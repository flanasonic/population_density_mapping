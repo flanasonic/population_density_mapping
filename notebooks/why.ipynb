{
 "cells": [
  {
   "cell_type": "markdown",
   "id": "9803e447-98de-46c9-84ab-c1bac68a82a8",
   "metadata": {},
   "source": [
    "Having worked in food distribution for a decade, I probably spend more time than most thinking about the logistics of food. When I eat, it's hard for me *not* to imagine where exactly my food came from and how it reached me. Still, it wasn't until the pandemic, that I'd ever seriously considered the possibilty of not being able to access to fresh food. The combination of fear and abundant freetime are powerful. Long dormant, my interest in gardening reawakened. I found some comfort in the ability to grow a few vegetables at home. It was the existence of urban farming, knowing that food was being grown right here in this crowded city, that gave me real comfort. It also became for me a symbol of hope. Sure the world was a mess, but we might just be able to dig ourselves out of this.\n",
    "\n",
    "As I became more attuned, indoor farms seemed to popping up left and right. It became apparent that the industry was bigger than I'd realized. Looking to understand the landscape better, the question of where these farms were seemed like a good place to start.  "
   ]
  },
  {
   "cell_type": "markdown",
   "id": "10c6dd0d-a3c5-462b-bbf4-bf61115bd035",
   "metadata": {},
   "source": []
  },
  {
   "cell_type": "markdown",
   "id": "9fcb5f8a-228d-4e23-88e1-5fd0be05e97a",
   "metadata": {},
   "source": [
    "What's so hard about getting the data? The difficulty is not a lack of data, there's a ton of it. The Census Bureau seems to have gone to great pains to make it available for public in just a few clicks. The problem is deciphering exactly what it is you've downloaded, so you can be certain you've pulled the right data and can disregard columsn you don't need.\n",
    "\n",
    "Surely you can Google it and find a page with this info? Unfortunatly, no amount of wishful Googling was able to deliver data that was direct from the source, current, neatly bundled. It was going to require downloading more fields than I needed and takubf the time to actually learning the jargon and thought processes of the Census Bureau.\n",
    "\n",
    "**Is there a quick way to learn what I need to know to access Census Data? **Thankfully, yes! This fanstastic [YouTube video](https://youtu.be/ZpAFvdwPAU0) created by a GIS and Data Librarian at Brown University who also writes [this blog](https://atcoordinates.info/about) breaks it all down succinctly. The 30ish minutes I spent watching it saved me HOURS of pain. \n",
    "\n",
    "** It's 2022, why couldn't you get Summary File 1 for the 2020 Census?** In non-pandemic times, decennial census data is released as a series of files of varying complexity, according to a specific schedule. Not suprisingly, the pandemic complicated things and the release of the main census data file, Summary File 1, has been delayed So, I settled for the redistricting file."
   ]
  },
  {
   "cell_type": "code",
   "execution_count": null,
   "id": "dd266266-a593-408b-b4d4-ec6c512d4c98",
   "metadata": {},
   "outputs": [],
   "source": []
  }
 ],
 "metadata": {
  "kernelspec": {
   "display_name": "Python 3 (ipykernel)",
   "language": "python",
   "name": "python3"
  },
  "language_info": {
   "codemirror_mode": {
    "name": "ipython",
    "version": 3
   },
   "file_extension": ".py",
   "mimetype": "text/x-python",
   "name": "python",
   "nbconvert_exporter": "python",
   "pygments_lexer": "ipython3",
   "version": "3.9.0"
  }
 },
 "nbformat": 4,
 "nbformat_minor": 5
}
