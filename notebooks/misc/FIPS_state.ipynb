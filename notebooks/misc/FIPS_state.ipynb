{
 "cells": [
  {
   "cell_type": "markdown",
   "id": "c4284ea0-4dc0-486d-a276-0b5e077b594b",
   "metadata": {},
   "source": [
    "## FIPS codes for states"
   ]
  },
  {
   "cell_type": "code",
   "execution_count": 1,
   "id": "aa741173-702b-4050-a5d9-a991520f35c6",
   "metadata": {},
   "outputs": [
    {
     "data": {
      "text/html": [
       "<div>\n",
       "<style scoped>\n",
       "    .dataframe tbody tr th:only-of-type {\n",
       "        vertical-align: middle;\n",
       "    }\n",
       "\n",
       "    .dataframe tbody tr th {\n",
       "        vertical-align: top;\n",
       "    }\n",
       "\n",
       "    .dataframe thead th {\n",
       "        text-align: right;\n",
       "    }\n",
       "</style>\n",
       "<table border=\"1\" class=\"dataframe\">\n",
       "  <thead>\n",
       "    <tr style=\"text-align: right;\">\n",
       "      <th></th>\n",
       "      <th>State</th>\n",
       "      <th>FIPS Code</th>\n",
       "      <th>State Name</th>\n",
       "    </tr>\n",
       "  </thead>\n",
       "  <tbody>\n",
       "    <tr>\n",
       "      <th>0</th>\n",
       "      <td>AL</td>\n",
       "      <td>1</td>\n",
       "      <td>Alabama</td>\n",
       "    </tr>\n",
       "    <tr>\n",
       "      <th>1</th>\n",
       "      <td>AK</td>\n",
       "      <td>2</td>\n",
       "      <td>Alaska</td>\n",
       "    </tr>\n",
       "    <tr>\n",
       "      <th>2</th>\n",
       "      <td>AZ</td>\n",
       "      <td>4</td>\n",
       "      <td>Arizona</td>\n",
       "    </tr>\n",
       "    <tr>\n",
       "      <th>3</th>\n",
       "      <td>AR</td>\n",
       "      <td>5</td>\n",
       "      <td>Arkansas</td>\n",
       "    </tr>\n",
       "    <tr>\n",
       "      <th>4</th>\n",
       "      <td>CA</td>\n",
       "      <td>6</td>\n",
       "      <td>California</td>\n",
       "    </tr>\n",
       "  </tbody>\n",
       "</table>\n",
       "</div>"
      ],
      "text/plain": [
       "  State  FIPS Code  State Name\n",
       "0    AL          1     Alabama\n",
       "1    AK          2      Alaska\n",
       "2    AZ          4     Arizona\n",
       "3    AR          5    Arkansas\n",
       "4    CA          6  California"
      ]
     },
     "execution_count": 1,
     "metadata": {},
     "output_type": "execute_result"
    }
   ],
   "source": [
    "import pandas as pd\n",
    "\n",
    "file_state_fips = \"../data_archive/state_fips_codes.psv\"\n",
    "df_state_fips = pd.read_csv(file_state_fips, delimiter=\"|\")\n",
    "df_state_fips = df_state_fips[['STUSAB', 'STATE', 'STATE_NAME']]\n",
    "df_state_fips.rename(columns={'STATE': 'FIPS Code', 'STUSAB': 'State', 'STATE_NAME': 'State Name'}, inplace=True)\n",
    "df_state_fips.head()\n"
   ]
  },
  {
   "cell_type": "markdown",
   "id": "eda3b3ce-de5c-41a8-b244-a544de246ece",
   "metadata": {},
   "source": [
    "Now, let's located the entry for NY, so we can find out its FIPS code. "
   ]
  },
  {
   "cell_type": "code",
   "execution_count": 2,
   "id": "274d41b4-78cb-4b92-84a3-edaf1fa351f5",
   "metadata": {},
   "outputs": [
    {
     "data": {
      "text/html": [
       "<div>\n",
       "<style scoped>\n",
       "    .dataframe tbody tr th:only-of-type {\n",
       "        vertical-align: middle;\n",
       "    }\n",
       "\n",
       "    .dataframe tbody tr th {\n",
       "        vertical-align: top;\n",
       "    }\n",
       "\n",
       "    .dataframe thead th {\n",
       "        text-align: right;\n",
       "    }\n",
       "</style>\n",
       "<table border=\"1\" class=\"dataframe\">\n",
       "  <thead>\n",
       "    <tr style=\"text-align: right;\">\n",
       "      <th></th>\n",
       "      <th>State</th>\n",
       "      <th>FIPS Code</th>\n",
       "      <th>State Name</th>\n",
       "    </tr>\n",
       "  </thead>\n",
       "  <tbody>\n",
       "    <tr>\n",
       "      <th>32</th>\n",
       "      <td>NY</td>\n",
       "      <td>36</td>\n",
       "      <td>New York</td>\n",
       "    </tr>\n",
       "  </tbody>\n",
       "</table>\n",
       "</div>"
      ],
      "text/plain": [
       "   State  FIPS Code State Name\n",
       "32    NY         36   New York"
      ]
     },
     "execution_count": 2,
     "metadata": {},
     "output_type": "execute_result"
    }
   ],
   "source": [
    "df_state_fips[df_state_fips['State'] == 'NY']"
   ]
  },
  {
   "cell_type": "code",
   "execution_count": null,
   "id": "3e893e3b-359e-477b-a720-e867b212cc2d",
   "metadata": {},
   "outputs": [],
   "source": []
  }
 ],
 "metadata": {
  "kernelspec": {
   "display_name": "Python 3 (ipykernel)",
   "language": "python",
   "name": "python3"
  },
  "language_info": {
   "codemirror_mode": {
    "name": "ipython",
    "version": 3
   },
   "file_extension": ".py",
   "mimetype": "text/x-python",
   "name": "python",
   "nbconvert_exporter": "python",
   "pygments_lexer": "ipython3",
   "version": "3.8.10"
  }
 },
 "nbformat": 4,
 "nbformat_minor": 5
}
