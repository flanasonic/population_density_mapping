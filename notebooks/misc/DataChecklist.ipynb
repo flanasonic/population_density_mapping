{
 "cells": [
  {
   "cell_type": "markdown",
   "id": "afc2d392-5ebe-4fb1-a29d-97ef9be9e653",
   "metadata": {},
   "source": [
    "## Data Checklist\n",
    "\n",
    "* get a sense of dataframe size - `df.shape()`\n",
    "* visually inspect - `.head()` and `.tail()`\n",
    "* search for characters with diacritic marks - using function...\n",
    "* address characters with diacritic marks - using function...\n",
    "* check for missing & null values ('Nan's) -  `.info()`, `.isna()`, `.isna().sum()`, or `.isna().any(axis=n)` to show rows with missing values\n",
    "* check whether datatypes for each column make sense - `.dtypes` \n",
    "\n",
    "* remove unecessary characters - regex or `str.lstrip`\n",
    "* drop unwanted rows - `.drop()`\n",
    "* drop unwanted columns - ...\n",
    "* address inconsistent or incorrect capitalization? (i.e. \"city\" lowercase in \"New York city\"\n"
   ]
  },
  {
   "cell_type": "code",
   "execution_count": 1,
   "id": "d2fe6b2f-688c-4c82-9188-01e7099c071f",
   "metadata": {},
   "outputs": [],
   "source": [
    "# check for NaNs\n",
    "# df_codes[df_codes['County FIPS'].isna()]"
   ]
  }
 ],
 "metadata": {
  "kernelspec": {
   "display_name": "Python 3 (ipykernel)",
   "language": "python",
   "name": "python3"
  },
  "language_info": {
   "codemirror_mode": {
    "name": "ipython",
    "version": 3
   },
   "file_extension": ".py",
   "mimetype": "text/x-python",
   "name": "python",
   "nbconvert_exporter": "python",
   "pygments_lexer": "ipython3",
   "version": "3.9.12"
  }
 },
 "nbformat": 4,
 "nbformat_minor": 5
}
