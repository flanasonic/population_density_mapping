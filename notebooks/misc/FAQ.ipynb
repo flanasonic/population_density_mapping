{
 "cells": [
  {
   "cell_type": "markdown",
   "id": "9fcb5f8a-228d-4e23-88e1-5fd0be05e97a",
   "metadata": {},
   "source": [
    "## Questions I might have asked before setting out on this adventure...\n",
    "\n",
    "### What's so hard about getting US population data? \n",
    "\n",
    "The difficulty is not a lack of data, there's a ton of it. The US Census Bureau also seems to really want the public to access it. They've gone to great lengths to make it available in just a few clicks. The hard part is deciphering exactly what you've downloaded, so you can be certain you've pulled the right data and can disregard what you don't need.\n",
    "\n",
    "### Surely, Google can point you to a page with this info, no? \n",
    "\n",
    "Nope. No amount of wishful Googling was able to deliver data that was direct from the source, current, detailed, and neatly bundled. That required downloading more fields than I needed and taking the time to actually learning the nomenclature and thought processes behind the US Census.\n",
    "\n",
    "### Is there a quick way to learn what I need to know to access Census Data? \n",
    "\n",
    "**Thankfully, yes! This fanstastic [YouTube video](https://youtu.be/ZpAFvdwPAU0) created by a GIS and Data Librarian at Brown University who also writes [this blog](https://atcoordinates.info/about) breaks it all down succinctly. The 30 or so minutes I spent watching it saved me HOURS of pain. \n",
    "\n",
    "### It's 2022, why couldn't you get Summary File 1 for the 2020 Census?\n",
    "\n",
    "In non-pandemic times, decennial census data is released as a series of files of varying complexity, according to a specific schedule. Not suprisingly, the pandemic has complicated things and the release of the main census data file, Summary File 1, has been delayed So, I settled for the redistricting file."
   ]
  }
 ],
 "metadata": {
  "kernelspec": {
   "display_name": "Python 3 (ipykernel)",
   "language": "python",
   "name": "python3"
  },
  "language_info": {
   "codemirror_mode": {
    "name": "ipython",
    "version": 3
   },
   "file_extension": ".py",
   "mimetype": "text/x-python",
   "name": "python",
   "nbconvert_exporter": "python",
   "pygments_lexer": "ipython3",
   "version": "3.8.10"
  }
 },
 "nbformat": 4,
 "nbformat_minor": 5
}
