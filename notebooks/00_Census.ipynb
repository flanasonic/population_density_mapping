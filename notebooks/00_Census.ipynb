{
 "cells": [
  {
   "cell_type": "markdown",
   "id": "e6d01d07-d537-4ffe-940e-66659c7edc1a",
   "metadata": {},
   "source": [
    "# What's the state of indoor agriculture in the US?\n",
    "\n",
    "Having worked in food distribution for a decade, I probably spend more time thinking about the logistics of food than most people do. When I eat, it's hard for me *not to* imagine where my food came from how it reached me. Still, it wasn't until the pandemic landed in New York City that I'd ever given serious consideration to the possiblity that I might lose access to fresh food. The combination of fear and free time is powerful. \n",
    "\n",
    "I found my interest in gardening, long dormant, reawakening virtually overnight. The ability to grow a few vegetables at home provided a small measure of comfort. It was really the knowledge, though, that food was being grown on a commercial scale just blocks from my home that was able to nudge my mind closer to ease. For years, I'd happily been paying a premium for hydroponically grown greens based on quality alone. But, as the pandemic gained momentum and the city locked down, indoor farms - once a source of luxury for me - became a symbol of hope. \n",
    "\n",
    "Sure the world was a mess, but we might just be able to dig ourselves out of it.\n",
    "\n",
    "## Examining population density and the emergence of indoor farming\n",
    "\n",
    "Once I became attuned, it seemed indoor farms began cropping up left and right. Apparently, the industry was quite a bit larger than I'd realized. Looking to understand the landscape better, the question of *where* exactly these farms were located seemed like a good starting point.\n",
    "\n",
    "So, what kinds of places become home to indoor farms? Since there are a lot of ways to characterize a place, I decided to narrow my initial scope to population density using data from the most recent US Census, 2020. My own neighborhood can very significantly in the span of a block or two, so I wanted to work with relatively granular population data. While census *blocks* are actually the smallest geographic unit for which census data is gathered, at the time I began this project, the 2020 data at this level had not yet been released. Data at the census tract level, however, was available and I decided it would suffice. "
   ]
  },
  {
   "cell_type": "markdown",
   "id": "c69b8dd5-f9ad-4a68-bea0-0e8ed62c8943",
   "metadata": {},
   "source": [
    "## Taming the data beast\n",
    "\n",
    "The [US Decennial Census of Population and Housing](https://www.census.gov/programs-surveys/decennial-census/data/datasets.html) provides a very rich source of raw data, but it can be challenging to decipher and synthesize into usable features. This set of project notebooks walks through the data cleaning and analysis techniques I applied towards my goal of contributing to the understanding of the indoor farming industry and its role in overall food security. The \"Data Sources\" section of each notebook details the individual files used and the specific steps taken to access them. "
   ]
  },
  {
   "cell_type": "code",
   "execution_count": 1,
   "id": "750cb14e-95a1-4cce-b97c-78ded9f63be0",
   "metadata": {
    "jupyter": {
     "source_hidden": true
    },
    "tags": []
   },
   "outputs": [],
   "source": [
    "# os and patlib modules used to make it easier to refer to project folders \n",
    "\n",
    "import os, pathlib\n",
    "base_dir = pathlib.Path(os.getcwd()).parent\n",
    "data_archive_dir = os.path.join(base_dir, \"data_archive\")\n",
    "clean_data_dir = os.path.join(data_archive_dir, \"clean\")\n",
    "data_dir = os.path.join(base_dir, \"data\")\n",
    "shapes_dir = os.path.join(data_dir,\"shapes\")\n",
    "json_dir = os.path.join(data_dir,\"geojson\")\n",
    "util_dir = os.path.join(data_dir,\"util\")"
   ]
  },
  {
   "cell_type": "markdown",
   "id": "dac75f97-4997-4f92-a425-9576bfa697c2",
   "metadata": {},
   "source": [
    "## The 50,000 foot view"
   ]
  },
  {
   "cell_type": "code",
   "execution_count": 2,
   "id": "5c085778-6579-4e56-bc90-fb6b7d0afbb1",
   "metadata": {
    "tags": []
   },
   "outputs": [],
   "source": [
    "import pandas as pd\n",
    "from keplergl import KeplerGl"
   ]
  },
  {
   "cell_type": "code",
   "execution_count": 3,
   "id": "6cc9b830-b7b4-4c02-b3ad-d4e565a8aa74",
   "metadata": {
    "jupyter": {
     "source_hidden": true
    },
    "tags": []
   },
   "outputs": [
    {
     "data": {
      "application/vnd.jupyter.widget-view+json": {
       "model_id": "99f9a52a223c4487ac49d21d0010b62e",
       "version_major": 2,
       "version_minor": 0
      },
      "text/plain": [
       "KeplerGl(data={'New York City': {'index': ['New York'], 'columns': ['State', 'State FIPS', 'Place', 'Place FIP…"
      ]
     },
     "metadata": {},
     "output_type": "display_data"
    }
   ],
   "source": [
    "# import CSV version of GEO DataFrame of NY State Census Tracts \n",
    "clean_geodf_tract_ny_file_csv = os.path.join(clean_data_dir,'tl_2020_36_tract20.csv')\n",
    "geodf_tract_ny = pd.read_csv(clean_geodf_tract_ny_file_csv, index_col=0)\n",
    "geodf_tract_ny.head(3)\n",
    "\n",
    "# import CSV version GEO DataFrame of NY State Places\n",
    "clean_geodf_place_ny_file_csv = os.path.join(clean_data_dir,'geodf_place_ny.csv')\n",
    "geodf_place_ny = pd.read_csv(clean_geodf_place_ny_file_csv, index_col=0)\n",
    "geodf_place_ny.head(3)\n",
    "\n",
    "# make separate GEO DataFrame of the \"Place\" New York City\n",
    "geodf_place_nyc = geodf_place_ny[geodf_place_ny['Place FIPS'] == 51000]\n",
    "geodf_place_nyc\n",
    "\n",
    "# I want this part to show the outline around NYC\n",
    "from keplergl import KeplerGl\n",
    "ny_map = KeplerGl(height=400, show_docs=False)\n",
    "ny_map.add_data(data=geodf_place_nyc, name='New York City') \n",
    "ny_map.add_data(data=geodf_tract_ny)\n",
    "ny_map.add_data(data=geodf_place_ny)\n",
    "\n",
    "\n",
    "# I want to add an outline of NYC\n",
    "# geodf_place_nyc[\"geometry\"].explode().iloc[7]\n",
    "# geodf_place_nyc[\"geometry\"].boundary.plot()\n",
    "ny_map"
   ]
  },
  {
   "cell_type": "markdown",
   "id": "90a5ef51-3b2e-496e-b81f-6191b20ecd04",
   "metadata": {},
   "source": [
    "## Step by step\n",
    "* [Data Cleanup: US Census population data]()\n",
    "* Data Cleanup: GEOID tables\n",
    "* Geographic data: Translating shapefiles to GEO DataFrames\n",
    "* Mapping NY State: Population Density\n",
    "* Mapping New York City: Indoor Farms (coming soon...)"
   ]
  },
  {
   "cell_type": "code",
   "execution_count": null,
   "id": "31e59bd1-1e53-4ca6-acf7-89ae5764121b",
   "metadata": {},
   "outputs": [],
   "source": []
  }
 ],
 "metadata": {
  "kernelspec": {
   "display_name": "Python 3 (ipykernel)",
   "language": "python",
   "name": "python3"
  },
  "language_info": {
   "codemirror_mode": {
    "name": "ipython",
    "version": 3
   },
   "file_extension": ".py",
   "mimetype": "text/x-python",
   "name": "python",
   "nbconvert_exporter": "python",
   "pygments_lexer": "ipython3",
   "version": "3.8.10"
  }
 },
 "nbformat": 4,
 "nbformat_minor": 5
}
