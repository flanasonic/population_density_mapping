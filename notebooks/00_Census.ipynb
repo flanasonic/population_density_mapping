{
 "cells": [
  {
   "cell_type": "markdown",
   "id": "e6d01d07-d537-4ffe-940e-66659c7edc1a",
   "metadata": {},
   "source": [
    "# What's the state of indoor agriculture in the US?\n",
    "\n",
    "Having worked in food distribution for a decade, I probably spend more time thinking about the logistics of food than most people do. When I eat, it's hard for me *not to* imagine where my food came from and the path it traveled to reach me. Still, it wasn't until the pandemic landed in New York City that the idea of losing access to fresh food began to feel like a real possiblity. The combination of fear and free time is powerful. \n",
    "\n",
    "Long dormant, my interest in gardening reawakened seemingly overnight. The ability to grow a few vegetables at home did provide a bit of comfort. Only the knowledge, though, that food was being grown on a commercial scale just blocks from my home could nudge my mind closer to ease. For years, I'd happily been paying a premium for hydroponically grown greens based on quality alone. But, as the pandemic gained momentum and the city locked down, what had once been for me a source of luxury - indoor farms - suddenly became a symbol of hope. \n",
    "\n",
    "Sure the world was a mess, but we might just be able to dig ourselves out of it.\n",
    "\n",
    "## Population density and the emergence of indoor farming\n",
    "\n",
    "Once I became attuned, it seemed as if indoor farms began cropping up left and right. Apparently, the industry was quite a bit larger than I'd realized. Looking to understand the landscape better, the question of *where* exactly these farms were located seemed like a good place to start.\n",
    "\n",
    "So, what kinds of places become home to indoor farms? Since there are a lot of ways to characterize a place, I decided to narrow my initial scope to population density using data from the most recent US Census, 2020. My own neighborhood can very significantly in the span of a block or two, so I wanted to work with the most granular population data I could get. While census *blocks* are actually the smallest geographic unit for which census data is gathered, when I began this project, the 2020 data at this level had not yet been released. Data at the census tract level, however, was available and I decided it would suffice. "
   ]
  },
  {
   "cell_type": "markdown",
   "id": "c69b8dd5-f9ad-4a68-bea0-0e8ed62c8943",
   "metadata": {},
   "source": [
    "## Taming the data beast\n",
    "\n",
    "The [US Decennial Census of Population and Housing](https://www.census.gov/programs-surveys/decennial-census/data/datasets.html) provides a rich source of raw data, but it can be challenging to decipher and synthesize into usable features. This set of project notebooks walks through the data cleaning and analysis techniques I applied towards my goal of contributing to the understanding of the indoor farming industry and food security overall. The \"Data Sources\" section of each notebook details the individual files and the specific steps I took to access them. "
   ]
  },
  {
   "cell_type": "markdown",
   "id": "90a5ef51-3b2e-496e-b81f-6191b20ecd04",
   "metadata": {},
   "source": [
    "### 1 US Census Data Cleanup\n",
    "\n",
    "#### a - Population by census tract\n",
    "\n",
    "*raw data:*\n",
    "* population by census tract for the US and Puerto Rico\n",
    "\n",
    "*products:*\n",
    "* DataFrame of total population by census tract for the US and Puerto Rico\n",
    "\n",
    "#### b - GEOIDs and why we love them\n",
    "\n",
    "*raw data:*\n",
    "* state FIPS codes list\n",
    "* county FIPS codes list\n",
    "* \"place\" FIPS codes list  \n",
    "    \n",
    "*product:*\n",
    "* DataFrame of state and county FIPS codes\n",
    "* DataFrame of \"place\" FIPS codes\n",
    "    \n",
    "#### c - Geographic Data\n",
    "\n",
    "*raw data:*\n",
    " * census tract shapefiles for NY State\n",
    " * \"place\" shapefiles for NY state\n",
    "\n",
    "*actions:* \n",
    "* add population data to state GEO DataFrame\n",
    "* calculate population density\n",
    "\n",
    "*product:*\n",
    "* GEO DataFrame of NY census tracts with population density\n",
    "* GEO DataFrame of the \"place\" called New York City\n",
    "\n",
    "### 2 Mapping Census Data\n",
    "\n",
    "*products:*\n",
    "* NY state census tracts mapped in Kepler\n",
    "* census tracts colored based on population density\n",
    "* New York City outlines\n",
    "\n",
    "### 3 Gather & Clean Farm Data\n",
    "\n",
    "*raw data:*\n",
    "* data model\n",
    "* NYC farm data as a csv\n",
    "\n",
    "*actions:*\n",
    "* open farm data as a DataFrame\n",
    "* turn addresses into GEO info\n",
    "\n",
    "*products:*\n",
    "* GEO DataFrame of infoor farms in NYC\n",
    "\n",
    "### 4 Mapping Farm Data\n",
    "* plot locations \n",
    "* some visual differentiator based on farm size?\n"
   ]
  },
  {
   "cell_type": "code",
   "execution_count": null,
   "id": "a2567546-a977-41bc-9a96-805aad380cf6",
   "metadata": {},
   "outputs": [],
   "source": []
  },
  {
   "cell_type": "code",
   "execution_count": null,
   "id": "f1be73d7-f005-479c-b047-bc733eca4f6e",
   "metadata": {},
   "outputs": [],
   "source": []
  },
  {
   "cell_type": "code",
   "execution_count": null,
   "id": "ba60a14f-ee7a-447c-a4eb-bea58a5d39d0",
   "metadata": {},
   "outputs": [],
   "source": []
  }
 ],
 "metadata": {
  "kernelspec": {
   "display_name": "Python 3 (ipykernel)",
   "language": "python",
   "name": "python3"
  },
  "language_info": {
   "codemirror_mode": {
    "name": "ipython",
    "version": 3
   },
   "file_extension": ".py",
   "mimetype": "text/x-python",
   "name": "python",
   "nbconvert_exporter": "python",
   "pygments_lexer": "ipython3",
   "version": "3.8.10"
  }
 },
 "nbformat": 4,
 "nbformat_minor": 5
}
