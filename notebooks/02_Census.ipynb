{
 "cells": [
  {
   "cell_type": "markdown",
   "id": "4fb7aac7-a982-4958-90d8-e11b9ad4db97",
   "metadata": {},
   "source": [
    "## GEOID codes and why we need them\n",
    "\n",
    "*Geographic Identifier (GEOID)* is a general term for the unique numeric codes used to identify geographic entities. Specifically, the Census Bureau uses Federal Information Processing Series (FIPS) codes to identify most of the geographies for which it tabulates data, such as states, counties, and \"places\". Because FIPS codes are maintained by the American National Standards Institute (ANSI), they are often referred to interchangeably as \"ANSI\", \"FIPS\", or \"ANSI/FIPS\" codes. To avoid confusion, we'll refer to them as \"FIPS\" codes. Because the codes for census tracts are maintained by the Census Bureau itself, rather than ANSI, we'll simplry refer to them as \"census tract\" codes.\n",
    "\n",
    "Regardless of what we call them, GEOIDs are the critical piece of information that allows us to tie population data to geographic data. A unique GEOID can be derived for every piece of geography in the US by concatenating its FIPS code with those of the geographies in which it nests. The geography we'll be mapping, the *census tract*, nests within a *county*, which nests within a *state*. So, to derive a census tract's unique GEOID we concatenate its: STATE FIPS + COUNTY FIPS + CENSUS TRACT codes.\n",
    "\n",
    "For example, the GEOID for the census tract in Brooklyn where I sit writing this is:\n",
    "\n",
    "```\n",
    "STATE + COUNTY + TRACT\n",
    "NY + Kings County + Tract #\n",
    "36 + 047 + 016500 \n",
    "= 36047016500\n",
    "\n",
    "```"
   ]
  },
  {
   "cell_type": "markdown",
   "id": "4a287aa2-6ac4-4169-96da-99d4a87071ab",
   "metadata": {},
   "source": [
    "### Which specific GEOIDs do we need here?\n",
    "\n",
    "A glance at the [FTP Archive](https://www2.census.gov/geo/tiger/TIGER2020PL/LAYER/TRACT/2020/) of shapefiles for the census tract layer, quickly reveals that the dataset required to map every census tract in the US is *enormous*. Therefore, for this initial mapping exercise, we'll narrow our scope to a smaller subsection of particular interest within the indoor farming industry, NY state, and more specifically, New York City. We will, however, write our code in such a way that we can easily add more locations when we're ready.\n",
    "\n",
    "Given the [hierarchy according to which census geographic entities are oganized](https://www2.census.gov/geo/pdfs/reference/geodiagram.pdf), accessing New York City geography data at the census tract level is not quite as straightforward as one might expect. We've, therefore, downloaded the full set of NY state files so we can make population density for the entire state and will then use GEOIDs to draw a boundary around New York City. As mentioned above, we'll need state FIPS, county FIPS, and census tract codes. There's also a fourth to add to our list - \"place\". We need this last one because, interestingly, \"city\" isn't one of the categories within the hierarchy of census geographic entities, rather the Census Bureau categorizes New York City, the area we'll be mapping, as a \"place\". \n",
    "\n",
    "The goal of this section is to produce two clean DataFrames of US GEOIDs, containing just the columns we want. The first DataFrame will contain state and county FIPS codes, the second will contain place FIPS codes. While our initial mapping exercise will be limited to NYC, we'll include all US codes here, as we'll need them to map additional areas in the future. (Note - our population data in the previous notebook is limited to the United States and Puerto Rico, it does not include the other Island Areas, we'll need to access that information separately when we're ready to map those areas.)"
   ]
  },
  {
   "cell_type": "markdown",
   "id": "280fc88d-dd05-41cb-bae0-6c5be6b7bafd",
   "metadata": {
    "tags": []
   },
   "source": [
    "### Data Sources\n",
    "\n",
    "The below list details the data sources used for this section of the project. Since several routes can be taken to access the same census data, I've included the specific steps I followed to access them.\n",
    "\n",
    "**GEOID Codes:**\n",
    "\n",
    "Files downloaded from Census Bureau FTP server via FTP client\n",
    "\n",
    "*State FIPS codes*\n",
    "* file location: ftp://ftp2.census.gov/geo/docs/reference/codes/state.txt\n",
    "\n",
    "*County FIPS codes*\n",
    "* file location: ftp://ftp2.census.gov/geo/docs/reference/codes/national_county.txt\n",
    "\n",
    "*Place FIPS codes*\n",
    "* file location: ftp://ftp2.census.gov/geo/docs/reference/codes/PLACElist.txt"
   ]
  },
  {
   "cell_type": "code",
   "execution_count": 1,
   "id": "688434d7-1045-4af9-add5-bb7d92bcac35",
   "metadata": {},
   "outputs": [],
   "source": [
    "# also included in the previous notebook, this code makes it easier to refer \n",
    "# to the folders where we'll store various data files for this project\n",
    "\n",
    "import os, pathlib\n",
    "base_dir = pathlib.Path(os.getcwd()).parent\n",
    "data_archive_dir = os.path.join(base_dir, \"data_archive\")\n",
    "clean_data_dir = os.path.join(data_archive_dir, \"clean\")\n",
    "data_dir = os.path.join(base_dir, \"data\")\n",
    "shapes_dir = os.path.join(data_dir,\"shapes\")\n",
    "json_dir = os.path.join(data_dir,\"geojson\")"
   ]
  },
  {
   "cell_type": "markdown",
   "id": "38044eaa-25b8-4496-852f-77fc43ce1eb6",
   "metadata": {},
   "source": [
    "## State FIPS codes\n",
    "\n",
    "Let's go ahead and load as a DataFrame the list of codes for the states and state equivalents and examine the first few rows. We'll include just the columns we want, rename them to better describe their contents, and reorder them as we like. "
   ]
  },
  {
   "cell_type": "code",
   "execution_count": 2,
   "id": "64d8193b-465a-43e7-adbd-695e9ca81b5b",
   "metadata": {},
   "outputs": [
    {
     "data": {
      "text/html": [
       "<div>\n",
       "<style scoped>\n",
       "    .dataframe tbody tr th:only-of-type {\n",
       "        vertical-align: middle;\n",
       "    }\n",
       "\n",
       "    .dataframe tbody tr th {\n",
       "        vertical-align: top;\n",
       "    }\n",
       "\n",
       "    .dataframe thead th {\n",
       "        text-align: right;\n",
       "    }\n",
       "</style>\n",
       "<table border=\"1\" class=\"dataframe\">\n",
       "  <thead>\n",
       "    <tr style=\"text-align: right;\">\n",
       "      <th></th>\n",
       "      <th>State Name</th>\n",
       "      <th>State</th>\n",
       "      <th>State FIPS</th>\n",
       "    </tr>\n",
       "  </thead>\n",
       "  <tbody>\n",
       "    <tr>\n",
       "      <th>0</th>\n",
       "      <td>Alabama</td>\n",
       "      <td>AL</td>\n",
       "      <td>1</td>\n",
       "    </tr>\n",
       "    <tr>\n",
       "      <th>1</th>\n",
       "      <td>Alaska</td>\n",
       "      <td>AK</td>\n",
       "      <td>2</td>\n",
       "    </tr>\n",
       "    <tr>\n",
       "      <th>2</th>\n",
       "      <td>Arizona</td>\n",
       "      <td>AZ</td>\n",
       "      <td>4</td>\n",
       "    </tr>\n",
       "  </tbody>\n",
       "</table>\n",
       "</div>"
      ],
      "text/plain": [
       "  State Name State  State FIPS\n",
       "0    Alabama    AL           1\n",
       "1     Alaska    AK           2\n",
       "2    Arizona    AZ           4"
      ]
     },
     "execution_count": 2,
     "metadata": {},
     "output_type": "execute_result"
    }
   ],
   "source": [
    "import pandas as pd\n",
    "\n",
    "# these options determine how much data is displayed in the notebook\n",
    "pd.set_option('display.width', None)\n",
    "pd.set_option('display.max_colwidth', None)\n",
    "\n",
    "file_state = os.path.join(data_archive_dir, 'state.txt')\n",
    "\n",
    "df_state = pd.read_csv(file_state, \n",
    "                       usecols=['STATE', 'STUSAB', 'STATE_NAME'], # use only these columns\n",
    "                       delimiter=\"|\", # load txt file as pandas DataFrame \n",
    "                       encoding=\"iso-8859-1\", \n",
    "                       encoding_errors='ignore')[['STATE_NAME', 'STUSAB', 'STATE',]] # reorder cols\n",
    "\n",
    "df_state.rename(columns={'STATE': 'State FIPS', 'STUSAB': 'State', 'STATE_NAME': 'State Name'}, inplace=True) # rename columns\n",
    "df_state.head(3)"
   ]
  },
  {
   "cell_type": "code",
   "execution_count": 3,
   "id": "a6432247-606b-4659-b5e0-3032e2fdf13c",
   "metadata": {},
   "outputs": [
    {
     "data": {
      "text/html": [
       "<div>\n",
       "<style scoped>\n",
       "    .dataframe tbody tr th:only-of-type {\n",
       "        vertical-align: middle;\n",
       "    }\n",
       "\n",
       "    .dataframe tbody tr th {\n",
       "        vertical-align: top;\n",
       "    }\n",
       "\n",
       "    .dataframe thead th {\n",
       "        text-align: right;\n",
       "    }\n",
       "</style>\n",
       "<table border=\"1\" class=\"dataframe\">\n",
       "  <thead>\n",
       "    <tr style=\"text-align: right;\">\n",
       "      <th></th>\n",
       "      <th>State Name</th>\n",
       "      <th>State</th>\n",
       "      <th>State FIPS</th>\n",
       "    </tr>\n",
       "  </thead>\n",
       "  <tbody>\n",
       "    <tr>\n",
       "      <th>54</th>\n",
       "      <td>Puerto Rico</td>\n",
       "      <td>PR</td>\n",
       "      <td>72</td>\n",
       "    </tr>\n",
       "    <tr>\n",
       "      <th>55</th>\n",
       "      <td>U.S. Minor Outlying Islands</td>\n",
       "      <td>UM</td>\n",
       "      <td>74</td>\n",
       "    </tr>\n",
       "    <tr>\n",
       "      <th>56</th>\n",
       "      <td>U.S. Virgin Islands</td>\n",
       "      <td>VI</td>\n",
       "      <td>78</td>\n",
       "    </tr>\n",
       "  </tbody>\n",
       "</table>\n",
       "</div>"
      ],
      "text/plain": [
       "                     State Name State  State FIPS\n",
       "54                  Puerto Rico    PR          72\n",
       "55  U.S. Minor Outlying Islands    UM          74\n",
       "56          U.S. Virgin Islands    VI          78"
      ]
     },
     "execution_count": 3,
     "metadata": {},
     "output_type": "execute_result"
    }
   ],
   "source": [
    "df_state.tail(3)"
   ]
  },
  {
   "cell_type": "code",
   "execution_count": 4,
   "id": "8bb2c636-3a99-4f80-9df2-cd85020f0b70",
   "metadata": {},
   "outputs": [
    {
     "data": {
      "text/plain": [
       "(57, 3)"
      ]
     },
     "execution_count": 4,
     "metadata": {},
     "output_type": "execute_result"
    }
   ],
   "source": [
    "df_state.shape"
   ]
  },
  {
   "cell_type": "markdown",
   "id": "429a26f6-a8c1-4f97-a1a6-7a1479f9a40f",
   "metadata": {},
   "source": [
    "Now we can do our usual search for data oddities, starting with a thorough search for missing values."
   ]
  },
  {
   "cell_type": "code",
   "execution_count": 5,
   "id": "c31bbc28-ab9e-4a39-b9a8-a32abcfe1776",
   "metadata": {},
   "outputs": [
    {
     "name": "stdout",
     "output_type": "stream",
     "text": [
      "<class 'pandas.core.frame.DataFrame'>\n",
      "RangeIndex: 57 entries, 0 to 56\n",
      "Data columns (total 3 columns):\n",
      " #   Column      Non-Null Count  Dtype \n",
      "---  ------      --------------  ----- \n",
      " 0   State Name  57 non-null     object\n",
      " 1   State       57 non-null     object\n",
      " 2   State FIPS  57 non-null     int64 \n",
      "dtypes: int64(1), object(2)\n",
      "memory usage: 1.5+ KB\n"
     ]
    }
   ],
   "source": [
    "df_state.info()"
   ]
  },
  {
   "cell_type": "markdown",
   "id": "f7e18e73-2c7a-4926-ae05-0f84a6eb860b",
   "metadata": {},
   "source": [
    "<!-- ****DOUBLE CHECK - do we want State FIPS as integer or string? Population data has GEOIDs as strings. What about shapefiles? Let's leave it for now.****\n",
    "\n",
    "Hmm. \"State\" and \"State Name\" are of type \"object\", which makes sense since our visual inspection makes it clear they are strings. State FIPS, however, is showing up as an integer type. This makes sense, but since our population data has GEOIDs formatted as strings, we'll follow its lead and change the dtype here, so we'll be able match on this column if needed in the future.  -->"
   ]
  },
  {
   "cell_type": "markdown",
   "id": "0aa353df-c1ec-4e19-91d4-f0f2f45cee7e",
   "metadata": {},
   "source": [
    "According to `.info()` our list has no null values, let's double check this using `.isna().sum().`"
   ]
  },
  {
   "cell_type": "code",
   "execution_count": 6,
   "id": "8ae7d0bc-d5e0-49e6-bee5-e27019e79c39",
   "metadata": {},
   "outputs": [
    {
     "data": {
      "text/plain": [
       "State Name    0\n",
       "State         0\n",
       "State FIPS    0\n",
       "dtype: int64"
      ]
     },
     "execution_count": 6,
     "metadata": {},
     "output_type": "execute_result"
    }
   ],
   "source": [
    "df_state.isna().sum()"
   ]
  },
  {
   "cell_type": "markdown",
   "id": "950b47ab-0b7f-45e3-a8db-e00149e4ce21",
   "metadata": {},
   "source": [
    "Lastly, let's confirm that our datatypes make sense. \"State Name\" and \"State\" column values are strings, so we want to see dtype \"object\" when we run `.dtypes`. State FIPS codes are integers, so we want to see an integer datatype below."
   ]
  },
  {
   "cell_type": "code",
   "execution_count": 7,
   "id": "65562fe2-022f-4836-93d1-04fcfd9c272f",
   "metadata": {},
   "outputs": [
    {
     "data": {
      "text/plain": [
       "State Name    object\n",
       "State         object\n",
       "State FIPS     int64\n",
       "dtype: object"
      ]
     },
     "execution_count": 7,
     "metadata": {},
     "output_type": "execute_result"
    }
   ],
   "source": [
    "df_state.dtypes"
   ]
  },
  {
   "cell_type": "markdown",
   "id": "2b72b876-eb85-4596-a33a-b51c1a3c72a6",
   "metadata": {},
   "source": [
    "Our dtypes looks good, so we're ready to move onto our list of county FIPS codes.  "
   ]
  },
  {
   "cell_type": "markdown",
   "id": "8d0f5683-6599-4337-80f5-8383d10b6f1b",
   "metadata": {},
   "source": [
    "## County FIPS codes\n",
    "\n",
    "Let's load as a DataFrame our list of County FIPS codes. Again, we'll include only the columns we need, reorder and rename them, and visually inspect the first and last few rows of our DataFrame."
   ]
  },
  {
   "cell_type": "code",
   "execution_count": 8,
   "id": "2f4a0d5b-8c9f-4896-bca4-33ef7d79c2c3",
   "metadata": {},
   "outputs": [
    {
     "data": {
      "text/html": [
       "<div>\n",
       "<style scoped>\n",
       "    .dataframe tbody tr th:only-of-type {\n",
       "        vertical-align: middle;\n",
       "    }\n",
       "\n",
       "    .dataframe tbody tr th {\n",
       "        vertical-align: top;\n",
       "    }\n",
       "\n",
       "    .dataframe thead th {\n",
       "        text-align: right;\n",
       "    }\n",
       "</style>\n",
       "<table border=\"1\" class=\"dataframe\">\n",
       "  <thead>\n",
       "    <tr style=\"text-align: right;\">\n",
       "      <th></th>\n",
       "      <th>State FIPS</th>\n",
       "      <th>County</th>\n",
       "      <th>County FIPS</th>\n",
       "    </tr>\n",
       "  </thead>\n",
       "  <tbody>\n",
       "    <tr>\n",
       "      <th>0</th>\n",
       "      <td>1</td>\n",
       "      <td>Autauga County</td>\n",
       "      <td>1</td>\n",
       "    </tr>\n",
       "    <tr>\n",
       "      <th>1</th>\n",
       "      <td>1</td>\n",
       "      <td>Baldwin County</td>\n",
       "      <td>3</td>\n",
       "    </tr>\n",
       "    <tr>\n",
       "      <th>2</th>\n",
       "      <td>1</td>\n",
       "      <td>Barbour County</td>\n",
       "      <td>5</td>\n",
       "    </tr>\n",
       "  </tbody>\n",
       "</table>\n",
       "</div>"
      ],
      "text/plain": [
       "   State FIPS          County  County FIPS\n",
       "0           1  Autauga County            1\n",
       "1           1  Baldwin County            3\n",
       "2           1  Barbour County            5"
      ]
     },
     "execution_count": 8,
     "metadata": {},
     "output_type": "execute_result"
    }
   ],
   "source": [
    "# this text file uses UTF-8 encoding \n",
    "file_national_county = os.path.join(data_archive_dir, 'national_county.txt')\n",
    "\n",
    "df_county = pd.read_csv(file_national_county,\n",
    "                        delimiter=\",\",\n",
    "                        usecols=['State ANSI', 'County ANSI', 'County Name'], # use only these columns\n",
    "                        encoding=\"utf-8\", # QUESTION: Patrick, this text file uses UTF-8 encoding, what should we use here?\n",
    "                        encoding_errors='ignore')[['State ANSI', 'County Name', 'County ANSI']] # reorder columns\n",
    "\n",
    "# rename columns\n",
    "df_county.columns = ['State FIPS', 'County', 'County FIPS']\n",
    "df_county.head(3)"
   ]
  },
  {
   "cell_type": "code",
   "execution_count": 9,
   "id": "d9751db7-2db7-461f-86a5-d7cc73282be2",
   "metadata": {},
   "outputs": [
    {
     "data": {
      "text/html": [
       "<div>\n",
       "<style scoped>\n",
       "    .dataframe tbody tr th:only-of-type {\n",
       "        vertical-align: middle;\n",
       "    }\n",
       "\n",
       "    .dataframe tbody tr th {\n",
       "        vertical-align: top;\n",
       "    }\n",
       "\n",
       "    .dataframe thead th {\n",
       "        text-align: right;\n",
       "    }\n",
       "</style>\n",
       "<table border=\"1\" class=\"dataframe\">\n",
       "  <thead>\n",
       "    <tr style=\"text-align: right;\">\n",
       "      <th></th>\n",
       "      <th>State FIPS</th>\n",
       "      <th>County</th>\n",
       "      <th>County FIPS</th>\n",
       "    </tr>\n",
       "  </thead>\n",
       "  <tbody>\n",
       "    <tr>\n",
       "      <th>3232</th>\n",
       "      <td>78</td>\n",
       "      <td>St. Croix Island</td>\n",
       "      <td>10</td>\n",
       "    </tr>\n",
       "    <tr>\n",
       "      <th>3233</th>\n",
       "      <td>78</td>\n",
       "      <td>St. John Island</td>\n",
       "      <td>20</td>\n",
       "    </tr>\n",
       "    <tr>\n",
       "      <th>3234</th>\n",
       "      <td>78</td>\n",
       "      <td>St. Thomas Island</td>\n",
       "      <td>30</td>\n",
       "    </tr>\n",
       "  </tbody>\n",
       "</table>\n",
       "</div>"
      ],
      "text/plain": [
       "      State FIPS             County  County FIPS\n",
       "3232          78   St. Croix Island           10\n",
       "3233          78    St. John Island           20\n",
       "3234          78  St. Thomas Island           30"
      ]
     },
     "execution_count": 9,
     "metadata": {},
     "output_type": "execute_result"
    }
   ],
   "source": [
    "df_county.tail(3)"
   ]
  },
  {
   "cell_type": "code",
   "execution_count": 10,
   "id": "5b55b940-74cb-4668-9aa5-bd848997f481",
   "metadata": {},
   "outputs": [
    {
     "data": {
      "text/plain": [
       "(3235, 3)"
      ]
     },
     "execution_count": 10,
     "metadata": {},
     "output_type": "execute_result"
    }
   ],
   "source": [
    "df_county.shape"
   ]
  },
  {
   "cell_type": "markdown",
   "id": "a25a16c0-88b1-44d6-a143-3ccd9dd68bd3",
   "metadata": {},
   "source": [
    "Let's proceed with our usual checks, first making sure there are no missing values."
   ]
  },
  {
   "cell_type": "code",
   "execution_count": 11,
   "id": "188c6733-49f5-48fd-baa3-7ab22e7d540d",
   "metadata": {},
   "outputs": [
    {
     "name": "stdout",
     "output_type": "stream",
     "text": [
      "<class 'pandas.core.frame.DataFrame'>\n",
      "RangeIndex: 3235 entries, 0 to 3234\n",
      "Data columns (total 3 columns):\n",
      " #   Column       Non-Null Count  Dtype \n",
      "---  ------       --------------  ----- \n",
      " 0   State FIPS   3235 non-null   int64 \n",
      " 1   County       3235 non-null   object\n",
      " 2   County FIPS  3235 non-null   int64 \n",
      "dtypes: int64(2), object(1)\n",
      "memory usage: 75.9+ KB\n"
     ]
    }
   ],
   "source": [
    "df_county.info()"
   ]
  },
  {
   "cell_type": "code",
   "execution_count": 12,
   "id": "9a7d784d-cee3-4067-8242-b51f52e202a5",
   "metadata": {},
   "outputs": [
    {
     "data": {
      "text/html": [
       "<div>\n",
       "<style scoped>\n",
       "    .dataframe tbody tr th:only-of-type {\n",
       "        vertical-align: middle;\n",
       "    }\n",
       "\n",
       "    .dataframe tbody tr th {\n",
       "        vertical-align: top;\n",
       "    }\n",
       "\n",
       "    .dataframe thead th {\n",
       "        text-align: right;\n",
       "    }\n",
       "</style>\n",
       "<table border=\"1\" class=\"dataframe\">\n",
       "  <thead>\n",
       "    <tr style=\"text-align: right;\">\n",
       "      <th></th>\n",
       "      <th>State FIPS</th>\n",
       "      <th>County</th>\n",
       "      <th>County FIPS</th>\n",
       "    </tr>\n",
       "  </thead>\n",
       "  <tbody>\n",
       "    <tr>\n",
       "      <th>0</th>\n",
       "      <td>False</td>\n",
       "      <td>False</td>\n",
       "      <td>False</td>\n",
       "    </tr>\n",
       "    <tr>\n",
       "      <th>1</th>\n",
       "      <td>False</td>\n",
       "      <td>False</td>\n",
       "      <td>False</td>\n",
       "    </tr>\n",
       "    <tr>\n",
       "      <th>2</th>\n",
       "      <td>False</td>\n",
       "      <td>False</td>\n",
       "      <td>False</td>\n",
       "    </tr>\n",
       "    <tr>\n",
       "      <th>3</th>\n",
       "      <td>False</td>\n",
       "      <td>False</td>\n",
       "      <td>False</td>\n",
       "    </tr>\n",
       "    <tr>\n",
       "      <th>4</th>\n",
       "      <td>False</td>\n",
       "      <td>False</td>\n",
       "      <td>False</td>\n",
       "    </tr>\n",
       "    <tr>\n",
       "      <th>...</th>\n",
       "      <td>...</td>\n",
       "      <td>...</td>\n",
       "      <td>...</td>\n",
       "    </tr>\n",
       "    <tr>\n",
       "      <th>3230</th>\n",
       "      <td>False</td>\n",
       "      <td>False</td>\n",
       "      <td>False</td>\n",
       "    </tr>\n",
       "    <tr>\n",
       "      <th>3231</th>\n",
       "      <td>False</td>\n",
       "      <td>False</td>\n",
       "      <td>False</td>\n",
       "    </tr>\n",
       "    <tr>\n",
       "      <th>3232</th>\n",
       "      <td>False</td>\n",
       "      <td>False</td>\n",
       "      <td>False</td>\n",
       "    </tr>\n",
       "    <tr>\n",
       "      <th>3233</th>\n",
       "      <td>False</td>\n",
       "      <td>False</td>\n",
       "      <td>False</td>\n",
       "    </tr>\n",
       "    <tr>\n",
       "      <th>3234</th>\n",
       "      <td>False</td>\n",
       "      <td>False</td>\n",
       "      <td>False</td>\n",
       "    </tr>\n",
       "  </tbody>\n",
       "</table>\n",
       "<p>3235 rows × 3 columns</p>\n",
       "</div>"
      ],
      "text/plain": [
       "      State FIPS  County  County FIPS\n",
       "0          False   False        False\n",
       "1          False   False        False\n",
       "2          False   False        False\n",
       "3          False   False        False\n",
       "4          False   False        False\n",
       "...          ...     ...          ...\n",
       "3230       False   False        False\n",
       "3231       False   False        False\n",
       "3232       False   False        False\n",
       "3233       False   False        False\n",
       "3234       False   False        False\n",
       "\n",
       "[3235 rows x 3 columns]"
      ]
     },
     "execution_count": 12,
     "metadata": {},
     "output_type": "execute_result"
    }
   ],
   "source": [
    "df_county.isna()"
   ]
  },
  {
   "cell_type": "code",
   "execution_count": 13,
   "id": "8ea03112-4cbe-4926-a4c5-50da1a0edb59",
   "metadata": {},
   "outputs": [
    {
     "data": {
      "text/plain": [
       "State FIPS     0\n",
       "County         0\n",
       "County FIPS    0\n",
       "dtype: int64"
      ]
     },
     "execution_count": 13,
     "metadata": {},
     "output_type": "execute_result"
    }
   ],
   "source": [
    "df_county.isna().sum()"
   ]
  },
  {
   "cell_type": "code",
   "execution_count": 14,
   "id": "9d4d5758-0f28-455b-83e4-22d7d36642c1",
   "metadata": {},
   "outputs": [
    {
     "data": {
      "text/plain": [
       "State FIPS      int64\n",
       "County         object\n",
       "County FIPS     int64\n",
       "dtype: object"
      ]
     },
     "execution_count": 14,
     "metadata": {},
     "output_type": "execute_result"
    }
   ],
   "source": [
    "df_county.dtypes"
   ]
  },
  {
   "cell_type": "markdown",
   "id": "990d2aa3-6b71-4fe7-a493-ad783b0b8c60",
   "metadata": {},
   "source": [
    "Let's add to *df_state_county* the \"State Names\" column from our *df_states* DataFrame and save it as a new DataFrame, *df_state_county*. We're including the full names because our data includes not just the states, but also the island territories, the 2-letter abbreviations for which may be less familiar. "
   ]
  },
  {
   "cell_type": "code",
   "execution_count": 15,
   "id": "4a0842dd-3efc-4ace-b989-7b4dc1907716",
   "metadata": {},
   "outputs": [
    {
     "data": {
      "text/html": [
       "<div>\n",
       "<style scoped>\n",
       "    .dataframe tbody tr th:only-of-type {\n",
       "        vertical-align: middle;\n",
       "    }\n",
       "\n",
       "    .dataframe tbody tr th {\n",
       "        vertical-align: top;\n",
       "    }\n",
       "\n",
       "    .dataframe thead th {\n",
       "        text-align: right;\n",
       "    }\n",
       "</style>\n",
       "<table border=\"1\" class=\"dataframe\">\n",
       "  <thead>\n",
       "    <tr style=\"text-align: right;\">\n",
       "      <th></th>\n",
       "      <th>State Name</th>\n",
       "      <th>State</th>\n",
       "      <th>State FIPS</th>\n",
       "      <th>County</th>\n",
       "      <th>County FIPS</th>\n",
       "    </tr>\n",
       "  </thead>\n",
       "  <tbody>\n",
       "    <tr>\n",
       "      <th>0</th>\n",
       "      <td>Alabama</td>\n",
       "      <td>AL</td>\n",
       "      <td>1</td>\n",
       "      <td>Autauga County</td>\n",
       "      <td>1</td>\n",
       "    </tr>\n",
       "    <tr>\n",
       "      <th>1</th>\n",
       "      <td>Alabama</td>\n",
       "      <td>AL</td>\n",
       "      <td>1</td>\n",
       "      <td>Baldwin County</td>\n",
       "      <td>3</td>\n",
       "    </tr>\n",
       "    <tr>\n",
       "      <th>2</th>\n",
       "      <td>Alabama</td>\n",
       "      <td>AL</td>\n",
       "      <td>1</td>\n",
       "      <td>Barbour County</td>\n",
       "      <td>5</td>\n",
       "    </tr>\n",
       "  </tbody>\n",
       "</table>\n",
       "</div>"
      ],
      "text/plain": [
       "  State Name State  State FIPS          County  County FIPS\n",
       "0    Alabama    AL           1  Autauga County            1\n",
       "1    Alabama    AL           1  Baldwin County            3\n",
       "2    Alabama    AL           1  Barbour County            5"
      ]
     },
     "execution_count": 15,
     "metadata": {},
     "output_type": "execute_result"
    }
   ],
   "source": [
    "df_state_county = pd.merge(df_state, df_county, on=['State FIPS'], how='left') \n",
    "df_state_county.head(3)"
   ]
  },
  {
   "cell_type": "markdown",
   "id": "17319575-e9f4-4cd1-91e8-45bf77215166",
   "metadata": {},
   "source": [
    "While we're pretty confident that our state names and abbreviations contain only standard ASCII characters, depending on the file format, it's possible that some county names include characters with diacritic marks. We want to ensure consistent treatment of these between files, which will become especially important if we need to perform merges on these columns at any point. So, let's check *df_state_county* for these now."
   ]
  },
  {
   "cell_type": "code",
   "execution_count": 16,
   "id": "34a97ab7-7558-4dfc-9e91-ba9df797ae03",
   "metadata": {},
   "outputs": [
    {
     "data": {
      "text/plain": [
       "(3235, 5)"
      ]
     },
     "execution_count": 16,
     "metadata": {},
     "output_type": "execute_result"
    }
   ],
   "source": [
    "df_state_county.shape"
   ]
  },
  {
   "cell_type": "code",
   "execution_count": 17,
   "id": "aaeb6f12-2161-4188-8b6f-19adcc8c4ecc",
   "metadata": {},
   "outputs": [],
   "source": [
    "# this function checks for characters with diacritics\n",
    "\n",
    "def is_non_ascii(value):\n",
    "    if type(value) != str:\n",
    "        return True\n",
    "    try:\n",
    "        value.encode('ascii')\n",
    "        return False\n",
    "    except:\n",
    "        return True"
   ]
  },
  {
   "cell_type": "code",
   "execution_count": 18,
   "id": "1a86bd7f-e6b6-4e5e-8413-61f03f2f43af",
   "metadata": {},
   "outputs": [
    {
     "data": {
      "text/html": [
       "<div>\n",
       "<style scoped>\n",
       "    .dataframe tbody tr th:only-of-type {\n",
       "        vertical-align: middle;\n",
       "    }\n",
       "\n",
       "    .dataframe tbody tr th {\n",
       "        vertical-align: top;\n",
       "    }\n",
       "\n",
       "    .dataframe thead th {\n",
       "        text-align: right;\n",
       "    }\n",
       "</style>\n",
       "<table border=\"1\" class=\"dataframe\">\n",
       "  <thead>\n",
       "    <tr style=\"text-align: right;\">\n",
       "      <th></th>\n",
       "      <th>State Name</th>\n",
       "      <th>State</th>\n",
       "      <th>State FIPS</th>\n",
       "      <th>County</th>\n",
       "      <th>County FIPS</th>\n",
       "    </tr>\n",
       "  </thead>\n",
       "  <tbody>\n",
       "  </tbody>\n",
       "</table>\n",
       "</div>"
      ],
      "text/plain": [
       "Empty DataFrame\n",
       "Columns: [State Name, State, State FIPS, County, County FIPS]\n",
       "Index: []"
      ]
     },
     "execution_count": 18,
     "metadata": {},
     "output_type": "execute_result"
    }
   ],
   "source": [
    "# call our function 'is_non_ascii' to check for characters \n",
    "# with diacritics    \n",
    "\n",
    "df_state_county.loc[ (df_state_county[\"State Name\"].apply(is_non_ascii)) | (df_state_county[\"County\"].apply(is_non_ascii)) ]"
   ]
  },
  {
   "cell_type": "markdown",
   "id": "1936aa33-92fd-47ac-9e8d-2bb61e1ee508",
   "metadata": {},
   "source": [
    "Good! No diacritics found in *df_state_county.* Let's move on to our \"places\" list."
   ]
  },
  {
   "cell_type": "code",
   "execution_count": 19,
   "id": "dd6e2427-24c2-4a3c-95d6-ac3249907d46",
   "metadata": {},
   "outputs": [
    {
     "data": {
      "text/html": [
       "<div>\n",
       "<style scoped>\n",
       "    .dataframe tbody tr th:only-of-type {\n",
       "        vertical-align: middle;\n",
       "    }\n",
       "\n",
       "    .dataframe tbody tr th {\n",
       "        vertical-align: top;\n",
       "    }\n",
       "\n",
       "    .dataframe thead th {\n",
       "        text-align: right;\n",
       "    }\n",
       "</style>\n",
       "<table border=\"1\" class=\"dataframe\">\n",
       "  <thead>\n",
       "    <tr style=\"text-align: right;\">\n",
       "      <th></th>\n",
       "      <th>State Name</th>\n",
       "      <th>State</th>\n",
       "      <th>State FIPS</th>\n",
       "      <th>County</th>\n",
       "      <th>County FIPS</th>\n",
       "    </tr>\n",
       "  </thead>\n",
       "  <tbody>\n",
       "    <tr>\n",
       "      <th>0</th>\n",
       "      <td>Alabama</td>\n",
       "      <td>AL</td>\n",
       "      <td>1</td>\n",
       "      <td>Autauga County</td>\n",
       "      <td>1</td>\n",
       "    </tr>\n",
       "    <tr>\n",
       "      <th>1</th>\n",
       "      <td>Alabama</td>\n",
       "      <td>AL</td>\n",
       "      <td>1</td>\n",
       "      <td>Baldwin County</td>\n",
       "      <td>3</td>\n",
       "    </tr>\n",
       "    <tr>\n",
       "      <th>2</th>\n",
       "      <td>Alabama</td>\n",
       "      <td>AL</td>\n",
       "      <td>1</td>\n",
       "      <td>Barbour County</td>\n",
       "      <td>5</td>\n",
       "    </tr>\n",
       "  </tbody>\n",
       "</table>\n",
       "</div>"
      ],
      "text/plain": [
       "  State Name State  State FIPS          County  County FIPS\n",
       "0    Alabama    AL           1  Autauga County            1\n",
       "1    Alabama    AL           1  Baldwin County            3\n",
       "2    Alabama    AL           1  Barbour County            5"
      ]
     },
     "execution_count": 19,
     "metadata": {},
     "output_type": "execute_result"
    }
   ],
   "source": [
    "df_state_county.head(3)"
   ]
  },
  {
   "cell_type": "code",
   "execution_count": 20,
   "id": "d9c2137d-81a5-4840-9997-93ae4df9c22a",
   "metadata": {},
   "outputs": [
    {
     "data": {
      "text/html": [
       "<div>\n",
       "<style scoped>\n",
       "    .dataframe tbody tr th:only-of-type {\n",
       "        vertical-align: middle;\n",
       "    }\n",
       "\n",
       "    .dataframe tbody tr th {\n",
       "        vertical-align: top;\n",
       "    }\n",
       "\n",
       "    .dataframe thead th {\n",
       "        text-align: right;\n",
       "    }\n",
       "</style>\n",
       "<table border=\"1\" class=\"dataframe\">\n",
       "  <thead>\n",
       "    <tr style=\"text-align: right;\">\n",
       "      <th></th>\n",
       "      <th>State Name</th>\n",
       "      <th>State</th>\n",
       "      <th>State FIPS</th>\n",
       "      <th>County</th>\n",
       "      <th>County FIPS</th>\n",
       "    </tr>\n",
       "  </thead>\n",
       "  <tbody>\n",
       "    <tr>\n",
       "      <th>3232</th>\n",
       "      <td>U.S. Virgin Islands</td>\n",
       "      <td>VI</td>\n",
       "      <td>78</td>\n",
       "      <td>St. Croix Island</td>\n",
       "      <td>10</td>\n",
       "    </tr>\n",
       "    <tr>\n",
       "      <th>3233</th>\n",
       "      <td>U.S. Virgin Islands</td>\n",
       "      <td>VI</td>\n",
       "      <td>78</td>\n",
       "      <td>St. John Island</td>\n",
       "      <td>20</td>\n",
       "    </tr>\n",
       "    <tr>\n",
       "      <th>3234</th>\n",
       "      <td>U.S. Virgin Islands</td>\n",
       "      <td>VI</td>\n",
       "      <td>78</td>\n",
       "      <td>St. Thomas Island</td>\n",
       "      <td>30</td>\n",
       "    </tr>\n",
       "  </tbody>\n",
       "</table>\n",
       "</div>"
      ],
      "text/plain": [
       "               State Name State  State FIPS             County  County FIPS\n",
       "3232  U.S. Virgin Islands    VI          78   St. Croix Island           10\n",
       "3233  U.S. Virgin Islands    VI          78    St. John Island           20\n",
       "3234  U.S. Virgin Islands    VI          78  St. Thomas Island           30"
      ]
     },
     "execution_count": 20,
     "metadata": {},
     "output_type": "execute_result"
    }
   ],
   "source": [
    "df_state_county.tail(3)"
   ]
  },
  {
   "cell_type": "markdown",
   "id": "81cfe6dd-15bc-4abb-ae88-b9d7df0fccc3",
   "metadata": {},
   "source": [
    "Looking good. Let's move on to our list of Place codes."
   ]
  },
  {
   "cell_type": "code",
   "execution_count": 21,
   "id": "529cea09-ff1f-4568-a753-c2c74cf9e159",
   "metadata": {},
   "outputs": [
    {
     "data": {
      "text/plain": [
       "(3235, 5)"
      ]
     },
     "execution_count": 21,
     "metadata": {},
     "output_type": "execute_result"
    }
   ],
   "source": [
    "df_state_county.shape"
   ]
  },
  {
   "cell_type": "code",
   "execution_count": 22,
   "id": "e6d3c829-2586-4048-afd8-3eb495e25b7e",
   "metadata": {},
   "outputs": [
    {
     "data": {
      "text/plain": [
       "State Name     object\n",
       "State          object\n",
       "State FIPS      int64\n",
       "County         object\n",
       "County FIPS     int64\n",
       "dtype: object"
      ]
     },
     "execution_count": 22,
     "metadata": {},
     "output_type": "execute_result"
    }
   ],
   "source": [
    "df_state_county.dtypes"
   ]
  },
  {
   "cell_type": "markdown",
   "id": "70a7bef4-a8fb-4405-a359-f8801fb0d677",
   "metadata": {
    "tags": []
   },
   "source": [
    "## Place FIPS Codes\n",
    "\n",
    "As per usual, we'll load our list as a DataFrame, rename and reorder columns, and inspect the first few rows. "
   ]
  },
  {
   "cell_type": "code",
   "execution_count": 23,
   "id": "f191066f-d6c6-4420-b720-587ce6e67cb2",
   "metadata": {},
   "outputs": [
    {
     "data": {
      "text/html": [
       "<div>\n",
       "<style scoped>\n",
       "    .dataframe tbody tr th:only-of-type {\n",
       "        vertical-align: middle;\n",
       "    }\n",
       "\n",
       "    .dataframe tbody tr th {\n",
       "        vertical-align: top;\n",
       "    }\n",
       "\n",
       "    .dataframe thead th {\n",
       "        text-align: right;\n",
       "    }\n",
       "</style>\n",
       "<table border=\"1\" class=\"dataframe\">\n",
       "  <thead>\n",
       "    <tr style=\"text-align: right;\">\n",
       "      <th></th>\n",
       "      <th>State</th>\n",
       "      <th>State FIPS</th>\n",
       "      <th>Place</th>\n",
       "      <th>Place FIPS</th>\n",
       "      <th>County</th>\n",
       "    </tr>\n",
       "  </thead>\n",
       "  <tbody>\n",
       "    <tr>\n",
       "      <th>0</th>\n",
       "      <td>AL</td>\n",
       "      <td>1</td>\n",
       "      <td>Abanda CDP</td>\n",
       "      <td>100</td>\n",
       "      <td>Chambers County</td>\n",
       "    </tr>\n",
       "    <tr>\n",
       "      <th>1</th>\n",
       "      <td>AL</td>\n",
       "      <td>1</td>\n",
       "      <td>Abbeville city</td>\n",
       "      <td>124</td>\n",
       "      <td>Henry County</td>\n",
       "    </tr>\n",
       "    <tr>\n",
       "      <th>2</th>\n",
       "      <td>AL</td>\n",
       "      <td>1</td>\n",
       "      <td>Adamsville city</td>\n",
       "      <td>460</td>\n",
       "      <td>Jefferson County</td>\n",
       "    </tr>\n",
       "    <tr>\n",
       "      <th>3</th>\n",
       "      <td>AL</td>\n",
       "      <td>1</td>\n",
       "      <td>Addison town</td>\n",
       "      <td>484</td>\n",
       "      <td>Winston County</td>\n",
       "    </tr>\n",
       "    <tr>\n",
       "      <th>4</th>\n",
       "      <td>AL</td>\n",
       "      <td>1</td>\n",
       "      <td>Akron town</td>\n",
       "      <td>676</td>\n",
       "      <td>Hale County</td>\n",
       "    </tr>\n",
       "  </tbody>\n",
       "</table>\n",
       "</div>"
      ],
      "text/plain": [
       "  State  State FIPS            Place  Place FIPS            County\n",
       "0    AL           1       Abanda CDP         100   Chambers County\n",
       "1    AL           1   Abbeville city         124      Henry County\n",
       "2    AL           1  Adamsville city         460  Jefferson County\n",
       "3    AL           1     Addison town         484    Winston County\n",
       "4    AL           1       Akron town         676       Hale County"
      ]
     },
     "execution_count": 23,
     "metadata": {},
     "output_type": "execute_result"
    }
   ],
   "source": [
    "# this text file uses ANSI encoding\n",
    "file_place = os.path.join(data_archive_dir, 'PLACElist.txt')\n",
    "\n",
    "df_place = pd.read_csv(file_place, \n",
    "                       delimiter=\"|\", \n",
    "                       usecols=['STATE', 'STATEFP', 'PLACEFP', 'PLACENAME', 'COUNTY'], # use only these columns\n",
    "                       encoding=\"iso-8859-1\" # QUESTION: Patrick, this txt file uses ANSI encoding, what should we use here?\n",
    "                       )[['STATE','STATEFP', 'PLACENAME', 'PLACEFP', 'COUNTY']] # reorder columns\n",
    "#encoding_errors='ignore'\n",
    "df_place.rename(columns={'STATE': 'State', 'STATEFP': 'State FIPS', 'PLACENAME': 'Place', 'PLACEFP': 'Place FIPS', 'COUNTY': 'County'}, inplace=True) # rename columns\n",
    "                         \n",
    "df_place.head() "
   ]
  },
  {
   "cell_type": "code",
   "execution_count": 24,
   "id": "d58bc4fb-484b-4eca-b96b-4ce01dcad349",
   "metadata": {},
   "outputs": [
    {
     "data": {
      "text/html": [
       "<div>\n",
       "<style scoped>\n",
       "    .dataframe tbody tr th:only-of-type {\n",
       "        vertical-align: middle;\n",
       "    }\n",
       "\n",
       "    .dataframe tbody tr th {\n",
       "        vertical-align: top;\n",
       "    }\n",
       "\n",
       "    .dataframe thead th {\n",
       "        text-align: right;\n",
       "    }\n",
       "</style>\n",
       "<table border=\"1\" class=\"dataframe\">\n",
       "  <thead>\n",
       "    <tr style=\"text-align: right;\">\n",
       "      <th></th>\n",
       "      <th>State</th>\n",
       "      <th>State FIPS</th>\n",
       "      <th>Place</th>\n",
       "      <th>Place FIPS</th>\n",
       "      <th>County</th>\n",
       "    </tr>\n",
       "  </thead>\n",
       "  <tbody>\n",
       "    <tr>\n",
       "      <th>41409</th>\n",
       "      <td>PR</td>\n",
       "      <td>72</td>\n",
       "      <td>Vieques zona urbana</td>\n",
       "      <td>86014</td>\n",
       "      <td>Vieques Municipio</td>\n",
       "    </tr>\n",
       "    <tr>\n",
       "      <th>41410</th>\n",
       "      <td>PR</td>\n",
       "      <td>72</td>\n",
       "      <td>Villalba zona urbana</td>\n",
       "      <td>86831</td>\n",
       "      <td>Villalba Municipio</td>\n",
       "    </tr>\n",
       "    <tr>\n",
       "      <th>41411</th>\n",
       "      <td>PR</td>\n",
       "      <td>72</td>\n",
       "      <td>Yabucoa zona urbana</td>\n",
       "      <td>87863</td>\n",
       "      <td>Yabucoa Municipio</td>\n",
       "    </tr>\n",
       "    <tr>\n",
       "      <th>41412</th>\n",
       "      <td>PR</td>\n",
       "      <td>72</td>\n",
       "      <td>Yauco zona urbana</td>\n",
       "      <td>88035</td>\n",
       "      <td>Yauco Municipio</td>\n",
       "    </tr>\n",
       "    <tr>\n",
       "      <th>41413</th>\n",
       "      <td>PR</td>\n",
       "      <td>72</td>\n",
       "      <td>Yaurel comunidad</td>\n",
       "      <td>88121</td>\n",
       "      <td>Arroyo Municipio</td>\n",
       "    </tr>\n",
       "  </tbody>\n",
       "</table>\n",
       "</div>"
      ],
      "text/plain": [
       "      State  State FIPS                 Place  Place FIPS              County\n",
       "41409    PR          72   Vieques zona urbana       86014   Vieques Municipio\n",
       "41410    PR          72  Villalba zona urbana       86831  Villalba Municipio\n",
       "41411    PR          72   Yabucoa zona urbana       87863   Yabucoa Municipio\n",
       "41412    PR          72     Yauco zona urbana       88035     Yauco Municipio\n",
       "41413    PR          72      Yaurel comunidad       88121    Arroyo Municipio"
      ]
     },
     "execution_count": 24,
     "metadata": {},
     "output_type": "execute_result"
    }
   ],
   "source": [
    "df_place.tail()  "
   ]
  },
  {
   "cell_type": "code",
   "execution_count": 25,
   "id": "38b25c07-ca96-4c24-8db7-b864ecc8cd43",
   "metadata": {},
   "outputs": [
    {
     "data": {
      "text/plain": [
       "(41414, 5)"
      ]
     },
     "execution_count": 25,
     "metadata": {},
     "output_type": "execute_result"
    }
   ],
   "source": [
    "df_place.shape"
   ]
  },
  {
   "cell_type": "code",
   "execution_count": 26,
   "id": "1af01f84-69e1-47e7-92e5-46728c28bfd5",
   "metadata": {},
   "outputs": [
    {
     "data": {
      "text/plain": [
       "State         object\n",
       "State FIPS     int64\n",
       "Place         object\n",
       "Place FIPS     int64\n",
       "County        object\n",
       "dtype: object"
      ]
     },
     "execution_count": 26,
     "metadata": {},
     "output_type": "execute_result"
    }
   ],
   "source": [
    "df_place.dtypes"
   ]
  },
  {
   "cell_type": "markdown",
   "id": "3d7cad2f-f1d4-428d-a3b8-234c28a1a513",
   "metadata": {},
   "source": [
    "While all of our state names contain only standard ASCII characters, depening on how the file is formatted, it's possible that some place or county names include characters with diacritic marks. Let's take a look."
   ]
  },
  {
   "cell_type": "code",
   "execution_count": 27,
   "id": "5177f464-e15c-4da6-879b-815f118d36b7",
   "metadata": {},
   "outputs": [
    {
     "data": {
      "text/html": [
       "<div>\n",
       "<style scoped>\n",
       "    .dataframe tbody tr th:only-of-type {\n",
       "        vertical-align: middle;\n",
       "    }\n",
       "\n",
       "    .dataframe tbody tr th {\n",
       "        vertical-align: top;\n",
       "    }\n",
       "\n",
       "    .dataframe thead th {\n",
       "        text-align: right;\n",
       "    }\n",
       "</style>\n",
       "<table border=\"1\" class=\"dataframe\">\n",
       "  <thead>\n",
       "    <tr style=\"text-align: right;\">\n",
       "      <th></th>\n",
       "      <th>State</th>\n",
       "      <th>State FIPS</th>\n",
       "      <th>Place</th>\n",
       "      <th>Place FIPS</th>\n",
       "      <th>County</th>\n",
       "    </tr>\n",
       "  </thead>\n",
       "  <tbody>\n",
       "    <tr>\n",
       "      <th>2599</th>\n",
       "      <td>CA</td>\n",
       "      <td>6</td>\n",
       "      <td>La Cañada Flintridge city</td>\n",
       "      <td>39003</td>\n",
       "      <td>Los Angeles County</td>\n",
       "    </tr>\n",
       "    <tr>\n",
       "      <th>2982</th>\n",
       "      <td>CA</td>\n",
       "      <td>6</td>\n",
       "      <td>Piñon Hills CDP</td>\n",
       "      <td>57302</td>\n",
       "      <td>San Bernardino County</td>\n",
       "    </tr>\n",
       "    <tr>\n",
       "      <th>3506</th>\n",
       "      <td>CO</td>\n",
       "      <td>8</td>\n",
       "      <td>Cañon City city</td>\n",
       "      <td>11810</td>\n",
       "      <td>Fremont County</td>\n",
       "    </tr>\n",
       "    <tr>\n",
       "      <th>22545</th>\n",
       "      <td>NM</td>\n",
       "      <td>35</td>\n",
       "      <td>Anthony CDP</td>\n",
       "      <td>3820</td>\n",
       "      <td>Doña Ana County</td>\n",
       "    </tr>\n",
       "    <tr>\n",
       "      <th>22561</th>\n",
       "      <td>NM</td>\n",
       "      <td>35</td>\n",
       "      <td>Berino CDP</td>\n",
       "      <td>6830</td>\n",
       "      <td>Doña Ana County</td>\n",
       "    </tr>\n",
       "    <tr>\n",
       "      <th>...</th>\n",
       "      <td>...</td>\n",
       "      <td>...</td>\n",
       "      <td>...</td>\n",
       "      <td>...</td>\n",
       "      <td>...</td>\n",
       "    </tr>\n",
       "    <tr>\n",
       "      <th>41395</th>\n",
       "      <td>PR</td>\n",
       "      <td>72</td>\n",
       "      <td>Tallaboa comunidad</td>\n",
       "      <td>81413</td>\n",
       "      <td>Peñuelas Municipio</td>\n",
       "    </tr>\n",
       "    <tr>\n",
       "      <th>41396</th>\n",
       "      <td>PR</td>\n",
       "      <td>72</td>\n",
       "      <td>Tallaboa Alta comunidad</td>\n",
       "      <td>81456</td>\n",
       "      <td>Peñuelas Municipio</td>\n",
       "    </tr>\n",
       "    <tr>\n",
       "      <th>41399</th>\n",
       "      <td>PR</td>\n",
       "      <td>72</td>\n",
       "      <td>Tierras Nuevas Poniente comunidad</td>\n",
       "      <td>82187</td>\n",
       "      <td>Manatí Municipio</td>\n",
       "    </tr>\n",
       "    <tr>\n",
       "      <th>41405</th>\n",
       "      <td>PR</td>\n",
       "      <td>72</td>\n",
       "      <td>Vázquez comunidad</td>\n",
       "      <td>85111</td>\n",
       "      <td>Salinas Municipio</td>\n",
       "    </tr>\n",
       "    <tr>\n",
       "      <th>41408</th>\n",
       "      <td>PR</td>\n",
       "      <td>72</td>\n",
       "      <td>Vieques comunidad</td>\n",
       "      <td>85971</td>\n",
       "      <td>Loíza Municipio</td>\n",
       "    </tr>\n",
       "  </tbody>\n",
       "</table>\n",
       "<p>120 rows × 5 columns</p>\n",
       "</div>"
      ],
      "text/plain": [
       "      State  State FIPS                              Place  Place FIPS  \\\n",
       "2599     CA           6          La Cañada Flintridge city       39003   \n",
       "2982     CA           6                    Piñon Hills CDP       57302   \n",
       "3506     CO           8                    Cañon City city       11810   \n",
       "22545    NM          35                        Anthony CDP        3820   \n",
       "22561    NM          35                         Berino CDP        6830   \n",
       "...     ...         ...                                ...         ...   \n",
       "41395    PR          72                 Tallaboa comunidad       81413   \n",
       "41396    PR          72            Tallaboa Alta comunidad       81456   \n",
       "41399    PR          72  Tierras Nuevas Poniente comunidad       82187   \n",
       "41405    PR          72                  Vázquez comunidad       85111   \n",
       "41408    PR          72                  Vieques comunidad       85971   \n",
       "\n",
       "                      County  \n",
       "2599      Los Angeles County  \n",
       "2982   San Bernardino County  \n",
       "3506          Fremont County  \n",
       "22545        Doña Ana County  \n",
       "22561        Doña Ana County  \n",
       "...                      ...  \n",
       "41395     Peñuelas Municipio  \n",
       "41396     Peñuelas Municipio  \n",
       "41399       Manatí Municipio  \n",
       "41405      Salinas Municipio  \n",
       "41408        Loíza Municipio  \n",
       "\n",
       "[120 rows x 5 columns]"
      ]
     },
     "execution_count": 27,
     "metadata": {},
     "output_type": "execute_result"
    }
   ],
   "source": [
    "# this checks for characters with diacritics\n",
    "\n",
    "def is_non_ascii(value):\n",
    "    if type(value) != str:\n",
    "        return True\n",
    "    try:\n",
    "        value.encode('ascii')\n",
    "        return False\n",
    "    except:\n",
    "        return True\n",
    "    \n",
    "df_place.loc[ (df_place[\"County\"].apply(is_non_ascii)) | (df_place[\"Place\"].apply(is_non_ascii)) ]"
   ]
  },
  {
   "cell_type": "markdown",
   "id": "13f50f6c-0210-49d0-a636-d6b7dc941dfd",
   "metadata": {},
   "source": [
    "Looks like there are more than a few diacritics in *df_place*! Now that we've confirmed their presence, let's address them by mapping them to their closest approximate in the English 26 letter alphabet. "
   ]
  },
  {
   "cell_type": "code",
   "execution_count": 28,
   "id": "af34a6a3-3f7b-49ee-b086-66cd5af7e18d",
   "metadata": {},
   "outputs": [],
   "source": [
    "import json\n",
    "\n",
    "# open a json file of characters with diacritics mapped to their\n",
    "# closest approximate in the English alphabet\n",
    "# create a dictionary of these character mappings\n",
    "diacritic_mapping_file = os.path.join(data_dir,\"util/diacritic_translate.json\")\n",
    "with open(diacritic_mapping_file, \"r\") as mapping_file:\n",
    "    diac_char_map = json.load(mapping_file)\n",
    "\n",
    "# # now we need the integer ordinal of each character to use with \n",
    "# pandas Series str.translate    \n",
    "# create an empty dictionary to store these\n",
    "diac_ord_map = dict()\n",
    "\n",
    "# iterate over the entries in the character mappings dictionary\n",
    "for k,v in diac_char_map.items():\n",
    "    # populate the ordinal dict with the ordinals\n",
    "    # of each key => value character\n",
    "    diac_ord_map[ord(k)] = ord(v)"
   ]
  },
  {
   "cell_type": "code",
   "execution_count": 29,
   "id": "58860c37-f757-4edf-8dce-bea0f5135ee4",
   "metadata": {},
   "outputs": [],
   "source": [
    "# use pandas Series.str.trannslate to translate all our County and Place names\n",
    "# with diacritics\n",
    "df_place['County'] = df_place['County'].str.translate(diac_ord_map)\n",
    "df_place['Place'] = df_place['Place'].str.translate(diac_ord_map)"
   ]
  },
  {
   "cell_type": "code",
   "execution_count": 30,
   "id": "77504bc3-caeb-4a29-9ec5-2324bfa0c858",
   "metadata": {},
   "outputs": [
    {
     "data": {
      "text/html": [
       "<div>\n",
       "<style scoped>\n",
       "    .dataframe tbody tr th:only-of-type {\n",
       "        vertical-align: middle;\n",
       "    }\n",
       "\n",
       "    .dataframe tbody tr th {\n",
       "        vertical-align: top;\n",
       "    }\n",
       "\n",
       "    .dataframe thead th {\n",
       "        text-align: right;\n",
       "    }\n",
       "</style>\n",
       "<table border=\"1\" class=\"dataframe\">\n",
       "  <thead>\n",
       "    <tr style=\"text-align: right;\">\n",
       "      <th></th>\n",
       "      <th>State</th>\n",
       "      <th>State FIPS</th>\n",
       "      <th>Place</th>\n",
       "      <th>Place FIPS</th>\n",
       "      <th>County</th>\n",
       "    </tr>\n",
       "  </thead>\n",
       "  <tbody>\n",
       "    <tr>\n",
       "      <th>2599</th>\n",
       "      <td>CA</td>\n",
       "      <td>6</td>\n",
       "      <td>La Canada Flintridge city</td>\n",
       "      <td>39003</td>\n",
       "      <td>Los Angeles County</td>\n",
       "    </tr>\n",
       "  </tbody>\n",
       "</table>\n",
       "</div>"
      ],
      "text/plain": [
       "     State  State FIPS                      Place  Place FIPS  \\\n",
       "2599    CA           6  La Canada Flintridge city       39003   \n",
       "\n",
       "                  County  \n",
       "2599  Los Angeles County  "
      ]
     },
     "execution_count": 30,
     "metadata": {},
     "output_type": "execute_result"
    }
   ],
   "source": [
    "# let's confirm that our character replacement worked by checking \n",
    "# a row we know contained a diacritic in the \"Place\" column\n",
    "df_place.loc[df_place['Place FIPS'] == 39003]"
   ]
  },
  {
   "cell_type": "code",
   "execution_count": 31,
   "id": "6f70d5ae-1d8d-439d-952b-beddb055d39d",
   "metadata": {},
   "outputs": [
    {
     "data": {
      "text/html": [
       "<div>\n",
       "<style scoped>\n",
       "    .dataframe tbody tr th:only-of-type {\n",
       "        vertical-align: middle;\n",
       "    }\n",
       "\n",
       "    .dataframe tbody tr th {\n",
       "        vertical-align: top;\n",
       "    }\n",
       "\n",
       "    .dataframe thead th {\n",
       "        text-align: right;\n",
       "    }\n",
       "</style>\n",
       "<table border=\"1\" class=\"dataframe\">\n",
       "  <thead>\n",
       "    <tr style=\"text-align: right;\">\n",
       "      <th></th>\n",
       "      <th>State</th>\n",
       "      <th>State FIPS</th>\n",
       "      <th>Place</th>\n",
       "      <th>Place FIPS</th>\n",
       "      <th>County</th>\n",
       "    </tr>\n",
       "  </thead>\n",
       "  <tbody>\n",
       "    <tr>\n",
       "      <th>41395</th>\n",
       "      <td>PR</td>\n",
       "      <td>72</td>\n",
       "      <td>Tallaboa comunidad</td>\n",
       "      <td>81413</td>\n",
       "      <td>Penuelas Municipio</td>\n",
       "    </tr>\n",
       "  </tbody>\n",
       "</table>\n",
       "</div>"
      ],
      "text/plain": [
       "      State  State FIPS               Place  Place FIPS              County\n",
       "41395    PR          72  Tallaboa comunidad       81413  Penuelas Municipio"
      ]
     },
     "execution_count": 31,
     "metadata": {},
     "output_type": "execute_result"
    }
   ],
   "source": [
    "# let's check another row we know contained \n",
    "# a diacritic in the \"County\" column\n",
    "df_place.loc[df_place['Place FIPS'] == 81413]"
   ]
  },
  {
   "cell_type": "code",
   "execution_count": 32,
   "id": "ae2aec19-fd39-4beb-b2d4-0d14a85567eb",
   "metadata": {},
   "outputs": [
    {
     "data": {
      "text/plain": [
       "(41414, 5)"
      ]
     },
     "execution_count": 32,
     "metadata": {},
     "output_type": "execute_result"
    }
   ],
   "source": [
    "df_place.shape"
   ]
  },
  {
   "cell_type": "code",
   "execution_count": 33,
   "id": "6f61cc6c-7880-43ea-b9fa-61ce09195b6f",
   "metadata": {},
   "outputs": [
    {
     "data": {
      "text/plain": [
       "State         object\n",
       "State FIPS     int64\n",
       "Place         object\n",
       "Place FIPS     int64\n",
       "County        object\n",
       "dtype: object"
      ]
     },
     "execution_count": 33,
     "metadata": {},
     "output_type": "execute_result"
    }
   ],
   "source": [
    "df_place.dtypes"
   ]
  },
  {
   "cell_type": "code",
   "execution_count": 34,
   "id": "f6a9b50e-3b5e-4ed2-ac96-fb69c9897c41",
   "metadata": {},
   "outputs": [
    {
     "data": {
      "text/html": [
       "<div>\n",
       "<style scoped>\n",
       "    .dataframe tbody tr th:only-of-type {\n",
       "        vertical-align: middle;\n",
       "    }\n",
       "\n",
       "    .dataframe tbody tr th {\n",
       "        vertical-align: top;\n",
       "    }\n",
       "\n",
       "    .dataframe thead th {\n",
       "        text-align: right;\n",
       "    }\n",
       "</style>\n",
       "<table border=\"1\" class=\"dataframe\">\n",
       "  <thead>\n",
       "    <tr style=\"text-align: right;\">\n",
       "      <th></th>\n",
       "      <th>State Name</th>\n",
       "      <th>State</th>\n",
       "      <th>State FIPS</th>\n",
       "      <th>Place</th>\n",
       "      <th>Place FIPS</th>\n",
       "      <th>County</th>\n",
       "    </tr>\n",
       "  </thead>\n",
       "  <tbody>\n",
       "    <tr>\n",
       "      <th>0</th>\n",
       "      <td>Alabama</td>\n",
       "      <td>AL</td>\n",
       "      <td>1</td>\n",
       "      <td>Abanda CDP</td>\n",
       "      <td>100</td>\n",
       "      <td>Chambers County</td>\n",
       "    </tr>\n",
       "    <tr>\n",
       "      <th>1</th>\n",
       "      <td>Alabama</td>\n",
       "      <td>AL</td>\n",
       "      <td>1</td>\n",
       "      <td>Abbeville city</td>\n",
       "      <td>124</td>\n",
       "      <td>Henry County</td>\n",
       "    </tr>\n",
       "    <tr>\n",
       "      <th>2</th>\n",
       "      <td>Alabama</td>\n",
       "      <td>AL</td>\n",
       "      <td>1</td>\n",
       "      <td>Adamsville city</td>\n",
       "      <td>460</td>\n",
       "      <td>Jefferson County</td>\n",
       "    </tr>\n",
       "    <tr>\n",
       "      <th>3</th>\n",
       "      <td>Alabama</td>\n",
       "      <td>AL</td>\n",
       "      <td>1</td>\n",
       "      <td>Addison town</td>\n",
       "      <td>484</td>\n",
       "      <td>Winston County</td>\n",
       "    </tr>\n",
       "    <tr>\n",
       "      <th>4</th>\n",
       "      <td>Alabama</td>\n",
       "      <td>AL</td>\n",
       "      <td>1</td>\n",
       "      <td>Akron town</td>\n",
       "      <td>676</td>\n",
       "      <td>Hale County</td>\n",
       "    </tr>\n",
       "  </tbody>\n",
       "</table>\n",
       "</div>"
      ],
      "text/plain": [
       "  State Name State  State FIPS            Place  Place FIPS            County\n",
       "0    Alabama    AL           1       Abanda CDP         100   Chambers County\n",
       "1    Alabama    AL           1   Abbeville city         124      Henry County\n",
       "2    Alabama    AL           1  Adamsville city         460  Jefferson County\n",
       "3    Alabama    AL           1     Addison town         484    Winston County\n",
       "4    Alabama    AL           1       Akron town         676       Hale County"
      ]
     },
     "execution_count": 34,
     "metadata": {},
     "output_type": "execute_result"
    }
   ],
   "source": [
    "# df_place = pd.merge(df_place, df_state_county ) \n",
    "df_place = pd.merge(df_place, df_state) \n",
    "df_place = df_place[['State Name', 'State', 'State FIPS', 'Place', 'Place FIPS', 'County',]] # reorder columns\n",
    "df_place.head()"
   ]
  },
  {
   "cell_type": "markdown",
   "id": "1c893e78-b186-42aa-9cb9-b1299c63208a",
   "metadata": {},
   "source": [
    "Our spot checks look good. Let's probe our data a bit more, running `.info()` to detect other pieces of data that might need some attention. "
   ]
  },
  {
   "cell_type": "code",
   "execution_count": 35,
   "id": "6f414836-c42e-4714-be8a-fa9e88f0756e",
   "metadata": {},
   "outputs": [
    {
     "data": {
      "text/plain": [
       "State Name    object\n",
       "State         object\n",
       "State FIPS     int64\n",
       "Place         object\n",
       "Place FIPS     int64\n",
       "County        object\n",
       "dtype: object"
      ]
     },
     "execution_count": 35,
     "metadata": {},
     "output_type": "execute_result"
    }
   ],
   "source": [
    "df_place.dtypes"
   ]
  },
  {
   "cell_type": "code",
   "execution_count": 36,
   "id": "13e843f5-a6f1-4b81-b326-723ad1c95939",
   "metadata": {},
   "outputs": [
    {
     "data": {
      "text/plain": [
       "(41414, 6)"
      ]
     },
     "execution_count": 36,
     "metadata": {},
     "output_type": "execute_result"
    }
   ],
   "source": [
    "df_place.shape"
   ]
  },
  {
   "cell_type": "code",
   "execution_count": 37,
   "id": "c58dc87e-c7f8-4c08-bccf-0a1ffbaa8abe",
   "metadata": {},
   "outputs": [
    {
     "name": "stdout",
     "output_type": "stream",
     "text": [
      "<class 'pandas.core.frame.DataFrame'>\n",
      "Int64Index: 41414 entries, 0 to 41413\n",
      "Data columns (total 6 columns):\n",
      " #   Column      Non-Null Count  Dtype \n",
      "---  ------      --------------  ----- \n",
      " 0   State Name  41414 non-null  object\n",
      " 1   State       41414 non-null  object\n",
      " 2   State FIPS  41414 non-null  int64 \n",
      " 3   Place       41414 non-null  object\n",
      " 4   Place FIPS  41414 non-null  int64 \n",
      " 5   County      41414 non-null  object\n",
      "dtypes: int64(2), object(4)\n",
      "memory usage: 2.2+ MB\n"
     ]
    }
   ],
   "source": [
    "df_place.info() # any missing values"
   ]
  },
  {
   "cell_type": "code",
   "execution_count": 38,
   "id": "2760fdad-513b-4f51-92bd-0a754a16af26",
   "metadata": {},
   "outputs": [
    {
     "data": {
      "text/plain": [
       "State Name    0\n",
       "State         0\n",
       "State FIPS    0\n",
       "Place         0\n",
       "Place FIPS    0\n",
       "County        0\n",
       "dtype: int64"
      ]
     },
     "execution_count": 38,
     "metadata": {},
     "output_type": "execute_result"
    }
   ],
   "source": [
    "df_place.isna().sum() # another check for missing values"
   ]
  },
  {
   "cell_type": "markdown",
   "id": "fbc49738-a375-42ba-aa28-2afc07473a42",
   "metadata": {},
   "source": [
    "Looks good! No missing values. Now let's confirm that our  datatypes make sense."
   ]
  },
  {
   "cell_type": "code",
   "execution_count": 39,
   "id": "586e3489-ff5e-4fd1-8a05-c4f470ca8b2f",
   "metadata": {},
   "outputs": [
    {
     "data": {
      "text/plain": [
       "State Name    object\n",
       "State         object\n",
       "State FIPS     int64\n",
       "Place         object\n",
       "Place FIPS     int64\n",
       "County        object\n",
       "dtype: object"
      ]
     },
     "execution_count": 39,
     "metadata": {},
     "output_type": "execute_result"
    }
   ],
   "source": [
    "df_place.dtypes # do our datatypes make sense?"
   ]
  },
  {
   "cell_type": "markdown",
   "id": "62d66bd3-0a7e-435f-9f4b-03f771e62d62",
   "metadata": {},
   "source": [
    "Since we'll be paying close attention to New York City in our initial mapping exercise, let's see what the geographic data for this \"place\" looks like."
   ]
  },
  {
   "cell_type": "code",
   "execution_count": 40,
   "id": "4424b254-40f4-4628-8f30-f8a866fd2d29",
   "metadata": {},
   "outputs": [
    {
     "data": {
      "text/html": [
       "<div>\n",
       "<style scoped>\n",
       "    .dataframe tbody tr th:only-of-type {\n",
       "        vertical-align: middle;\n",
       "    }\n",
       "\n",
       "    .dataframe tbody tr th {\n",
       "        vertical-align: top;\n",
       "    }\n",
       "\n",
       "    .dataframe thead th {\n",
       "        text-align: right;\n",
       "    }\n",
       "</style>\n",
       "<table border=\"1\" class=\"dataframe\">\n",
       "  <thead>\n",
       "    <tr style=\"text-align: right;\">\n",
       "      <th></th>\n",
       "      <th>State Name</th>\n",
       "      <th>State</th>\n",
       "      <th>State FIPS</th>\n",
       "      <th>Place</th>\n",
       "      <th>Place FIPS</th>\n",
       "      <th>County</th>\n",
       "    </tr>\n",
       "  </thead>\n",
       "  <tbody>\n",
       "    <tr>\n",
       "      <th>17317</th>\n",
       "      <td>Minnesota</td>\n",
       "      <td>MN</td>\n",
       "      <td>27</td>\n",
       "      <td>New York Mills city</td>\n",
       "      <td>46060</td>\n",
       "      <td>Otter Tail County</td>\n",
       "    </tr>\n",
       "    <tr>\n",
       "      <th>17318</th>\n",
       "      <td>Minnesota</td>\n",
       "      <td>MN</td>\n",
       "      <td>27</td>\n",
       "      <td>New York Mills city</td>\n",
       "      <td>46060</td>\n",
       "      <td>Otter Tail County</td>\n",
       "    </tr>\n",
       "    <tr>\n",
       "      <th>24316</th>\n",
       "      <td>New York</td>\n",
       "      <td>NY</td>\n",
       "      <td>36</td>\n",
       "      <td>New York city</td>\n",
       "      <td>51000</td>\n",
       "      <td>Bronx County, Kings County, New York County, Queens County, Richmond County</td>\n",
       "    </tr>\n",
       "    <tr>\n",
       "      <th>24317</th>\n",
       "      <td>New York</td>\n",
       "      <td>NY</td>\n",
       "      <td>36</td>\n",
       "      <td>New York Mills village</td>\n",
       "      <td>51011</td>\n",
       "      <td>Oneida County</td>\n",
       "    </tr>\n",
       "  </tbody>\n",
       "</table>\n",
       "</div>"
      ],
      "text/plain": [
       "      State Name State  State FIPS                   Place  Place FIPS  \\\n",
       "17317  Minnesota    MN          27     New York Mills city       46060   \n",
       "17318  Minnesota    MN          27     New York Mills city       46060   \n",
       "24316   New York    NY          36           New York city       51000   \n",
       "24317   New York    NY          36  New York Mills village       51011   \n",
       "\n",
       "                                                                            County  \n",
       "17317                                                            Otter Tail County  \n",
       "17318                                                            Otter Tail County  \n",
       "24316  Bronx County, Kings County, New York County, Queens County, Richmond County  \n",
       "24317                                                                Oneida County  "
      ]
     },
     "execution_count": 40,
     "metadata": {},
     "output_type": "execute_result"
    }
   ],
   "source": [
    "df_place.loc[df_place['Place'].str.startswith(\"New York\")]"
   ]
  },
  {
   "cell_type": "markdown",
   "id": "cacc4dfc-7610-4c98-ab80-06b83e9659bd",
   "metadata": {},
   "source": [
    "Strangely, the word \"city\" in the name \"New York city\" is not capitalized. Let's change this throughout our DataFrame, so that every place name is in titlecase. "
   ]
  },
  {
   "cell_type": "code",
   "execution_count": 41,
   "id": "b368a017-1775-4b8a-9b19-4190501822a0",
   "metadata": {},
   "outputs": [
    {
     "data": {
      "text/html": [
       "<div>\n",
       "<style scoped>\n",
       "    .dataframe tbody tr th:only-of-type {\n",
       "        vertical-align: middle;\n",
       "    }\n",
       "\n",
       "    .dataframe tbody tr th {\n",
       "        vertical-align: top;\n",
       "    }\n",
       "\n",
       "    .dataframe thead th {\n",
       "        text-align: right;\n",
       "    }\n",
       "</style>\n",
       "<table border=\"1\" class=\"dataframe\">\n",
       "  <thead>\n",
       "    <tr style=\"text-align: right;\">\n",
       "      <th></th>\n",
       "      <th>State Name</th>\n",
       "      <th>State</th>\n",
       "      <th>State FIPS</th>\n",
       "      <th>Place</th>\n",
       "      <th>Place FIPS</th>\n",
       "      <th>County</th>\n",
       "    </tr>\n",
       "  </thead>\n",
       "  <tbody>\n",
       "    <tr>\n",
       "      <th>24316</th>\n",
       "      <td>New York</td>\n",
       "      <td>NY</td>\n",
       "      <td>36</td>\n",
       "      <td>New York City</td>\n",
       "      <td>51000</td>\n",
       "      <td>Bronx County, Kings County, New York County, Queens County, Richmond County</td>\n",
       "    </tr>\n",
       "  </tbody>\n",
       "</table>\n",
       "</div>"
      ],
      "text/plain": [
       "      State Name State  State FIPS          Place  Place FIPS  \\\n",
       "24316   New York    NY          36  New York City       51000   \n",
       "\n",
       "                                                                            County  \n",
       "24316  Bronx County, Kings County, New York County, Queens County, Richmond County  "
      ]
     },
     "execution_count": 41,
     "metadata": {},
     "output_type": "execute_result"
    }
   ],
   "source": [
    "df_place['Place'] = df_place['Place'].str.title()\n",
    "df_place.loc[df_place['Place'] == (\"New York City\")]"
   ]
  },
  {
   "cell_type": "markdown",
   "id": "a056bff6-5682-4d53-b668-747e69b12748",
   "metadata": {},
   "source": [
    "Done. We now have a clean nationwide DataFrame of State and County FIPS codes, as well as Place FIPS codes and have saved both as .csv files. "
   ]
  },
  {
   "cell_type": "code",
   "execution_count": 42,
   "id": "1df17a94-024e-4b3f-a304-a045b09ecb60",
   "metadata": {},
   "outputs": [
    {
     "data": {
      "text/html": [
       "<div>\n",
       "<style scoped>\n",
       "    .dataframe tbody tr th:only-of-type {\n",
       "        vertical-align: middle;\n",
       "    }\n",
       "\n",
       "    .dataframe tbody tr th {\n",
       "        vertical-align: top;\n",
       "    }\n",
       "\n",
       "    .dataframe thead th {\n",
       "        text-align: right;\n",
       "    }\n",
       "</style>\n",
       "<table border=\"1\" class=\"dataframe\">\n",
       "  <thead>\n",
       "    <tr style=\"text-align: right;\">\n",
       "      <th></th>\n",
       "      <th>State Name</th>\n",
       "      <th>State</th>\n",
       "      <th>State FIPS</th>\n",
       "      <th>County</th>\n",
       "      <th>County FIPS</th>\n",
       "    </tr>\n",
       "  </thead>\n",
       "  <tbody>\n",
       "    <tr>\n",
       "      <th>0</th>\n",
       "      <td>Alabama</td>\n",
       "      <td>AL</td>\n",
       "      <td>1</td>\n",
       "      <td>Autauga County</td>\n",
       "      <td>1</td>\n",
       "    </tr>\n",
       "    <tr>\n",
       "      <th>1</th>\n",
       "      <td>Alabama</td>\n",
       "      <td>AL</td>\n",
       "      <td>1</td>\n",
       "      <td>Baldwin County</td>\n",
       "      <td>3</td>\n",
       "    </tr>\n",
       "    <tr>\n",
       "      <th>2</th>\n",
       "      <td>Alabama</td>\n",
       "      <td>AL</td>\n",
       "      <td>1</td>\n",
       "      <td>Barbour County</td>\n",
       "      <td>5</td>\n",
       "    </tr>\n",
       "    <tr>\n",
       "      <th>3</th>\n",
       "      <td>Alabama</td>\n",
       "      <td>AL</td>\n",
       "      <td>1</td>\n",
       "      <td>Bibb County</td>\n",
       "      <td>7</td>\n",
       "    </tr>\n",
       "    <tr>\n",
       "      <th>4</th>\n",
       "      <td>Alabama</td>\n",
       "      <td>AL</td>\n",
       "      <td>1</td>\n",
       "      <td>Blount County</td>\n",
       "      <td>9</td>\n",
       "    </tr>\n",
       "  </tbody>\n",
       "</table>\n",
       "</div>"
      ],
      "text/plain": [
       "  State Name State  State FIPS          County  County FIPS\n",
       "0    Alabama    AL           1  Autauga County            1\n",
       "1    Alabama    AL           1  Baldwin County            3\n",
       "2    Alabama    AL           1  Barbour County            5\n",
       "3    Alabama    AL           1     Bibb County            7\n",
       "4    Alabama    AL           1   Blount County            9"
      ]
     },
     "execution_count": 42,
     "metadata": {},
     "output_type": "execute_result"
    }
   ],
   "source": [
    "clean_codes_file = os.path.join(clean_data_dir,'codes.csv')\n",
    "\n",
    "df_state_county.to_csv(clean_codes_file)\n",
    "df_state_county.head()"
   ]
  },
  {
   "cell_type": "code",
   "execution_count": 43,
   "id": "abd5e235-2539-41e4-a3ee-b49d287de6eb",
   "metadata": {},
   "outputs": [
    {
     "data": {
      "text/html": [
       "<div>\n",
       "<style scoped>\n",
       "    .dataframe tbody tr th:only-of-type {\n",
       "        vertical-align: middle;\n",
       "    }\n",
       "\n",
       "    .dataframe tbody tr th {\n",
       "        vertical-align: top;\n",
       "    }\n",
       "\n",
       "    .dataframe thead th {\n",
       "        text-align: right;\n",
       "    }\n",
       "</style>\n",
       "<table border=\"1\" class=\"dataframe\">\n",
       "  <thead>\n",
       "    <tr style=\"text-align: right;\">\n",
       "      <th></th>\n",
       "      <th>State Name</th>\n",
       "      <th>State</th>\n",
       "      <th>State FIPS</th>\n",
       "      <th>Place</th>\n",
       "      <th>Place FIPS</th>\n",
       "      <th>County</th>\n",
       "    </tr>\n",
       "  </thead>\n",
       "  <tbody>\n",
       "    <tr>\n",
       "      <th>0</th>\n",
       "      <td>Alabama</td>\n",
       "      <td>AL</td>\n",
       "      <td>1</td>\n",
       "      <td>Abanda Cdp</td>\n",
       "      <td>100</td>\n",
       "      <td>Chambers County</td>\n",
       "    </tr>\n",
       "    <tr>\n",
       "      <th>1</th>\n",
       "      <td>Alabama</td>\n",
       "      <td>AL</td>\n",
       "      <td>1</td>\n",
       "      <td>Abbeville City</td>\n",
       "      <td>124</td>\n",
       "      <td>Henry County</td>\n",
       "    </tr>\n",
       "    <tr>\n",
       "      <th>2</th>\n",
       "      <td>Alabama</td>\n",
       "      <td>AL</td>\n",
       "      <td>1</td>\n",
       "      <td>Adamsville City</td>\n",
       "      <td>460</td>\n",
       "      <td>Jefferson County</td>\n",
       "    </tr>\n",
       "    <tr>\n",
       "      <th>3</th>\n",
       "      <td>Alabama</td>\n",
       "      <td>AL</td>\n",
       "      <td>1</td>\n",
       "      <td>Addison Town</td>\n",
       "      <td>484</td>\n",
       "      <td>Winston County</td>\n",
       "    </tr>\n",
       "    <tr>\n",
       "      <th>4</th>\n",
       "      <td>Alabama</td>\n",
       "      <td>AL</td>\n",
       "      <td>1</td>\n",
       "      <td>Akron Town</td>\n",
       "      <td>676</td>\n",
       "      <td>Hale County</td>\n",
       "    </tr>\n",
       "  </tbody>\n",
       "</table>\n",
       "</div>"
      ],
      "text/plain": [
       "  State Name State  State FIPS            Place  Place FIPS            County\n",
       "0    Alabama    AL           1       Abanda Cdp         100   Chambers County\n",
       "1    Alabama    AL           1   Abbeville City         124      Henry County\n",
       "2    Alabama    AL           1  Adamsville City         460  Jefferson County\n",
       "3    Alabama    AL           1     Addison Town         484    Winston County\n",
       "4    Alabama    AL           1       Akron Town         676       Hale County"
      ]
     },
     "execution_count": 43,
     "metadata": {},
     "output_type": "execute_result"
    }
   ],
   "source": [
    "clean_place_file = os.path.join(clean_data_dir,'place.csv')\n",
    "\n",
    "df_place.to_csv(clean_place_file)\n",
    "df_place.head()"
   ]
  },
  {
   "cell_type": "code",
   "execution_count": 44,
   "id": "03ccbb59-9b2d-4b2c-bdbb-89aa9f45550e",
   "metadata": {},
   "outputs": [],
   "source": [
    "clean_place_file_pq = os.path.join(clean_data_dir,'place.parquet')\n",
    "df_place.to_parquet(clean_place_file_pq, compression='BROTLI')"
   ]
  }
 ],
 "metadata": {
  "kernelspec": {
   "display_name": "Python 3 (ipykernel)",
   "language": "python",
   "name": "python3"
  },
  "language_info": {
   "codemirror_mode": {
    "name": "ipython",
    "version": 3
   },
   "file_extension": ".py",
   "mimetype": "text/x-python",
   "name": "python",
   "nbconvert_exporter": "python",
   "pygments_lexer": "ipython3",
   "version": "3.8.10"
  }
 },
 "nbformat": 4,
 "nbformat_minor": 5
}
