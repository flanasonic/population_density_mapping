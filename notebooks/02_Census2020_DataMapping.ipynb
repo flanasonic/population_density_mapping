{
 "cells": [
  {
   "cell_type": "markdown",
   "id": "943e7775-31cf-43cf-95cb-77b18fe7f1d0",
   "metadata": {},
   "source": [
    "### 2. Mapping US Census population data"
   ]
  },
  {
   "cell_type": "markdown",
   "id": "0d8b0fd0-3625-485b-8c43-b8a6c4940f20",
   "metadata": {},
   "source": [
    "We're going to build a tile-map choropleth map (as opposed to an outline-based choropleth.) A choropleth is a map made of different colored polygons, where each color represents a different quantity or range of quantities. We'll use the Plotly library and Mapbox map."
   ]
  },
  {
   "cell_type": "markdown",
   "id": "2f46326a-20c5-4247-b927-e8dae08f1ad1",
   "metadata": {},
   "source": [
    "We'll need a GeoJSON file containing \n",
    "\n",
    "- geometry information for US Census Tracts, \"GEOID Tract\" column of our *df_census_pop* DataFrame - will be feature.id\n",
    "- population density for US Census Tracts, \"Population Density\" column - will be list of values indexed by feature identifier \n"
   ]
  },
  {
   "cell_type": "markdown",
   "id": "2c020412-7491-4d98-b7cf-0b092acb8fa6",
   "metadata": {},
   "source": [
    "Here we load a GeoJSON file containing the geometry information for US Census Tracts"
   ]
  },
  {
   "cell_type": "markdown",
   "id": "c9aa7e87-547a-45f7-b1a9-586d999a1b28",
   "metadata": {},
   "source": [
    "Libraries\n",
    "\n",
    "- geopandas - for reading and visualizing spatial data, it will let us bring in geojson files\n",
    "- contextily - provides basemaps, will helps us make our maps prettier"
   ]
  },
  {
   "cell_type": "code",
   "execution_count": null,
   "id": "7e1a66ba-35ef-466f-8d64-73503f8867b7",
   "metadata": {},
   "outputs": [],
   "source": [
    "import json\n",
    "# open df_census_pop as geojson"
   ]
  }
 ],
 "metadata": {
  "kernelspec": {
   "display_name": "Python 3 (ipykernel)",
   "language": "python",
   "name": "python3"
  },
  "language_info": {
   "codemirror_mode": {
    "name": "ipython",
    "version": 3
   },
   "file_extension": ".py",
   "mimetype": "text/x-python",
   "name": "python",
   "nbconvert_exporter": "python",
   "pygments_lexer": "ipython3",
   "version": "3.9.0"
  }
 },
 "nbformat": 4,
 "nbformat_minor": 5
}
