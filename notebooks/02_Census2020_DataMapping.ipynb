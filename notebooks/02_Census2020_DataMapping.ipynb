{
 "cells": [
  {
   "cell_type": "markdown",
   "id": "943e7775-31cf-43cf-95cb-77b18fe7f1d0",
   "metadata": {},
   "source": [
    "### 2. Mapping US Census population data"
   ]
  },
  {
   "cell_type": "markdown",
   "id": "c9aa7e87-547a-45f7-b1a9-586d999a1b28",
   "metadata": {},
   "source": [
    "In progress. More to follow..."
   ]
  },
  {
   "cell_type": "markdown",
   "id": "0d8b0fd0-3625-485b-8c43-b8a6c4940f20",
   "metadata": {},
   "source": [
    "To visually represent our population data, we're going to build a choropleth. A choropleth  is a map made of different colored polygons, where each color represents a different quantity or range of quantities. Specifically, we're going to build a tile-map choropleth (as opposed to an outline-based choropleth.) "
   ]
  },
  {
   "cell_type": "markdown",
   "id": "2f46326a-20c5-4247-b927-e8dae08f1ad1",
   "metadata": {},
   "source": [
    "To do this, we'll need a GeoJSON file containing: \n",
    "\n",
    "- geometry information for US Census Tracts, \"GEOID Tract\" column of our *df_census_pop* DataFrame - will be feature.id\n",
    "- population density for US Census Tracts, \"Population Density\" column - will be list of values indexed by feature identifier \n"
   ]
  },
  {
   "cell_type": "markdown",
   "id": "a16aec08-2911-4078-af5f-e91b5504f20c",
   "metadata": {},
   "source": [
    "Here are the steps we followed to get the data."
   ]
  },
  {
   "cell_type": "markdown",
   "id": "d5ad27a1-8e24-4ede-874b-ec758c9b3a14",
   "metadata": {},
   "source": [
    "1. Download the shape files. [Explain here what shape files are] (The files are enormous and we wanted all of them, so we got some help speeding up the FTP download. More about that to follow…) \n",
    "\n",
    "URL: https://www.census.gov/geographies/mapping-files/time-series/geo/tiger-line-file.2020.html\n",
    "\n",
    "2020 Census Redistricting Data (P.L. 94-171) Shapefiles\n",
    "Download FTP archive by state."
   ]
  },
  {
   "cell_type": "markdown",
   "id": "eea4bb66-d168-4bb1-bbac-661096061be4",
   "metadata": {},
   "source": [
    "Before we go any further, let’s make sense of this mass of zip files we just downloaded. We’ve got 78 of them, one for each state (or state equivalent, such as Puerto Rico or the U.S. Virgin Islands). Each file name contains a 2-digit number, which is the FIPS code for that state. [Link to FIPS code DataFrame]  For example, 36 is the FIPS code for NY, so our NY state file is named “tl_2020_36_tract.zip”.\n",
    "\n",
    "Inside each zip is a collection of several more files containing geographic (but no demographic) information for the Census Tracts within that state. Fortunately, the GeoPandas library is going to turn them into GeoJSON files, so we do not need to examine the individual files."
   ]
  },
  {
   "cell_type": "markdown",
   "id": "94d6a939-e13c-4a3f-bcba-8acfdd8baa63",
   "metadata": {},
   "source": [
    "2. Use GeoPandas to turn our shape files into GeoJSON files. \n",
    "\n",
    "(In preparation, we’ve installed some libraries... )\n",
    "\n",
    "GeoJSON is a format for storing a variety of geographic data and is based on JSON. We know that JSON is format for storing data. Similar to a Python dictionaries, it uses key value pairs. Dictionaries can be nested."
   ]
  },
  {
   "cell_type": "markdown",
   "id": "0aaf2e8a-2db3-4035-9d92-081e97c7c614",
   "metadata": {},
   "source": [
    "Now that we have the lay of the land and our shapefiles as GeoJSON, let's take a look at some actual data. We'll use the NY State file as our example. (Why NY state? Because we live here and know there are several commercial indoor farms right near us and we’re eager to learn more about they fit into the bigger picture of Indoor Farming in the US.) \n",
    "\n",
    "Let’s go ahead and open our NY file, “tl_2020_36_tract.json”, in Jupyter. We see a bunch of dictionaries nested inside other dictionairies. We can use the “features” key to access the subdictionaries containing census tract ifno. Each census tract dictionary has its own ID key, but we’ll actually be using the GEOID keys as our identifiers, because they conveniently correspond to the “GEOID Census Tract” column in the dataframe that contains are population density calculasions, *df_census_pop* dataframe. "
   ]
  },
  {
   "cell_type": "markdown",
   "id": "2c020412-7491-4d98-b7cf-0b092acb8fa6",
   "metadata": {
    "tags": []
   },
   "source": [
    "Here we load a GeoJSON file containing the geometry information for US Census Tracts..."
   ]
  },
  {
   "cell_type": "code",
   "execution_count": null,
   "id": "e0668747-7db8-42e2-a62a-58aa6185cbdb",
   "metadata": {},
   "outputs": [],
   "source": []
  }
 ],
 "metadata": {
  "kernelspec": {
   "display_name": "Python 3 (ipykernel)",
   "language": "python",
   "name": "python3"
  },
  "language_info": {
   "codemirror_mode": {
    "name": "ipython",
    "version": 3
   },
   "file_extension": ".py",
   "mimetype": "text/x-python",
   "name": "python",
   "nbconvert_exporter": "python",
   "pygments_lexer": "ipython3",
   "version": "3.9.0"
  }
 },
 "nbformat": 4,
 "nbformat_minor": 5
}
