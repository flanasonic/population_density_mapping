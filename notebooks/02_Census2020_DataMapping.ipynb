{
 "cells": [
  {
   "cell_type": "markdown",
   "id": "943e7775-31cf-43cf-95cb-77b18fe7f1d0",
   "metadata": {},
   "source": [
    "### 2. Mapping US Census population data"
   ]
  },
  {
   "cell_type": "markdown",
   "id": "c9aa7e87-547a-45f7-b1a9-586d999a1b28",
   "metadata": {},
   "source": [
    "In progress. More to follow..."
   ]
  },
  {
   "cell_type": "markdown",
   "id": "0d8b0fd0-3625-485b-8c43-b8a6c4940f20",
   "metadata": {},
   "source": [
    "To visually represent our population data, we're going to build a choropleth. Specifically, we're going to build a tile-map choropleth (as opposed to an outline-based choropleth.) "
   ]
  },
  {
   "cell_type": "markdown",
   "id": "2f46326a-20c5-4247-b927-e8dae08f1ad1",
   "metadata": {},
   "source": [
    "In order to do this, we'll need the following information in the form of a GeoJSON file: \n",
    "\n",
    "- geometry information for US Census Tracts, \"GEOID Tract\" column of our *df_census_pop* DataFrame - will be feature.id\n",
    "- population density for US Census Tracts, \"Population Density\" column - will be list of values indexed by feature identifier \n"
   ]
  },
  {
   "cell_type": "markdown",
   "id": "a16aec08-2911-4078-af5f-e91b5504f20c",
   "metadata": {},
   "source": [
    "Here are the steps we'll follow to get the data."
   ]
  },
  {
   "cell_type": "markdown",
   "id": "d5ad27a1-8e24-4ede-874b-ec758c9b3a14",
   "metadata": {},
   "source": [
    "1. Download the 2020 Census Redistricting Data Shapefiles (P.L. 94-171) [from Census.gov](https://www.census.gov/geographies/mapping-files/time-series/geo/tiger-line-file.2020.html). \n",
    "\n",
    "These files contain the info we'll need to map the US Census Tracts. To access the full set of Shapefiles for Census Tracts throughout all fifty states and the territories, we select FTP Archive by Layer > Tract > 2020, which takes us [here](https://www2.census.gov/geo/tiger/TIGER2020PL/LAYER/TRACT/2020/). (The files are enormous and since I wanted every last one, I recruited some help to speed things up. More about that to follow…) "
   ]
  },
  {
   "cell_type": "markdown",
   "id": "eea4bb66-d168-4bb1-bbac-661096061be4",
   "metadata": {},
   "source": [
    "2. Make sense of this mass of zip files we just downloaded. \n",
    "\n",
    "Before we go any further, let’s make sure we understand what we're dealing with. We’ve got 78 files - one for each state/territory. Each file name contains a 2-digit number, the FIPS code used to represent that state. [Link to FIPS code DataFrame]  For example, 36 is the FIPS code for NY, so our NY state file is named “tl_2020_36_tract.zip”. \n",
    "\n",
    "Inside each zip file is a collection of related files containing geographic (but no demographic) information for the Census Tracts within that state. Fortunately, the GeoPandas library is going to turn them into GeoJSON files, so we do not need to examine the individual files."
   ]
  },
  {
   "cell_type": "markdown",
   "id": "94d6a939-e13c-4a3f-bcba-8acfdd8baa63",
   "metadata": {},
   "source": [
    "3. Use GeoPandas to turn our shape files into GeoJSON files. \n",
    "\n",
    "(In preparation, we’ve installed some libraries... )"
   ]
  },
  {
   "cell_type": "markdown",
   "id": "0aaf2e8a-2db3-4035-9d92-081e97c7c614",
   "metadata": {},
   "source": [
    "4. Look at some data\n",
    "\n",
    "Now that we have the lay of the land and our shapefiles as GeoJSON, we can take a look at some actual data! We'll use the NY State file, “tl_2020_36_tract.json”, as our example. (Why NY state? Because we live here and know there are several commercial indoor farms right near us and we’re eager to learn more about they fit into the bigger picture of Indoor Farming in the US.) Let's go ahead and load this GeoJSON file.\n",
    "\n",
    "Inside our file, we see a bunch of dictionaries nested inside other dictionairies. We'll be using the “features” key to access the subdictionaries containing the census tract info we want. Each census tract dictionary has its own ID key, but we’ll actually be using the GEOID keys as our identifiers because they  correspond to the “GEOID Census Tract” column in our *df_census_pop* dataframe. "
   ]
  },
  {
   "cell_type": "code",
   "execution_count": 3,
   "id": "aa8414d1-cf68-42a5-8b82-48b6e4dbf028",
   "metadata": {
    "tags": []
   },
   "outputs": [
    {
     "ename": "ModuleNotFoundError",
     "evalue": "No module named 'geopandas'",
     "output_type": "error",
     "traceback": [
      "\u001b[1;31m---------------------------------------------------------------------------\u001b[0m",
      "\u001b[1;31mModuleNotFoundError\u001b[0m                       Traceback (most recent call last)",
      "Input \u001b[1;32mIn [3]\u001b[0m, in \u001b[0;36m<cell line: 2>\u001b[1;34m()\u001b[0m\n\u001b[0;32m      1\u001b[0m \u001b[38;5;66;03m# the code to open our GeoJSOn file using the...\u001b[39;00m\n\u001b[1;32m----> 2\u001b[0m \u001b[38;5;28;01mimport\u001b[39;00m \u001b[38;5;21;01mgeopandas\u001b[39;00m \u001b[38;5;28;01mas\u001b[39;00m \u001b[38;5;21;01mgp\u001b[39;00m\n",
      "\u001b[1;31mModuleNotFoundError\u001b[0m: No module named 'geopandas'"
     ]
    }
   ],
   "source": [
    "# the code to open our GeoJSOn file using the...\n",
    "import geopandas as gp\n"
   ]
  },
  {
   "cell_type": "markdown",
   "id": "c938bcd5-f8df-4005-8630-5baf21ce2965",
   "metadata": {},
   "source": [
    "FAQ\n",
    "\n",
    "**Choropleth**\n",
    "A choropleth  is a map made of different colored polygons, where each color represents a different quantity or range of quantities. \n",
    "\n",
    "**Shapefile**\n",
    "A standardize file format for storing geospatial information, including geometry (coordinates) and attributes of geographic features, needed to create maps. \n",
    "\n",
    "**TIGER?**\n",
    "TIGER, also referred to as MAF/TIGER, is the Census Bureau's geographic database system. The acronym MAF/TIGER stands for Master Address. File/Topologically Integrated Geographic Encoding and Referencing. \n",
    "\n",
    "**GeoJSON** \n",
    "A format for storing a variety of geographic data and is based on JSON. We know that JSON is format for storing data. Similar to a Python dictionaries, it uses key value pairs. Dictionaries can be nested.\n",
    "\n",
    "**Which areas do the TIGER/Line shapefiles describe?**\n",
    "Shapefiles are available for the fifty states, District of Columbia, Puerto Rico, and the Island areas (American Samoa, the Commonwealth of the Northern\n",
    "Mariana Islands, Guam, and the United States Virgin Islands).\n",
    "\n"
   ]
  },
  {
   "cell_type": "code",
   "execution_count": null,
   "id": "c7a4bdea-81cb-41b3-b5f7-e94e2a3b5cec",
   "metadata": {},
   "outputs": [],
   "source": []
  }
 ],
 "metadata": {
  "kernelspec": {
   "display_name": "Python 3 (ipykernel)",
   "language": "python",
   "name": "python3"
  },
  "language_info": {
   "codemirror_mode": {
    "name": "ipython",
    "version": 3
   },
   "file_extension": ".py",
   "mimetype": "text/x-python",
   "name": "python",
   "nbconvert_exporter": "python",
   "pygments_lexer": "ipython3",
   "version": "3.9.0"
  }
 },
 "nbformat": 4,
 "nbformat_minor": 5
}
