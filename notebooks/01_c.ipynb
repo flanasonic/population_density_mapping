{
 "cells": [
  {
   "cell_type": "markdown",
   "id": "115626da-bc91-4fe6-ab8d-21f3f90779d4",
   "metadata": {},
   "source": [
    "# Geographic Data\n",
    "\n",
    "The Census Bureau provides geographic information in shapefile format. The goal of this notebook is to produce from these a clean GEO DataFrame of NY census tracts complete with population density and a second of NY state places."
   ]
  },
  {
   "cell_type": "markdown",
   "id": "b704c9a6-3f32-447a-8ad0-ef05f797c78c",
   "metadata": {},
   "source": [
    "### Data sources\n",
    "\n",
    "Files downloaded from Census Bureau FTP server via FTP client, file locations provided below.\n",
    "\n",
    "*2020 Census Redistricting Data (P.L. 94-171) Shapefiles - census tract level, NY State*\n",
    "* file location: ftp2.census.gov/geo/tiger/TIGER2020PL/LAYER/TRACT/2020\n",
    "* file names beginning with \"tl_2020_36\" (NY State FIPS code is 36)\n",
    "\n",
    "*2020 Census Redistricting Data (P.L. 94-171) Shapefiles - places level, NY State*\n",
    "* file location: ftp2.census.gov/geo/tiger/TIGER2020PL/LAYER/PLACE/2020\n",
    "* file name: tl_2020_36_place20.zip  (36 for NY State)"
   ]
  },
  {
   "cell_type": "markdown",
   "id": "7cc93fac-2a20-4298-a3a6-a9b0a73cd301",
   "metadata": {},
   "source": [
    "### Code to help manage our file paths\n",
    "The code below is used in each notebook of this project to make it easier to refer to the folders where our various data files are stored."
   ]
  },
  {
   "cell_type": "code",
   "execution_count": 1,
   "id": "aca45ffb-a2a1-401a-9ea0-16241432ea0f",
   "metadata": {},
   "outputs": [],
   "source": [
    "import os, pathlib\n",
    "base_dir = pathlib.Path(os.getcwd()).parent\n",
    "data_archive_dir = os.path.join(base_dir, \"data_archive\")\n",
    "clean_data_dir = os.path.join(data_archive_dir, \"clean\")\n",
    "data_dir = os.path.join(base_dir, \"data\")\n",
    "shapes_dir = os.path.join(data_dir,\"shapes\")\n",
    "json_dir = os.path.join(data_dir,\"geojson\")"
   ]
  },
  {
   "cell_type": "markdown",
   "id": "38e63665-b8be-4534-8171-493c685235e1",
   "metadata": {},
   "source": [
    "## NY State census tract geographic data"
   ]
  },
  {
   "cell_type": "markdown",
   "id": "65c6727f-fa6b-4647-b27d-a43bbcc6c4c8",
   "metadata": {},
   "source": [
    " Let's load the NY State Census Tract shapefiles as a GEO DataFrame and call it *geodf_tract_ny*."
   ]
  },
  {
   "cell_type": "code",
   "execution_count": 2,
   "id": "0812ff95-7bbe-4fc3-adc6-902f5f714e9d",
   "metadata": {},
   "outputs": [],
   "source": [
    "big_ny_shapefile = os.path.join(shapes_dir,\"tiger2020PL_NY_tracts/tl_2020_36_tract20.zip\") # provide the full path to our shapefiles\n",
    "small_clean_shapefile = \"../data_archive/clean/tl_2020_36_tract20.parquet\"\n",
    "\n",
    "# Uses the geopandas function read_file to grab our file\n",
    "import geopandas as gpd\n",
    "geodf_tract_ny = gpd.read_file(big_ny_shapefile)[['STATEFP20', 'COUNTYFP20', 'TRACTCE20', 'GEOID20', 'ALAND20', 'geometry']] \n",
    "\n",
    "import pyarrow as pa\n",
    "import warnings; \n",
    "warnings.filterwarnings('ignore', message='.*initial implementation of Parquet.*')\n",
    "geodf_tract_ny.to_parquet(small_clean_shapefile, index=False, compression='BROTLI')\n",
    "    #= pa.Table.from_pandas(ny_shapes_df, preserve_index=False)"
   ]
  },
  {
   "cell_type": "code",
   "execution_count": 3,
   "id": "984e081b-5f61-4e80-9b58-fd14336b0f5a",
   "metadata": {},
   "outputs": [
    {
     "data": {
      "text/plain": [
       "(5411, 6)"
      ]
     },
     "execution_count": 3,
     "metadata": {},
     "output_type": "execute_result"
    }
   ],
   "source": [
    "# Rename the columns\n",
    "geodf_tract_ny = geodf_tract_ny.rename(columns={'STATEFP20': 'State FIPS', 'COUNTYFP20': 'County FIPS', 'TRACTCE20': 'Census Tract Code', 'GEOID20': 'GEOID Census Tract', 'ALAND20': 'Land Area'})\n",
    "\n",
    "# Set the data types of each column as we want them to be\n",
    "geodf_tract_ny = geodf_tract_ny.astype({'State FIPS': 'int', 'County FIPS':'int', 'Census Tract Code':'int', 'GEOID Census Tract': 'int', 'Land Area': 'int'})\n",
    "\n",
    "geodf_tract_ny.shape # we want to see 5411 rows, since NY State had a total of 5411 census tracts for the 2020 census (https://www.census.gov/geographies/reference-files/time-series/geo/tallies.html#tract_bg_block)"
   ]
  },
  {
   "cell_type": "code",
   "execution_count": 4,
   "id": "a60aba3c-3a00-4319-a33d-01e01b95a374",
   "metadata": {},
   "outputs": [
    {
     "data": {
      "text/html": [
       "<div>\n",
       "<style scoped>\n",
       "    .dataframe tbody tr th:only-of-type {\n",
       "        vertical-align: middle;\n",
       "    }\n",
       "\n",
       "    .dataframe tbody tr th {\n",
       "        vertical-align: top;\n",
       "    }\n",
       "\n",
       "    .dataframe thead th {\n",
       "        text-align: right;\n",
       "    }\n",
       "</style>\n",
       "<table border=\"1\" class=\"dataframe\">\n",
       "  <thead>\n",
       "    <tr style=\"text-align: right;\">\n",
       "      <th></th>\n",
       "      <th>State FIPS</th>\n",
       "      <th>County FIPS</th>\n",
       "      <th>Census Tract Code</th>\n",
       "      <th>GEOID Census Tract</th>\n",
       "      <th>Land Area</th>\n",
       "      <th>geometry</th>\n",
       "    </tr>\n",
       "  </thead>\n",
       "  <tbody>\n",
       "    <tr>\n",
       "      <th>0</th>\n",
       "      <td>36</td>\n",
       "      <td>47</td>\n",
       "      <td>700</td>\n",
       "      <td>36047000700</td>\n",
       "      <td>176774</td>\n",
       "      <td>POLYGON ((-74.00154 40.69279, -74.00132 40.693...</td>\n",
       "    </tr>\n",
       "    <tr>\n",
       "      <th>1</th>\n",
       "      <td>36</td>\n",
       "      <td>47</td>\n",
       "      <td>900</td>\n",
       "      <td>36047000900</td>\n",
       "      <td>163469</td>\n",
       "      <td>POLYGON ((-73.99405 40.69090, -73.99374 40.691...</td>\n",
       "    </tr>\n",
       "    <tr>\n",
       "      <th>2</th>\n",
       "      <td>36</td>\n",
       "      <td>47</td>\n",
       "      <td>1100</td>\n",
       "      <td>36047001100</td>\n",
       "      <td>168507</td>\n",
       "      <td>POLYGON ((-73.99073 40.69305, -73.99045 40.693...</td>\n",
       "    </tr>\n",
       "  </tbody>\n",
       "</table>\n",
       "</div>"
      ],
      "text/plain": [
       "   State FIPS  County FIPS  Census Tract Code  GEOID Census Tract  Land Area  \\\n",
       "0          36           47                700         36047000700     176774   \n",
       "1          36           47                900         36047000900     163469   \n",
       "2          36           47               1100         36047001100     168507   \n",
       "\n",
       "                                            geometry  \n",
       "0  POLYGON ((-74.00154 40.69279, -74.00132 40.693...  \n",
       "1  POLYGON ((-73.99405 40.69090, -73.99374 40.691...  \n",
       "2  POLYGON ((-73.99073 40.69305, -73.99045 40.693...  "
      ]
     },
     "execution_count": 4,
     "metadata": {},
     "output_type": "execute_result"
    }
   ],
   "source": [
    "geodf_tract_ny.head(3)"
   ]
  },
  {
   "cell_type": "markdown",
   "id": "0f2f99be-fe59-42ce-9e8f-0a2934b94df1",
   "metadata": {},
   "source": [
    "As usual, we'll conduct our checks for correct data types and missing values."
   ]
  },
  {
   "cell_type": "code",
   "execution_count": 5,
   "id": "1c4f2ca5-5d57-4f0e-b647-3acef0c30377",
   "metadata": {},
   "outputs": [
    {
     "name": "stdout",
     "output_type": "stream",
     "text": [
      "<class 'geopandas.geodataframe.GeoDataFrame'>\n",
      "RangeIndex: 5411 entries, 0 to 5410\n",
      "Data columns (total 6 columns):\n",
      " #   Column              Non-Null Count  Dtype   \n",
      "---  ------              --------------  -----   \n",
      " 0   State FIPS          5411 non-null   int64   \n",
      " 1   County FIPS         5411 non-null   int64   \n",
      " 2   Census Tract Code   5411 non-null   int64   \n",
      " 3   GEOID Census Tract  5411 non-null   int64   \n",
      " 4   Land Area           5411 non-null   int64   \n",
      " 5   geometry            5411 non-null   geometry\n",
      "dtypes: geometry(1), int64(5)\n",
      "memory usage: 253.8 KB\n"
     ]
    }
   ],
   "source": [
    "geodf_tract_ny.info()"
   ]
  },
  {
   "cell_type": "code",
   "execution_count": 6,
   "id": "4e0b8ad4-8436-4fdc-a8ff-455e28bbe666",
   "metadata": {},
   "outputs": [
    {
     "data": {
      "text/html": [
       "<div>\n",
       "<style scoped>\n",
       "    .dataframe tbody tr th:only-of-type {\n",
       "        vertical-align: middle;\n",
       "    }\n",
       "\n",
       "    .dataframe tbody tr th {\n",
       "        vertical-align: top;\n",
       "    }\n",
       "\n",
       "    .dataframe thead th {\n",
       "        text-align: right;\n",
       "    }\n",
       "</style>\n",
       "<table border=\"1\" class=\"dataframe\">\n",
       "  <thead>\n",
       "    <tr style=\"text-align: right;\">\n",
       "      <th></th>\n",
       "      <th>State FIPS</th>\n",
       "      <th>County FIPS</th>\n",
       "      <th>Census Tract Code</th>\n",
       "      <th>GEOID Census Tract</th>\n",
       "      <th>Land Area</th>\n",
       "      <th>geometry</th>\n",
       "    </tr>\n",
       "  </thead>\n",
       "  <tbody>\n",
       "  </tbody>\n",
       "</table>\n",
       "</div>"
      ],
      "text/plain": [
       "Empty GeoDataFrame\n",
       "Columns: [State FIPS, County FIPS, Census Tract Code, GEOID Census Tract, Land Area, geometry]\n",
       "Index: []"
      ]
     },
     "execution_count": 6,
     "metadata": {},
     "output_type": "execute_result"
    }
   ],
   "source": [
    "# double check for null values\n",
    "geodf_tract_ny[geodf_tract_ny.isna().any(axis=1)]"
   ]
  },
  {
   "cell_type": "markdown",
   "id": "0683fb22-4c71-4b61-8421-e8cef3fba209",
   "metadata": {},
   "source": [
    "No null values, so onto the next step..."
   ]
  },
  {
   "cell_type": "markdown",
   "id": "74074747-ce47-4c80-bcee-3e254720bb02",
   "metadata": {},
   "source": [
    "## Calculating population density for NY State census tracts\n",
    "\n",
    "We're finally ready to use the population data we so carefully cleaned in our first notebook! We'll begin by merging *df_census_pop* into *geodf_tract_ny* on column \"GEOID Census Tract\". Then we can add a column to calculate population density."
   ]
  },
  {
   "cell_type": "code",
   "execution_count": 7,
   "id": "e09488a3-877a-4718-ae12-461c096927bd",
   "metadata": {},
   "outputs": [],
   "source": [
    "import pandas as pd\n",
    "\n",
    "# might be nice to use the parquet file here if we can...but seems tricky to load these as GEO DataFrames\n",
    "# clean_census_pop_file_pq = os.path.join(clean_data_dir,'census_pop.parquet')\n",
    "\n",
    "clean_census_pop_file = os.path.join(clean_data_dir,'census_pop.csv')\n",
    "df_census_pop = pd.read_csv(clean_census_pop_file, low_memory=False, index_col=0)\n",
    "# df_census_pop.head(3)"
   ]
  },
  {
   "cell_type": "code",
   "execution_count": 8,
   "id": "2290053f-d9be-4257-8dd7-7eab75c9af26",
   "metadata": {},
   "outputs": [],
   "source": [
    "geodf_tract_ny = geodf_tract_ny.merge(df_census_pop, on=['GEOID Census Tract'])\n",
    "geodf_tract_ny = geodf_tract_ny[['State FIPS', 'County FIPS', 'Census Tract Name', 'GEOID Census Tract', 'Population', 'Land Area', 'geometry']]"
   ]
  },
  {
   "cell_type": "code",
   "execution_count": 9,
   "id": "3a566736-9594-4f3c-82b6-b3f858316121",
   "metadata": {},
   "outputs": [
    {
     "data": {
      "text/html": [
       "<div>\n",
       "<style scoped>\n",
       "    .dataframe tbody tr th:only-of-type {\n",
       "        vertical-align: middle;\n",
       "    }\n",
       "\n",
       "    .dataframe tbody tr th {\n",
       "        vertical-align: top;\n",
       "    }\n",
       "\n",
       "    .dataframe thead th {\n",
       "        text-align: right;\n",
       "    }\n",
       "</style>\n",
       "<table border=\"1\" class=\"dataframe\">\n",
       "  <thead>\n",
       "    <tr style=\"text-align: right;\">\n",
       "      <th></th>\n",
       "      <th>State FIPS</th>\n",
       "      <th>County FIPS</th>\n",
       "      <th>Census Tract Name</th>\n",
       "      <th>GEOID Census Tract</th>\n",
       "      <th>Population</th>\n",
       "      <th>Land Area</th>\n",
       "      <th>Population Density</th>\n",
       "      <th>geometry</th>\n",
       "    </tr>\n",
       "  </thead>\n",
       "  <tbody>\n",
       "    <tr>\n",
       "      <th>0</th>\n",
       "      <td>36</td>\n",
       "      <td>47</td>\n",
       "      <td>Census Tract 7, Kings County, New York</td>\n",
       "      <td>36047000700</td>\n",
       "      <td>4415</td>\n",
       "      <td>176774</td>\n",
       "      <td>64686.0</td>\n",
       "      <td>POLYGON ((-74.00154 40.69279, -74.00132 40.693...</td>\n",
       "    </tr>\n",
       "    <tr>\n",
       "      <th>1</th>\n",
       "      <td>36</td>\n",
       "      <td>47</td>\n",
       "      <td>Census Tract 9, Kings County, New York</td>\n",
       "      <td>36047000900</td>\n",
       "      <td>5167</td>\n",
       "      <td>163469</td>\n",
       "      <td>81865.0</td>\n",
       "      <td>POLYGON ((-73.99405 40.69090, -73.99374 40.691...</td>\n",
       "    </tr>\n",
       "    <tr>\n",
       "      <th>2</th>\n",
       "      <td>36</td>\n",
       "      <td>47</td>\n",
       "      <td>Census Tract 11, Kings County, New York</td>\n",
       "      <td>36047001100</td>\n",
       "      <td>1578</td>\n",
       "      <td>168507</td>\n",
       "      <td>24254.0</td>\n",
       "      <td>POLYGON ((-73.99073 40.69305, -73.99045 40.693...</td>\n",
       "    </tr>\n",
       "  </tbody>\n",
       "</table>\n",
       "</div>"
      ],
      "text/plain": [
       "   State FIPS  County FIPS                        Census Tract Name  \\\n",
       "0          36           47   Census Tract 7, Kings County, New York   \n",
       "1          36           47   Census Tract 9, Kings County, New York   \n",
       "2          36           47  Census Tract 11, Kings County, New York   \n",
       "\n",
       "   GEOID Census Tract  Population  Land Area  Population Density  \\\n",
       "0         36047000700        4415     176774             64686.0   \n",
       "1         36047000900        5167     163469             81865.0   \n",
       "2         36047001100        1578     168507             24254.0   \n",
       "\n",
       "                                            geometry  \n",
       "0  POLYGON ((-74.00154 40.69279, -74.00132 40.693...  \n",
       "1  POLYGON ((-73.99405 40.69090, -73.99374 40.691...  \n",
       "2  POLYGON ((-73.99073 40.69305, -73.99045 40.693...  "
      ]
     },
     "execution_count": 9,
     "metadata": {},
     "output_type": "execute_result"
    }
   ],
   "source": [
    "# add a column to calculate population density\n",
    "# land area measured in whole sq meters\n",
    "# sq miles = sq meters/2,589,988 \n",
    "# population density in sq miles  = population/ (land area sq meters / 2,589,988)\n",
    "geodf_tract_ny['Population Density'] = (geodf_tract_ny['Population']/(geodf_tract_ny['Land Area']/2589988)).round(0)\n",
    "geodf_tract_ny = geodf_tract_ny[['State FIPS', 'County FIPS', 'Census Tract Name', 'GEOID Census Tract', 'Population', 'Land Area', 'Population Density', 'geometry']]\n",
    "geodf_tract_ny.head(3)"
   ]
  },
  {
   "cell_type": "markdown",
   "id": "3a151088-2252-43de-91ed-26a5d5287a26",
   "metadata": {},
   "source": [
    "Our population density calculation will produce a NaN value if population == 0. So, we'll want to locate any rows with 0 population and replace their NaN \"Population Density\" with 0,"
   ]
  },
  {
   "cell_type": "code",
   "execution_count": 10,
   "id": "447ac7ff-29cd-457b-b6f2-f9b72b0f65be",
   "metadata": {},
   "outputs": [],
   "source": [
    "# tracts with population == 0 because these will result in NaN when we calculate Population Density\n",
    "# so let's find these and replace the NaNs with 0s\n",
    "geodf_tract_ny[geodf_tract_ny['Population'] == 0]\n",
    "geodf_tract_ny['Population Density'] = geodf_tract_ny['Population Density'].fillna(0)\n",
    "geodf_tract_ny['Population Density'] = geodf_tract_ny['Population Density'].astype(int) # change dtype to integer"
   ]
  },
  {
   "cell_type": "markdown",
   "id": "aa59017e-dbb2-4b66-a87f-29ccd5c36983",
   "metadata": {},
   "source": [
    "## NY State \"places\" geographic data\n",
    "\n",
    "Let's load the NY State \"Place\" shapefiles as a GEO DataFrame and call it *geodf_place_ny*."
   ]
  },
  {
   "cell_type": "code",
   "execution_count": 11,
   "id": "14c324c9-57d1-4012-8cb1-507af220c3f7",
   "metadata": {},
   "outputs": [
    {
     "data": {
      "text/html": [
       "<div>\n",
       "<style scoped>\n",
       "    .dataframe tbody tr th:only-of-type {\n",
       "        vertical-align: middle;\n",
       "    }\n",
       "\n",
       "    .dataframe tbody tr th {\n",
       "        vertical-align: top;\n",
       "    }\n",
       "\n",
       "    .dataframe thead th {\n",
       "        text-align: right;\n",
       "    }\n",
       "</style>\n",
       "<table border=\"1\" class=\"dataframe\">\n",
       "  <thead>\n",
       "    <tr style=\"text-align: right;\">\n",
       "      <th></th>\n",
       "      <th>State FIPS</th>\n",
       "      <th>Place FIPS</th>\n",
       "      <th>GEOID</th>\n",
       "      <th>Name</th>\n",
       "      <th>Land Area</th>\n",
       "      <th>geometry</th>\n",
       "    </tr>\n",
       "  </thead>\n",
       "  <tbody>\n",
       "    <tr>\n",
       "      <th>0</th>\n",
       "      <td>36</td>\n",
       "      <td>01517</td>\n",
       "      <td>3601517</td>\n",
       "      <td>Altamont</td>\n",
       "      <td>3279144</td>\n",
       "      <td>MULTIPOLYGON (((-74.02271 42.70420, -74.02231 ...</td>\n",
       "    </tr>\n",
       "    <tr>\n",
       "      <th>1</th>\n",
       "      <td>36</td>\n",
       "      <td>56979</td>\n",
       "      <td>3656979</td>\n",
       "      <td>Peekskill</td>\n",
       "      <td>11251161</td>\n",
       "      <td>POLYGON ((-73.95544 41.27786, -73.95204 41.280...</td>\n",
       "    </tr>\n",
       "    <tr>\n",
       "      <th>2</th>\n",
       "      <td>36</td>\n",
       "      <td>18388</td>\n",
       "      <td>3618388</td>\n",
       "      <td>Cortland</td>\n",
       "      <td>10085376</td>\n",
       "      <td>POLYGON ((-76.20049 42.61248, -76.19596 42.612...</td>\n",
       "    </tr>\n",
       "  </tbody>\n",
       "</table>\n",
       "</div>"
      ],
      "text/plain": [
       "  State FIPS Place FIPS    GEOID       Name  Land Area  \\\n",
       "0         36      01517  3601517   Altamont    3279144   \n",
       "1         36      56979  3656979  Peekskill   11251161   \n",
       "2         36      18388  3618388   Cortland   10085376   \n",
       "\n",
       "                                            geometry  \n",
       "0  MULTIPOLYGON (((-74.02271 42.70420, -74.02231 ...  \n",
       "1  POLYGON ((-73.95544 41.27786, -73.95204 41.280...  \n",
       "2  POLYGON ((-76.20049 42.61248, -76.19596 42.612...  "
      ]
     },
     "execution_count": 11,
     "metadata": {},
     "output_type": "execute_result"
    }
   ],
   "source": [
    "import geopandas as gpd \n",
    "\n",
    "# make GEO DataFrame from the NY State \"places\" shapefiles\n",
    "shapefile_place_ny = os.path.join(shapes_dir,\"tl_2020_36_place20.zip\")\n",
    "geodf_place_ny = gpd.read_file(shapefile_place_ny, encoding_errors='ignore')\n",
    "\n",
    "# Select only the columns we want from the DataFrame \n",
    "geodf_place_ny = geodf_place_ny[['STATEFP20', 'PLACEFP20', 'GEOID20', 'NAME20', 'ALAND20', 'geometry']]\n",
    "\n",
    "# rename the columns\n",
    "geodf_place_ny.rename(columns={'STATEFP20': 'State FIPS', 'PLACEFP20': 'Place FIPS', 'GEOID20': 'GEOID', 'NAME20': 'Name', 'ALAND20': 'Land Area'}, inplace=True)\n",
    "\n",
    "geodf_place_ny.head(3)"
   ]
  },
  {
   "cell_type": "markdown",
   "id": "0932d30b-3bfc-4c37-bb4e-034ff43e58bc",
   "metadata": {},
   "source": [
    "And, of course, we'll conduct our checks for missing values and correct datatypes."
   ]
  },
  {
   "cell_type": "code",
   "execution_count": 12,
   "id": "450231ee-8aef-4111-bacd-4b696c8340fd",
   "metadata": {},
   "outputs": [
    {
     "name": "stdout",
     "output_type": "stream",
     "text": [
      "<class 'geopandas.geodataframe.GeoDataFrame'>\n",
      "RangeIndex: 1293 entries, 0 to 1292\n",
      "Data columns (total 6 columns):\n",
      " #   Column      Non-Null Count  Dtype   \n",
      "---  ------      --------------  -----   \n",
      " 0   State FIPS  1293 non-null   object  \n",
      " 1   Place FIPS  1293 non-null   object  \n",
      " 2   GEOID       1293 non-null   object  \n",
      " 3   Name        1293 non-null   object  \n",
      " 4   Land Area   1293 non-null   int64   \n",
      " 5   geometry    1293 non-null   geometry\n",
      "dtypes: geometry(1), int64(1), object(4)\n",
      "memory usage: 60.7+ KB\n"
     ]
    }
   ],
   "source": [
    "geodf_place_ny.info()"
   ]
  },
  {
   "cell_type": "markdown",
   "id": "82186615-b189-4ae3-8895-d8d1bb71d0f2",
   "metadata": {},
   "source": [
    "Our data types for State FIPS, Place FIPS, and GEOID should be integers. Let's fix that now."
   ]
  },
  {
   "cell_type": "code",
   "execution_count": 13,
   "id": "98e0a532-961d-4d5c-93b3-41219bdd3018",
   "metadata": {},
   "outputs": [
    {
     "data": {
      "text/plain": [
       "State FIPS       int64\n",
       "Place FIPS       int64\n",
       "GEOID            int64\n",
       "Name            object\n",
       "Land Area        int64\n",
       "geometry      geometry\n",
       "dtype: object"
      ]
     },
     "execution_count": 13,
     "metadata": {},
     "output_type": "execute_result"
    }
   ],
   "source": [
    "# Set the data types of each column are as we want them to be\n",
    "geodf_place_ny['State FIPS'] = geodf_place_ny['State FIPS'].astype(int)\n",
    "geodf_place_ny['Place FIPS'] = geodf_place_ny['Place FIPS'].astype(int)\n",
    "geodf_place_ny['GEOID'] = geodf_place_ny['GEOID'].astype(int)\n",
    "geodf_place_ny.dtypes"
   ]
  },
  {
   "cell_type": "markdown",
   "id": "ea4f4778-49dc-472c-bb01-1112798bcbe1",
   "metadata": {},
   "source": [
    "One final check for missing values."
   ]
  },
  {
   "cell_type": "code",
   "execution_count": 14,
   "id": "c28dc255-53c9-47ec-973d-e644d2358847",
   "metadata": {},
   "outputs": [
    {
     "data": {
      "text/html": [
       "<div>\n",
       "<style scoped>\n",
       "    .dataframe tbody tr th:only-of-type {\n",
       "        vertical-align: middle;\n",
       "    }\n",
       "\n",
       "    .dataframe tbody tr th {\n",
       "        vertical-align: top;\n",
       "    }\n",
       "\n",
       "    .dataframe thead th {\n",
       "        text-align: right;\n",
       "    }\n",
       "</style>\n",
       "<table border=\"1\" class=\"dataframe\">\n",
       "  <thead>\n",
       "    <tr style=\"text-align: right;\">\n",
       "      <th></th>\n",
       "      <th>State FIPS</th>\n",
       "      <th>Place FIPS</th>\n",
       "      <th>GEOID</th>\n",
       "      <th>Name</th>\n",
       "      <th>Land Area</th>\n",
       "      <th>geometry</th>\n",
       "    </tr>\n",
       "  </thead>\n",
       "  <tbody>\n",
       "  </tbody>\n",
       "</table>\n",
       "</div>"
      ],
      "text/plain": [
       "Empty GeoDataFrame\n",
       "Columns: [State FIPS, Place FIPS, GEOID, Name, Land Area, geometry]\n",
       "Index: []"
      ]
     },
     "execution_count": 14,
     "metadata": {},
     "output_type": "execute_result"
    }
   ],
   "source": [
    "# another check for null values\n",
    "geodf_place_ny[geodf_place_ny.isna().any(axis=1)]"
   ]
  },
  {
   "cell_type": "markdown",
   "id": "6c0b470c-dd99-4fc0-b3c2-b3aeb73aeb5f",
   "metadata": {},
   "source": [
    "All clear! We now have a clean GEO DataFrame of NY State census tracts with poulation density and second with NY State places. Let's go ahead and save them as .csv files. "
   ]
  },
  {
   "cell_type": "code",
   "execution_count": 15,
   "id": "fddf81ed-a6d2-4542-ba12-d237099c0c40",
   "metadata": {},
   "outputs": [
    {
     "data": {
      "text/html": [
       "<div>\n",
       "<style scoped>\n",
       "    .dataframe tbody tr th:only-of-type {\n",
       "        vertical-align: middle;\n",
       "    }\n",
       "\n",
       "    .dataframe tbody tr th {\n",
       "        vertical-align: top;\n",
       "    }\n",
       "\n",
       "    .dataframe thead th {\n",
       "        text-align: right;\n",
       "    }\n",
       "</style>\n",
       "<table border=\"1\" class=\"dataframe\">\n",
       "  <thead>\n",
       "    <tr style=\"text-align: right;\">\n",
       "      <th></th>\n",
       "      <th>State FIPS</th>\n",
       "      <th>County FIPS</th>\n",
       "      <th>Census Tract Name</th>\n",
       "      <th>GEOID Census Tract</th>\n",
       "      <th>Population</th>\n",
       "      <th>Land Area</th>\n",
       "      <th>Population Density</th>\n",
       "      <th>geometry</th>\n",
       "    </tr>\n",
       "  </thead>\n",
       "  <tbody>\n",
       "    <tr>\n",
       "      <th>0</th>\n",
       "      <td>36</td>\n",
       "      <td>47</td>\n",
       "      <td>Census Tract 7, Kings County, New York</td>\n",
       "      <td>36047000700</td>\n",
       "      <td>4415</td>\n",
       "      <td>176774</td>\n",
       "      <td>64686</td>\n",
       "      <td>POLYGON ((-74.00154 40.69279, -74.00132 40.693...</td>\n",
       "    </tr>\n",
       "    <tr>\n",
       "      <th>1</th>\n",
       "      <td>36</td>\n",
       "      <td>47</td>\n",
       "      <td>Census Tract 9, Kings County, New York</td>\n",
       "      <td>36047000900</td>\n",
       "      <td>5167</td>\n",
       "      <td>163469</td>\n",
       "      <td>81865</td>\n",
       "      <td>POLYGON ((-73.99405 40.69090, -73.99374 40.691...</td>\n",
       "    </tr>\n",
       "    <tr>\n",
       "      <th>2</th>\n",
       "      <td>36</td>\n",
       "      <td>47</td>\n",
       "      <td>Census Tract 11, Kings County, New York</td>\n",
       "      <td>36047001100</td>\n",
       "      <td>1578</td>\n",
       "      <td>168507</td>\n",
       "      <td>24254</td>\n",
       "      <td>POLYGON ((-73.99073 40.69305, -73.99045 40.693...</td>\n",
       "    </tr>\n",
       "  </tbody>\n",
       "</table>\n",
       "</div>"
      ],
      "text/plain": [
       "   State FIPS  County FIPS                        Census Tract Name  \\\n",
       "0          36           47   Census Tract 7, Kings County, New York   \n",
       "1          36           47   Census Tract 9, Kings County, New York   \n",
       "2          36           47  Census Tract 11, Kings County, New York   \n",
       "\n",
       "   GEOID Census Tract  Population  Land Area  Population Density  \\\n",
       "0         36047000700        4415     176774               64686   \n",
       "1         36047000900        5167     163469               81865   \n",
       "2         36047001100        1578     168507               24254   \n",
       "\n",
       "                                            geometry  \n",
       "0  POLYGON ((-74.00154 40.69279, -74.00132 40.693...  \n",
       "1  POLYGON ((-73.99405 40.69090, -73.99374 40.691...  \n",
       "2  POLYGON ((-73.99073 40.69305, -73.99045 40.693...  "
      ]
     },
     "execution_count": 15,
     "metadata": {},
     "output_type": "execute_result"
    }
   ],
   "source": [
    "# save DF geodf_tract_ny_file as a CSV\n",
    "clean_geodf_tract_ny_file = os.path.join(clean_data_dir, 'geodf_tract_ny.csv')\n",
    "geodf_tract_ny.to_csv(clean_geodf_tract_ny_file)\n",
    "geodf_tract_ny.head(3)"
   ]
  },
  {
   "cell_type": "code",
   "execution_count": 16,
   "id": "5d8359a4-73bc-4e69-9a8b-3c0e46976665",
   "metadata": {},
   "outputs": [
    {
     "data": {
      "text/html": [
       "<div>\n",
       "<style scoped>\n",
       "    .dataframe tbody tr th:only-of-type {\n",
       "        vertical-align: middle;\n",
       "    }\n",
       "\n",
       "    .dataframe tbody tr th {\n",
       "        vertical-align: top;\n",
       "    }\n",
       "\n",
       "    .dataframe thead th {\n",
       "        text-align: right;\n",
       "    }\n",
       "</style>\n",
       "<table border=\"1\" class=\"dataframe\">\n",
       "  <thead>\n",
       "    <tr style=\"text-align: right;\">\n",
       "      <th></th>\n",
       "      <th>State FIPS</th>\n",
       "      <th>Place FIPS</th>\n",
       "      <th>GEOID</th>\n",
       "      <th>Name</th>\n",
       "      <th>Land Area</th>\n",
       "      <th>geometry</th>\n",
       "    </tr>\n",
       "  </thead>\n",
       "  <tbody>\n",
       "    <tr>\n",
       "      <th>0</th>\n",
       "      <td>36</td>\n",
       "      <td>1517</td>\n",
       "      <td>3601517</td>\n",
       "      <td>Altamont</td>\n",
       "      <td>3279144</td>\n",
       "      <td>MULTIPOLYGON (((-74.02271 42.70420, -74.02231 ...</td>\n",
       "    </tr>\n",
       "    <tr>\n",
       "      <th>1</th>\n",
       "      <td>36</td>\n",
       "      <td>56979</td>\n",
       "      <td>3656979</td>\n",
       "      <td>Peekskill</td>\n",
       "      <td>11251161</td>\n",
       "      <td>POLYGON ((-73.95544 41.27786, -73.95204 41.280...</td>\n",
       "    </tr>\n",
       "    <tr>\n",
       "      <th>2</th>\n",
       "      <td>36</td>\n",
       "      <td>18388</td>\n",
       "      <td>3618388</td>\n",
       "      <td>Cortland</td>\n",
       "      <td>10085376</td>\n",
       "      <td>POLYGON ((-76.20049 42.61248, -76.19596 42.612...</td>\n",
       "    </tr>\n",
       "  </tbody>\n",
       "</table>\n",
       "</div>"
      ],
      "text/plain": [
       "   State FIPS  Place FIPS    GEOID       Name  Land Area  \\\n",
       "0          36        1517  3601517   Altamont    3279144   \n",
       "1          36       56979  3656979  Peekskill   11251161   \n",
       "2          36       18388  3618388   Cortland   10085376   \n",
       "\n",
       "                                            geometry  \n",
       "0  MULTIPOLYGON (((-74.02271 42.70420, -74.02231 ...  \n",
       "1  POLYGON ((-73.95544 41.27786, -73.95204 41.280...  \n",
       "2  POLYGON ((-76.20049 42.61248, -76.19596 42.612...  "
      ]
     },
     "execution_count": 16,
     "metadata": {},
     "output_type": "execute_result"
    }
   ],
   "source": [
    "# save DF geodf_place_ny as a CSV\n",
    "clean_geodf_place_ny_file = os.path.join(clean_data_dir, 'geodf_place_ny.csv')\n",
    "geodf_place_ny.to_csv(clean_geodf_place_ny_file)\n",
    "geodf_place_ny.head(3)"
   ]
  }
 ],
 "metadata": {
  "kernelspec": {
   "display_name": "Python 3 (ipykernel)",
   "language": "python",
   "name": "python3"
  },
  "language_info": {
   "codemirror_mode": {
    "name": "ipython",
    "version": 3
   },
   "file_extension": ".py",
   "mimetype": "text/x-python",
   "name": "python",
   "nbconvert_exporter": "python",
   "pygments_lexer": "ipython3",
   "version": "3.8.10"
  }
 },
 "nbformat": 4,
 "nbformat_minor": 5
}
