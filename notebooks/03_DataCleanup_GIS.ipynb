{
 "cells": [
  {
   "cell_type": "markdown",
   "id": "115626da-bc91-4fe6-ab8d-21f3f90779d4",
   "metadata": {},
   "source": [
    "# Geographic data: Translating shapefiles to GEO DataFrames\n",
    "\n",
    "The Census Bureau provides geographic information in *shapefile* format. In this notebook, we'll turn the raw shapefiles for NY State census tracts and \"places\" we downloaded earlier into clean, ready-to-map GEO DataFrames. We'll incorporate population density into our NY State census tract GEO DataFrame, save a separate GEO DataFrame for NYC, then export our GEO DataFrames for use in our next notebook on mapping."
   ]
  },
  {
   "cell_type": "markdown",
   "id": "8707c773-5bdf-40a5-b3d3-2f8f3ca2b38f",
   "metadata": {},
   "source": [
    "These shapefiles are *huge* and there are a lot of them, so I don't put them in Github. Therefore, this notebook won't run in binder. but the code is here for viewing. I've commented out the code to save GEO DataFrames as Parquet files (because Arrow format for shape data is not final, so may cause problems. I plan to come back to this...)"
   ]
  },
  {
   "cell_type": "markdown",
   "id": "b704c9a6-3f32-447a-8ad0-ef05f797c78c",
   "metadata": {},
   "source": [
    "#### *Data sources*\n",
    "\n",
    "Files downloaded from Census Bureau FTP server via FTP client, file locations provided below.\n",
    "\n",
    "* 2020 Census Redistricting Data (P.L. 94-171) Shapefiles, census tract level, NY State\n",
    "  - file location: ftp2.census.gov/geo/tiger/TIGER2020PL/LAYER/TRACT/2020\n",
    "  - file names beginning with \"tl_2020_36\" (NY State FIPS code is 36)\n",
    "\n",
    "* 2020 Census Redistricting Data (P.L. 94-171) Shapefiles, places level, NY State\n",
    "  - file location: ftp2.census.gov/geo/tiger/TIGER2020PL/LAYER/PLACE/2020\n",
    "  - file name: tl_2020_36_place20.zip  (36 for NY State)"
   ]
  },
  {
   "cell_type": "markdown",
   "id": "910cb16d-14de-4f00-bb3b-28fea863111d",
   "metadata": {},
   "source": [
    "#### *Up close: data cleaning and mapping*\n",
    "\n",
    "The notebooks below provide a detailed look at the other stages of cleaning and mapping the data for this project. The final steps of creating a SQL database of indoor farms in New York City and then mapping them will follow shortly.\n",
    "\n",
    "* [Introduction: The State of Indoor Farming in the US] (00_IndoorAgriculture_start.ipynb) \n",
    "* [Data Cleanup: US Census population data](01_DataCleanup_Population.ipynb)\n",
    "* [Data Cleanup: GEOID tables](02_DataCleanup_GEOIDs.ipynb)\n",
    "<!-- * [Data Cleanup: Geographic data](03_DataCleanup_GIS.ipynb) -->\n",
    "* [Mapping NY State: Population Density](04_Mapping_Population.ipynb)\n",
    "* SQL Database Creation: Indoor Farms - *coming soon...*\n",
    "* Mapping NY State: Indoor Farms - *coming soon...*"
   ]
  },
  {
   "cell_type": "markdown",
   "id": "7cc93fac-2a20-4298-a3a6-a9b0a73cd301",
   "metadata": {},
   "source": [
    "#### *Some helper code for managing file paths*\n",
    "We'll use the code below throughout this project to make it easier to refer to the folders where our various data files are stored."
   ]
  },
  {
   "cell_type": "code",
   "execution_count": 1,
   "id": "aca45ffb-a2a1-401a-9ea0-16241432ea0f",
   "metadata": {
    "tags": []
   },
   "outputs": [],
   "source": [
    "# os and patlib modules used to make it easier to refer to project folders \n",
    "\n",
    "import os, pathlib\n",
    "base_dir = pathlib.Path(os.getcwd()).parent\n",
    "data_archive_dir = os.path.join(base_dir, \"data_archive\")\n",
    "clean_data_dir = os.path.join(data_archive_dir, \"clean\")\n",
    "data_dir = os.path.join(base_dir, \"data\")\n",
    "shapes_dir = os.path.join(data_dir,\"shapes\")\n",
    "json_dir = os.path.join(data_dir,\"geojson\")\n",
    "util_dir = os.path.join(data_dir,\"util\")"
   ]
  },
  {
   "cell_type": "markdown",
   "id": "38e63665-b8be-4534-8171-493c685235e1",
   "metadata": {
    "tags": []
   },
   "source": [
    "## Census tract shapefiles to GEO DataFrame"
   ]
  },
  {
   "cell_type": "markdown",
   "id": "65c6727f-fa6b-4647-b27d-a43bbcc6c4c8",
   "metadata": {},
   "source": [
    " Let's load our NY State census tract shapefiles as a GEO DataFrame and call it *geodf_tract_ny*."
   ]
  },
  {
   "cell_type": "code",
   "execution_count": 2,
   "id": "5dbb027d-1528-411a-bbfd-baf3bf56237b",
   "metadata": {},
   "outputs": [],
   "source": [
    "import geopandas as gpd"
   ]
  },
  {
   "cell_type": "code",
   "execution_count": 3,
   "id": "0812ff95-7bbe-4fc3-adc6-902f5f714e9d",
   "metadata": {},
   "outputs": [],
   "source": [
    "big_tract_ny_shapefile = os.path.join(shapes_dir,\"tl_2020_36_tract20.zip\") # provide the full path to our shapefiles\n",
    "\n",
    "# uses the geopandas function read_file to grab our file\n",
    "\n",
    "# geodf_tract_ny = gpd.read_file(big_tract_ny_shapefile)[['STATEFP20', 'COUNTYFP20', 'TRACTCE20', 'GEOID20', 'ALAND20',  'AWATER20', 'INTPTLAT20', 'INTPTLON20', 'geometry']] \n",
    "geodf_tract_ny = gpd.read_file(big_tract_ny_shapefile)[['STATEFP20', 'COUNTYFP20', 'TRACTCE20', 'GEOID20', 'ALAND20',  'AWATER20', 'geometry']] \n",
    "# geodf_tract_ny = gpd.read_file(big_tract_ny_shapefile)\n",
    "# import pyarrow as pa\n",
    "# import warnings; \n",
    "# warnings.filterwarnings('ignore', message='.*initial implementation of Parquet.*')\n",
    "# geodf_tract_ny.to_parquet(small_clean_shapefile, index=False, compression='BROTLI')\n",
    "#  #= pa.Table.from_pandas(ny_shapes_df, preserve_index=False)"
   ]
  },
  {
   "cell_type": "code",
   "execution_count": 4,
   "id": "984e081b-5f61-4e80-9b58-fd14336b0f5a",
   "metadata": {},
   "outputs": [
    {
     "data": {
      "text/plain": [
       "(5411, 7)"
      ]
     },
     "execution_count": 4,
     "metadata": {},
     "output_type": "execute_result"
    }
   ],
   "source": [
    "# rename the columns\n",
    "# geodf_tract_ny = geodf_tract_ny.rename(columns={'STATEFP20': 'State FIPS', 'COUNTYFP20': 'County FIPS', 'TRACTCE20': 'Census Tract Code', 'GEOID20': 'GEOID Census Tract', 'ALAND20': 'Land Area', 'AWATER20': 'Water Area', 'INTPTLAT20': 'Latitude of Internal Point', 'INTPTLON20': 'Longitude of Internal Point'})\n",
    "geodf_tract_ny = geodf_tract_ny.rename(columns={'STATEFP20': 'State FIPS', 'COUNTYFP20': 'County FIPS', 'TRACTCE20': 'Census Tract Code', 'GEOID20': 'GEOID Census Tract', 'ALAND20': 'Land Area', 'AWATER20': 'Water Area'})\n",
    "\n",
    "# set the data types of each column as we want them to be\n",
    "geodf_tract_ny = geodf_tract_ny.astype({'State FIPS': 'int', 'County FIPS':'int', 'Census Tract Code':'int', 'GEOID Census Tract': 'int', 'Land Area': 'int', 'Water Area': 'int'})\n",
    "\n",
    "# NY State had 5411 census tracts total for the 2020 census (https://www.census.gov/geographies/reference-files/time-series/geo/tallies.html#tract_bg_block)\n",
    "# so we want to see .shape to return 5411 rows below\n",
    "geodf_tract_ny.shape "
   ]
  },
  {
   "cell_type": "code",
   "execution_count": 5,
   "id": "a60aba3c-3a00-4319-a33d-01e01b95a374",
   "metadata": {},
   "outputs": [
    {
     "data": {
      "text/html": [
       "<div>\n",
       "<style scoped>\n",
       "    .dataframe tbody tr th:only-of-type {\n",
       "        vertical-align: middle;\n",
       "    }\n",
       "\n",
       "    .dataframe tbody tr th {\n",
       "        vertical-align: top;\n",
       "    }\n",
       "\n",
       "    .dataframe thead th {\n",
       "        text-align: right;\n",
       "    }\n",
       "</style>\n",
       "<table border=\"1\" class=\"dataframe\">\n",
       "  <thead>\n",
       "    <tr style=\"text-align: right;\">\n",
       "      <th></th>\n",
       "      <th>State FIPS</th>\n",
       "      <th>County FIPS</th>\n",
       "      <th>Census Tract Code</th>\n",
       "      <th>GEOID Census Tract</th>\n",
       "      <th>Land Area</th>\n",
       "      <th>Water Area</th>\n",
       "      <th>geometry</th>\n",
       "    </tr>\n",
       "  </thead>\n",
       "  <tbody>\n",
       "    <tr>\n",
       "      <th>0</th>\n",
       "      <td>36</td>\n",
       "      <td>47</td>\n",
       "      <td>700</td>\n",
       "      <td>36047000700</td>\n",
       "      <td>176774</td>\n",
       "      <td>0</td>\n",
       "      <td>POLYGON ((-74.00154 40.69279, -74.00132 40.693...</td>\n",
       "    </tr>\n",
       "    <tr>\n",
       "      <th>1</th>\n",
       "      <td>36</td>\n",
       "      <td>47</td>\n",
       "      <td>900</td>\n",
       "      <td>36047000900</td>\n",
       "      <td>163469</td>\n",
       "      <td>0</td>\n",
       "      <td>POLYGON ((-73.99405 40.69090, -73.99374 40.691...</td>\n",
       "    </tr>\n",
       "    <tr>\n",
       "      <th>2</th>\n",
       "      <td>36</td>\n",
       "      <td>47</td>\n",
       "      <td>1100</td>\n",
       "      <td>36047001100</td>\n",
       "      <td>168507</td>\n",
       "      <td>0</td>\n",
       "      <td>POLYGON ((-73.99073 40.69305, -73.99045 40.693...</td>\n",
       "    </tr>\n",
       "  </tbody>\n",
       "</table>\n",
       "</div>"
      ],
      "text/plain": [
       "   State FIPS  County FIPS  Census Tract Code  GEOID Census Tract  Land Area  \\\n",
       "0          36           47                700         36047000700     176774   \n",
       "1          36           47                900         36047000900     163469   \n",
       "2          36           47               1100         36047001100     168507   \n",
       "\n",
       "   Water Area                                           geometry  \n",
       "0           0  POLYGON ((-74.00154 40.69279, -74.00132 40.693...  \n",
       "1           0  POLYGON ((-73.99405 40.69090, -73.99374 40.691...  \n",
       "2           0  POLYGON ((-73.99073 40.69305, -73.99045 40.693...  "
      ]
     },
     "execution_count": 5,
     "metadata": {},
     "output_type": "execute_result"
    }
   ],
   "source": [
    "geodf_tract_ny.head(3)"
   ]
  },
  {
   "cell_type": "markdown",
   "id": "0f2f99be-fe59-42ce-9e8f-0a2934b94df1",
   "metadata": {},
   "source": [
    "As usual, we'll conduct our checks for correct data types and missing values."
   ]
  },
  {
   "cell_type": "code",
   "execution_count": 6,
   "id": "1c4f2ca5-5d57-4f0e-b647-3acef0c30377",
   "metadata": {},
   "outputs": [
    {
     "name": "stdout",
     "output_type": "stream",
     "text": [
      "<class 'geopandas.geodataframe.GeoDataFrame'>\n",
      "RangeIndex: 5411 entries, 0 to 5410\n",
      "Data columns (total 7 columns):\n",
      " #   Column              Non-Null Count  Dtype   \n",
      "---  ------              --------------  -----   \n",
      " 0   State FIPS          5411 non-null   int64   \n",
      " 1   County FIPS         5411 non-null   int64   \n",
      " 2   Census Tract Code   5411 non-null   int64   \n",
      " 3   GEOID Census Tract  5411 non-null   int64   \n",
      " 4   Land Area           5411 non-null   int64   \n",
      " 5   Water Area          5411 non-null   int64   \n",
      " 6   geometry            5411 non-null   geometry\n",
      "dtypes: geometry(1), int64(6)\n",
      "memory usage: 296.0 KB\n"
     ]
    },
    {
     "data": {
      "text/plain": [
       "<geopandas.array.GeometryDtype at 0x7fd704e80580>"
      ]
     },
     "execution_count": 6,
     "metadata": {},
     "output_type": "execute_result"
    }
   ],
   "source": [
    "geodf_tract_ny.info()\n",
    "geodf_tract_ny['geometry'].dtype"
   ]
  },
  {
   "cell_type": "code",
   "execution_count": 7,
   "id": "4e0b8ad4-8436-4fdc-a8ff-455e28bbe666",
   "metadata": {},
   "outputs": [
    {
     "data": {
      "text/html": [
       "<div>\n",
       "<style scoped>\n",
       "    .dataframe tbody tr th:only-of-type {\n",
       "        vertical-align: middle;\n",
       "    }\n",
       "\n",
       "    .dataframe tbody tr th {\n",
       "        vertical-align: top;\n",
       "    }\n",
       "\n",
       "    .dataframe thead th {\n",
       "        text-align: right;\n",
       "    }\n",
       "</style>\n",
       "<table border=\"1\" class=\"dataframe\">\n",
       "  <thead>\n",
       "    <tr style=\"text-align: right;\">\n",
       "      <th></th>\n",
       "      <th>State FIPS</th>\n",
       "      <th>County FIPS</th>\n",
       "      <th>Census Tract Code</th>\n",
       "      <th>GEOID Census Tract</th>\n",
       "      <th>Land Area</th>\n",
       "      <th>Water Area</th>\n",
       "      <th>geometry</th>\n",
       "    </tr>\n",
       "  </thead>\n",
       "  <tbody>\n",
       "  </tbody>\n",
       "</table>\n",
       "</div>"
      ],
      "text/plain": [
       "Empty GeoDataFrame\n",
       "Columns: [State FIPS, County FIPS, Census Tract Code, GEOID Census Tract, Land Area, Water Area, geometry]\n",
       "Index: []"
      ]
     },
     "execution_count": 7,
     "metadata": {},
     "output_type": "execute_result"
    }
   ],
   "source": [
    "# double check for null values\n",
    "geodf_tract_ny[geodf_tract_ny.isna().any(axis=1)]"
   ]
  },
  {
   "cell_type": "markdown",
   "id": "0683fb22-4c71-4b61-8421-e8cef3fba209",
   "metadata": {},
   "source": [
    "No null values! We're making progress - our big NY Census Tract shapefile is now a nice *clean* GEO DataFrame."
   ]
  },
  {
   "cell_type": "markdown",
   "id": "74074747-ce47-4c80-bcee-3e254720bb02",
   "metadata": {},
   "source": [
    "### Merging population data and geographic data\n",
    "\n",
    "We're now ready to use the population data we so carefully cleaned in our first notebook! Let's beging by loading as a pandas DataFrame the clean population data we saved earlier to parquet format. "
   ]
  },
  {
   "cell_type": "code",
   "execution_count": 8,
   "id": "b4bfc056-2cb6-43ba-bde4-8fedcb957f6a",
   "metadata": {},
   "outputs": [
    {
     "data": {
      "text/html": [
       "<div>\n",
       "<style scoped>\n",
       "    .dataframe tbody tr th:only-of-type {\n",
       "        vertical-align: middle;\n",
       "    }\n",
       "\n",
       "    .dataframe tbody tr th {\n",
       "        vertical-align: top;\n",
       "    }\n",
       "\n",
       "    .dataframe thead th {\n",
       "        text-align: right;\n",
       "    }\n",
       "</style>\n",
       "<table border=\"1\" class=\"dataframe\">\n",
       "  <thead>\n",
       "    <tr style=\"text-align: right;\">\n",
       "      <th></th>\n",
       "      <th>GEOID Census Tract Full</th>\n",
       "      <th>Census Tract Name</th>\n",
       "      <th>Population</th>\n",
       "      <th>GEOID Census Tract</th>\n",
       "    </tr>\n",
       "  </thead>\n",
       "  <tbody>\n",
       "    <tr>\n",
       "      <th>0</th>\n",
       "      <td>1400000US01001020100</td>\n",
       "      <td>Census Tract 201, Autauga County, Alabama</td>\n",
       "      <td>1775</td>\n",
       "      <td>1001020100</td>\n",
       "    </tr>\n",
       "    <tr>\n",
       "      <th>1</th>\n",
       "      <td>1400000US01001020200</td>\n",
       "      <td>Census Tract 202, Autauga County, Alabama</td>\n",
       "      <td>2055</td>\n",
       "      <td>1001020200</td>\n",
       "    </tr>\n",
       "    <tr>\n",
       "      <th>2</th>\n",
       "      <td>1400000US01001020300</td>\n",
       "      <td>Census Tract 203, Autauga County, Alabama</td>\n",
       "      <td>3216</td>\n",
       "      <td>1001020300</td>\n",
       "    </tr>\n",
       "  </tbody>\n",
       "</table>\n",
       "</div>"
      ],
      "text/plain": [
       "  GEOID Census Tract Full                          Census Tract Name  \\\n",
       "0    1400000US01001020100  Census Tract 201, Autauga County, Alabama   \n",
       "1    1400000US01001020200  Census Tract 202, Autauga County, Alabama   \n",
       "2    1400000US01001020300  Census Tract 203, Autauga County, Alabama   \n",
       "\n",
       "   Population  GEOID Census Tract  \n",
       "0        1775          1001020100  \n",
       "1        2055          1001020200  \n",
       "2        3216          1001020300  "
      ]
     },
     "execution_count": 8,
     "metadata": {},
     "output_type": "execute_result"
    }
   ],
   "source": [
    "import pyarrow.parquet as pq\n",
    "\n",
    "clean_census_pop_file_parquet = os.path.join(clean_data_dir, 'census_pop.parquet')\n",
    "df_census_pop = pq.read_table(clean_census_pop_file_parquet, memory_map=True).to_pandas()\n",
    "df_census_pop.head(3)"
   ]
  },
  {
   "cell_type": "markdown",
   "id": "8594f477-8218-4eb9-9c1a-2ccd715ca16f",
   "metadata": {},
   "source": [
    "Now we can go ahead and merge *df_census_pop* into *geodf_tract_ny* on column \"GEOID Census Tract\". (We'll be calculating population density shortly, but first we need to check a few things...)"
   ]
  },
  {
   "cell_type": "code",
   "execution_count": 9,
   "id": "2290053f-d9be-4257-8dd7-7eab75c9af26",
   "metadata": {},
   "outputs": [
    {
     "data": {
      "text/html": [
       "<div>\n",
       "<style scoped>\n",
       "    .dataframe tbody tr th:only-of-type {\n",
       "        vertical-align: middle;\n",
       "    }\n",
       "\n",
       "    .dataframe tbody tr th {\n",
       "        vertical-align: top;\n",
       "    }\n",
       "\n",
       "    .dataframe thead th {\n",
       "        text-align: right;\n",
       "    }\n",
       "</style>\n",
       "<table border=\"1\" class=\"dataframe\">\n",
       "  <thead>\n",
       "    <tr style=\"text-align: right;\">\n",
       "      <th></th>\n",
       "      <th>State FIPS</th>\n",
       "      <th>County FIPS</th>\n",
       "      <th>Census Tract Name</th>\n",
       "      <th>GEOID Census Tract</th>\n",
       "      <th>Population</th>\n",
       "      <th>Land Area</th>\n",
       "      <th>Water Area</th>\n",
       "      <th>geometry</th>\n",
       "    </tr>\n",
       "  </thead>\n",
       "  <tbody>\n",
       "    <tr>\n",
       "      <th>0</th>\n",
       "      <td>36</td>\n",
       "      <td>47</td>\n",
       "      <td>Census Tract 7, Kings County, New York</td>\n",
       "      <td>36047000700</td>\n",
       "      <td>4415</td>\n",
       "      <td>176774</td>\n",
       "      <td>0</td>\n",
       "      <td>POLYGON ((-74.00154 40.69279, -74.00132 40.693...</td>\n",
       "    </tr>\n",
       "    <tr>\n",
       "      <th>1</th>\n",
       "      <td>36</td>\n",
       "      <td>47</td>\n",
       "      <td>Census Tract 9, Kings County, New York</td>\n",
       "      <td>36047000900</td>\n",
       "      <td>5167</td>\n",
       "      <td>163469</td>\n",
       "      <td>0</td>\n",
       "      <td>POLYGON ((-73.99405 40.69090, -73.99374 40.691...</td>\n",
       "    </tr>\n",
       "    <tr>\n",
       "      <th>2</th>\n",
       "      <td>36</td>\n",
       "      <td>47</td>\n",
       "      <td>Census Tract 11, Kings County, New York</td>\n",
       "      <td>36047001100</td>\n",
       "      <td>1578</td>\n",
       "      <td>168507</td>\n",
       "      <td>0</td>\n",
       "      <td>POLYGON ((-73.99073 40.69305, -73.99045 40.693...</td>\n",
       "    </tr>\n",
       "  </tbody>\n",
       "</table>\n",
       "</div>"
      ],
      "text/plain": [
       "   State FIPS  County FIPS                        Census Tract Name  \\\n",
       "0          36           47   Census Tract 7, Kings County, New York   \n",
       "1          36           47   Census Tract 9, Kings County, New York   \n",
       "2          36           47  Census Tract 11, Kings County, New York   \n",
       "\n",
       "   GEOID Census Tract  Population  Land Area  Water Area  \\\n",
       "0         36047000700        4415     176774           0   \n",
       "1         36047000900        5167     163469           0   \n",
       "2         36047001100        1578     168507           0   \n",
       "\n",
       "                                            geometry  \n",
       "0  POLYGON ((-74.00154 40.69279, -74.00132 40.693...  \n",
       "1  POLYGON ((-73.99405 40.69090, -73.99374 40.691...  \n",
       "2  POLYGON ((-73.99073 40.69305, -73.99045 40.693...  "
      ]
     },
     "execution_count": 9,
     "metadata": {},
     "output_type": "execute_result"
    }
   ],
   "source": [
    "geodf_tract_ny = geodf_tract_ny.merge(df_census_pop, on=['GEOID Census Tract'])\n",
    "geodf_tract_ny = geodf_tract_ny[['State FIPS', 'County FIPS', 'Census Tract Name', 'GEOID Census Tract', 'Population', 'Land Area', 'Water Area', 'geometry']]\n",
    "geodf_tract_ny.head(3)"
   ]
  },
  {
   "cell_type": "markdown",
   "id": "c7ccb754-f92e-4f23-95f6-7cb036a58e05",
   "metadata": {},
   "source": [
    "### Excluding census tracts that are water only"
   ]
  },
  {
   "cell_type": "markdown",
   "id": "e357621c-578f-4f91-8d83-f2d33fb96bb3",
   "metadata": {},
   "source": [
    "For reasons we plan to research further at some point, the US Census includes some census tracts that consist entirely of water and no land. It stands to reason that these would not have any permanent residents and would, therefore, have a recorded population of 0. If this is the case, we'll want to exclude them from our population density choropleth as they will create unecessary noise.\n",
    "\n",
    "But, to be safe, let's test our assumption. First, let's see how many census tracts in NY state consist entirely of water."
   ]
  },
  {
   "cell_type": "code",
   "execution_count": 10,
   "id": "aa46007b-7345-4d34-affc-310a8123a822",
   "metadata": {},
   "outputs": [
    {
     "data": {
      "text/plain": [
       "State FIPS            18\n",
       "County FIPS           18\n",
       "Census Tract Name     18\n",
       "GEOID Census Tract    18\n",
       "Population            18\n",
       "Land Area             18\n",
       "Water Area            18\n",
       "geometry              18\n",
       "dtype: int64"
      ]
     },
     "execution_count": 10,
     "metadata": {},
     "output_type": "execute_result"
    }
   ],
   "source": [
    "geodf_tract_ny[geodf_tract_ny['Land Area']==0].count()"
   ]
  },
  {
   "cell_type": "markdown",
   "id": "a084b59b-1df8-46cb-9a92-9761da09ff6c",
   "metadata": {},
   "source": [
    "Apparently, there are a total of 18 census tracts in NY state than consist of water only! Now, let's see if we're correct that all of these have a population of 0."
   ]
  },
  {
   "cell_type": "code",
   "execution_count": 11,
   "id": "a5879859-1a12-4f0f-8419-a9fe984beed0",
   "metadata": {},
   "outputs": [
    {
     "data": {
      "text/html": [
       "<div>\n",
       "<style scoped>\n",
       "    .dataframe tbody tr th:only-of-type {\n",
       "        vertical-align: middle;\n",
       "    }\n",
       "\n",
       "    .dataframe tbody tr th {\n",
       "        vertical-align: top;\n",
       "    }\n",
       "\n",
       "    .dataframe thead th {\n",
       "        text-align: right;\n",
       "    }\n",
       "</style>\n",
       "<table border=\"1\" class=\"dataframe\">\n",
       "  <thead>\n",
       "    <tr style=\"text-align: right;\">\n",
       "      <th></th>\n",
       "      <th>State FIPS</th>\n",
       "      <th>County FIPS</th>\n",
       "      <th>Census Tract Name</th>\n",
       "      <th>GEOID Census Tract</th>\n",
       "      <th>Population</th>\n",
       "      <th>Land Area</th>\n",
       "      <th>Water Area</th>\n",
       "      <th>geometry</th>\n",
       "    </tr>\n",
       "  </thead>\n",
       "  <tbody>\n",
       "    <tr>\n",
       "      <th>127</th>\n",
       "      <td>36</td>\n",
       "      <td>55</td>\n",
       "      <td>Census Tract 9900, Monroe County, New York</td>\n",
       "      <td>36055990000</td>\n",
       "      <td>0</td>\n",
       "      <td>0</td>\n",
       "      <td>1799140350</td>\n",
       "      <td>POLYGON ((-77.99478 43.37506, -77.99402 43.500...</td>\n",
       "    </tr>\n",
       "    <tr>\n",
       "      <th>133</th>\n",
       "      <td>36</td>\n",
       "      <td>81</td>\n",
       "      <td>Census Tract 9901, Queens County, New York</td>\n",
       "      <td>36081990100</td>\n",
       "      <td>0</td>\n",
       "      <td>0</td>\n",
       "      <td>130800077</td>\n",
       "      <td>POLYGON ((-74.03813 40.53829, -74.03749 40.542...</td>\n",
       "    </tr>\n",
       "    <tr>\n",
       "      <th>732</th>\n",
       "      <td>36</td>\n",
       "      <td>45</td>\n",
       "      <td>Census Tract 9900.01, Jefferson County, New York</td>\n",
       "      <td>36045990001</td>\n",
       "      <td>0</td>\n",
       "      <td>0</td>\n",
       "      <td>1366058435</td>\n",
       "      <td>POLYGON ((-76.70129 43.75006, -76.63362 43.834...</td>\n",
       "    </tr>\n",
       "    <tr>\n",
       "      <th>788</th>\n",
       "      <td>36</td>\n",
       "      <td>75</td>\n",
       "      <td>Census Tract 9900, Oswego County, New York</td>\n",
       "      <td>36075990000</td>\n",
       "      <td>0</td>\n",
       "      <td>0</td>\n",
       "      <td>724225049</td>\n",
       "      <td>POLYGON ((-76.64471 43.70347, -76.62468 43.702...</td>\n",
       "    </tr>\n",
       "    <tr>\n",
       "      <th>846</th>\n",
       "      <td>36</td>\n",
       "      <td>47</td>\n",
       "      <td>Census Tract 9901, Kings County, New York</td>\n",
       "      <td>36047990100</td>\n",
       "      <td>0</td>\n",
       "      <td>0</td>\n",
       "      <td>17793788</td>\n",
       "      <td>POLYGON ((-74.04374 40.60669, -74.04348 40.606...</td>\n",
       "    </tr>\n",
       "    <tr>\n",
       "      <th>1242</th>\n",
       "      <td>36</td>\n",
       "      <td>59</td>\n",
       "      <td>Census Tract 9901, Nassau County, New York</td>\n",
       "      <td>36059990100</td>\n",
       "      <td>0</td>\n",
       "      <td>0</td>\n",
       "      <td>13640682</td>\n",
       "      <td>POLYGON ((-73.78019 40.82640, -73.77498 40.830...</td>\n",
       "    </tr>\n",
       "    <tr>\n",
       "      <th>1243</th>\n",
       "      <td>36</td>\n",
       "      <td>59</td>\n",
       "      <td>Census Tract 9903.02, Nassau County, New York</td>\n",
       "      <td>36059990302</td>\n",
       "      <td>0</td>\n",
       "      <td>0</td>\n",
       "      <td>37600401</td>\n",
       "      <td>POLYGON ((-73.48439 40.55268, -73.48479 40.589...</td>\n",
       "    </tr>\n",
       "    <tr>\n",
       "      <th>1319</th>\n",
       "      <td>36</td>\n",
       "      <td>59</td>\n",
       "      <td>Census Tract 9903.01, Nassau County, New York</td>\n",
       "      <td>36059990301</td>\n",
       "      <td>0</td>\n",
       "      <td>0</td>\n",
       "      <td>67474483</td>\n",
       "      <td>POLYGON ((-73.61309 40.95082, -73.61300 40.950...</td>\n",
       "    </tr>\n",
       "    <tr>\n",
       "      <th>1393</th>\n",
       "      <td>36</td>\n",
       "      <td>73</td>\n",
       "      <td>Census Tract 9900, Orleans County, New York</td>\n",
       "      <td>36073990000</td>\n",
       "      <td>0</td>\n",
       "      <td>0</td>\n",
       "      <td>1099598019</td>\n",
       "      <td>POLYGON ((-78.46871 43.63343, -78.38882 43.633...</td>\n",
       "    </tr>\n",
       "    <tr>\n",
       "      <th>1481</th>\n",
       "      <td>36</td>\n",
       "      <td>59</td>\n",
       "      <td>Census Tract 9902, Nassau County, New York</td>\n",
       "      <td>36059990200</td>\n",
       "      <td>0</td>\n",
       "      <td>0</td>\n",
       "      <td>27086403</td>\n",
       "      <td>POLYGON ((-73.69445 40.90305, -73.62815 40.941...</td>\n",
       "    </tr>\n",
       "    <tr>\n",
       "      <th>1691</th>\n",
       "      <td>36</td>\n",
       "      <td>103</td>\n",
       "      <td>Census Tract 9901, Suffolk County, New York</td>\n",
       "      <td>36103990100</td>\n",
       "      <td>0</td>\n",
       "      <td>0</td>\n",
       "      <td>2713594574</td>\n",
       "      <td>POLYGON ((-73.43192 40.98901, -73.42345 40.990...</td>\n",
       "    </tr>\n",
       "    <tr>\n",
       "      <th>2257</th>\n",
       "      <td>36</td>\n",
       "      <td>117</td>\n",
       "      <td>Census Tract 9901, Wayne County, New York</td>\n",
       "      <td>36117990100</td>\n",
       "      <td>0</td>\n",
       "      <td>0</td>\n",
       "      <td>1996575022</td>\n",
       "      <td>POLYGON ((-77.38799 43.63154, -77.37480 43.631...</td>\n",
       "    </tr>\n",
       "    <tr>\n",
       "      <th>2782</th>\n",
       "      <td>36</td>\n",
       "      <td>85</td>\n",
       "      <td>Census Tract 9901, Richmond County, New York</td>\n",
       "      <td>36085990100</td>\n",
       "      <td>0</td>\n",
       "      <td>0</td>\n",
       "      <td>81772671</td>\n",
       "      <td>POLYGON ((-74.25875 40.50010, -74.25872 40.500...</td>\n",
       "    </tr>\n",
       "    <tr>\n",
       "      <th>3250</th>\n",
       "      <td>36</td>\n",
       "      <td>63</td>\n",
       "      <td>Census Tract 9900, Niagara County, New York</td>\n",
       "      <td>36063990000</td>\n",
       "      <td>0</td>\n",
       "      <td>0</td>\n",
       "      <td>1550634322</td>\n",
       "      <td>POLYGON ((-79.17381 43.46040, -79.17235 43.460...</td>\n",
       "    </tr>\n",
       "    <tr>\n",
       "      <th>3692</th>\n",
       "      <td>36</td>\n",
       "      <td>11</td>\n",
       "      <td>Census Tract 9902, Cayuga County, New York</td>\n",
       "      <td>36011990200</td>\n",
       "      <td>0</td>\n",
       "      <td>0</td>\n",
       "      <td>330406171</td>\n",
       "      <td>POLYGON ((-76.75354 43.68427, -76.73472 43.708...</td>\n",
       "    </tr>\n",
       "    <tr>\n",
       "      <th>4898</th>\n",
       "      <td>36</td>\n",
       "      <td>29</td>\n",
       "      <td>Census Tract 9900, Erie County, New York</td>\n",
       "      <td>36029990000</td>\n",
       "      <td>0</td>\n",
       "      <td>0</td>\n",
       "      <td>437070260</td>\n",
       "      <td>POLYGON ((-79.31214 42.68680, -79.24977 42.710...</td>\n",
       "    </tr>\n",
       "    <tr>\n",
       "      <th>5024</th>\n",
       "      <td>36</td>\n",
       "      <td>59</td>\n",
       "      <td>Census Tract 9904, Nassau County, New York</td>\n",
       "      <td>36059990400</td>\n",
       "      <td>0</td>\n",
       "      <td>0</td>\n",
       "      <td>123010725</td>\n",
       "      <td>POLYGON ((-73.76874 40.53387, -73.76763 40.537...</td>\n",
       "    </tr>\n",
       "    <tr>\n",
       "      <th>5237</th>\n",
       "      <td>36</td>\n",
       "      <td>13</td>\n",
       "      <td>Census Tract 9900, Chautauqua County, New York</td>\n",
       "      <td>36013990000</td>\n",
       "      <td>0</td>\n",
       "      <td>0</td>\n",
       "      <td>1015060786</td>\n",
       "      <td>POLYGON ((-79.76242 42.51607, -79.74977 42.520...</td>\n",
       "    </tr>\n",
       "  </tbody>\n",
       "</table>\n",
       "</div>"
      ],
      "text/plain": [
       "      State FIPS  County FIPS  \\\n",
       "127           36           55   \n",
       "133           36           81   \n",
       "732           36           45   \n",
       "788           36           75   \n",
       "846           36           47   \n",
       "1242          36           59   \n",
       "1243          36           59   \n",
       "1319          36           59   \n",
       "1393          36           73   \n",
       "1481          36           59   \n",
       "1691          36          103   \n",
       "2257          36          117   \n",
       "2782          36           85   \n",
       "3250          36           63   \n",
       "3692          36           11   \n",
       "4898          36           29   \n",
       "5024          36           59   \n",
       "5237          36           13   \n",
       "\n",
       "                                     Census Tract Name  GEOID Census Tract  \\\n",
       "127         Census Tract 9900, Monroe County, New York         36055990000   \n",
       "133         Census Tract 9901, Queens County, New York         36081990100   \n",
       "732   Census Tract 9900.01, Jefferson County, New York         36045990001   \n",
       "788         Census Tract 9900, Oswego County, New York         36075990000   \n",
       "846          Census Tract 9901, Kings County, New York         36047990100   \n",
       "1242        Census Tract 9901, Nassau County, New York         36059990100   \n",
       "1243     Census Tract 9903.02, Nassau County, New York         36059990302   \n",
       "1319     Census Tract 9903.01, Nassau County, New York         36059990301   \n",
       "1393       Census Tract 9900, Orleans County, New York         36073990000   \n",
       "1481        Census Tract 9902, Nassau County, New York         36059990200   \n",
       "1691       Census Tract 9901, Suffolk County, New York         36103990100   \n",
       "2257         Census Tract 9901, Wayne County, New York         36117990100   \n",
       "2782      Census Tract 9901, Richmond County, New York         36085990100   \n",
       "3250       Census Tract 9900, Niagara County, New York         36063990000   \n",
       "3692        Census Tract 9902, Cayuga County, New York         36011990200   \n",
       "4898          Census Tract 9900, Erie County, New York         36029990000   \n",
       "5024        Census Tract 9904, Nassau County, New York         36059990400   \n",
       "5237    Census Tract 9900, Chautauqua County, New York         36013990000   \n",
       "\n",
       "      Population  Land Area  Water Area  \\\n",
       "127            0          0  1799140350   \n",
       "133            0          0   130800077   \n",
       "732            0          0  1366058435   \n",
       "788            0          0   724225049   \n",
       "846            0          0    17793788   \n",
       "1242           0          0    13640682   \n",
       "1243           0          0    37600401   \n",
       "1319           0          0    67474483   \n",
       "1393           0          0  1099598019   \n",
       "1481           0          0    27086403   \n",
       "1691           0          0  2713594574   \n",
       "2257           0          0  1996575022   \n",
       "2782           0          0    81772671   \n",
       "3250           0          0  1550634322   \n",
       "3692           0          0   330406171   \n",
       "4898           0          0   437070260   \n",
       "5024           0          0   123010725   \n",
       "5237           0          0  1015060786   \n",
       "\n",
       "                                               geometry  \n",
       "127   POLYGON ((-77.99478 43.37506, -77.99402 43.500...  \n",
       "133   POLYGON ((-74.03813 40.53829, -74.03749 40.542...  \n",
       "732   POLYGON ((-76.70129 43.75006, -76.63362 43.834...  \n",
       "788   POLYGON ((-76.64471 43.70347, -76.62468 43.702...  \n",
       "846   POLYGON ((-74.04374 40.60669, -74.04348 40.606...  \n",
       "1242  POLYGON ((-73.78019 40.82640, -73.77498 40.830...  \n",
       "1243  POLYGON ((-73.48439 40.55268, -73.48479 40.589...  \n",
       "1319  POLYGON ((-73.61309 40.95082, -73.61300 40.950...  \n",
       "1393  POLYGON ((-78.46871 43.63343, -78.38882 43.633...  \n",
       "1481  POLYGON ((-73.69445 40.90305, -73.62815 40.941...  \n",
       "1691  POLYGON ((-73.43192 40.98901, -73.42345 40.990...  \n",
       "2257  POLYGON ((-77.38799 43.63154, -77.37480 43.631...  \n",
       "2782  POLYGON ((-74.25875 40.50010, -74.25872 40.500...  \n",
       "3250  POLYGON ((-79.17381 43.46040, -79.17235 43.460...  \n",
       "3692  POLYGON ((-76.75354 43.68427, -76.73472 43.708...  \n",
       "4898  POLYGON ((-79.31214 42.68680, -79.24977 42.710...  \n",
       "5024  POLYGON ((-73.76874 40.53387, -73.76763 40.537...  \n",
       "5237  POLYGON ((-79.76242 42.51607, -79.74977 42.520...  "
      ]
     },
     "execution_count": 11,
     "metadata": {},
     "output_type": "execute_result"
    }
   ],
   "source": [
    "geodf_tract_ny[(geodf_tract_ny['Land Area'] == 0) & (geodf_tract_ny['Population'] == 0)]"
   ]
  },
  {
   "cell_type": "markdown",
   "id": "3d71ca1a-e366-408e-9890-519519e69096",
   "metadata": {},
   "source": [
    "Confirmed - there are, in fact, 0 residents in any NY state census tract thats consist of water only. Now we can go ahead and exclude these census tracts from our Geo DataFrame. "
   ]
  },
  {
   "cell_type": "code",
   "execution_count": 12,
   "id": "ca6cb20e-56ad-4f5e-811b-6231f7c8b97a",
   "metadata": {},
   "outputs": [],
   "source": [
    "geodf_tract_ny = geodf_tract_ny[(geodf_tract_ny['Land Area'] != 0)]"
   ]
  },
  {
   "cell_type": "code",
   "execution_count": 13,
   "id": "3a566736-9594-4f3c-82b6-b3f858316121",
   "metadata": {},
   "outputs": [
    {
     "data": {
      "text/html": [
       "<div>\n",
       "<style scoped>\n",
       "    .dataframe tbody tr th:only-of-type {\n",
       "        vertical-align: middle;\n",
       "    }\n",
       "\n",
       "    .dataframe tbody tr th {\n",
       "        vertical-align: top;\n",
       "    }\n",
       "\n",
       "    .dataframe thead th {\n",
       "        text-align: right;\n",
       "    }\n",
       "</style>\n",
       "<table border=\"1\" class=\"dataframe\">\n",
       "  <thead>\n",
       "    <tr style=\"text-align: right;\">\n",
       "      <th></th>\n",
       "      <th>State FIPS</th>\n",
       "      <th>County FIPS</th>\n",
       "      <th>Census Tract Name</th>\n",
       "      <th>GEOID Census Tract</th>\n",
       "      <th>Population</th>\n",
       "      <th>Land Area</th>\n",
       "      <th>Water Area</th>\n",
       "      <th>Population Density</th>\n",
       "      <th>geometry</th>\n",
       "    </tr>\n",
       "  </thead>\n",
       "  <tbody>\n",
       "    <tr>\n",
       "      <th>0</th>\n",
       "      <td>36</td>\n",
       "      <td>47</td>\n",
       "      <td>Census Tract 7, Kings County, New York</td>\n",
       "      <td>36047000700</td>\n",
       "      <td>4415</td>\n",
       "      <td>176774</td>\n",
       "      <td>0</td>\n",
       "      <td>64686.0</td>\n",
       "      <td>POLYGON ((-74.00154 40.69279, -74.00132 40.693...</td>\n",
       "    </tr>\n",
       "    <tr>\n",
       "      <th>1</th>\n",
       "      <td>36</td>\n",
       "      <td>47</td>\n",
       "      <td>Census Tract 9, Kings County, New York</td>\n",
       "      <td>36047000900</td>\n",
       "      <td>5167</td>\n",
       "      <td>163469</td>\n",
       "      <td>0</td>\n",
       "      <td>81865.0</td>\n",
       "      <td>POLYGON ((-73.99405 40.69090, -73.99374 40.691...</td>\n",
       "    </tr>\n",
       "    <tr>\n",
       "      <th>2</th>\n",
       "      <td>36</td>\n",
       "      <td>47</td>\n",
       "      <td>Census Tract 11, Kings County, New York</td>\n",
       "      <td>36047001100</td>\n",
       "      <td>1578</td>\n",
       "      <td>168507</td>\n",
       "      <td>0</td>\n",
       "      <td>24254.0</td>\n",
       "      <td>POLYGON ((-73.99073 40.69305, -73.99045 40.693...</td>\n",
       "    </tr>\n",
       "  </tbody>\n",
       "</table>\n",
       "</div>"
      ],
      "text/plain": [
       "   State FIPS  County FIPS                        Census Tract Name  \\\n",
       "0          36           47   Census Tract 7, Kings County, New York   \n",
       "1          36           47   Census Tract 9, Kings County, New York   \n",
       "2          36           47  Census Tract 11, Kings County, New York   \n",
       "\n",
       "   GEOID Census Tract  Population  Land Area  Water Area  Population Density  \\\n",
       "0         36047000700        4415     176774           0             64686.0   \n",
       "1         36047000900        5167     163469           0             81865.0   \n",
       "2         36047001100        1578     168507           0             24254.0   \n",
       "\n",
       "                                            geometry  \n",
       "0  POLYGON ((-74.00154 40.69279, -74.00132 40.693...  \n",
       "1  POLYGON ((-73.99405 40.69090, -73.99374 40.691...  \n",
       "2  POLYGON ((-73.99073 40.69305, -73.99045 40.693...  "
      ]
     },
     "execution_count": 13,
     "metadata": {},
     "output_type": "execute_result"
    }
   ],
   "source": [
    "# add a column to calculate population density\n",
    "# land area measured in whole sq meters\n",
    "# sq miles = sq meters/2,589,988 \n",
    "# population density in sq miles  = population/ (land area sq meters / 2,589,988)\n",
    "geodf_tract_ny['Population Density'] = (geodf_tract_ny['Population']/(geodf_tract_ny['Land Area']/2589988)).round(0)\n",
    "geodf_tract_ny = geodf_tract_ny[['State FIPS', 'County FIPS', 'Census Tract Name', 'GEOID Census Tract', 'Population', 'Land Area', 'Water Area', 'Population Density', 'geometry']]\n",
    "geodf_tract_ny.head(3)"
   ]
  },
  {
   "cell_type": "markdown",
   "id": "3a151088-2252-43de-91ed-26a5d5287a26",
   "metadata": {},
   "source": [
    "Our population density calculation will have produced a NaN value in rows where \"Population\" == 0. So, let's locate these and replace each \"NaN\" in the \"Population Density\" column with a \"0\"."
   ]
  },
  {
   "cell_type": "code",
   "execution_count": 14,
   "id": "447ac7ff-29cd-457b-b6f2-f9b72b0f65be",
   "metadata": {},
   "outputs": [],
   "source": [
    "# tracts with population == 0 because these will result in NaN when we calculate Population Density\n",
    "# so let's find these and replace the NaNs with 0s\n",
    "geodf_tract_ny[geodf_tract_ny['Population'] == 0]\n",
    "geodf_tract_ny['Population Density'] = geodf_tract_ny['Population Density'].fillna(0)\n",
    "geodf_tract_ny['Population Density'] = geodf_tract_ny['Population Density'].astype(int) # change dtype to integer"
   ]
  },
  {
   "cell_type": "markdown",
   "id": "2056b5ce-08ab-4ea4-85d5-6ae17593447b",
   "metadata": {},
   "source": [
    "Now let's take it a step further and also make our clean DataFrame *smaller* by saving it to Parquet format."
   ]
  },
  {
   "cell_type": "markdown",
   "id": "7a90ff9c-0c63-46fe-bc15-6b8699fd0d33",
   "metadata": {},
   "source": [
    "### Saving our clean GEO DataFrame for later"
   ]
  },
  {
   "cell_type": "code",
   "execution_count": 15,
   "id": "976211f0-8aaa-411f-9443-b6a3c0f3699f",
   "metadata": {},
   "outputs": [],
   "source": [
    "import pyarrow as pa\n",
    "import warnings; \n",
    "warnings.filterwarnings('ignore', message='.*initial implementation of Parquet.*')\n",
    "clean_geodf_tract_ny_file_parquet = os.path.join(clean_data_dir, \"tl_2020_36_tract20.parquet\")\n",
    "geodf_tract_ny.to_parquet(clean_geodf_tract_ny_file_parquet, index=False, compression='BROTLI')\n",
    "#= pa.Table.from_pandas(ny_shapes_df, preserve_index=False)"
   ]
  },
  {
   "cell_type": "code",
   "execution_count": 16,
   "id": "6d6603a5-1566-418f-b52f-80c5f056240a",
   "metadata": {},
   "outputs": [],
   "source": [
    "# we'll also save a CSV version \n",
    "clean_geodf_tract_ny_file_csv  = os.path.join(clean_data_dir, \"tl_2020_36_tract20.csv\")\n",
    "geodf_tract_ny.to_csv(clean_geodf_tract_ny_file_csv, index=False)\n",
    "#= pa.Table.from_pandas(ny_shapes_df, preserve_index=False)"
   ]
  },
  {
   "cell_type": "markdown",
   "id": "aa59017e-dbb2-4b66-a87f-29ccd5c36983",
   "metadata": {},
   "source": [
    "## NY State \"Place\" shapefiles to GEO DataFrame\n",
    "\n",
    "Let's load the NY State \"Place\" shapefiles as a GEO DataFrame and call it *geodf_place_ny*."
   ]
  },
  {
   "cell_type": "code",
   "execution_count": 17,
   "id": "14c324c9-57d1-4012-8cb1-507af220c3f7",
   "metadata": {},
   "outputs": [
    {
     "data": {
      "text/html": [
       "<div>\n",
       "<style scoped>\n",
       "    .dataframe tbody tr th:only-of-type {\n",
       "        vertical-align: middle;\n",
       "    }\n",
       "\n",
       "    .dataframe tbody tr th {\n",
       "        vertical-align: top;\n",
       "    }\n",
       "\n",
       "    .dataframe thead th {\n",
       "        text-align: right;\n",
       "    }\n",
       "</style>\n",
       "<table border=\"1\" class=\"dataframe\">\n",
       "  <thead>\n",
       "    <tr style=\"text-align: right;\">\n",
       "      <th></th>\n",
       "      <th>State FIPS</th>\n",
       "      <th>Place FIPS</th>\n",
       "      <th>GEOID</th>\n",
       "      <th>Name</th>\n",
       "      <th>Land Area</th>\n",
       "      <th>Water Area</th>\n",
       "      <th>geometry</th>\n",
       "    </tr>\n",
       "  </thead>\n",
       "  <tbody>\n",
       "    <tr>\n",
       "      <th>0</th>\n",
       "      <td>36</td>\n",
       "      <td>01517</td>\n",
       "      <td>3601517</td>\n",
       "      <td>Altamont</td>\n",
       "      <td>3279144</td>\n",
       "      <td>3689</td>\n",
       "      <td>MULTIPOLYGON (((-74.02271 42.70420, -74.02231 ...</td>\n",
       "    </tr>\n",
       "    <tr>\n",
       "      <th>1</th>\n",
       "      <td>36</td>\n",
       "      <td>56979</td>\n",
       "      <td>3656979</td>\n",
       "      <td>Peekskill</td>\n",
       "      <td>11251161</td>\n",
       "      <td>3177119</td>\n",
       "      <td>POLYGON ((-73.95544 41.27786, -73.95204 41.280...</td>\n",
       "    </tr>\n",
       "    <tr>\n",
       "      <th>2</th>\n",
       "      <td>36</td>\n",
       "      <td>18388</td>\n",
       "      <td>3618388</td>\n",
       "      <td>Cortland</td>\n",
       "      <td>10085376</td>\n",
       "      <td>51890</td>\n",
       "      <td>POLYGON ((-76.20049 42.61248, -76.19596 42.612...</td>\n",
       "    </tr>\n",
       "    <tr>\n",
       "      <th>3</th>\n",
       "      <td>36</td>\n",
       "      <td>35276</td>\n",
       "      <td>3635276</td>\n",
       "      <td>Homer</td>\n",
       "      <td>4986794</td>\n",
       "      <td>32383</td>\n",
       "      <td>POLYGON ((-76.20248 42.63292, -76.20161 42.633...</td>\n",
       "    </tr>\n",
       "    <tr>\n",
       "      <th>4</th>\n",
       "      <td>36</td>\n",
       "      <td>42147</td>\n",
       "      <td>3642147</td>\n",
       "      <td>Lewiston</td>\n",
       "      <td>2840234</td>\n",
       "      <td>360474</td>\n",
       "      <td>POLYGON ((-79.05292 43.17400, -79.05287 43.177...</td>\n",
       "    </tr>\n",
       "    <tr>\n",
       "      <th>...</th>\n",
       "      <td>...</td>\n",
       "      <td>...</td>\n",
       "      <td>...</td>\n",
       "      <td>...</td>\n",
       "      <td>...</td>\n",
       "      <td>...</td>\n",
       "      <td>...</td>\n",
       "    </tr>\n",
       "    <tr>\n",
       "      <th>1288</th>\n",
       "      <td>36</td>\n",
       "      <td>83426</td>\n",
       "      <td>3683426</td>\n",
       "      <td>Yaphank</td>\n",
       "      <td>35336639</td>\n",
       "      <td>318022</td>\n",
       "      <td>POLYGON ((-72.96103 40.85172, -72.96021 40.851...</td>\n",
       "    </tr>\n",
       "    <tr>\n",
       "      <th>1289</th>\n",
       "      <td>36</td>\n",
       "      <td>84011</td>\n",
       "      <td>3684011</td>\n",
       "      <td>York</td>\n",
       "      <td>7133085</td>\n",
       "      <td>0</td>\n",
       "      <td>POLYGON ((-77.90695 42.87215, -77.90689 42.873...</td>\n",
       "    </tr>\n",
       "    <tr>\n",
       "      <th>1290</th>\n",
       "      <td>36</td>\n",
       "      <td>84044</td>\n",
       "      <td>3684044</td>\n",
       "      <td>Yorkshire</td>\n",
       "      <td>4778096</td>\n",
       "      <td>26720</td>\n",
       "      <td>POLYGON ((-78.49301 42.51619, -78.49283 42.519...</td>\n",
       "    </tr>\n",
       "    <tr>\n",
       "      <th>1291</th>\n",
       "      <td>36</td>\n",
       "      <td>84088</td>\n",
       "      <td>3684088</td>\n",
       "      <td>Yorktown Heights</td>\n",
       "      <td>2379367</td>\n",
       "      <td>8652</td>\n",
       "      <td>POLYGON ((-73.78428 41.27440, -73.78427 41.274...</td>\n",
       "    </tr>\n",
       "    <tr>\n",
       "      <th>1292</th>\n",
       "      <td>36</td>\n",
       "      <td>84187</td>\n",
       "      <td>3684187</td>\n",
       "      <td>Zena</td>\n",
       "      <td>7918800</td>\n",
       "      <td>88076</td>\n",
       "      <td>POLYGON ((-74.10614 42.02338, -74.10604 42.023...</td>\n",
       "    </tr>\n",
       "  </tbody>\n",
       "</table>\n",
       "<p>1293 rows × 7 columns</p>\n",
       "</div>"
      ],
      "text/plain": [
       "     State FIPS Place FIPS    GEOID              Name  Land Area  Water Area  \\\n",
       "0            36      01517  3601517          Altamont    3279144        3689   \n",
       "1            36      56979  3656979         Peekskill   11251161     3177119   \n",
       "2            36      18388  3618388          Cortland   10085376       51890   \n",
       "3            36      35276  3635276             Homer    4986794       32383   \n",
       "4            36      42147  3642147          Lewiston    2840234      360474   \n",
       "...         ...        ...      ...               ...        ...         ...   \n",
       "1288         36      83426  3683426           Yaphank   35336639      318022   \n",
       "1289         36      84011  3684011              York    7133085           0   \n",
       "1290         36      84044  3684044         Yorkshire    4778096       26720   \n",
       "1291         36      84088  3684088  Yorktown Heights    2379367        8652   \n",
       "1292         36      84187  3684187              Zena    7918800       88076   \n",
       "\n",
       "                                               geometry  \n",
       "0     MULTIPOLYGON (((-74.02271 42.70420, -74.02231 ...  \n",
       "1     POLYGON ((-73.95544 41.27786, -73.95204 41.280...  \n",
       "2     POLYGON ((-76.20049 42.61248, -76.19596 42.612...  \n",
       "3     POLYGON ((-76.20248 42.63292, -76.20161 42.633...  \n",
       "4     POLYGON ((-79.05292 43.17400, -79.05287 43.177...  \n",
       "...                                                 ...  \n",
       "1288  POLYGON ((-72.96103 40.85172, -72.96021 40.851...  \n",
       "1289  POLYGON ((-77.90695 42.87215, -77.90689 42.873...  \n",
       "1290  POLYGON ((-78.49301 42.51619, -78.49283 42.519...  \n",
       "1291  POLYGON ((-73.78428 41.27440, -73.78427 41.274...  \n",
       "1292  POLYGON ((-74.10614 42.02338, -74.10604 42.023...  \n",
       "\n",
       "[1293 rows x 7 columns]"
      ]
     },
     "execution_count": 17,
     "metadata": {},
     "output_type": "execute_result"
    }
   ],
   "source": [
    "import geopandas as gpd \n",
    "\n",
    "# make GEO DataFrame from the NY State \"Place\" shapefiles\n",
    "shapefile_place_ny = os.path.join(shapes_dir,\"tl_2020_36_place20.zip\")\n",
    "geodf_place_ny = gpd.read_file(shapefile_place_ny, encoding_errors='ignore')\n",
    "\n",
    "# select only the columns we want \n",
    "geodf_place_ny = geodf_place_ny[['STATEFP20', 'PLACEFP20', 'GEOID20', 'NAME20', 'ALAND20', 'AWATER20', 'geometry']]\n",
    "\n",
    "# rename the columns\n",
    "geodf_place_ny.rename(columns={'STATEFP20': 'State FIPS', 'PLACEFP20': 'Place FIPS', 'GEOID20': 'GEOID', 'NAME20': 'Name', 'ALAND20': 'Land Area', 'AWATER20': 'Water Area'}, inplace=True)\n",
    "\n",
    "geodf_place_ny.head(3)\n",
    "geodf_place_ny"
   ]
  },
  {
   "cell_type": "markdown",
   "id": "6f602787-a4fa-405e-ad01-f96019e0ed8a",
   "metadata": {},
   "source": [
    "Are there any \"places\" in NY state that consist of water only and no land?"
   ]
  },
  {
   "cell_type": "code",
   "execution_count": 18,
   "id": "89a9e457-5c38-414f-9d3c-f62e5b2f6577",
   "metadata": {},
   "outputs": [
    {
     "data": {
      "text/html": [
       "<div>\n",
       "<style scoped>\n",
       "    .dataframe tbody tr th:only-of-type {\n",
       "        vertical-align: middle;\n",
       "    }\n",
       "\n",
       "    .dataframe tbody tr th {\n",
       "        vertical-align: top;\n",
       "    }\n",
       "\n",
       "    .dataframe thead th {\n",
       "        text-align: right;\n",
       "    }\n",
       "</style>\n",
       "<table border=\"1\" class=\"dataframe\">\n",
       "  <thead>\n",
       "    <tr style=\"text-align: right;\">\n",
       "      <th></th>\n",
       "      <th>State FIPS</th>\n",
       "      <th>Place FIPS</th>\n",
       "      <th>GEOID</th>\n",
       "      <th>Name</th>\n",
       "      <th>Land Area</th>\n",
       "      <th>Water Area</th>\n",
       "      <th>geometry</th>\n",
       "    </tr>\n",
       "  </thead>\n",
       "  <tbody>\n",
       "  </tbody>\n",
       "</table>\n",
       "</div>"
      ],
      "text/plain": [
       "Empty GeoDataFrame\n",
       "Columns: [State FIPS, Place FIPS, GEOID, Name, Land Area, Water Area, geometry]\n",
       "Index: []"
      ]
     },
     "execution_count": 18,
     "metadata": {},
     "output_type": "execute_result"
    }
   ],
   "source": [
    "geodf_place_ny[geodf_place_ny['Land Area'] == 0]"
   ]
  },
  {
   "cell_type": "markdown",
   "id": "0932d30b-3bfc-4c37-bb4e-034ff43e58bc",
   "metadata": {},
   "source": [
    "And, of course, we'll conduct our checks for missing values and correct datatypes."
   ]
  },
  {
   "cell_type": "code",
   "execution_count": 19,
   "id": "450231ee-8aef-4111-bacd-4b696c8340fd",
   "metadata": {},
   "outputs": [
    {
     "name": "stdout",
     "output_type": "stream",
     "text": [
      "<class 'geopandas.geodataframe.GeoDataFrame'>\n",
      "RangeIndex: 1293 entries, 0 to 1292\n",
      "Data columns (total 7 columns):\n",
      " #   Column      Non-Null Count  Dtype   \n",
      "---  ------      --------------  -----   \n",
      " 0   State FIPS  1293 non-null   object  \n",
      " 1   Place FIPS  1293 non-null   object  \n",
      " 2   GEOID       1293 non-null   object  \n",
      " 3   Name        1293 non-null   object  \n",
      " 4   Land Area   1293 non-null   int64   \n",
      " 5   Water Area  1293 non-null   int64   \n",
      " 6   geometry    1293 non-null   geometry\n",
      "dtypes: geometry(1), int64(2), object(4)\n",
      "memory usage: 70.8+ KB\n"
     ]
    }
   ],
   "source": [
    "geodf_place_ny.info()"
   ]
  },
  {
   "cell_type": "markdown",
   "id": "82186615-b189-4ae3-8895-d8d1bb71d0f2",
   "metadata": {},
   "source": [
    "The data type for State FIPS, Place FIPS, and GEOID should really be integer. Let's fix that now."
   ]
  },
  {
   "cell_type": "code",
   "execution_count": 20,
   "id": "98e0a532-961d-4d5c-93b3-41219bdd3018",
   "metadata": {},
   "outputs": [
    {
     "data": {
      "text/plain": [
       "State FIPS       int64\n",
       "Place FIPS       int64\n",
       "GEOID            int64\n",
       "Name            object\n",
       "Land Area        int64\n",
       "Water Area       int64\n",
       "geometry      geometry\n",
       "dtype: object"
      ]
     },
     "execution_count": 20,
     "metadata": {},
     "output_type": "execute_result"
    }
   ],
   "source": [
    "# Set the data type of each column are as we want it to be\n",
    "geodf_place_ny['State FIPS'] = geodf_place_ny['State FIPS'].astype(int)\n",
    "geodf_place_ny['Place FIPS'] = geodf_place_ny['Place FIPS'].astype(int)\n",
    "geodf_place_ny['GEOID'] = geodf_place_ny['GEOID'].astype(int)\n",
    "geodf_place_ny.dtypes"
   ]
  },
  {
   "cell_type": "markdown",
   "id": "ea4f4778-49dc-472c-bb01-1112798bcbe1",
   "metadata": {},
   "source": [
    "One final check for missing values."
   ]
  },
  {
   "cell_type": "code",
   "execution_count": 21,
   "id": "c28dc255-53c9-47ec-973d-e644d2358847",
   "metadata": {},
   "outputs": [
    {
     "data": {
      "text/html": [
       "<div>\n",
       "<style scoped>\n",
       "    .dataframe tbody tr th:only-of-type {\n",
       "        vertical-align: middle;\n",
       "    }\n",
       "\n",
       "    .dataframe tbody tr th {\n",
       "        vertical-align: top;\n",
       "    }\n",
       "\n",
       "    .dataframe thead th {\n",
       "        text-align: right;\n",
       "    }\n",
       "</style>\n",
       "<table border=\"1\" class=\"dataframe\">\n",
       "  <thead>\n",
       "    <tr style=\"text-align: right;\">\n",
       "      <th></th>\n",
       "      <th>State FIPS</th>\n",
       "      <th>Place FIPS</th>\n",
       "      <th>GEOID</th>\n",
       "      <th>Name</th>\n",
       "      <th>Land Area</th>\n",
       "      <th>Water Area</th>\n",
       "      <th>geometry</th>\n",
       "    </tr>\n",
       "  </thead>\n",
       "  <tbody>\n",
       "  </tbody>\n",
       "</table>\n",
       "</div>"
      ],
      "text/plain": [
       "Empty GeoDataFrame\n",
       "Columns: [State FIPS, Place FIPS, GEOID, Name, Land Area, Water Area, geometry]\n",
       "Index: []"
      ]
     },
     "execution_count": 21,
     "metadata": {},
     "output_type": "execute_result"
    }
   ],
   "source": [
    "# another check for null values\n",
    "geodf_place_ny[geodf_place_ny.isna().any(axis=1)]"
   ]
  },
  {
   "cell_type": "markdown",
   "id": "6c0b470c-dd99-4fc0-b3c2-b3aeb73aeb5f",
   "metadata": {},
   "source": [
    "All clear! With null values rule out, we're almost done with our NY State place GEO DataFrame. There's just one last thing bothering us - a naming inconsistency between the NY place FIPS code list and NY place shapefiles we downloaded. This is confusing!"
   ]
  },
  {
   "cell_type": "markdown",
   "id": "7c9786eb-3212-418f-be7a-cbea7ea7dc8d",
   "metadata": {},
   "source": [
    "### Ensuring consistent naming"
   ]
  },
  {
   "cell_type": "markdown",
   "id": "ed3ae8ce-5518-4856-b300-bd0c3d1194b1",
   "metadata": {},
   "source": [
    "We can see an example below when we look at place FIPS 51000. It's referred to as \"New York City\" in the the NY Place FIPS code list and simply \"New York\" in the corresponding shapefiles. "
   ]
  },
  {
   "cell_type": "code",
   "execution_count": 22,
   "id": "7171df47-ffe7-4e39-ac1d-3088644971fb",
   "metadata": {},
   "outputs": [
    {
     "data": {
      "text/html": [
       "<div>\n",
       "<style scoped>\n",
       "    .dataframe tbody tr th:only-of-type {\n",
       "        vertical-align: middle;\n",
       "    }\n",
       "\n",
       "    .dataframe tbody tr th {\n",
       "        vertical-align: top;\n",
       "    }\n",
       "\n",
       "    .dataframe thead th {\n",
       "        text-align: right;\n",
       "    }\n",
       "</style>\n",
       "<table border=\"1\" class=\"dataframe\">\n",
       "  <thead>\n",
       "    <tr style=\"text-align: right;\">\n",
       "      <th></th>\n",
       "      <th>State Name</th>\n",
       "      <th>State</th>\n",
       "      <th>State FIPS</th>\n",
       "      <th>Place</th>\n",
       "      <th>Place FIPS</th>\n",
       "      <th>County</th>\n",
       "    </tr>\n",
       "  </thead>\n",
       "  <tbody>\n",
       "    <tr>\n",
       "      <th>24316</th>\n",
       "      <td>New York</td>\n",
       "      <td>NY</td>\n",
       "      <td>36</td>\n",
       "      <td>New York City</td>\n",
       "      <td>51000</td>\n",
       "      <td>Bronx County, Kings County, New York County, Q...</td>\n",
       "    </tr>\n",
       "  </tbody>\n",
       "</table>\n",
       "</div>"
      ],
      "text/plain": [
       "      State Name State  State FIPS          Place  Place FIPS  \\\n",
       "24316   New York    NY          36  New York City       51000   \n",
       "\n",
       "                                                  County  \n",
       "24316  Bronx County, Kings County, New York County, Q...  "
      ]
     },
     "execution_count": 22,
     "metadata": {},
     "output_type": "execute_result"
    }
   ],
   "source": [
    "import pyarrow.parquet as pq\n",
    "\n",
    "clean_df_place_file = os.path.join(clean_data_dir, 'place.parquet')\n",
    "df_place = pq.read_table(clean_df_place_file, memory_map=True).to_pandas()\n",
    "df_place[(df_place['Place FIPS'] == 51000) & (df_place['State FIPS'] == 36)]"
   ]
  },
  {
   "cell_type": "code",
   "execution_count": 23,
   "id": "44018810-9c3b-495a-91d6-fedeb7615e07",
   "metadata": {},
   "outputs": [
    {
     "data": {
      "text/html": [
       "<div>\n",
       "<style scoped>\n",
       "    .dataframe tbody tr th:only-of-type {\n",
       "        vertical-align: middle;\n",
       "    }\n",
       "\n",
       "    .dataframe tbody tr th {\n",
       "        vertical-align: top;\n",
       "    }\n",
       "\n",
       "    .dataframe thead th {\n",
       "        text-align: right;\n",
       "    }\n",
       "</style>\n",
       "<table border=\"1\" class=\"dataframe\">\n",
       "  <thead>\n",
       "    <tr style=\"text-align: right;\">\n",
       "      <th></th>\n",
       "      <th>State FIPS</th>\n",
       "      <th>Place FIPS</th>\n",
       "      <th>GEOID</th>\n",
       "      <th>Name</th>\n",
       "      <th>Land Area</th>\n",
       "      <th>Water Area</th>\n",
       "      <th>geometry</th>\n",
       "    </tr>\n",
       "  </thead>\n",
       "  <tbody>\n",
       "    <tr>\n",
       "      <th>398</th>\n",
       "      <td>36</td>\n",
       "      <td>51000</td>\n",
       "      <td>3651000</td>\n",
       "      <td>New York</td>\n",
       "      <td>778165283</td>\n",
       "      <td>445421632</td>\n",
       "      <td>MULTIPOLYGON (((-74.04075 40.70017, -74.04073 ...</td>\n",
       "    </tr>\n",
       "  </tbody>\n",
       "</table>\n",
       "</div>"
      ],
      "text/plain": [
       "     State FIPS  Place FIPS    GEOID      Name  Land Area  Water Area  \\\n",
       "398          36       51000  3651000  New York  778165283   445421632   \n",
       "\n",
       "                                              geometry  \n",
       "398  MULTIPOLYGON (((-74.04075 40.70017, -74.04073 ...  "
      ]
     },
     "execution_count": 23,
     "metadata": {},
     "output_type": "execute_result"
    }
   ],
   "source": [
    "geodf_place_ny[geodf_place_ny['Place FIPS'] == 51000]"
   ]
  },
  {
   "cell_type": "markdown",
   "id": "2691e58f-3a6a-4263-af05-8f25b9a08d8f",
   "metadata": {},
   "source": [
    "We prefer the full name, \"New York City\". So, we'll resolve the inconsistency by merging the \"Place\" column from *df_place* into *geodf_place_ny* and keeping only the columns we want. "
   ]
  },
  {
   "cell_type": "code",
   "execution_count": 24,
   "id": "511444ae-4da4-453a-a6f9-46c9c3eaf27c",
   "metadata": {},
   "outputs": [
    {
     "data": {
      "text/html": [
       "<div>\n",
       "<style scoped>\n",
       "    .dataframe tbody tr th:only-of-type {\n",
       "        vertical-align: middle;\n",
       "    }\n",
       "\n",
       "    .dataframe tbody tr th {\n",
       "        vertical-align: top;\n",
       "    }\n",
       "\n",
       "    .dataframe thead th {\n",
       "        text-align: right;\n",
       "    }\n",
       "</style>\n",
       "<table border=\"1\" class=\"dataframe\">\n",
       "  <thead>\n",
       "    <tr style=\"text-align: right;\">\n",
       "      <th></th>\n",
       "      <th>State Name</th>\n",
       "      <th>State</th>\n",
       "      <th>State FIPS</th>\n",
       "      <th>Place</th>\n",
       "      <th>Place FIPS</th>\n",
       "      <th>County</th>\n",
       "      <th>Land Area</th>\n",
       "      <th>Water Area</th>\n",
       "      <th>geometry</th>\n",
       "    </tr>\n",
       "  </thead>\n",
       "  <tbody>\n",
       "    <tr>\n",
       "      <th>440</th>\n",
       "      <td>New York</td>\n",
       "      <td>NY</td>\n",
       "      <td>36</td>\n",
       "      <td>New York City</td>\n",
       "      <td>51000</td>\n",
       "      <td>Bronx County, Kings County, New York County, Q...</td>\n",
       "      <td>778165283</td>\n",
       "      <td>445421632</td>\n",
       "      <td>MULTIPOLYGON (((-74.04075 40.70017, -74.04073 ...</td>\n",
       "    </tr>\n",
       "  </tbody>\n",
       "</table>\n",
       "</div>"
      ],
      "text/plain": [
       "    State Name State  State FIPS          Place  Place FIPS  \\\n",
       "440   New York    NY          36  New York City       51000   \n",
       "\n",
       "                                                County  Land Area  Water Area  \\\n",
       "440  Bronx County, Kings County, New York County, Q...  778165283   445421632   \n",
       "\n",
       "                                              geometry  \n",
       "440  MULTIPOLYGON (((-74.04075 40.70017, -74.04073 ...  "
      ]
     },
     "execution_count": 24,
     "metadata": {},
     "output_type": "execute_result"
    }
   ],
   "source": [
    "geodf_place_ny = geodf_place_ny.merge(df_place, on =['State FIPS', 'Place FIPS'])\n",
    "geodf_place_ny = geodf_place_ny[['State Name', 'State', 'State FIPS', 'Place', 'Place FIPS', 'County', 'Land Area', 'Water Area', 'geometry']] \n",
    "geodf_place_ny[geodf_place_ny['Place FIPS'] == 51000]"
   ]
  },
  {
   "cell_type": "markdown",
   "id": "49c06c5f-0817-4a30-b5c3-383cd5f6a88e",
   "metadata": {},
   "source": [
    "Good! We can now save this clean, consistent version as both a CSV and a Parquet file for use in our next notebook."
   ]
  },
  {
   "cell_type": "code",
   "execution_count": 25,
   "id": "e7ce8923-9b89-47b7-b058-a60662204685",
   "metadata": {},
   "outputs": [],
   "source": [
    "# save geodf_place_ny as Parquet\n",
    "clean_geodf_place_ny_file_parquet = os.path.join(clean_data_dir, 'geodf_place_ny.parquet')\n",
    "geodf_place_ny.to_parquet(clean_geodf_place_ny_file_parquet, index=False, compression='BROTLI')"
   ]
  },
  {
   "cell_type": "code",
   "execution_count": 26,
   "id": "741dd50f-e6ff-448a-a760-112e93481118",
   "metadata": {},
   "outputs": [],
   "source": [
    "# this is a back up CSV version \n",
    "clean_geodf_place_ny_file_csv  = os.path.join(clean_data_dir, \"geodf_place_ny.csv\")\n",
    "geodf_place_ny.to_csv(clean_geodf_place_ny_file_csv, index=False)\n",
    "#= pa.Table.from_pandas(ny_shapes_df, preserve_index=False)"
   ]
  },
  {
   "cell_type": "markdown",
   "id": "8c408ac9-6afa-44fc-aee7-dbf3f3bd8782",
   "metadata": {},
   "source": [
    "## New York City \"place\" GEO DataFrame"
   ]
  },
  {
   "cell_type": "markdown",
   "id": "807a4407-b4b3-471e-95b2-daa510e0bf15",
   "metadata": {},
   "source": [
    "Lastly, we'll save a separate GEO DataFrame of just the geographic information for New York City. We'll call it *geodfy_place_nyc* and also save it as a CSV and Parquet file. "
   ]
  },
  {
   "cell_type": "code",
   "execution_count": 27,
   "id": "80ad77b3-4a56-433f-a746-c28027447afd",
   "metadata": {},
   "outputs": [
    {
     "data": {
      "text/html": [
       "<div>\n",
       "<style scoped>\n",
       "    .dataframe tbody tr th:only-of-type {\n",
       "        vertical-align: middle;\n",
       "    }\n",
       "\n",
       "    .dataframe tbody tr th {\n",
       "        vertical-align: top;\n",
       "    }\n",
       "\n",
       "    .dataframe thead th {\n",
       "        text-align: right;\n",
       "    }\n",
       "</style>\n",
       "<table border=\"1\" class=\"dataframe\">\n",
       "  <thead>\n",
       "    <tr style=\"text-align: right;\">\n",
       "      <th></th>\n",
       "      <th>State Name</th>\n",
       "      <th>State</th>\n",
       "      <th>State FIPS</th>\n",
       "      <th>Place</th>\n",
       "      <th>Place FIPS</th>\n",
       "      <th>County</th>\n",
       "      <th>Land Area</th>\n",
       "      <th>Water Area</th>\n",
       "      <th>geometry</th>\n",
       "    </tr>\n",
       "  </thead>\n",
       "  <tbody>\n",
       "    <tr>\n",
       "      <th>440</th>\n",
       "      <td>New York</td>\n",
       "      <td>NY</td>\n",
       "      <td>36</td>\n",
       "      <td>New York City</td>\n",
       "      <td>51000</td>\n",
       "      <td>Bronx County, Kings County, New York County, Q...</td>\n",
       "      <td>778165283</td>\n",
       "      <td>445421632</td>\n",
       "      <td>MULTIPOLYGON (((-74.04075 40.70017, -74.04073 ...</td>\n",
       "    </tr>\n",
       "  </tbody>\n",
       "</table>\n",
       "</div>"
      ],
      "text/plain": [
       "    State Name State  State FIPS          Place  Place FIPS  \\\n",
       "440   New York    NY          36  New York City       51000   \n",
       "\n",
       "                                                County  Land Area  Water Area  \\\n",
       "440  Bronx County, Kings County, New York County, Q...  778165283   445421632   \n",
       "\n",
       "                                              geometry  \n",
       "440  MULTIPOLYGON (((-74.04075 40.70017, -74.04073 ...  "
      ]
     },
     "execution_count": 27,
     "metadata": {},
     "output_type": "execute_result"
    }
   ],
   "source": [
    "# make a new GEO DF of just the Place New York City\n",
    "geodf_place_nyc = geodf_place_ny[geodf_place_ny['Place FIPS'] == 51000]\n",
    "geodf_place_nyc "
   ]
  },
  {
   "cell_type": "code",
   "execution_count": 28,
   "id": "cc2bdf8a-ac91-43b9-8c1e-d64350bb0bc6",
   "metadata": {},
   "outputs": [],
   "source": [
    "# save as Parquet\n",
    "clean_geodf_place_nyc_file_parquet = os.path.join(clean_data_dir, 'geodf_place_nyc.parquet')\n",
    "geodf_place_nyc.to_parquet(clean_geodf_place_nyc_file_parquet, index=False, compression='BROTLI')"
   ]
  },
  {
   "cell_type": "code",
   "execution_count": 29,
   "id": "c5b73fe3-7189-4e0a-9a15-3c926487ef60",
   "metadata": {},
   "outputs": [],
   "source": [
    "# also save a CSV version \n",
    "clean_geodf_place_nyc_file_csv = os.path.join(clean_data_dir, \"geodf_place_nyc.csv\")\n",
    "geodf_place_nyc.to_csv(clean_geodf_place_nyc_file_csv, index=False)\n",
    "#= pa.Table.from_pandas(ny_shapes_df, preserve_index=False)"
   ]
  }
 ],
 "metadata": {
  "kernelspec": {
   "display_name": "Python 3 (ipykernel)",
   "language": "python",
   "name": "python3"
  },
  "language_info": {
   "codemirror_mode": {
    "name": "ipython",
    "version": 3
   },
   "file_extension": ".py",
   "mimetype": "text/x-python",
   "name": "python",
   "nbconvert_exporter": "python",
   "pygments_lexer": "ipython3",
   "version": "3.9.12"
  }
 },
 "nbformat": 4,
 "nbformat_minor": 5
}
