{
 "cells": [
  {
   "cell_type": "markdown",
   "id": "bb790b53-8b18-449d-8168-4de4b6ff4f6f",
   "metadata": {
    "tags": []
   },
   "source": [
    "# What's the state of indoor agriculture in the US?\n",
    "\n",
    "Having worked in food distribution for a decade, I probably spend a lot more time thinking about the logistics of food than most people do. When I eat, it's hard for me *not* to imagine where my food came from and how it reached me. Still, it wasn't until the pandemic reached New York City that the thought of losing access to fresh food began to seem like a real possibility. The combination of fear and free time is powerful. Overnight, my long dormant interest in gardening reawakened. The ability to grow a few vegetables at home did provide a bit of comfort. It was really the knowledge, though, that food was being grown on a commercial scale only blocks from my home in this crowded city, that set my mind closer to something like ease. I'd been won over to local, hydroponically grown greens years before based on quality alone and had happily paid a premium. As the pandemic gained momentum and my city locked down, what had once been a source of luxury - indoor farms- became a for me a symbol of hope. Sure the world was a mess, but we might just be able to dig ourselves out of it.\n",
    "\n",
    "Once I became attuned, indoor farms seemed to begin cropping up left and right. Apparently, the industry was quite a bit larger than I'd realized. Looking to understand the landscape better, the question of *where* exactly these farms were located seemed like a good place to start.\n",
    "\n",
    "## Examining population density and the emergence of indoor farming\n",
    "So, what kinds of places become home to indoor farms? There are a lot of ways to characterize a place, so I decided to narrow my initial scope to population density using data from the most recent US Census, 2020. Given that my own neighborhood can very significantly in the span of a few blocks, I wanted the population data to be pretty granular and opted for the smallest geographic unit for which data was available. While census *blocks* are actually the smallest unit for which census data is gathered, 2020 data at this level was not yet available when I began this project, so I took what I could get - census *tracts*."
   ]
  },
  {
   "cell_type": "markdown",
   "id": "89318201-f160-47ae-aeeb-3d11c42ff817",
   "metadata": {
    "tags": []
   },
   "source": [
    "## Taming the data beast\n",
    "\n",
    "The [US Decennial Census of Population and Housing](https://www.census.gov/programs-surveys/decennial-census/data/datasets.html) provides a rich source of raw data, but it can be challenging to decipher and synthesize into usable features. The \"Data sources\" section of my notebooks details the specific files I used and the steps I took to access them. The remaining paragraphs walk through the data cleaning and analysis techniques I applied towards my goal of contributing to the understanding of the indoor farming industry and food security overall.  \n",
    "\n",
    "Steps: \n",
    "\n",
    "1. Population data - all census tracts in the US and Puerto Rico\n",
    "\n",
    "    - clean and organize data\n",
    "    - produce a tidy, ready-to-use DataFrame\n",
    "    \n",
    "2. GEOID codes - state, county, \"place\" code tables\n",
    "\n",
    "    - clean and organize data -\n",
    "    - merge state and county into one DataFrame\n",
    "    - create a separate DataFrame for places \n",
    "    \n",
    "3. Geographic data - shapefiles for NY State at the census tract level\n",
    "   - create a GEO DataFrame for NY State\n",
    "   - merge with population data and calculate population density\n",
    "   - GEOID codes DataFrame to isolate shapefiles for NYC\n",
    "   - map NY state census tracts with population desnity in Kepler\n",
    "   - add color based on population density\n",
    "   - add a layer for places\n",
    "\n",
    "\n",
    "4. Farm data - NYC indoor farms, addresses\n",
    "    - produce a DataFrame of infoor farms in NYC\n",
    "    - turn addresses into GEO info\n",
    "    - plot in Kepler\n"
   ]
  },
  {
   "cell_type": "code",
   "execution_count": null,
   "id": "148943c8-5126-455f-be1c-74b9331964e8",
   "metadata": {},
   "outputs": [],
   "source": []
  },
  {
   "cell_type": "markdown",
   "id": "2b60158f-0002-4c04-986d-9a40e2fc4560",
   "metadata": {},
   "source": [
    "The goal of this section is to produce a clean, tidy, ready-to-use DataFrame of population data for every census tract in the US and Puerto Rico. "
   ]
  },
  {
   "cell_type": "markdown",
   "id": "2cecbdb8-f562-4418-a78c-e84a96d50158",
   "metadata": {
    "jp-MarkdownHeadingCollapsed": true,
    "tags": []
   },
   "source": [
    "### Data Sources\n",
    "\n",
    "The below list details the data sources used for this section of the project. Since several routes can be taken to access the same census data, I've included the specific steps I followed to access them. To save both time and space, I've store the population data compressed as a tgz file. \n",
    "\n",
    "**Population Data:**\n",
    "\n",
    "*2020 Census: Redistricting File (Public Law 94-171)* - downloaded from Census.gov\n",
    "* accessed via [\"Table\" tab](https://data.census.gov/cedsci/table?q=United%20States) on Census.gov\n",
    "* filters selected: *Years: 2020 > Geography: All Census Tracts within United States > Topics: Populations and People*\n",
    "* table name: \"Decennial Census, P1 | RACE, 2020: DEC Redistricting Data (PL 94-171)\" "
   ]
  },
  {
   "cell_type": "markdown",
   "id": "49e6257f-1ba9-48d3-a03a-2701cd6e6d44",
   "metadata": {},
   "source": [
    "### Initial setup to make life easier\n",
    "I've imported below the Python `os` and `pathlib` modules and included some additional code to make it easier to refer to the folders where we'll be storing the various data files for this project."
   ]
  },
  {
   "cell_type": "code",
   "execution_count": 1,
   "id": "a64df104-6781-4544-afbf-8e78cd655373",
   "metadata": {},
   "outputs": [],
   "source": [
    "# os module provides a variety of frequently used file system functions including path.join\n",
    "# pathlib module makes it easier to manipulate folder and file paths with Python\n",
    "# everything builds off base_dir, so if we move our code later, we'll only need to change base_dir\n",
    "import os, pathlib\n",
    "# base_dir - the immediate parent folder of this notebook\n",
    "# we expect our data folders to be found here\n",
    "base_dir = pathlib.Path(os.getcwd()).parent\n",
    "\n",
    "# data_archive - we'll store compressed files here\n",
    "# these will be preserved in git\n",
    "data_archive_dir = os.path.join(base_dir, \"data_archive\")\n",
    "\n",
    "#\n",
    "clean_data_dir = os.path.join(data_archive_dir, \"clean\")\n",
    "\n",
    "# data_dir - large/numerous files will go here\n",
    "# these will not be preserved in git!\n",
    "# we'll only put files here that can be recreated with some python code (e.g. downloaded \n",
    "# or unpacked from data_archive, or generated from a DataFrame)\n",
    "data_dir = os.path.join(base_dir, \"data\")\n",
    "\n",
    "# shapes_dir - folders containing shapefiles go here\n",
    "shapes_dir = os.path.join(data_dir,\"shapes\")\n",
    "\n",
    "# json_dir - we'll store here GeoJSON we've generated and want to save for re-use \n",
    "json_dir = os.path.join(data_dir,\"geojson\")\n"
   ]
  },
  {
   "cell_type": "markdown",
   "id": "d0ce0f6a-9962-4c23-bb59-065021faba9a",
   "metadata": {},
   "source": [
    "## Population data"
   ]
  },
  {
   "cell_type": "markdown",
   "id": "2977eedb-ce44-4a12-9b27-3a15dad3e0f5",
   "metadata": {},
   "source": [
    "Let's load our population data as a pandas DataFrame using the `extract_from_tgz` function included below. (Alternative code for opening regular non-compressed .csv files as a pandas DataFrame is included below.)"
   ]
  },
  {
   "cell_type": "code",
   "execution_count": 2,
   "id": "2f09932d-4347-4514-89ec-8aeebbd77bf0",
   "metadata": {},
   "outputs": [],
   "source": [
    "# population data is stored compressed as tgz files to save time and space\n",
    "import tarfile\n",
    "import pandas as pd\n",
    "\n",
    "# these options determine how much data is displayed in the notebook\n",
    "pd.set_option('display.width', None)\n",
    "pd.set_option('display.max_colwidth', None)\n",
    "\n",
    "# 32mb+ of census data saved in a 4.7mb archive\n",
    "file_census_data_tgz = os.path.join(data_archive_dir, 'census_data_2022_03_01.tgz')\n",
    "\n",
    "# this is the population data file we'll extract from the above tgz file\n",
    "file_census_data_csv = 'DECENNIALPL2020.P1_data_with_overlays_2021-12-02T121459.csv'\n",
    "\n",
    "# this function creates a DataFrame from our tgz archive file\n",
    "def extract_from_tgz(filename):\n",
    "    with tarfile.open(filename) as tf:\n",
    "        for file in tf.getmembers():\n",
    "            if file.name == file_census_data_csv:\n",
    "                data = tf.extractfile(file)\n",
    "                return pd.read_csv(data, low_memory=False, usecols=[0, 1, 2])\n",
    "\n",
    "# now call the function to extract our tgz file and load it as a pandas DataFrame\n",
    "df_census_pop = extract_from_tgz(file_census_data_tgz)\n",
    "\n",
    "# alternative code for loading .csv files as a pandas DataFrame\n",
    "# use the line of code below and ignore the extract_from_tgz function if working with a regular .csv file\n",
    "# df_census_pop = pd.read_csv(filename, low_memory=False)\n",
    "\n",
    "# 17mb of GIS data saved in a 2.4mb archive\n",
    "# not sure we are using this file anymore...\n",
    "# file_gis = os.path.join(data_archive_dir, '2020_Gaz_tracts_national.gz')\n"
   ]
  },
  {
   "cell_type": "markdown",
   "id": "c1c34e24-269b-49ba-b903-9bd4625f053e",
   "metadata": {},
   "source": [
    "### Data inspection"
   ]
  },
  {
   "cell_type": "markdown",
   "id": "fab6fdfe-424e-4b84-8b80-c5d6bab223d6",
   "metadata": {},
   "source": [
    "Calling `.shape` tells us, before even setting eyes on it, that our DataFrame is enormous. 73 columns and 85,000+ rows! The [Tallies list on Census.gov](https://www.census.gov/geographies/reference-files/time-series/geo/tallies.html#tract_bg_block) is a handy reference to quickly check that we haven't accidentally dropped any rows. The *2020 Census Tallies of Census Tracts, Block Groups & Blocks* table on that page indicates that there are 85,395 census tracts total for the US and Puerto Rico. This checks out with what .shape is telling us (we can subtract 1 from the total rows in our table, since the values in the first row are descriptions, rather than data.)"
   ]
  },
  {
   "cell_type": "code",
   "execution_count": 3,
   "id": "5dd6df4d-ad85-4dc5-a02c-41f6a54a1f2f",
   "metadata": {},
   "outputs": [
    {
     "data": {
      "text/plain": [
       "(85396, 3)"
      ]
     },
     "execution_count": 3,
     "metadata": {},
     "output_type": "execute_result"
    }
   ],
   "source": [
    "df_census_pop.shape"
   ]
  },
  {
   "cell_type": "markdown",
   "id": "4d2550a5-faf7-4338-ba97-b49916add24f",
   "metadata": {},
   "source": [
    "We can get a pretty good sense of the actual data by using `.head(n)` to view just the first few rows."
   ]
  },
  {
   "cell_type": "code",
   "execution_count": 4,
   "id": "47901740-95fb-4f22-998e-61579373c56c",
   "metadata": {},
   "outputs": [
    {
     "data": {
      "text/html": [
       "<div>\n",
       "<style scoped>\n",
       "    .dataframe tbody tr th:only-of-type {\n",
       "        vertical-align: middle;\n",
       "    }\n",
       "\n",
       "    .dataframe tbody tr th {\n",
       "        vertical-align: top;\n",
       "    }\n",
       "\n",
       "    .dataframe thead th {\n",
       "        text-align: right;\n",
       "    }\n",
       "</style>\n",
       "<table border=\"1\" class=\"dataframe\">\n",
       "  <thead>\n",
       "    <tr style=\"text-align: right;\">\n",
       "      <th></th>\n",
       "      <th>GEO_ID</th>\n",
       "      <th>NAME</th>\n",
       "      <th>P1_001N</th>\n",
       "    </tr>\n",
       "  </thead>\n",
       "  <tbody>\n",
       "    <tr>\n",
       "      <th>0</th>\n",
       "      <td>id</td>\n",
       "      <td>Geographic Area Name</td>\n",
       "      <td>!!Total:</td>\n",
       "    </tr>\n",
       "    <tr>\n",
       "      <th>1</th>\n",
       "      <td>1400000US01001020100</td>\n",
       "      <td>Census Tract 201, Autauga County, Alabama</td>\n",
       "      <td>1775</td>\n",
       "    </tr>\n",
       "    <tr>\n",
       "      <th>2</th>\n",
       "      <td>1400000US01001020200</td>\n",
       "      <td>Census Tract 202, Autauga County, Alabama</td>\n",
       "      <td>2055</td>\n",
       "    </tr>\n",
       "  </tbody>\n",
       "</table>\n",
       "</div>"
      ],
      "text/plain": [
       "                 GEO_ID                                       NAME    P1_001N\n",
       "0                    id                       Geographic Area Name   !!Total:\n",
       "1  1400000US01001020100  Census Tract 201, Autauga County, Alabama       1775\n",
       "2  1400000US01001020200  Census Tract 202, Autauga County, Alabama       2055"
      ]
     },
     "execution_count": 4,
     "metadata": {},
     "output_type": "execute_result"
    }
   ],
   "source": [
    "df_census_pop.head(3)"
   ]
  },
  {
   "cell_type": "markdown",
   "id": "c7d14cdf-a282-43e7-ab2c-21e043206e94",
   "metadata": {},
   "source": [
    "### Data cleanup"
   ]
  },
  {
   "cell_type": "markdown",
   "id": "2529d0db-ca17-4625-b7c5-1227faffb3a4",
   "metadata": {},
   "source": [
    "It looks like the columns have been named using codes that aren't very meaningful to us. Fortunately, as mentioned above, the first row of the table includes descriptions of the data, so we'll replace the original column names with these. Let's also specify that the values in the first column are the full GEOIDs found in .csv files downloaded from data.census.gov. They include 9 characters not found in the shorter form GEOIDs used in Tiger/Line shapefiles, which we'll be looking at shortly. For reference, the census.gov site provides a detailed explanation of [how GEOIDs work](https://www.census.gov/programs-surveys/geography/guidance/geo-identifiers.html)."
   ]
  },
  {
   "cell_type": "code",
   "execution_count": 5,
   "id": "222373c8-ba04-4c6b-8e87-ef7a26a53a7c",
   "metadata": {},
   "outputs": [
    {
     "data": {
      "text/html": [
       "<div>\n",
       "<style scoped>\n",
       "    .dataframe tbody tr th:only-of-type {\n",
       "        vertical-align: middle;\n",
       "    }\n",
       "\n",
       "    .dataframe tbody tr th {\n",
       "        vertical-align: top;\n",
       "    }\n",
       "\n",
       "    .dataframe thead th {\n",
       "        text-align: right;\n",
       "    }\n",
       "</style>\n",
       "<table border=\"1\" class=\"dataframe\">\n",
       "  <thead>\n",
       "    <tr style=\"text-align: right;\">\n",
       "      <th></th>\n",
       "      <th>GEOID Census Tract Full</th>\n",
       "      <th>Census Tract Name</th>\n",
       "      <th>Population</th>\n",
       "    </tr>\n",
       "  </thead>\n",
       "  <tbody>\n",
       "    <tr>\n",
       "      <th>1</th>\n",
       "      <td>1400000US01001020100</td>\n",
       "      <td>Census Tract 201, Autauga County, Alabama</td>\n",
       "      <td>1775</td>\n",
       "    </tr>\n",
       "    <tr>\n",
       "      <th>2</th>\n",
       "      <td>1400000US01001020200</td>\n",
       "      <td>Census Tract 202, Autauga County, Alabama</td>\n",
       "      <td>2055</td>\n",
       "    </tr>\n",
       "  </tbody>\n",
       "</table>\n",
       "</div>"
      ],
      "text/plain": [
       "  GEOID Census Tract Full                          Census Tract Name  \\\n",
       "1    1400000US01001020100  Census Tract 201, Autauga County, Alabama   \n",
       "2    1400000US01001020200  Census Tract 202, Autauga County, Alabama   \n",
       "\n",
       "  Population  \n",
       "1       1775  \n",
       "2       2055  "
      ]
     },
     "execution_count": 5,
     "metadata": {},
     "output_type": "execute_result"
    }
   ],
   "source": [
    "df_census_pop = df_census_pop.drop(0)\n",
    "df_census_pop.columns = [\"GEOID Census Tract Full\", \"Census Tract Name\", \"Population\"]\n",
    "df_census_pop.head(2)"
   ]
  },
  {
   "cell_type": "code",
   "execution_count": 6,
   "id": "3ea61dc4-c711-4792-84d0-eb167da7e1b6",
   "metadata": {},
   "outputs": [
    {
     "data": {
      "text/html": [
       "<div>\n",
       "<style scoped>\n",
       "    .dataframe tbody tr th:only-of-type {\n",
       "        vertical-align: middle;\n",
       "    }\n",
       "\n",
       "    .dataframe tbody tr th {\n",
       "        vertical-align: top;\n",
       "    }\n",
       "\n",
       "    .dataframe thead th {\n",
       "        text-align: right;\n",
       "    }\n",
       "</style>\n",
       "<table border=\"1\" class=\"dataframe\">\n",
       "  <thead>\n",
       "    <tr style=\"text-align: right;\">\n",
       "      <th></th>\n",
       "      <th>GEOID Census Tract Full</th>\n",
       "      <th>Census Tract Name</th>\n",
       "      <th>Population</th>\n",
       "    </tr>\n",
       "  </thead>\n",
       "  <tbody>\n",
       "    <tr>\n",
       "      <th>85391</th>\n",
       "      <td>1400000US72153750501</td>\n",
       "      <td>Census Tract 7505.01, Yauco Municipio, Puerto Rico</td>\n",
       "      <td>3968</td>\n",
       "    </tr>\n",
       "    <tr>\n",
       "      <th>85392</th>\n",
       "      <td>1400000US72153750502</td>\n",
       "      <td>Census Tract 7505.02, Yauco Municipio, Puerto Rico</td>\n",
       "      <td>1845</td>\n",
       "    </tr>\n",
       "    <tr>\n",
       "      <th>85393</th>\n",
       "      <td>1400000US72153750503</td>\n",
       "      <td>Census Tract 7505.03, Yauco Municipio, Puerto Rico</td>\n",
       "      <td>2155</td>\n",
       "    </tr>\n",
       "    <tr>\n",
       "      <th>85394</th>\n",
       "      <td>1400000US72153750601</td>\n",
       "      <td>Census Tract 7506.01, Yauco Municipio, Puerto Rico</td>\n",
       "      <td>4368</td>\n",
       "    </tr>\n",
       "    <tr>\n",
       "      <th>85395</th>\n",
       "      <td>1400000US72153750602</td>\n",
       "      <td>Census Tract 7506.02, Yauco Municipio, Puerto Rico</td>\n",
       "      <td>2587</td>\n",
       "    </tr>\n",
       "  </tbody>\n",
       "</table>\n",
       "</div>"
      ],
      "text/plain": [
       "      GEOID Census Tract Full  \\\n",
       "85391    1400000US72153750501   \n",
       "85392    1400000US72153750502   \n",
       "85393    1400000US72153750503   \n",
       "85394    1400000US72153750601   \n",
       "85395    1400000US72153750602   \n",
       "\n",
       "                                        Census Tract Name Population  \n",
       "85391  Census Tract 7505.01, Yauco Municipio, Puerto Rico       3968  \n",
       "85392  Census Tract 7505.02, Yauco Municipio, Puerto Rico       1845  \n",
       "85393  Census Tract 7505.03, Yauco Municipio, Puerto Rico       2155  \n",
       "85394  Census Tract 7506.01, Yauco Municipio, Puerto Rico       4368  \n",
       "85395  Census Tract 7506.02, Yauco Municipio, Puerto Rico       2587  "
      ]
     },
     "execution_count": 6,
     "metadata": {},
     "output_type": "execute_result"
    }
   ],
   "source": [
    "df_census_pop.tail()"
   ]
  },
  {
   "cell_type": "markdown",
   "id": "3d7e23d5-ae11-4451-86ff-fe723c2a9ccd",
   "metadata": {},
   "source": [
    "Better. Now we can search for any data oddities that might need our attention, such as missing/null values. Let's run `.info()` and see what we find. "
   ]
  },
  {
   "cell_type": "code",
   "execution_count": 7,
   "id": "9ff17cdd-2413-43a0-9d2c-1b104de27700",
   "metadata": {},
   "outputs": [
    {
     "name": "stdout",
     "output_type": "stream",
     "text": [
      "<class 'pandas.core.frame.DataFrame'>\n",
      "RangeIndex: 85395 entries, 1 to 85395\n",
      "Data columns (total 3 columns):\n",
      " #   Column                   Non-Null Count  Dtype \n",
      "---  ------                   --------------  ----- \n",
      " 0   GEOID Census Tract Full  85395 non-null  object\n",
      " 1   Census Tract Name        85395 non-null  object\n",
      " 2   Population               85395 non-null  object\n",
      "dtypes: object(3)\n",
      "memory usage: 2.0+ MB\n"
     ]
    }
   ],
   "source": [
    "df_census_pop.info()"
   ]
  },
  {
   "cell_type": "markdown",
   "id": "18648d10-d420-4e6e-ab04-9a3c9a2a4980",
   "metadata": {
    "tags": []
   },
   "source": [
    "According to `.info()`, our columns are free of null values. We *really* want to make sure this is the case, so that we can avoid the annoying complications null values can bring once we start working with the data. Let's probe a bit more, using `.isna()` to return a boolean indicating whether the observation in each column is missing, `True`, or not, `False`. "
   ]
  },
  {
   "cell_type": "code",
   "execution_count": 8,
   "id": "16d4e84e-d97a-4da0-b721-88b25e2b9cc1",
   "metadata": {},
   "outputs": [
    {
     "data": {
      "text/html": [
       "<div>\n",
       "<style scoped>\n",
       "    .dataframe tbody tr th:only-of-type {\n",
       "        vertical-align: middle;\n",
       "    }\n",
       "\n",
       "    .dataframe tbody tr th {\n",
       "        vertical-align: top;\n",
       "    }\n",
       "\n",
       "    .dataframe thead th {\n",
       "        text-align: right;\n",
       "    }\n",
       "</style>\n",
       "<table border=\"1\" class=\"dataframe\">\n",
       "  <thead>\n",
       "    <tr style=\"text-align: right;\">\n",
       "      <th></th>\n",
       "      <th>GEOID Census Tract Full</th>\n",
       "      <th>Census Tract Name</th>\n",
       "      <th>Population</th>\n",
       "    </tr>\n",
       "  </thead>\n",
       "  <tbody>\n",
       "    <tr>\n",
       "      <th>1</th>\n",
       "      <td>False</td>\n",
       "      <td>False</td>\n",
       "      <td>False</td>\n",
       "    </tr>\n",
       "    <tr>\n",
       "      <th>2</th>\n",
       "      <td>False</td>\n",
       "      <td>False</td>\n",
       "      <td>False</td>\n",
       "    </tr>\n",
       "    <tr>\n",
       "      <th>3</th>\n",
       "      <td>False</td>\n",
       "      <td>False</td>\n",
       "      <td>False</td>\n",
       "    </tr>\n",
       "    <tr>\n",
       "      <th>4</th>\n",
       "      <td>False</td>\n",
       "      <td>False</td>\n",
       "      <td>False</td>\n",
       "    </tr>\n",
       "    <tr>\n",
       "      <th>5</th>\n",
       "      <td>False</td>\n",
       "      <td>False</td>\n",
       "      <td>False</td>\n",
       "    </tr>\n",
       "    <tr>\n",
       "      <th>...</th>\n",
       "      <td>...</td>\n",
       "      <td>...</td>\n",
       "      <td>...</td>\n",
       "    </tr>\n",
       "    <tr>\n",
       "      <th>85391</th>\n",
       "      <td>False</td>\n",
       "      <td>False</td>\n",
       "      <td>False</td>\n",
       "    </tr>\n",
       "    <tr>\n",
       "      <th>85392</th>\n",
       "      <td>False</td>\n",
       "      <td>False</td>\n",
       "      <td>False</td>\n",
       "    </tr>\n",
       "    <tr>\n",
       "      <th>85393</th>\n",
       "      <td>False</td>\n",
       "      <td>False</td>\n",
       "      <td>False</td>\n",
       "    </tr>\n",
       "    <tr>\n",
       "      <th>85394</th>\n",
       "      <td>False</td>\n",
       "      <td>False</td>\n",
       "      <td>False</td>\n",
       "    </tr>\n",
       "    <tr>\n",
       "      <th>85395</th>\n",
       "      <td>False</td>\n",
       "      <td>False</td>\n",
       "      <td>False</td>\n",
       "    </tr>\n",
       "  </tbody>\n",
       "</table>\n",
       "<p>85395 rows × 3 columns</p>\n",
       "</div>"
      ],
      "text/plain": [
       "       GEOID Census Tract Full  Census Tract Name  Population\n",
       "1                        False              False       False\n",
       "2                        False              False       False\n",
       "3                        False              False       False\n",
       "4                        False              False       False\n",
       "5                        False              False       False\n",
       "...                        ...                ...         ...\n",
       "85391                    False              False       False\n",
       "85392                    False              False       False\n",
       "85393                    False              False       False\n",
       "85394                    False              False       False\n",
       "85395                    False              False       False\n",
       "\n",
       "[85395 rows x 3 columns]"
      ]
     },
     "execution_count": 8,
     "metadata": {},
     "output_type": "execute_result"
    }
   ],
   "source": [
    "df_census_pop.isna()"
   ]
  },
  {
   "cell_type": "markdown",
   "id": "9362d8f5-d121-421b-a9b6-6d78fe49b30a",
   "metadata": {},
   "source": [
    "All of the rows displayed so far are returning `False`, indicating that there are no missing values. So far, so good. As another check, let's use `.sum()` to get a count of missing values for our full dataset, in case any might be lurking deeper in the data and are just not visible to us in the current display."
   ]
  },
  {
   "cell_type": "code",
   "execution_count": 9,
   "id": "9662e9f3-ecb3-485d-9447-e46d11ab6cba",
   "metadata": {},
   "outputs": [
    {
     "data": {
      "text/plain": [
       "GEOID Census Tract Full    0\n",
       "Census Tract Name          0\n",
       "Population                 0\n",
       "dtype: int64"
      ]
     },
     "execution_count": 9,
     "metadata": {},
     "output_type": "execute_result"
    }
   ],
   "source": [
    "df_census_pop.isna().sum()"
   ]
  },
  {
   "cell_type": "markdown",
   "id": "5101bdea-ade1-4d9f-a530-feac85c66387",
   "metadata": {},
   "source": [
    "Good - still seeing 0 missing values. This time, lets tell pandas to actually *show* us any rows with missing values. "
   ]
  },
  {
   "cell_type": "code",
   "execution_count": 10,
   "id": "6a81ac74-5b2d-4051-80c1-8c2fdfe6bc23",
   "metadata": {},
   "outputs": [
    {
     "data": {
      "text/html": [
       "<div>\n",
       "<style scoped>\n",
       "    .dataframe tbody tr th:only-of-type {\n",
       "        vertical-align: middle;\n",
       "    }\n",
       "\n",
       "    .dataframe tbody tr th {\n",
       "        vertical-align: top;\n",
       "    }\n",
       "\n",
       "    .dataframe thead th {\n",
       "        text-align: right;\n",
       "    }\n",
       "</style>\n",
       "<table border=\"1\" class=\"dataframe\">\n",
       "  <thead>\n",
       "    <tr style=\"text-align: right;\">\n",
       "      <th></th>\n",
       "      <th>GEOID Census Tract Full</th>\n",
       "      <th>Census Tract Name</th>\n",
       "      <th>Population</th>\n",
       "    </tr>\n",
       "  </thead>\n",
       "  <tbody>\n",
       "  </tbody>\n",
       "</table>\n",
       "</div>"
      ],
      "text/plain": [
       "Empty DataFrame\n",
       "Columns: [GEOID Census Tract Full, Census Tract Name, Population]\n",
       "Index: []"
      ]
     },
     "execution_count": 10,
     "metadata": {},
     "output_type": "execute_result"
    }
   ],
   "source": [
    "df_census_pop[df_census_pop.isna().any(axis=1)]"
   ]
  },
  {
   "cell_type": "markdown",
   "id": "8f1224e3-9e08-47c5-b543-18377ce5d9b0",
   "metadata": {},
   "source": [
    "Again, nothing! So, it looks like we are in the clear - no missing values to address. On to the next step. \n",
    "\n",
    "We'll now call `.dtypes` to check whether the datatypes for each column make sense."
   ]
  },
  {
   "cell_type": "code",
   "execution_count": 11,
   "id": "da1d8d5d-85ba-419b-a8ec-c80a43f75540",
   "metadata": {},
   "outputs": [
    {
     "data": {
      "text/plain": [
       "GEOID Census Tract Full    object\n",
       "Census Tract Name          object\n",
       "Population                 object\n",
       "dtype: object"
      ]
     },
     "execution_count": 11,
     "metadata": {},
     "output_type": "execute_result"
    }
   ],
   "source": [
    "df_census_pop.dtypes"
   ]
  },
  {
   "cell_type": "markdown",
   "id": "19c69638-7161-4c0d-87db-d318903a3ab6",
   "metadata": {},
   "source": [
    "Based on our initial visual inspection using `.head()` we know that the values in both \"GEOID Census Tract Full\" and \"Census Tract Name\" are strings. Because pandas uses the \"object\" type for storing strings, the dtypes for \"GEOID Census Tract Full\" and \"Census Tract Name\" are also correctly reflected when we run `.dtypes`. Population, however, is an integer, but is showing up here as an object.  Let's fix that by setting the datatype to, `int64`, when we call `.dtypes`. "
   ]
  },
  {
   "cell_type": "code",
   "execution_count": 12,
   "id": "9133eef0-e368-45af-be41-0160e9297a58",
   "metadata": {},
   "outputs": [
    {
     "data": {
      "text/plain": [
       "GEOID Census Tract Full    object\n",
       "Census Tract Name          object\n",
       "Population                  int64\n",
       "dtype: object"
      ]
     },
     "execution_count": 12,
     "metadata": {},
     "output_type": "execute_result"
    }
   ],
   "source": [
    "df_census_pop['Population'] = df_census_pop['Population'].astype(int)\n",
    "df_census_pop.dtypes"
   ]
  },
  {
   "cell_type": "markdown",
   "id": "6ca02ace-dfd1-47b4-a7bb-0d92a3b24927",
   "metadata": {},
   "source": [
    "In preparation for the next section of our data journey, let's add a new column for \"GEOID Census Tract\" to our *df_census_pop* DataFrame. We'll be using this in future setps to match our population data with our GIS data. Because we know that the last 11 digits of \"GEOID  Census Tract Full\" represent the census tract level, we can create the new \"GEOID Census Tract\" column using a lambda to grab just the digits we need. "
   ]
  },
  {
   "cell_type": "code",
   "execution_count": 13,
   "id": "a8091de7-9238-4bf1-8db7-3aaf8306cc8e",
   "metadata": {},
   "outputs": [
    {
     "data": {
      "text/plain": [
       "GEOID Census Tract Full    object\n",
       "Census Tract Name          object\n",
       "Population                  int64\n",
       "GEOID Census Tract         object\n",
       "dtype: object"
      ]
     },
     "execution_count": 13,
     "metadata": {},
     "output_type": "execute_result"
    }
   ],
   "source": [
    "df_census_pop['GEOID Census Tract'] = df_census_pop['GEOID Census Tract Full'].apply(lambda x: str(x)[-11:])\n",
    "df_census_pop.head()\n",
    "df_census_pop.dtypes"
   ]
  },
  {
   "cell_type": "code",
   "execution_count": 14,
   "id": "c6edea85-b15b-436d-bc2a-559c6c892ef1",
   "metadata": {},
   "outputs": [
    {
     "data": {
      "text/html": [
       "<div>\n",
       "<style scoped>\n",
       "    .dataframe tbody tr th:only-of-type {\n",
       "        vertical-align: middle;\n",
       "    }\n",
       "\n",
       "    .dataframe tbody tr th {\n",
       "        vertical-align: top;\n",
       "    }\n",
       "\n",
       "    .dataframe thead th {\n",
       "        text-align: right;\n",
       "    }\n",
       "</style>\n",
       "<table border=\"1\" class=\"dataframe\">\n",
       "  <thead>\n",
       "    <tr style=\"text-align: right;\">\n",
       "      <th></th>\n",
       "      <th>GEOID Census Tract Full</th>\n",
       "      <th>Census Tract Name</th>\n",
       "      <th>Population</th>\n",
       "      <th>GEOID Census Tract</th>\n",
       "    </tr>\n",
       "  </thead>\n",
       "  <tbody>\n",
       "    <tr>\n",
       "      <th>85391</th>\n",
       "      <td>1400000US72153750501</td>\n",
       "      <td>Census Tract 7505.01, Yauco Municipio, Puerto Rico</td>\n",
       "      <td>3968</td>\n",
       "      <td>72153750501</td>\n",
       "    </tr>\n",
       "    <tr>\n",
       "      <th>85392</th>\n",
       "      <td>1400000US72153750502</td>\n",
       "      <td>Census Tract 7505.02, Yauco Municipio, Puerto Rico</td>\n",
       "      <td>1845</td>\n",
       "      <td>72153750502</td>\n",
       "    </tr>\n",
       "    <tr>\n",
       "      <th>85393</th>\n",
       "      <td>1400000US72153750503</td>\n",
       "      <td>Census Tract 7505.03, Yauco Municipio, Puerto Rico</td>\n",
       "      <td>2155</td>\n",
       "      <td>72153750503</td>\n",
       "    </tr>\n",
       "    <tr>\n",
       "      <th>85394</th>\n",
       "      <td>1400000US72153750601</td>\n",
       "      <td>Census Tract 7506.01, Yauco Municipio, Puerto Rico</td>\n",
       "      <td>4368</td>\n",
       "      <td>72153750601</td>\n",
       "    </tr>\n",
       "    <tr>\n",
       "      <th>85395</th>\n",
       "      <td>1400000US72153750602</td>\n",
       "      <td>Census Tract 7506.02, Yauco Municipio, Puerto Rico</td>\n",
       "      <td>2587</td>\n",
       "      <td>72153750602</td>\n",
       "    </tr>\n",
       "  </tbody>\n",
       "</table>\n",
       "</div>"
      ],
      "text/plain": [
       "      GEOID Census Tract Full  \\\n",
       "85391    1400000US72153750501   \n",
       "85392    1400000US72153750502   \n",
       "85393    1400000US72153750503   \n",
       "85394    1400000US72153750601   \n",
       "85395    1400000US72153750602   \n",
       "\n",
       "                                        Census Tract Name  Population  \\\n",
       "85391  Census Tract 7505.01, Yauco Municipio, Puerto Rico        3968   \n",
       "85392  Census Tract 7505.02, Yauco Municipio, Puerto Rico        1845   \n",
       "85393  Census Tract 7505.03, Yauco Municipio, Puerto Rico        2155   \n",
       "85394  Census Tract 7506.01, Yauco Municipio, Puerto Rico        4368   \n",
       "85395  Census Tract 7506.02, Yauco Municipio, Puerto Rico        2587   \n",
       "\n",
       "      GEOID Census Tract  \n",
       "85391        72153750501  \n",
       "85392        72153750502  \n",
       "85393        72153750503  \n",
       "85394        72153750601  \n",
       "85395        72153750602  "
      ]
     },
     "execution_count": 14,
     "metadata": {},
     "output_type": "execute_result"
    }
   ],
   "source": [
    "df_census_pop.tail()"
   ]
  },
  {
   "cell_type": "code",
   "execution_count": 15,
   "id": "a9c76646-a03e-4c44-8e0a-d5e528514886",
   "metadata": {},
   "outputs": [],
   "source": [
    "clean_census_pop_file = os.path.join(clean_data_dir,'census_pop.csv')\n",
    "df_census_pop.to_csv(clean_census_pop_file)"
   ]
  },
  {
   "cell_type": "markdown",
   "id": "a0ba370f-00df-4bc9-894b-b7a17485941f",
   "metadata": {},
   "source": [
    "# Save the dataframe to Parquet"
   ]
  },
  {
   "cell_type": "code",
   "execution_count": 16,
   "id": "4f14614c-1f4e-42f8-9c48-d25127199cc0",
   "metadata": {},
   "outputs": [
    {
     "data": {
      "text/plain": [
       "GEOID Census Tract Full: string\n",
       "Census Tract Name: string\n",
       "Population: int64\n",
       "GEOID Census Tract: string\n",
       "-- schema metadata --\n",
       "pandas: '{\"index_columns\": [], \"column_indexes\": [], \"columns\": [{\"name\":' + 607"
      ]
     },
     "execution_count": 16,
     "metadata": {},
     "output_type": "execute_result"
    }
   ],
   "source": [
    "# Experiment - let's save as arrow/parquet and see if it's a smaller file with dtypes preserved\n",
    "import pyarrow as pa\n",
    "import pyarrow.parquet as pq\n",
    "\n",
    "census_table = pa.Table.from_pandas(df_census_pop, preserve_index=False)\n",
    "\n",
    "clean_census_pop_file_pq = os.path.join(clean_data_dir,'census_pop.parquet')\n",
    "pq.write_table(census_table, clean_census_pop_file_pq, compression='BROTLI')\n",
    "census_table.schema"
   ]
  },
  {
   "cell_type": "markdown",
   "id": "33e54c81-72f8-48c0-92ca-8a974c23a277",
   "metadata": {},
   "source": [
    "There we have it - a clean, tidy, ready-to-use DataFrame of population data for every census tract in the US and Puerto Rico. "
   ]
  }
 ],
 "metadata": {
  "kernelspec": {
   "display_name": "Python 3 (ipykernel)",
   "language": "python",
   "name": "python3"
  },
  "language_info": {
   "codemirror_mode": {
    "name": "ipython",
    "version": 3
   },
   "file_extension": ".py",
   "mimetype": "text/x-python",
   "name": "python",
   "nbconvert_exporter": "python",
   "pygments_lexer": "ipython3",
   "version": "3.8.10"
  }
 },
 "nbformat": 4,
 "nbformat_minor": 5
}
