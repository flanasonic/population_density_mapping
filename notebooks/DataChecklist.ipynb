{
 "cells": [
  {
   "cell_type": "markdown",
   "id": "afc2d392-5ebe-4fb1-a29d-97ef9be9e653",
   "metadata": {},
   "source": [
    "Data Checklist\n",
    "* df.shape() - # (row, columns) - get a sense of size\n",
    "* visual inspection using .head()\n",
    "* visual inspection using .tail()\n",
    "* remove unecessary characters - using regex, or str.lstrip\n",
    "* drop unwanted rows using .drop()\n",
    "* drop unwanted columns\n",
    "* check for Nans, missing, null values: info(), .isna(), .isna().sum(), or .isna().any(axis=1)] to show rows with missing values\n",
    "* .dtypes to check whether the datatypes for each column make sense\n",
    "* search for and change characters with diacritic marks?\n",
    "* inconsistent or incorrect capitalization? (i.e. \"city\" lowercase in \"New York city\"\n",
    "\n",
    "* Any datatypes that don't make sense"
   ]
  },
  {
   "cell_type": "code",
   "execution_count": 1,
   "id": "d2fe6b2f-688c-4c82-9188-01e7099c071f",
   "metadata": {},
   "outputs": [
    {
     "ename": "NameError",
     "evalue": "name 'df_codes' is not defined",
     "output_type": "error",
     "traceback": [
      "\u001b[0;31m---------------------------------------------------------------------------\u001b[0m",
      "\u001b[0;31mNameError\u001b[0m                                 Traceback (most recent call last)",
      "Input \u001b[0;32mIn [1]\u001b[0m, in \u001b[0;36m<cell line: 2>\u001b[0;34m()\u001b[0m\n\u001b[1;32m      1\u001b[0m \u001b[38;5;66;03m# check for NaNs\u001b[39;00m\n\u001b[0;32m----> 2\u001b[0m \u001b[43mdf_codes\u001b[49m[df_codes[\u001b[38;5;124m'\u001b[39m\u001b[38;5;124mCounty FIPS\u001b[39m\u001b[38;5;124m'\u001b[39m]\u001b[38;5;241m.\u001b[39misna()]\n",
      "\u001b[0;31mNameError\u001b[0m: name 'df_codes' is not defined"
     ]
    }
   ],
   "source": [
    "# check for NaNs\n",
    "df_codes[df_codes['County FIPS'].isna()]"
   ]
  }
 ],
 "metadata": {
  "kernelspec": {
   "display_name": "Python 3 (ipykernel)",
   "language": "python",
   "name": "python3"
  },
  "language_info": {
   "codemirror_mode": {
    "name": "ipython",
    "version": 3
   },
   "file_extension": ".py",
   "mimetype": "text/x-python",
   "name": "python",
   "nbconvert_exporter": "python",
   "pygments_lexer": "ipython3",
   "version": "3.8.10"
  }
 },
 "nbformat": 4,
 "nbformat_minor": 5
}
