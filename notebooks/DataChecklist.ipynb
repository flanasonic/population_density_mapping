{
 "cells": [
  {
   "cell_type": "markdown",
   "id": "afc2d392-5ebe-4fb1-a29d-97ef9be9e653",
   "metadata": {},
   "source": [
    "Data Checklist\n",
    "* .shape() to get a sense of size\n",
    "* visual inspection using .head()\n",
    "* visual inspection using .tail()\n",
    "* remove unecessary characters - using regex, or str.lstrip\n",
    "* drop unwanted rows using .drop()\n",
    "* drop unwanted columns\n",
    "* check for Nans, missing, null values: info(), .isna(), .isna().sum(), or .isna().any(axis=1)] to show rows with missing values\n",
    "* .dtypes to check whether the datatypes for each column make sense\n",
    "* characters with diacritic marks?\n",
    "* inconsistent or incorrect capitalization? (i.e. \"city\" lowercase in \"New York city\"\n",
    "\n",
    "* Any datatypes that don't make sense"
   ]
  },
  {
   "cell_type": "code",
   "execution_count": null,
   "id": "d2fe6b2f-688c-4c82-9188-01e7099c071f",
   "metadata": {},
   "outputs": [],
   "source": [
    "# check for NaNs\n",
    "df_codes[df_codes['County FIPS'].isna()]"
   ]
  }
 ],
 "metadata": {
  "kernelspec": {
   "display_name": "Python 3 (ipykernel)",
   "language": "python",
   "name": "python3"
  },
  "language_info": {
   "codemirror_mode": {
    "name": "ipython",
    "version": 3
   },
   "file_extension": ".py",
   "mimetype": "text/x-python",
   "name": "python",
   "nbconvert_exporter": "python",
   "pygments_lexer": "ipython3",
   "version": "3.8.10"
  }
 },
 "nbformat": 4,
 "nbformat_minor": 5
}
