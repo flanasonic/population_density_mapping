{
 "cells": [
  {
   "cell_type": "code",
   "execution_count": 1,
   "id": "9d7dd2ee-8892-4b04-ae1f-6d72ce55ac3f",
   "metadata": {},
   "outputs": [
    {
     "name": "stdout",
     "output_type": "stream",
     "text": [
      "/c/Users/Julie/git/portfolio/notebooks\n"
     ]
    }
   ],
   "source": [
    "! pwd"
   ]
  },
  {
   "cell_type": "code",
   "execution_count": 2,
   "id": "f302b067-033a-4f5e-81f8-5d5ac7a34599",
   "metadata": {},
   "outputs": [
    {
     "name": "stdout",
     "output_type": "stream",
     "text": [
      "Census2020_DataCleaning.ipynb\n",
      "FAQ.ipynb\n",
      "Untitled.ipynb\n",
      "Untitled1.ipynb\n",
      "examples\n",
      "how.ipynb\n",
      "prepare_files.py\n"
     ]
    }
   ],
   "source": [
    "! ls"
   ]
  }
 ],
 "metadata": {
  "kernelspec": {
   "display_name": "Python 3 (ipykernel)",
   "language": "python",
   "name": "python3"
  },
  "language_info": {
   "codemirror_mode": {
    "name": "ipython",
    "version": 3
   },
   "file_extension": ".py",
   "mimetype": "text/x-python",
   "name": "python",
   "nbconvert_exporter": "python",
   "pygments_lexer": "ipython3",
   "version": "3.9.0"
  }
 },
 "nbformat": 4,
 "nbformat_minor": 5
}
