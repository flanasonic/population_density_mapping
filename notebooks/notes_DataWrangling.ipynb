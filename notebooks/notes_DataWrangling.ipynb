{
 "cells": [
  {
   "cell_type": "markdown",
   "id": "78449c32-0f33-410c-88d3-065a9a4643ce",
   "metadata": {},
   "source": [
    "These are some notes gathered from various CodeAcademy courses and a bit of Googling.\n",
    "\n",
    "# Data Wrangling & Tidying\n",
    "\n",
    "\n",
    "The process of cleaning up and preparing data for analysis is often called \"data wrangling\" or \"data munging.\" The goal is to produce a \"tidy\" dataset.\n",
    "\n",
    "A dataset is considered tidy if:\n",
    "\n",
    "1. Each variable forms a column following the same units measurement \n",
    "2. Each observation forms a row\n",
    "3. Each type of **observational unit** forms a table\n",
    "\n",
    "An **observational unit** is the individual \"thing\" we capture information about. For example, in a study about residential real estate sales, the observational unit might be each home.\n",
    "\n",
    "A dataset is considered **wide-form** when a variable is spread across multiple columns as column headers, rather than consolidated into a single column. \n"
   ]
  },
  {
   "cell_type": "markdown",
   "id": "02fbfa2a-f98c-4497-9bfb-931d6dcdd74d",
   "metadata": {},
   "source": [
    "## Why pandas?\n",
    "\n",
    "\n",
    "Pandas' ability to manipulate large amounts of structured data makes it a powerful data science tool. It provides a number of functions that make it easy to explore dataset and evaluate its overall tidiness. "
   ]
  },
  {
   "cell_type": "markdown",
   "id": "7edbe293-c12e-4fa6-94ac-a49c8400ae21",
   "metadata": {
    "tags": []
   },
   "source": [
    "Evaluating tidiness\n",
    "------------------------------------\n",
    "\n",
    "Some quick ways to evaluate tidiness using Pandas:\n",
    "\n",
    "* .head() - displays first few rows, 5 by default, or another number if specified\n",
    "* .info() - displays a summary of the table\n",
    "* .describe() - displays summary statistics for the table\n",
    "* .nunique() - gives the number of unique values in each column\n",
    "* .unique() - returns the unique values in a column as an array\n",
    "* .value_counts() - displays the number of times each value occurs\n",
    "* .dtypes - appends data types to our dataframe - float64, object, int64, bool, datetime64\n",
    "* .shape - identifies the number of rows and columns as (rows, columns)\n",
    "* .columns - displays column names \n"
   ]
  },
  {
   "cell_type": "markdown",
   "id": "67ace7c8-8cb4-483d-a85f-27370e77ad80",
   "metadata": {},
   "source": [
    "To see some examples of these functions at work, we'll begin by importing pandas. We can then create a dataframe from our fake census dataset csv file. "
   ]
  },
  {
   "cell_type": "code",
   "execution_count": 1,
   "id": "4c23e677-4c35-4695-be40-b154cf3a9ce2",
   "metadata": {
    "tags": []
   },
   "outputs": [],
   "source": [
    "import pandas as pd\n",
    "filename = \"C:/Users/Julie/git/portfolio/data/fake_census_data.csv\"\n",
    "census = pd.read_csv(filename, index_col=0)"
   ]
  },
  {
   "cell_type": "code",
   "execution_count": 2,
   "id": "e8933db0-31c2-461d-a12c-92a9bcfa7e3a",
   "metadata": {
    "tags": []
   },
   "outputs": [
    {
     "data": {
      "text/html": [
       "<div>\n",
       "<style scoped>\n",
       "    .dataframe tbody tr th:only-of-type {\n",
       "        vertical-align: middle;\n",
       "    }\n",
       "\n",
       "    .dataframe tbody tr th {\n",
       "        vertical-align: top;\n",
       "    }\n",
       "\n",
       "    .dataframe thead th {\n",
       "        text-align: right;\n",
       "    }\n",
       "</style>\n",
       "<table border=\"1\" class=\"dataframe\">\n",
       "  <thead>\n",
       "    <tr style=\"text-align: right;\">\n",
       "      <th></th>\n",
       "      <th>first_name</th>\n",
       "      <th>last_name</th>\n",
       "      <th>birth_year</th>\n",
       "      <th>voted</th>\n",
       "      <th>num_children</th>\n",
       "      <th>income_year</th>\n",
       "      <th>higher_tax</th>\n",
       "      <th>marital_status</th>\n",
       "    </tr>\n",
       "  </thead>\n",
       "  <tbody>\n",
       "    <tr>\n",
       "      <th>0</th>\n",
       "      <td>Denise</td>\n",
       "      <td>Ratke</td>\n",
       "      <td>2005</td>\n",
       "      <td>False</td>\n",
       "      <td>0</td>\n",
       "      <td>92129.41</td>\n",
       "      <td>disagree</td>\n",
       "      <td>single</td>\n",
       "    </tr>\n",
       "    <tr>\n",
       "      <th>1</th>\n",
       "      <td>Hali</td>\n",
       "      <td>Cummerata</td>\n",
       "      <td>1987</td>\n",
       "      <td>False</td>\n",
       "      <td>0</td>\n",
       "      <td>75649.17</td>\n",
       "      <td>neutral</td>\n",
       "      <td>DIVORCED</td>\n",
       "    </tr>\n",
       "    <tr>\n",
       "      <th>2</th>\n",
       "      <td>Salomon</td>\n",
       "      <td>Orn</td>\n",
       "      <td>1992</td>\n",
       "      <td>True</td>\n",
       "      <td>2</td>\n",
       "      <td>166313.45</td>\n",
       "      <td>agree</td>\n",
       "      <td>Single</td>\n",
       "    </tr>\n",
       "    <tr>\n",
       "      <th>3</th>\n",
       "      <td>Sarina</td>\n",
       "      <td>Schiller</td>\n",
       "      <td>1965</td>\n",
       "      <td>False</td>\n",
       "      <td>2</td>\n",
       "      <td>71704.81</td>\n",
       "      <td>strongly agree</td>\n",
       "      <td>married</td>\n",
       "    </tr>\n",
       "    <tr>\n",
       "      <th>4</th>\n",
       "      <td>Gust</td>\n",
       "      <td>Abernathy</td>\n",
       "      <td>1945</td>\n",
       "      <td>False</td>\n",
       "      <td>2</td>\n",
       "      <td>143316.08</td>\n",
       "      <td>agree</td>\n",
       "      <td>married</td>\n",
       "    </tr>\n",
       "  </tbody>\n",
       "</table>\n",
       "</div>"
      ],
      "text/plain": [
       "  first_name  last_name birth_year  voted  num_children  income_year  \\\n",
       "0     Denise      Ratke       2005  False             0     92129.41   \n",
       "1       Hali  Cummerata       1987  False             0     75649.17   \n",
       "2    Salomon        Orn       1992   True             2    166313.45   \n",
       "3     Sarina   Schiller       1965  False             2     71704.81   \n",
       "4       Gust  Abernathy       1945  False             2    143316.08   \n",
       "\n",
       "       higher_tax marital_status  \n",
       "0        disagree         single  \n",
       "1         neutral       DIVORCED  \n",
       "2           agree         Single  \n",
       "3  strongly agree        married  \n",
       "4           agree        married  "
      ]
     },
     "execution_count": 2,
     "metadata": {},
     "output_type": "execute_result"
    }
   ],
   "source": [
    "census.head()\n",
    "\n",
    "# returns the first few rows of data, making it easy to quickly assess the variable types. \n",
    "# In the example, we see that the values in first_name are categories that do not contain an order or ranking, while birth_year contains numeric values that must be expressed in whole integers."
   ]
  },
  {
   "cell_type": "code",
   "execution_count": 3,
   "id": "1ae1436e-63b4-497b-89fc-c62294c6fa20",
   "metadata": {},
   "outputs": [
    {
     "data": {
      "text/plain": [
       "(100, 8)"
      ]
     },
     "execution_count": 3,
     "metadata": {},
     "output_type": "execute_result"
    }
   ],
   "source": [
    "census.shape"
   ]
  },
  {
   "cell_type": "code",
   "execution_count": 4,
   "id": "70f1f885-f727-449e-a343-433df4488aae",
   "metadata": {},
   "outputs": [
    {
     "data": {
      "text/plain": [
       "Index(['first_name', 'last_name', 'birth_year', 'voted', 'num_children',\n",
       "       'income_year', 'higher_tax', 'marital_status'],\n",
       "      dtype='object')"
      ]
     },
     "execution_count": 4,
     "metadata": {},
     "output_type": "execute_result"
    }
   ],
   "source": [
    "census.columns"
   ]
  },
  {
   "cell_type": "markdown",
   "id": "01863914-0ca7-48e8-9ec1-df5a711687cd",
   "metadata": {},
   "source": [
    "Using **.info()** or **.dtypes** we can see that the datatype for birth_year doesn't make sense. It's listed as an object, but should really be an integer. "
   ]
  },
  {
   "cell_type": "code",
   "execution_count": 5,
   "id": "ca38c218-b5a8-4c70-b90b-dcde2d05f574",
   "metadata": {},
   "outputs": [
    {
     "name": "stdout",
     "output_type": "stream",
     "text": [
      "<class 'pandas.core.frame.DataFrame'>\n",
      "Int64Index: 100 entries, 0 to 99\n",
      "Data columns (total 8 columns):\n",
      " #   Column          Non-Null Count  Dtype  \n",
      "---  ------          --------------  -----  \n",
      " 0   first_name      100 non-null    object \n",
      " 1   last_name       100 non-null    object \n",
      " 2   birth_year      100 non-null    object \n",
      " 3   voted           100 non-null    bool   \n",
      " 4   num_children    100 non-null    int64  \n",
      " 5   income_year     100 non-null    float64\n",
      " 6   higher_tax      100 non-null    object \n",
      " 7   marital_status  100 non-null    object \n",
      "dtypes: bool(1), float64(1), int64(1), object(5)\n",
      "memory usage: 6.3+ KB\n"
     ]
    }
   ],
   "source": [
    "census.info()"
   ]
  },
  {
   "cell_type": "code",
   "execution_count": 7,
   "id": "a1d59a00-90e0-4943-bde6-cc0a354e4103",
   "metadata": {
    "tags": []
   },
   "outputs": [
    {
     "data": {
      "text/plain": [
       "first_name         object\n",
       "last_name          object\n",
       "birth_year         object\n",
       "voted                bool\n",
       "num_children        int64\n",
       "income_year       float64\n",
       "higher_tax         object\n",
       "marital_status     object\n",
       "dtype: object"
      ]
     },
     "execution_count": 7,
     "metadata": {},
     "output_type": "execute_result"
    }
   ],
   "source": [
    "census.dtypes"
   ]
  },
  {
   "cell_type": "code",
   "execution_count": 6,
   "id": "2fa119c3-a8d3-4f22-b8ad-99d12243810c",
   "metadata": {},
   "outputs": [
    {
     "data": {
      "text/html": [
       "<div>\n",
       "<style scoped>\n",
       "    .dataframe tbody tr th:only-of-type {\n",
       "        vertical-align: middle;\n",
       "    }\n",
       "\n",
       "    .dataframe tbody tr th {\n",
       "        vertical-align: top;\n",
       "    }\n",
       "\n",
       "    .dataframe thead th {\n",
       "        text-align: right;\n",
       "    }\n",
       "</style>\n",
       "<table border=\"1\" class=\"dataframe\">\n",
       "  <thead>\n",
       "    <tr style=\"text-align: right;\">\n",
       "      <th></th>\n",
       "      <th>num_children</th>\n",
       "      <th>income_year</th>\n",
       "    </tr>\n",
       "  </thead>\n",
       "  <tbody>\n",
       "    <tr>\n",
       "      <th>count</th>\n",
       "      <td>100.000000</td>\n",
       "      <td>100.000000</td>\n",
       "    </tr>\n",
       "    <tr>\n",
       "      <th>mean</th>\n",
       "      <td>1.810000</td>\n",
       "      <td>111380.789700</td>\n",
       "    </tr>\n",
       "    <tr>\n",
       "      <th>std</th>\n",
       "      <td>1.433333</td>\n",
       "      <td>49015.171775</td>\n",
       "    </tr>\n",
       "    <tr>\n",
       "      <th>min</th>\n",
       "      <td>0.000000</td>\n",
       "      <td>35635.140000</td>\n",
       "    </tr>\n",
       "    <tr>\n",
       "      <th>25%</th>\n",
       "      <td>0.750000</td>\n",
       "      <td>71246.520000</td>\n",
       "    </tr>\n",
       "    <tr>\n",
       "      <th>50%</th>\n",
       "      <td>2.000000</td>\n",
       "      <td>104990.805000</td>\n",
       "    </tr>\n",
       "    <tr>\n",
       "      <th>75%</th>\n",
       "      <td>3.000000</td>\n",
       "      <td>153492.090000</td>\n",
       "    </tr>\n",
       "    <tr>\n",
       "      <th>max</th>\n",
       "      <td>4.000000</td>\n",
       "      <td>198123.770000</td>\n",
       "    </tr>\n",
       "  </tbody>\n",
       "</table>\n",
       "</div>"
      ],
      "text/plain": [
       "       num_children    income_year\n",
       "count    100.000000     100.000000\n",
       "mean       1.810000  111380.789700\n",
       "std        1.433333   49015.171775\n",
       "min        0.000000   35635.140000\n",
       "25%        0.750000   71246.520000\n",
       "50%        2.000000  104990.805000\n",
       "75%        3.000000  153492.090000\n",
       "max        4.000000  198123.770000"
      ]
     },
     "execution_count": 6,
     "metadata": {},
     "output_type": "execute_result"
    }
   ],
   "source": [
    "census.describe()"
   ]
  },
  {
   "cell_type": "markdown",
   "id": "de406e58-6968-4666-8edd-4c7989b77d98",
   "metadata": {},
   "source": [
    "Using **.unique()** to investigate further, we see that one of the birth years is listed as 'missing'. "
   ]
  },
  {
   "cell_type": "code",
   "execution_count": 8,
   "id": "fce7544b-c0ac-4639-8c94-46b8ef3e1c2e",
   "metadata": {},
   "outputs": [
    {
     "data": {
      "text/plain": [
       "53"
      ]
     },
     "execution_count": 8,
     "metadata": {},
     "output_type": "execute_result"
    }
   ],
   "source": [
    "census['birth_year'].nunique()"
   ]
  },
  {
   "cell_type": "code",
   "execution_count": 9,
   "id": "0532e4bb-fcd3-4bb6-af96-2669a07034b5",
   "metadata": {
    "tags": []
   },
   "outputs": [
    {
     "data": {
      "text/plain": [
       "array(['2005', '1987', '1992', '1965', '1945', '1951', '1963', '1949',\n",
       "       '1950', '1971', '2007', '1944', '1995', '1973', '1946', '1954',\n",
       "       '1994', '1989', '1947', '1993', '1976', '1984', 'missing', '1966',\n",
       "       '1941', '2000', '1953', '1956', '1960', '2001', '1980', '1955',\n",
       "       '1985', '1996', '1968', '1979', '2006', '1962', '1981', '1959',\n",
       "       '1977', '1978', '1983', '1957', '1961', '1982', '2002', '1998',\n",
       "       '1999', '1952', '1940', '1986', '1958'], dtype=object)"
      ]
     },
     "execution_count": 9,
     "metadata": {},
     "output_type": "execute_result"
    }
   ],
   "source": [
    "census['birth_year'].unique()"
   ]
  },
  {
   "cell_type": "code",
   "execution_count": 10,
   "id": "94114bdb-8ab6-4d41-b6c1-c71ec473aa86",
   "metadata": {},
   "outputs": [
    {
     "data": {
      "text/plain": [
       "1961       4\n",
       "1949       4\n",
       "2005       3\n",
       "2007       3\n",
       "1985       3\n",
       "1989       3\n",
       "2006       3\n",
       "1954       3\n",
       "1946       3\n",
       "1973       3\n",
       "1995       3\n",
       "1971       3\n",
       "1978       3\n",
       "1963       3\n",
       "1951       3\n",
       "1992       3\n",
       "1966       3\n",
       "1962       2\n",
       "1941       2\n",
       "1998       2\n",
       "1955       2\n",
       "2001       2\n",
       "1960       2\n",
       "1987       2\n",
       "1953       2\n",
       "1984       2\n",
       "1945       2\n",
       "1994       2\n",
       "2000       1\n",
       "1977       1\n",
       "1986       1\n",
       "1940       1\n",
       "1952       1\n",
       "1999       1\n",
       "1965       1\n",
       "2002       1\n",
       "1982       1\n",
       "1957       1\n",
       "1983       1\n",
       "1950       1\n",
       "1959       1\n",
       "missing    1\n",
       "1981       1\n",
       "1944       1\n",
       "1979       1\n",
       "1968       1\n",
       "1996       1\n",
       "1947       1\n",
       "1993       1\n",
       "1980       1\n",
       "1976       1\n",
       "1956       1\n",
       "1958       1\n",
       "Name: birth_year, dtype: int64"
      ]
     },
     "execution_count": 10,
     "metadata": {},
     "output_type": "execute_result"
    }
   ],
   "source": [
    "census.birth_year.value_counts()"
   ]
  },
  {
   "cell_type": "markdown",
   "id": "d4f3c1f0-72d4-4f79-934a-60dc6c68180a",
   "metadata": {
    "tags": []
   },
   "source": [
    "Basic cleanup\n",
    "------------------------------------\n",
    "\n",
    "Some useful functions for cleaning data:\n",
    "\n",
    "* .replace()\n",
    "* .rename() - relabels columns, taking a dictionary, axis=1 refers to the columns, axis=0 would refer to the rows\n",
    "* .astype() -\n",
    "* .drop_duplicates() - removes duplicate rows\n",
    "* tr.lstrip() to remove the prefixes\n",
    "* .strip()\n",
    "* isna() returns a boolean, which indicates if the observation in that column is missing (True) or not (False)\n",
    "* map() function can be use with lower() and str() : restaurants.columns = map(str.lower, restaurants.columns) to create consistency\n",
    "* crosstab() computes the frequency of two or more variables. We can use it with isna() tto identify if there is an NaN in that column. \n",
    "* string.lower\n",
    "* .to_numeric() - lets us convert strings containing numerical values to integers or floats"
   ]
  },
  {
   "cell_type": "markdown",
   "id": "a9c1382d-c8a2-44a0-bdb1-b1c38e056d28",
   "metadata": {},
   "source": [
    "We begin basic cleanup by using **.replace()** to replace \"missing\" with \"1967\". To check the results, we call unique() again."
   ]
  },
  {
   "cell_type": "code",
   "execution_count": 11,
   "id": "3d64da1e-2084-484a-86a8-af2bebed567e",
   "metadata": {
    "tags": []
   },
   "outputs": [
    {
     "data": {
      "text/plain": [
       "array(['2005', '1987', '1992', '1965', '1945', '1951', '1963', '1949',\n",
       "       '1950', '1971', '2007', '1944', '1995', '1973', '1946', '1954',\n",
       "       '1994', '1989', '1947', '1993', '1976', '1984', 1967, '1966',\n",
       "       '1941', '2000', '1953', '1956', '1960', '2001', '1980', '1955',\n",
       "       '1985', '1996', '1968', '1979', '2006', '1962', '1981', '1959',\n",
       "       '1977', '1978', '1983', '1957', '1961', '1982', '2002', '1998',\n",
       "       '1999', '1952', '1940', '1986', '1958'], dtype=object)"
      ]
     },
     "execution_count": 11,
     "metadata": {},
     "output_type": "execute_result"
    }
   ],
   "source": [
    "census.birth_year = census.birth_year.replace('missing', 1967)\n",
    "census['birth_year'].unique()"
   ]
  },
  {
   "cell_type": "markdown",
   "id": "467a2fc2-79fb-4bb3-a964-e26adbf20ccc",
   "metadata": {},
   "source": [
    "Now that the missing values has been fixed, we can use **.astype()** or **pd.to_numeric** to change birth year to the correct data type, integer. ?? Why does astype make the integer type int32?"
   ]
  },
  {
   "cell_type": "code",
   "execution_count": 12,
   "id": "a9dbe314-f98c-47b0-8306-30cfad5c0c3a",
   "metadata": {},
   "outputs": [
    {
     "data": {
      "text/plain": [
       "first_name         object\n",
       "last_name          object\n",
       "birth_year          int64\n",
       "voted                bool\n",
       "num_children        int64\n",
       "income_year       float64\n",
       "higher_tax         object\n",
       "marital_status     object\n",
       "dtype: object"
      ]
     },
     "execution_count": 12,
     "metadata": {},
     "output_type": "execute_result"
    }
   ],
   "source": [
    "census.birth_year = pd.to_numeric(census.birth_year)\n",
    "census.dtypes"
   ]
  },
  {
   "cell_type": "code",
   "execution_count": 13,
   "id": "b68630ac-1e26-4b34-b0a7-d4bf662e045e",
   "metadata": {},
   "outputs": [
    {
     "data": {
      "text/plain": [
       "first_name         object\n",
       "last_name          object\n",
       "birth_year          int32\n",
       "voted                bool\n",
       "num_children        int64\n",
       "income_year       float64\n",
       "higher_tax         object\n",
       "marital_status     object\n",
       "dtype: object"
      ]
     },
     "execution_count": 13,
     "metadata": {},
     "output_type": "execute_result"
    }
   ],
   "source": [
    "census.birth_year = census.birth_year.astype(int)\n",
    "census.dtypes"
   ]
  },
  {
   "cell_type": "markdown",
   "id": "615dfa69-8862-47c4-abdc-da45f567dd66",
   "metadata": {},
   "source": [
    "We want all of the values in Marital_Status to be lowercase strings, so we use **str.lower** to fix this."
   ]
  },
  {
   "cell_type": "code",
   "execution_count": 14,
   "id": "61021cce-a66f-492f-a598-1b9759bc6cb9",
   "metadata": {},
   "outputs": [
    {
     "data": {
      "text/plain": [
       "0       single\n",
       "1     divorced\n",
       "2       single\n",
       "3      married\n",
       "4      married\n",
       "        ...   \n",
       "95     married\n",
       "96      single\n",
       "97      single\n",
       "98     widowed\n",
       "99      single\n",
       "Name: marital_status, Length: 100, dtype: object"
      ]
     },
     "execution_count": 14,
     "metadata": {},
     "output_type": "execute_result"
    }
   ],
   "source": [
    "census['marital_status'] = census.marital_status.apply(str.lower)\n",
    "census.marital_status"
   ]
  },
  {
   "cell_type": "code",
   "execution_count": 16,
   "id": "563db40b-44ce-4439-8cc2-24ead55045b2",
   "metadata": {},
   "outputs": [
    {
     "data": {
      "text/plain": [
       "first_name         object\n",
       "last_name          object\n",
       "birth_year          int32\n",
       "voted                bool\n",
       "num_children        int64\n",
       "income_year       float64\n",
       "higher_tax         object\n",
       "marital_status     object\n",
       "dtype: object"
      ]
     },
     "execution_count": 16,
     "metadata": {},
     "output_type": "execute_result"
    }
   ],
   "source": [
    "census.dtypes"
   ]
  },
  {
   "cell_type": "markdown",
   "id": "71bb219e-0b89-4f3d-b800-bbb8abcc87c5",
   "metadata": {},
   "source": [
    "Reshaping Datasets\n",
    "--------------------------\n",
    "\n",
    "* .pivot() - allows us to reshape a dataset based on the values of a column\n",
    "* .melt() - helps convert a dataset from wide to long-form.\n",
    "* .reset_index() - clears up some of the indexing carried over from the original form of the data set "
   ]
  },
  {
   "cell_type": "markdown",
   "id": "9f8860c6-0101-4b70-bf5a-2d2a06fd2386",
   "metadata": {},
   "source": [
    "**.pivot()** lets us reshape datasets that are too long. A dataset is considered “too long” when a single column in the dataset represents more than one variable, thus creating unecessary extra rows. Another way to think about it is that all numbers in a single column should have the same unit. .\n",
    "\n",
    "Syntax:\n",
    "pd.pivot(index = , columns = , values = ).reset_index\n",
    "\n",
    "Parameters: \n",
    "\n",
    "* index: name of the column to make the new data frame's index \n",
    "* columns: name of the column to make the new DF's column headers \n",
    "* values: name of the column that will populate the new data frame's values "
   ]
  },
  {
   "cell_type": "markdown",
   "id": "48065a2d-8227-444d-84df-6ade74b3274c",
   "metadata": {},
   "source": [
    "**.melt()** is useful for... "
   ]
  },
  {
   "cell_type": "markdown",
   "id": "79c89107-55d4-4f5d-ba6c-a8914edc4e4e",
   "metadata": {},
   "source": [
    "Using the function .reset_index() and specifying .columns.name = None clears up some of the indexing that was carried over from the original form of the data set."
   ]
  },
  {
   "cell_type": "markdown",
   "id": "0ac1fc97-ea74-44df-aeb6-d21050a182e8",
   "metadata": {},
   "source": [
    "Dealing with Multiple Files\n",
    "-------------------------------\n",
    "\n",
    "We can combine the use of **glob**, a Python library for working with files, with pandas to better organize data that is separated into multiple files. Glob can open multiple files by using regex matching to get the filenames.\n",
    "\n",
    "The below code goes through any file that starts with 'file' and has an extension of .csv. It opens each file, reads the data into a DataFrame, and then concatenates all of those DataFrames together.\n",
    "\n",
    "    ::\n",
    "\n",
    "        import glob\n",
    "        \n",
    "        files = glob.glob(\"file*.csv\")\n",
    "        \n",
    "        df_list = []\n",
    "        for filename in files:\n",
    "        data = pd.read_csv(filename)\n",
    "        df_list.append(data)\n",
    "        \n",
    "        df = pd.concat(df_list)\n",
    "        \n",
    "        print(files)\n"
   ]
  },
  {
   "cell_type": "markdown",
   "id": "a1eb6762-2aa4-458d-8aed-a6ca65f33cab",
   "metadata": {},
   "source": [
    "Regular Expressions\n",
    "---------------------------\n",
    "\n",
    "**Regular expressions** are special sequences of characters that describe a pattern of text that needs to be found. They operate by moving through a piece of text, character by character, from left to right. When a character is found that matches the first piece of the expression, it looks to find a continuous sequence of matching characters.\n",
    "\n",
    "* **Literals** are regular expression that contain the exact text we want to match. \n",
    "* **Alternation** allows us to match the text preceding or following the pipe symbol \\|\\.\n",
    "     \n",
    "        apples|pears\n",
    "\n",
    "* **Character sets** are denoted by brackets [ ] and let us match one character from a series of characters. The letters inside are the different possibilities for the character that appears in that position. We can also place the caret symbol **^** in front to negate our characters sets, matching any character *not* listed in brackets. \n",
    "\n",
    "        [cat] \n",
    "        # will match characters c, a, or t, but not the text cat \n",
    "        \n",
    "        [^cat] \n",
    "        # will match any character that is *not* c, a, or t\n",
    "  \n",
    "* **Grouping** or **capture groups** lets us group parts of a regular expresssion together and limit the reach of the |to the text within ():\n",
    "\n",
    "        I love (baboons|gorillas)\n",
    "        # will match \"I love\" and then either \"baboons\" or \"gorillas\"\n",
    "\n",
    "* **Wildcards** are represented by a period or dot . and will match any single character (letter, number, symbol or whitespace). We can use the escape character \\when we want to match an actual period. \n",
    "\n",
    "        .........\n",
    "        # will completely match any 9-character piece of text! \n",
    "\n",
    "        Howler monkeys are really lazy\\.\n",
    "        # will completely match the text \"Howler monkeys are really lazy.\"\"\n",
    "\n",
    "* **Ranges** allow us to specify a range of characters in which we can make a match, without having to type out each one. The - indicates that we are matching a range. \n",
    "        \n",
    "       [a-d]\n",
    "       # would match any character a, b, or c\n",
    "       # the above is equivalent to [a, b, c, d]\n",
    "\n",
    "A range can be used to match any single:\n",
    "\n",
    "* capital letter [A-Z]\n",
    "* lowercase letter [a-z]\n",
    "* digit [0-9]\n",
    "\n",
    "We can also match multiple ranges in the same set.\n",
    "\n",
    "        [A-Za-z]\n",
    "        # would let us match any single capital or lowercase alphabetical character\n",
    "\n",
    "* **Shorthand character classes** make writing regular expressions much simpler by representing common ranges. Examples include: \\w word characters, \\d digit characters, \\s whitespace characters  \n",
    "* **Groupings**, denoted with parentheses (), group parts of a regular expression together, and allows us to limit alternation to part of a regex\n",
    "* **Fixed quantifiers**, represented with curly braces {}, let us indicate the exact quantity or a range of quantity of a character we wish to match. Note - quantifiers are greedy - they will match the **greatest quantity** of characters they possibly can and ignore smaller matches.\n",
    "* **Optional quantifiers**, indicated by the question mark ?, allow us to indicate a character in a regex is optional, meaining it can appear either 0 or 1 time. They only apply to the character directly before the *?* (Note - since ? is a metacharacter, we need to use the escape character \\ in our regex in order to match a question mark ? in a piece of text.)\n",
    "* **The Kleene star** is also a quantifier and matches the preceding character 0 or more times, meaning the character doesn't need to appear, can appear once, or can appear many times. It is denoted with the asterisk *.\n",
    "\n",
    "        meo*w \n",
    "        # will match \"me\", followed by 0 or more \"o\", followed by \"w\". \n",
    "        # Thus the regex will match \"mew\", \"meow\", \"meooow\", and \"meoooooooooooow\".\n",
    "* **The Kleene plus**, denoted by the plus +, matches the preceding character 1 or more times.\n",
    "\n",
    "        meo+w \n",
    "        # will match the characters \"me\", followed by 1 or more \"o\", followed by a \"w\". \n",
    "        # Thus the regex will match \"meow\", \"meooow\", and \"meoooooooooooow\", but not match mew.\n",
    "\n",
    "* **The anchor symbols** hat ^ and dollar sign $ are used to match text at the start and end of a string, respectively\n",
    "\n",
    "        \\w{3} \n",
    "        # will match exactly 3 word characters\n",
    "\n",
    "        \\w{4,7} \n",
    "        # will match at minimum 4 and at maximum 7 word characters\n",
    "\n",
    "        roa{3}r \n",
    "        # will match the characters \"ro\" followed by 3 \"a\", and then the character \"r\"\n",
    "\n",
    "        mo{2,4} \n",
    "        # quantifiers are greedy - they will match the text \"moooo\" in the string \"moooo\", but not return a match of \"moo\" or \"mooo\"\n",
    "        \n",
    "        humou?r \n",
    "        # matches the characters \"humo\" then either 0 or 1 occurrence of \"u\" and finally \"r\" .\n",
    "\n",
    "* **Anchors** ensure that we do not match unintended text by making the expression as specific as possible. The anchors hat ^ and dollar sign $ are used to match text at the start and the end of a string, respectively. \n",
    "\n",
    "        ^Monkeys: my mortal enemy$ \n",
    "        # ^ ensures that the matched text begins with \"Monkeys\", the $ ensures the matched text ends with \"enemy\".\n",
    "        # will completely match \"Monkeys: my mortal enemy\" \n",
    "        # will not match \"Spider Monkeys: my mortal enemy in the wild\" or \"Squirrel Monkeys: my mortal enemy in the wild\" \n",
    "        # Without the anchor tags, the regex Monkeys: my mortal enemy will match the text Monkeys: my mortal enemy in both Spider Monkeys: my mortal enemy in the wild and Squirrel Monkeys: my mortal enemy in the wild.\n",
    "\n",
    "\n"
   ]
  },
  {
   "cell_type": "markdown",
   "id": "844be59e-6aea-41e5-8f3b-26e169c18088",
   "metadata": {},
   "source": [
    "Splitting\n",
    "---------------------------------\n",
    "\n",
    "Splitting can be useful in cleaning up data with columns that contain more than one type of data. \n",
    "\n",
    "We can split by index when at least one of the parts is a set number of characters. We can also split by character, which is useful when the part to be split may vary in length but is always separated by a specific character.\n",
    "\n",
    "Here's an example of might be used to extract numbers contained within a string using pandas' **.str.split()** function with **regex**\n",
    "students['grade'].str.split('(\\d+)', expand=True[1])"
   ]
  },
  {
   "cell_type": "markdown",
   "id": "0ccdbbb6-0ff3-4cff-81b3-f96f72c4f88e",
   "metadata": {},
   "source": [
    "String Parsing \n",
    "----------------------------------\n",
    "\n",
    "\n",
    "Remove or replace unwanted characters using **.replace()** and **regex**\n",
    "\n",
    "  :: \n",
    "    \n",
    "    students.score = students['score'].replace('[\\%,]', '', regex=True)\n",
    "\n",
    "\n",
    "\n",
    " \n",
    "Duplicate rows can be removed using **.drop_duplicates()**. To remove only rows where the duplicate appears in certain columns, we can select subsets containing specifying which columns to look at.\n",
    "\n",
    "  :: \n",
    "    \n",
    "    df = df.drop_duplicates() ????\n",
    "    df = df.drop_duplicates(subset=['reps'])\n"
   ]
  },
  {
   "cell_type": "markdown",
   "id": "cfe5f3d1-d0f5-4848-a964-d7c43dd438f5",
   "metadata": {},
   "source": [
    "Missing Values\n",
    "=================\n",
    "\n",
    "\n",
    "Pandas provides the **isna()** and **notna()** functions to make detecting missing values easier. Some calculations will just skip NaN values, but others will break when NaN is encountered.\n",
    "\n",
    "Using **.dropna()** will result in the DataFrame without the incomplete rows. We can also select a specific subset if we want to remove only rows containing NaN in specific columns.\n",
    "\n",
    "We can use **.fillna()** to fill in missing values with the mean of the column or with some other aggregate value.\n",
    "\n",
    "  :: \n",
    "  \n",
    "    df['column_name'] = df['column_name'].fillna(value_to_fill_in)\n",
    "    "
   ]
  },
  {
   "cell_type": "markdown",
   "id": "e6bbd6c2-9d0d-405e-bee4-f0400c4b2220",
   "metadata": {},
   "source": [
    "Some helpful Python string methods\n",
    "=====================================\n",
    "\n",
    "Python string method .replace( ). ?? Check if needs to be saved as new variables to \"stick\" ??\n",
    "\n",
    "    ::\n",
    "        \n",
    "        updated_medical_data = medical_data.replace(\"#\", \"$\")\n",
    "    \n",
    "Python split() functions.\n",
    "\n",
    "    ::\n",
    "        \n",
    "        medical_data_split = updated_medical_data.split(\";\")\n",
    "    \n",
    "\n",
    "Python .strip() method removes spaces at the beginning and at the end of the string. \n"
   ]
  },
  {
   "cell_type": "code",
   "execution_count": null,
   "id": "b73540a3-6a48-44b8-ab51-bc4c801e9406",
   "metadata": {},
   "outputs": [],
   "source": []
  }
 ],
 "metadata": {
  "kernelspec": {
   "display_name": "Python 3 (ipykernel)",
   "language": "python",
   "name": "python3"
  },
  "language_info": {
   "codemirror_mode": {
    "name": "ipython",
    "version": 3
   },
   "file_extension": ".py",
   "mimetype": "text/x-python",
   "name": "python",
   "nbconvert_exporter": "python",
   "pygments_lexer": "ipython3",
   "version": "3.9.0"
  }
 },
 "nbformat": 4,
 "nbformat_minor": 5
}
