{
 "cells": [
  {
   "cell_type": "markdown",
   "id": "79d115fc-07fd-4184-b809-678f30a53f18",
   "metadata": {},
   "source": [
    "geocode physical addresses \n",
    "\n",
    "Turn our address into to longitude and latitude\n",
    "\n",
    "We'll use these libraries...?\n",
    "\n",
    "Geopy\n",
    "Geopandas "
   ]
  },
  {
   "cell_type": "code",
   "execution_count": null,
   "id": "73adef84-e1f8-433f-a372-324509c1159a",
   "metadata": {},
   "outputs": [],
   "source": []
  }
 ],
 "metadata": {
  "kernelspec": {
   "display_name": "Python 3 (ipykernel)",
   "language": "python",
   "name": "python3"
  },
  "language_info": {
   "codemirror_mode": {
    "name": "ipython",
    "version": 3
   },
   "file_extension": ".py",
   "mimetype": "text/x-python",
   "name": "python",
   "nbconvert_exporter": "python",
   "pygments_lexer": "ipython3",
   "version": "3.9.0"
  }
 },
 "nbformat": 4,
 "nbformat_minor": 5
}
