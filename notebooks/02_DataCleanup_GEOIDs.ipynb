{
 "cells": [
  {
   "cell_type": "markdown",
   "id": "4fb7aac7-a982-4958-90d8-e11b9ad4db97",
   "metadata": {},
   "source": [
    "# Data Cleanup: GEOID tables\n",
    "\n",
    "The goal of this notebook is to produce one clean DataFrame of GEOID codes for US states and counties and separate one for \"places\". \n",
    "\n",
    "##  GEOIDs and why we love them\n",
    "*Geographic Identifier (GEOID)* is a general term for the unique numeric codes used to identify geographic entities. Specifically, the Census Bureau uses FIPS (Federal Information Processing Series) codes to identify most of the geographies for which it tabulates data. Because these codes are maintained by ANSI (the American National Standards Institute) we might hear them referred to as \"ANSI\", \"FIPS\", or even \"ANSI/FIPS\" codes. For clarity, we'll refer to them as \"FIPS\" codes. Census tract codes are the exception - these are maintained by the Census Bureau itself, so we'll refer to them as \"census tract codes.\" Regardless of what we call them, GEOIDs are the key piece of information that enables us to tie our population data to our geographic data. "
   ]
  },
  {
   "cell_type": "markdown",
   "id": "35794b82-17a3-4799-943e-43a39094ef6d",
   "metadata": {},
   "source": [
    "A unique GEOID can be derived for every piece of geography in the US by concatenating its code with those of the geographies in which it nests. The geography we'll be mapping, the *census tract*, nests within a *county*, which nests within a *state*. So, to derive a census tract's unique GEOID we concatenate its: STATE FIPS code + COUNTY FIPS code + CENSUS TRACT code.\n",
    "\n",
    "For example, the GEOID for the census tract in Brooklyn where I sit writing this is:\n",
    "\n",
    "```\n",
    "STATE + COUNTY + TRACT\n",
    "NY + Kings County + Tract #\n",
    "36 + 047 + 016500 \n",
    "= 36047016500\n",
    "\n",
    "```"
   ]
  },
  {
   "cell_type": "markdown",
   "id": "4a287aa2-6ac4-4169-96da-99d4a87071ab",
   "metadata": {},
   "source": [
    "## Which GEOIDs do we need?\n",
    "\n",
    "Given that the dataset required to map every census tract in the US is *enormous*, we'll narrow our initial mapping exercise to a subsection of particular interest within the indoor farming industry - New York City. We will, however, write our code, so that additional geographies can easily be added later. To begin, we'll need list of state, county, and \"place\" FIPS codes. (Interestingly, the hierarchy of census geographies doesn't actually contain a distinct \"city\" category, rather it categorizes New York City as a \"place\", thus our need for the place FIPS codes list.)"
   ]
  },
  {
   "cell_type": "markdown",
   "id": "280fc88d-dd05-41cb-bae0-6c5be6b7bafd",
   "metadata": {
    "tags": []
   },
   "source": [
    "#### *Data sources*\n",
    "\n",
    "Files downloaded from Census Bureau FTP server via FTP client.\n",
    "\n",
    "*State FIPS Codes* \n",
    "* file location: ftp://ftp2.census.gov/geo/docs/reference/codes/state.txt\n",
    "\n",
    "*County FIPS Codes*\n",
    "* file location: ftp://ftp2.census.gov/geo/docs/reference/codes/national_county.txt\n",
    "\n",
    "*Place FIPS Codes*\n",
    "* file location: ftp://ftp2.census.gov/geo/docs/reference/codes/PLACElist.txt"
   ]
  },
  {
   "cell_type": "markdown",
   "id": "fea238bc-d07e-4bd3-9289-b45d86821947",
   "metadata": {
    "tags": []
   },
   "source": [
    "#### *Some helper code for managing file paths*\n",
    "We'll use the code below throughout this project to make it easier to refer to the folders where our various data files are stored."
   ]
  },
  {
   "cell_type": "code",
   "execution_count": 1,
   "id": "688434d7-1045-4af9-add5-bb7d92bcac35",
   "metadata": {},
   "outputs": [],
   "source": [
    "# os and patlib modules used to make it easier to refer to project folders \n",
    "\n",
    "import os, pathlib\n",
    "base_dir = pathlib.Path(os.getcwd()).parent\n",
    "data_archive_dir = os.path.join(base_dir, \"data_archive\")\n",
    "clean_data_dir = os.path.join(data_archive_dir, \"clean\")\n",
    "data_dir = os.path.join(base_dir, \"data\")\n",
    "shapes_dir = os.path.join(data_dir,\"shapes\")\n",
    "json_dir = os.path.join(data_dir,\"geojson\")\n",
    "util_dir = os.path.join(data_dir,\"util\")"
   ]
  },
  {
   "cell_type": "markdown",
   "id": "680a2e51-42bf-4310-b09b-66802e541b0f",
   "metadata": {},
   "source": [
    "## State FIPS codes\n",
    "\n",
    "Let's go ahead and load as a DataFrame the list of codes for the states and state equivalents and examine the first few rows. We'll include just the columns we want, rename them to better describe their contents, and reorder them as we like. "
   ]
  },
  {
   "cell_type": "code",
   "execution_count": 2,
   "id": "64d8193b-465a-43e7-adbd-695e9ca81b5b",
   "metadata": {},
   "outputs": [
    {
     "data": {
      "text/html": [
       "<div>\n",
       "<style scoped>\n",
       "    .dataframe tbody tr th:only-of-type {\n",
       "        vertical-align: middle;\n",
       "    }\n",
       "\n",
       "    .dataframe tbody tr th {\n",
       "        vertical-align: top;\n",
       "    }\n",
       "\n",
       "    .dataframe thead th {\n",
       "        text-align: right;\n",
       "    }\n",
       "</style>\n",
       "<table border=\"1\" class=\"dataframe\">\n",
       "  <thead>\n",
       "    <tr style=\"text-align: right;\">\n",
       "      <th></th>\n",
       "      <th>State Name</th>\n",
       "      <th>State</th>\n",
       "      <th>State FIPS</th>\n",
       "    </tr>\n",
       "  </thead>\n",
       "  <tbody>\n",
       "    <tr>\n",
       "      <th>0</th>\n",
       "      <td>Alabama</td>\n",
       "      <td>AL</td>\n",
       "      <td>1</td>\n",
       "    </tr>\n",
       "    <tr>\n",
       "      <th>1</th>\n",
       "      <td>Alaska</td>\n",
       "      <td>AK</td>\n",
       "      <td>2</td>\n",
       "    </tr>\n",
       "    <tr>\n",
       "      <th>2</th>\n",
       "      <td>Arizona</td>\n",
       "      <td>AZ</td>\n",
       "      <td>4</td>\n",
       "    </tr>\n",
       "  </tbody>\n",
       "</table>\n",
       "</div>"
      ],
      "text/plain": [
       "  State Name State  State FIPS\n",
       "0    Alabama    AL           1\n",
       "1     Alaska    AK           2\n",
       "2    Arizona    AZ           4"
      ]
     },
     "execution_count": 2,
     "metadata": {},
     "output_type": "execute_result"
    }
   ],
   "source": [
    "import pandas as pd\n",
    "\n",
    "# these options determine how much data is displayed in the notebook\n",
    "pd.set_option('display.width', None)\n",
    "pd.set_option('display.max_colwidth', None)\n",
    "\n",
    "file_state = os.path.join(data_archive_dir, 'state.txt')\n",
    "\n",
    "df_state = pd.read_csv(file_state, \n",
    "                       usecols=['STATE', 'STUSAB', 'STATE_NAME'], # use only these columns\n",
    "                       delimiter=\"|\", # load txt file as pandas DataFrame \n",
    "                       encoding=\"iso-8859-1\", \n",
    "                       encoding_errors='ignore')[['STATE_NAME', 'STUSAB', 'STATE',]] # reorder cols\n",
    "\n",
    "df_state.rename(columns={'STATE': 'State FIPS', 'STUSAB': 'State', 'STATE_NAME': 'State Name'}, inplace=True) # rename columns\n",
    "df_state.head(3)"
   ]
  },
  {
   "cell_type": "markdown",
   "id": "429a26f6-a8c1-4f97-a1a6-7a1479f9a40f",
   "metadata": {},
   "source": [
    "Now let's proceed with our usual, thorough search for missing values."
   ]
  },
  {
   "cell_type": "code",
   "execution_count": 3,
   "id": "c31bbc28-ab9e-4a39-b9a8-a32abcfe1776",
   "metadata": {},
   "outputs": [
    {
     "name": "stdout",
     "output_type": "stream",
     "text": [
      "<class 'pandas.core.frame.DataFrame'>\n",
      "RangeIndex: 57 entries, 0 to 56\n",
      "Data columns (total 3 columns):\n",
      " #   Column      Non-Null Count  Dtype \n",
      "---  ------      --------------  ----- \n",
      " 0   State Name  57 non-null     object\n",
      " 1   State       57 non-null     object\n",
      " 2   State FIPS  57 non-null     int64 \n",
      "dtypes: int64(1), object(2)\n",
      "memory usage: 1.5+ KB\n"
     ]
    }
   ],
   "source": [
    "df_state.info()"
   ]
  },
  {
   "cell_type": "markdown",
   "id": "f7e18e73-2c7a-4926-ae05-0f84a6eb860b",
   "metadata": {},
   "source": [
    "<!-- ****DOUBLE CHECK - do we want State FIPS as integer or string? Population data has GEOIDs as strings. What about shapefiles? Let's leave it for now.****\n",
    "\n",
    "Hmm. \"State\" and \"State Name\" are of type \"object\", which makes sense since our visual inspection makes it clear they are strings. State FIPS, however, is showing up as an integer type. This makes sense, but since our population data has GEOIDs formatted as strings, we'll follow its lead and change the dtype here, so we'll be able match on this column if needed in the future.  -->"
   ]
  },
  {
   "cell_type": "markdown",
   "id": "0aa353df-c1ec-4e19-91d4-f0f2f45cee7e",
   "metadata": {},
   "source": [
    "According to `.info()` our list has no null values, let's double check this using `.isna().sum().`"
   ]
  },
  {
   "cell_type": "code",
   "execution_count": 4,
   "id": "8ae7d0bc-d5e0-49e6-bee5-e27019e79c39",
   "metadata": {},
   "outputs": [
    {
     "data": {
      "text/plain": [
       "State Name    0\n",
       "State         0\n",
       "State FIPS    0\n",
       "dtype: int64"
      ]
     },
     "execution_count": 4,
     "metadata": {},
     "output_type": "execute_result"
    }
   ],
   "source": [
    "df_state.isna().sum()"
   ]
  },
  {
   "cell_type": "markdown",
   "id": "950b47ab-0b7f-45e3-a8db-e00149e4ce21",
   "metadata": {},
   "source": [
    "Lastly, let's confirm that our datatypes make sense. "
   ]
  },
  {
   "cell_type": "code",
   "execution_count": 5,
   "id": "65562fe2-022f-4836-93d1-04fcfd9c272f",
   "metadata": {},
   "outputs": [
    {
     "data": {
      "text/plain": [
       "State Name    object\n",
       "State         object\n",
       "State FIPS     int64\n",
       "dtype: object"
      ]
     },
     "execution_count": 5,
     "metadata": {},
     "output_type": "execute_result"
    }
   ],
   "source": [
    "df_state.dtypes"
   ]
  },
  {
   "cell_type": "markdown",
   "id": "2b72b876-eb85-4596-a33a-b51c1a3c72a6",
   "metadata": {},
   "source": [
    "Our dtypes looks good. \"State Name\" and \"State\" column values are strings, so dtype \"object\" is correct here. State FIPS codes are integers, so the dtype \"int64\" is correct here. Now, we're ready to move onto county FIPS codes.  "
   ]
  },
  {
   "cell_type": "markdown",
   "id": "8d0f5683-6599-4337-80f5-8383d10b6f1b",
   "metadata": {},
   "source": [
    "## County FIPS codes\n",
    "\n",
    "Let's load as a DataFrame our list of County FIPS codes. Again, we'll limit it to the columns we need - reorder and rename them, then perform a quick visual inspection. "
   ]
  },
  {
   "cell_type": "code",
   "execution_count": 6,
   "id": "2f4a0d5b-8c9f-4896-bca4-33ef7d79c2c3",
   "metadata": {},
   "outputs": [
    {
     "data": {
      "text/html": [
       "<div>\n",
       "<style scoped>\n",
       "    .dataframe tbody tr th:only-of-type {\n",
       "        vertical-align: middle;\n",
       "    }\n",
       "\n",
       "    .dataframe tbody tr th {\n",
       "        vertical-align: top;\n",
       "    }\n",
       "\n",
       "    .dataframe thead th {\n",
       "        text-align: right;\n",
       "    }\n",
       "</style>\n",
       "<table border=\"1\" class=\"dataframe\">\n",
       "  <thead>\n",
       "    <tr style=\"text-align: right;\">\n",
       "      <th></th>\n",
       "      <th>State FIPS</th>\n",
       "      <th>County</th>\n",
       "      <th>County FIPS</th>\n",
       "    </tr>\n",
       "  </thead>\n",
       "  <tbody>\n",
       "    <tr>\n",
       "      <th>0</th>\n",
       "      <td>1</td>\n",
       "      <td>Autauga County</td>\n",
       "      <td>1</td>\n",
       "    </tr>\n",
       "    <tr>\n",
       "      <th>1</th>\n",
       "      <td>1</td>\n",
       "      <td>Baldwin County</td>\n",
       "      <td>3</td>\n",
       "    </tr>\n",
       "    <tr>\n",
       "      <th>2</th>\n",
       "      <td>1</td>\n",
       "      <td>Barbour County</td>\n",
       "      <td>5</td>\n",
       "    </tr>\n",
       "  </tbody>\n",
       "</table>\n",
       "</div>"
      ],
      "text/plain": [
       "   State FIPS          County  County FIPS\n",
       "0           1  Autauga County            1\n",
       "1           1  Baldwin County            3\n",
       "2           1  Barbour County            5"
      ]
     },
     "execution_count": 6,
     "metadata": {},
     "output_type": "execute_result"
    }
   ],
   "source": [
    "# this text file uses UTF-8 encoding \n",
    "file_national_county = os.path.join(data_archive_dir, 'national_county.txt')\n",
    "\n",
    "df_county = pd.read_csv(file_national_county,\n",
    "                        delimiter=\",\",\n",
    "                        usecols=['State ANSI', 'County ANSI', 'County Name'], # use only these columns\n",
    "                        encoding=\"utf-8\", # QUESTION: Patrick, this text file uses UTF-8 encoding, what should we use here?\n",
    "                        encoding_errors='ignore')[['State ANSI', 'County Name', 'County ANSI']] # reorder columns\n",
    "\n",
    "# rename columns\n",
    "df_county.columns = ['State FIPS', 'County', 'County FIPS']\n",
    "df_county.head(3)"
   ]
  },
  {
   "cell_type": "code",
   "execution_count": 7,
   "id": "5b55b940-74cb-4668-9aa5-bd848997f481",
   "metadata": {},
   "outputs": [
    {
     "data": {
      "text/plain": [
       "(3235, 3)"
      ]
     },
     "execution_count": 7,
     "metadata": {},
     "output_type": "execute_result"
    }
   ],
   "source": [
    "df_county.shape"
   ]
  },
  {
   "cell_type": "markdown",
   "id": "a25a16c0-88b1-44d6-a143-3ccd9dd68bd3",
   "metadata": {},
   "source": [
    "Now, let's proceed with our thorough search for missing values."
   ]
  },
  {
   "cell_type": "code",
   "execution_count": 8,
   "id": "188c6733-49f5-48fd-baa3-7ab22e7d540d",
   "metadata": {},
   "outputs": [
    {
     "name": "stdout",
     "output_type": "stream",
     "text": [
      "<class 'pandas.core.frame.DataFrame'>\n",
      "RangeIndex: 3235 entries, 0 to 3234\n",
      "Data columns (total 3 columns):\n",
      " #   Column       Non-Null Count  Dtype \n",
      "---  ------       --------------  ----- \n",
      " 0   State FIPS   3235 non-null   int64 \n",
      " 1   County       3235 non-null   object\n",
      " 2   County FIPS  3235 non-null   int64 \n",
      "dtypes: int64(2), object(1)\n",
      "memory usage: 75.9+ KB\n"
     ]
    }
   ],
   "source": [
    "df_county.info()"
   ]
  },
  {
   "cell_type": "code",
   "execution_count": 9,
   "id": "9a7d784d-cee3-4067-8242-b51f52e202a5",
   "metadata": {},
   "outputs": [
    {
     "data": {
      "text/html": [
       "<div>\n",
       "<style scoped>\n",
       "    .dataframe tbody tr th:only-of-type {\n",
       "        vertical-align: middle;\n",
       "    }\n",
       "\n",
       "    .dataframe tbody tr th {\n",
       "        vertical-align: top;\n",
       "    }\n",
       "\n",
       "    .dataframe thead th {\n",
       "        text-align: right;\n",
       "    }\n",
       "</style>\n",
       "<table border=\"1\" class=\"dataframe\">\n",
       "  <thead>\n",
       "    <tr style=\"text-align: right;\">\n",
       "      <th></th>\n",
       "      <th>State FIPS</th>\n",
       "      <th>County</th>\n",
       "      <th>County FIPS</th>\n",
       "    </tr>\n",
       "  </thead>\n",
       "  <tbody>\n",
       "    <tr>\n",
       "      <th>0</th>\n",
       "      <td>False</td>\n",
       "      <td>False</td>\n",
       "      <td>False</td>\n",
       "    </tr>\n",
       "    <tr>\n",
       "      <th>1</th>\n",
       "      <td>False</td>\n",
       "      <td>False</td>\n",
       "      <td>False</td>\n",
       "    </tr>\n",
       "    <tr>\n",
       "      <th>2</th>\n",
       "      <td>False</td>\n",
       "      <td>False</td>\n",
       "      <td>False</td>\n",
       "    </tr>\n",
       "    <tr>\n",
       "      <th>3</th>\n",
       "      <td>False</td>\n",
       "      <td>False</td>\n",
       "      <td>False</td>\n",
       "    </tr>\n",
       "    <tr>\n",
       "      <th>4</th>\n",
       "      <td>False</td>\n",
       "      <td>False</td>\n",
       "      <td>False</td>\n",
       "    </tr>\n",
       "    <tr>\n",
       "      <th>...</th>\n",
       "      <td>...</td>\n",
       "      <td>...</td>\n",
       "      <td>...</td>\n",
       "    </tr>\n",
       "    <tr>\n",
       "      <th>3230</th>\n",
       "      <td>False</td>\n",
       "      <td>False</td>\n",
       "      <td>False</td>\n",
       "    </tr>\n",
       "    <tr>\n",
       "      <th>3231</th>\n",
       "      <td>False</td>\n",
       "      <td>False</td>\n",
       "      <td>False</td>\n",
       "    </tr>\n",
       "    <tr>\n",
       "      <th>3232</th>\n",
       "      <td>False</td>\n",
       "      <td>False</td>\n",
       "      <td>False</td>\n",
       "    </tr>\n",
       "    <tr>\n",
       "      <th>3233</th>\n",
       "      <td>False</td>\n",
       "      <td>False</td>\n",
       "      <td>False</td>\n",
       "    </tr>\n",
       "    <tr>\n",
       "      <th>3234</th>\n",
       "      <td>False</td>\n",
       "      <td>False</td>\n",
       "      <td>False</td>\n",
       "    </tr>\n",
       "  </tbody>\n",
       "</table>\n",
       "<p>3235 rows × 3 columns</p>\n",
       "</div>"
      ],
      "text/plain": [
       "      State FIPS  County  County FIPS\n",
       "0          False   False        False\n",
       "1          False   False        False\n",
       "2          False   False        False\n",
       "3          False   False        False\n",
       "4          False   False        False\n",
       "...          ...     ...          ...\n",
       "3230       False   False        False\n",
       "3231       False   False        False\n",
       "3232       False   False        False\n",
       "3233       False   False        False\n",
       "3234       False   False        False\n",
       "\n",
       "[3235 rows x 3 columns]"
      ]
     },
     "execution_count": 9,
     "metadata": {},
     "output_type": "execute_result"
    }
   ],
   "source": [
    "df_county.isna()"
   ]
  },
  {
   "cell_type": "code",
   "execution_count": 10,
   "id": "8ea03112-4cbe-4926-a4c5-50da1a0edb59",
   "metadata": {},
   "outputs": [
    {
     "data": {
      "text/plain": [
       "State FIPS     0\n",
       "County         0\n",
       "County FIPS    0\n",
       "dtype: int64"
      ]
     },
     "execution_count": 10,
     "metadata": {},
     "output_type": "execute_result"
    }
   ],
   "source": [
    "df_county.isna().sum()"
   ]
  },
  {
   "cell_type": "markdown",
   "id": "9f9f0f2f-cd27-4b66-8489-626af754a2aa",
   "metadata": {},
   "source": [
    "And now a quick check to confirm that our datatypes make sense. "
   ]
  },
  {
   "cell_type": "code",
   "execution_count": 11,
   "id": "9d4d5758-0f28-455b-83e4-22d7d36642c1",
   "metadata": {},
   "outputs": [
    {
     "data": {
      "text/plain": [
       "State FIPS      int64\n",
       "County         object\n",
       "County FIPS     int64\n",
       "dtype: object"
      ]
     },
     "execution_count": 11,
     "metadata": {},
     "output_type": "execute_result"
    }
   ],
   "source": [
    "df_county.dtypes"
   ]
  },
  {
   "cell_type": "markdown",
   "id": "4eb290f5-420e-43af-bac9-8fa1277459b2",
   "metadata": {},
   "source": [
    "## State & county FIPS codes combined"
   ]
  },
  {
   "cell_type": "markdown",
   "id": "990d2aa3-6b71-4fe7-a493-ad783b0b8c60",
   "metadata": {},
   "source": [
    "Now, let's consolidate our state and county FIPS codes DataFrames into a new DataFrame and call it, *df_state_county*. We want to include the \"State Names\" column from our *df_states*, as the 2-letter abbreviations for some island territories on our list may be less familiar. "
   ]
  },
  {
   "cell_type": "code",
   "execution_count": 12,
   "id": "4a0842dd-3efc-4ace-b989-7b4dc1907716",
   "metadata": {},
   "outputs": [
    {
     "data": {
      "text/html": [
       "<div>\n",
       "<style scoped>\n",
       "    .dataframe tbody tr th:only-of-type {\n",
       "        vertical-align: middle;\n",
       "    }\n",
       "\n",
       "    .dataframe tbody tr th {\n",
       "        vertical-align: top;\n",
       "    }\n",
       "\n",
       "    .dataframe thead th {\n",
       "        text-align: right;\n",
       "    }\n",
       "</style>\n",
       "<table border=\"1\" class=\"dataframe\">\n",
       "  <thead>\n",
       "    <tr style=\"text-align: right;\">\n",
       "      <th></th>\n",
       "      <th>State Name</th>\n",
       "      <th>State</th>\n",
       "      <th>State FIPS</th>\n",
       "      <th>County</th>\n",
       "      <th>County FIPS</th>\n",
       "    </tr>\n",
       "  </thead>\n",
       "  <tbody>\n",
       "    <tr>\n",
       "      <th>0</th>\n",
       "      <td>Alabama</td>\n",
       "      <td>AL</td>\n",
       "      <td>1</td>\n",
       "      <td>Autauga County</td>\n",
       "      <td>1</td>\n",
       "    </tr>\n",
       "    <tr>\n",
       "      <th>1</th>\n",
       "      <td>Alabama</td>\n",
       "      <td>AL</td>\n",
       "      <td>1</td>\n",
       "      <td>Baldwin County</td>\n",
       "      <td>3</td>\n",
       "    </tr>\n",
       "    <tr>\n",
       "      <th>2</th>\n",
       "      <td>Alabama</td>\n",
       "      <td>AL</td>\n",
       "      <td>1</td>\n",
       "      <td>Barbour County</td>\n",
       "      <td>5</td>\n",
       "    </tr>\n",
       "  </tbody>\n",
       "</table>\n",
       "</div>"
      ],
      "text/plain": [
       "  State Name State  State FIPS          County  County FIPS\n",
       "0    Alabama    AL           1  Autauga County            1\n",
       "1    Alabama    AL           1  Baldwin County            3\n",
       "2    Alabama    AL           1  Barbour County            5"
      ]
     },
     "execution_count": 12,
     "metadata": {},
     "output_type": "execute_result"
    }
   ],
   "source": [
    "df_state_county = pd.merge(df_state, df_county, on=['State FIPS'], how='left') \n",
    "df_state_county.head(3)"
   ]
  },
  {
   "cell_type": "markdown",
   "id": "6e7a84ca-2d89-484a-811e-785f667680d8",
   "metadata": {},
   "source": [
    "## Addressing non-ASCII characters"
   ]
  },
  {
   "cell_type": "markdown",
   "id": "17319575-e9f4-4cd1-91e8-45bf77215166",
   "metadata": {},
   "source": [
    "While we're pretty confident that our state names and abbreviations contain only standard ASCII characters, we suspect that some county names may include characters with diacritic marks. We need to ensure consistent treatment of these characters between files, especially if we wish to perform merges on these columns at any point. So, let's check *df_state_county* now for any characters with diacritic marks, so we can decide if and how we'd like to handle them."
   ]
  },
  {
   "cell_type": "code",
   "execution_count": 13,
   "id": "aaeb6f12-2161-4188-8b6f-19adcc8c4ecc",
   "metadata": {},
   "outputs": [],
   "source": [
    "# this function checks for characters with diacritic marks\n",
    "\n",
    "def is_non_ascii(value):\n",
    "    if type(value) != str:\n",
    "        return True\n",
    "    try:\n",
    "        value.encode('ascii')\n",
    "        return False\n",
    "    except:\n",
    "        return True"
   ]
  },
  {
   "cell_type": "code",
   "execution_count": 14,
   "id": "1a86bd7f-e6b6-4e5e-8413-61f03f2f43af",
   "metadata": {},
   "outputs": [
    {
     "data": {
      "text/html": [
       "<div>\n",
       "<style scoped>\n",
       "    .dataframe tbody tr th:only-of-type {\n",
       "        vertical-align: middle;\n",
       "    }\n",
       "\n",
       "    .dataframe tbody tr th {\n",
       "        vertical-align: top;\n",
       "    }\n",
       "\n",
       "    .dataframe thead th {\n",
       "        text-align: right;\n",
       "    }\n",
       "</style>\n",
       "<table border=\"1\" class=\"dataframe\">\n",
       "  <thead>\n",
       "    <tr style=\"text-align: right;\">\n",
       "      <th></th>\n",
       "      <th>State Name</th>\n",
       "      <th>State</th>\n",
       "      <th>State FIPS</th>\n",
       "      <th>County</th>\n",
       "      <th>County FIPS</th>\n",
       "    </tr>\n",
       "  </thead>\n",
       "  <tbody>\n",
       "  </tbody>\n",
       "</table>\n",
       "</div>"
      ],
      "text/plain": [
       "Empty DataFrame\n",
       "Columns: [State Name, State, State FIPS, County, County FIPS]\n",
       "Index: []"
      ]
     },
     "execution_count": 14,
     "metadata": {},
     "output_type": "execute_result"
    }
   ],
   "source": [
    "# call our function 'is_non_ascii' to check for characters \n",
    "# with diacritics    \n",
    "\n",
    "df_state_county.loc[ (df_state_county[\"State Name\"].apply(is_non_ascii)) | (df_state_county[\"County\"].apply(is_non_ascii)) ]"
   ]
  },
  {
   "cell_type": "markdown",
   "id": "1936aa33-92fd-47ac-9e8d-2bb61e1ee508",
   "metadata": {},
   "source": [
    "All clear! No diacritics found in *df_state_county*, just standard ASCII characters. Let's move on to our list of Place FIPS codes. "
   ]
  },
  {
   "cell_type": "markdown",
   "id": "70a7bef4-a8fb-4405-a359-f8801fb0d677",
   "metadata": {
    "tags": []
   },
   "source": [
    "## Place FIPS codes\n",
    "\n",
    "As usual, we'll load our list as a DataFrame, rename and reorder columns, then inspect a few rows. "
   ]
  },
  {
   "cell_type": "code",
   "execution_count": 15,
   "id": "f191066f-d6c6-4420-b720-587ce6e67cb2",
   "metadata": {},
   "outputs": [
    {
     "data": {
      "text/html": [
       "<div>\n",
       "<style scoped>\n",
       "    .dataframe tbody tr th:only-of-type {\n",
       "        vertical-align: middle;\n",
       "    }\n",
       "\n",
       "    .dataframe tbody tr th {\n",
       "        vertical-align: top;\n",
       "    }\n",
       "\n",
       "    .dataframe thead th {\n",
       "        text-align: right;\n",
       "    }\n",
       "</style>\n",
       "<table border=\"1\" class=\"dataframe\">\n",
       "  <thead>\n",
       "    <tr style=\"text-align: right;\">\n",
       "      <th></th>\n",
       "      <th>State</th>\n",
       "      <th>State FIPS</th>\n",
       "      <th>Place</th>\n",
       "      <th>Place FIPS</th>\n",
       "      <th>County</th>\n",
       "    </tr>\n",
       "  </thead>\n",
       "  <tbody>\n",
       "    <tr>\n",
       "      <th>0</th>\n",
       "      <td>AL</td>\n",
       "      <td>1</td>\n",
       "      <td>Abanda CDP</td>\n",
       "      <td>100</td>\n",
       "      <td>Chambers County</td>\n",
       "    </tr>\n",
       "    <tr>\n",
       "      <th>1</th>\n",
       "      <td>AL</td>\n",
       "      <td>1</td>\n",
       "      <td>Abbeville city</td>\n",
       "      <td>124</td>\n",
       "      <td>Henry County</td>\n",
       "    </tr>\n",
       "    <tr>\n",
       "      <th>2</th>\n",
       "      <td>AL</td>\n",
       "      <td>1</td>\n",
       "      <td>Adamsville city</td>\n",
       "      <td>460</td>\n",
       "      <td>Jefferson County</td>\n",
       "    </tr>\n",
       "  </tbody>\n",
       "</table>\n",
       "</div>"
      ],
      "text/plain": [
       "  State  State FIPS            Place  Place FIPS            County\n",
       "0    AL           1       Abanda CDP         100   Chambers County\n",
       "1    AL           1   Abbeville city         124      Henry County\n",
       "2    AL           1  Adamsville city         460  Jefferson County"
      ]
     },
     "execution_count": 15,
     "metadata": {},
     "output_type": "execute_result"
    }
   ],
   "source": [
    "# this text file uses ANSI encoding\n",
    "file_place = os.path.join(data_archive_dir, 'PLACElist.txt')\n",
    "\n",
    "df_place = pd.read_csv(file_place, \n",
    "                       delimiter=\"|\", \n",
    "                       usecols=['STATE', 'STATEFP', 'PLACEFP', 'PLACENAME', 'COUNTY'], # use only these columns\n",
    "                       encoding=\"iso-8859-1\" # QUESTION: Patrick, this txt file uses ANSI encoding, what should we use here?\n",
    "                       )[['STATE','STATEFP', 'PLACENAME', 'PLACEFP', 'COUNTY']] # reorder columns\n",
    "#encoding_errors='ignore'\n",
    "df_place.rename(columns={'STATE': 'State', 'STATEFP': 'State FIPS', 'PLACENAME': 'Place', 'PLACEFP': 'Place FIPS', 'COUNTY': 'County'}, inplace=True) # rename columns\n",
    "                         \n",
    "df_place.head(3) "
   ]
  },
  {
   "cell_type": "code",
   "execution_count": 16,
   "id": "1af01f84-69e1-47e7-92e5-46728c28bfd5",
   "metadata": {},
   "outputs": [
    {
     "data": {
      "text/plain": [
       "State         object\n",
       "State FIPS     int64\n",
       "Place         object\n",
       "Place FIPS     int64\n",
       "County        object\n",
       "dtype: object"
      ]
     },
     "execution_count": 16,
     "metadata": {},
     "output_type": "execute_result"
    }
   ],
   "source": [
    "df_place.dtypes"
   ]
  },
  {
   "cell_type": "markdown",
   "id": "3d7cad2f-f1d4-428d-a3b8-234c28a1a513",
   "metadata": {},
   "source": [
    "While all of our state names contain only standard ASCII characters, depending on how our file is formatted, it's possible that some of our place or county names may include characters with diacritic marks. Let's take a closer look now using our `is_non_ascii` function."
   ]
  },
  {
   "cell_type": "code",
   "execution_count": 17,
   "id": "5177f464-e15c-4da6-879b-815f118d36b7",
   "metadata": {},
   "outputs": [
    {
     "data": {
      "text/html": [
       "<div>\n",
       "<style scoped>\n",
       "    .dataframe tbody tr th:only-of-type {\n",
       "        vertical-align: middle;\n",
       "    }\n",
       "\n",
       "    .dataframe tbody tr th {\n",
       "        vertical-align: top;\n",
       "    }\n",
       "\n",
       "    .dataframe thead th {\n",
       "        text-align: right;\n",
       "    }\n",
       "</style>\n",
       "<table border=\"1\" class=\"dataframe\">\n",
       "  <thead>\n",
       "    <tr style=\"text-align: right;\">\n",
       "      <th></th>\n",
       "      <th>State</th>\n",
       "      <th>State FIPS</th>\n",
       "      <th>Place</th>\n",
       "      <th>Place FIPS</th>\n",
       "      <th>County</th>\n",
       "    </tr>\n",
       "  </thead>\n",
       "  <tbody>\n",
       "    <tr>\n",
       "      <th>2599</th>\n",
       "      <td>CA</td>\n",
       "      <td>6</td>\n",
       "      <td>La Cañada Flintridge city</td>\n",
       "      <td>39003</td>\n",
       "      <td>Los Angeles County</td>\n",
       "    </tr>\n",
       "    <tr>\n",
       "      <th>2982</th>\n",
       "      <td>CA</td>\n",
       "      <td>6</td>\n",
       "      <td>Piñon Hills CDP</td>\n",
       "      <td>57302</td>\n",
       "      <td>San Bernardino County</td>\n",
       "    </tr>\n",
       "    <tr>\n",
       "      <th>3506</th>\n",
       "      <td>CO</td>\n",
       "      <td>8</td>\n",
       "      <td>Cañon City city</td>\n",
       "      <td>11810</td>\n",
       "      <td>Fremont County</td>\n",
       "    </tr>\n",
       "    <tr>\n",
       "      <th>22545</th>\n",
       "      <td>NM</td>\n",
       "      <td>35</td>\n",
       "      <td>Anthony CDP</td>\n",
       "      <td>3820</td>\n",
       "      <td>Doña Ana County</td>\n",
       "    </tr>\n",
       "    <tr>\n",
       "      <th>22561</th>\n",
       "      <td>NM</td>\n",
       "      <td>35</td>\n",
       "      <td>Berino CDP</td>\n",
       "      <td>6830</td>\n",
       "      <td>Doña Ana County</td>\n",
       "    </tr>\n",
       "    <tr>\n",
       "      <th>...</th>\n",
       "      <td>...</td>\n",
       "      <td>...</td>\n",
       "      <td>...</td>\n",
       "      <td>...</td>\n",
       "      <td>...</td>\n",
       "    </tr>\n",
       "    <tr>\n",
       "      <th>41395</th>\n",
       "      <td>PR</td>\n",
       "      <td>72</td>\n",
       "      <td>Tallaboa comunidad</td>\n",
       "      <td>81413</td>\n",
       "      <td>Peñuelas Municipio</td>\n",
       "    </tr>\n",
       "    <tr>\n",
       "      <th>41396</th>\n",
       "      <td>PR</td>\n",
       "      <td>72</td>\n",
       "      <td>Tallaboa Alta comunidad</td>\n",
       "      <td>81456</td>\n",
       "      <td>Peñuelas Municipio</td>\n",
       "    </tr>\n",
       "    <tr>\n",
       "      <th>41399</th>\n",
       "      <td>PR</td>\n",
       "      <td>72</td>\n",
       "      <td>Tierras Nuevas Poniente comunidad</td>\n",
       "      <td>82187</td>\n",
       "      <td>Manatí Municipio</td>\n",
       "    </tr>\n",
       "    <tr>\n",
       "      <th>41405</th>\n",
       "      <td>PR</td>\n",
       "      <td>72</td>\n",
       "      <td>Vázquez comunidad</td>\n",
       "      <td>85111</td>\n",
       "      <td>Salinas Municipio</td>\n",
       "    </tr>\n",
       "    <tr>\n",
       "      <th>41408</th>\n",
       "      <td>PR</td>\n",
       "      <td>72</td>\n",
       "      <td>Vieques comunidad</td>\n",
       "      <td>85971</td>\n",
       "      <td>Loíza Municipio</td>\n",
       "    </tr>\n",
       "  </tbody>\n",
       "</table>\n",
       "<p>120 rows × 5 columns</p>\n",
       "</div>"
      ],
      "text/plain": [
       "      State  State FIPS                              Place  Place FIPS  \\\n",
       "2599     CA           6          La Cañada Flintridge city       39003   \n",
       "2982     CA           6                    Piñon Hills CDP       57302   \n",
       "3506     CO           8                    Cañon City city       11810   \n",
       "22545    NM          35                        Anthony CDP        3820   \n",
       "22561    NM          35                         Berino CDP        6830   \n",
       "...     ...         ...                                ...         ...   \n",
       "41395    PR          72                 Tallaboa comunidad       81413   \n",
       "41396    PR          72            Tallaboa Alta comunidad       81456   \n",
       "41399    PR          72  Tierras Nuevas Poniente comunidad       82187   \n",
       "41405    PR          72                  Vázquez comunidad       85111   \n",
       "41408    PR          72                  Vieques comunidad       85971   \n",
       "\n",
       "                      County  \n",
       "2599      Los Angeles County  \n",
       "2982   San Bernardino County  \n",
       "3506          Fremont County  \n",
       "22545        Doña Ana County  \n",
       "22561        Doña Ana County  \n",
       "...                      ...  \n",
       "41395     Peñuelas Municipio  \n",
       "41396     Peñuelas Municipio  \n",
       "41399       Manatí Municipio  \n",
       "41405      Salinas Municipio  \n",
       "41408        Loíza Municipio  \n",
       "\n",
       "[120 rows x 5 columns]"
      ]
     },
     "execution_count": 17,
     "metadata": {},
     "output_type": "execute_result"
    }
   ],
   "source": [
    "# check for characters with diacritic marks\n",
    "\n",
    "def is_non_ascii(value):\n",
    "    if type(value) != str:\n",
    "        return True\n",
    "    try:\n",
    "        value.encode('ascii')\n",
    "        return False\n",
    "    except:\n",
    "        return True\n",
    "    \n",
    "df_place.loc[ (df_place[\"County\"].apply(is_non_ascii)) | (df_place[\"Place\"].apply(is_non_ascii)) ]"
   ]
  },
  {
   "cell_type": "markdown",
   "id": "13f50f6c-0210-49d0-a636-d6b7dc941dfd",
   "metadata": {},
   "source": [
    "Well, it appears there are more than a few diacritic marks in *df_place*! Let's address them by mapping each to its closest approximate in the English 26-letter alphabet. This will ensure consistency with our *df_state_county* DataFrame."
   ]
  },
  {
   "cell_type": "code",
   "execution_count": 18,
   "id": "af34a6a3-3f7b-49ee-b086-66cd5af7e18d",
   "metadata": {},
   "outputs": [],
   "source": [
    "import json\n",
    "\n",
    "# open a json file of characters with diacritics mapped to their\n",
    "# closest approximate in the English alphabet\n",
    "# create a dictionary of these character mappings\n",
    "diacritic_mapping_file = os.path.join(data_dir,\"util/diacritic_translate.json\")\n",
    "with open(diacritic_mapping_file, \"r\") as mapping_file:\n",
    "    diac_char_map = json.load(mapping_file)\n",
    "\n",
    "# now we need the integer ordinal of each character to use with \n",
    "# pandas Series str.translate    \n",
    "# create an empty dictionary to store these\n",
    "diac_ord_map = dict()\n",
    "\n",
    "# iterate over the entries in the character mappings dictionary\n",
    "for k,v in diac_char_map.items():\n",
    "    # populate the ordinal dict with the ordinals\n",
    "    # of each key => value character\n",
    "    diac_ord_map[ord(k)] = ord(v)"
   ]
  },
  {
   "cell_type": "code",
   "execution_count": 19,
   "id": "58860c37-f757-4edf-8dce-bea0f5135ee4",
   "metadata": {},
   "outputs": [],
   "source": [
    "# use pandas Series.str.translate to translate all our County and Place names\n",
    "# with diacritics\n",
    "df_place['County'] = df_place['County'].str.translate(diac_ord_map)\n",
    "df_place['Place'] = df_place['Place'].str.translate(diac_ord_map)"
   ]
  },
  {
   "cell_type": "markdown",
   "id": "173b3ec4-84b2-4221-bfd3-b2b56a2e1598",
   "metadata": {},
   "source": [
    "We can confirm that our character replacement worked by spot checking some rows we know contained characters with diactric marks. "
   ]
  },
  {
   "cell_type": "code",
   "execution_count": 20,
   "id": "77504bc3-caeb-4a29-9ec5-2324bfa0c858",
   "metadata": {},
   "outputs": [
    {
     "data": {
      "text/html": [
       "<div>\n",
       "<style scoped>\n",
       "    .dataframe tbody tr th:only-of-type {\n",
       "        vertical-align: middle;\n",
       "    }\n",
       "\n",
       "    .dataframe tbody tr th {\n",
       "        vertical-align: top;\n",
       "    }\n",
       "\n",
       "    .dataframe thead th {\n",
       "        text-align: right;\n",
       "    }\n",
       "</style>\n",
       "<table border=\"1\" class=\"dataframe\">\n",
       "  <thead>\n",
       "    <tr style=\"text-align: right;\">\n",
       "      <th></th>\n",
       "      <th>State</th>\n",
       "      <th>State FIPS</th>\n",
       "      <th>Place</th>\n",
       "      <th>Place FIPS</th>\n",
       "      <th>County</th>\n",
       "    </tr>\n",
       "  </thead>\n",
       "  <tbody>\n",
       "    <tr>\n",
       "      <th>2599</th>\n",
       "      <td>CA</td>\n",
       "      <td>6</td>\n",
       "      <td>La Canada Flintridge city</td>\n",
       "      <td>39003</td>\n",
       "      <td>Los Angeles County</td>\n",
       "    </tr>\n",
       "  </tbody>\n",
       "</table>\n",
       "</div>"
      ],
      "text/plain": [
       "     State  State FIPS                      Place  Place FIPS  \\\n",
       "2599    CA           6  La Canada Flintridge city       39003   \n",
       "\n",
       "                  County  \n",
       "2599  Los Angeles County  "
      ]
     },
     "execution_count": 20,
     "metadata": {},
     "output_type": "execute_result"
    }
   ],
   "source": [
    "# this row previously had a diacritic mark in the \"Place\" column\n",
    "df_place.loc[df_place['Place FIPS'] == 39003]"
   ]
  },
  {
   "cell_type": "code",
   "execution_count": 21,
   "id": "6f70d5ae-1d8d-439d-952b-beddb055d39d",
   "metadata": {},
   "outputs": [
    {
     "data": {
      "text/html": [
       "<div>\n",
       "<style scoped>\n",
       "    .dataframe tbody tr th:only-of-type {\n",
       "        vertical-align: middle;\n",
       "    }\n",
       "\n",
       "    .dataframe tbody tr th {\n",
       "        vertical-align: top;\n",
       "    }\n",
       "\n",
       "    .dataframe thead th {\n",
       "        text-align: right;\n",
       "    }\n",
       "</style>\n",
       "<table border=\"1\" class=\"dataframe\">\n",
       "  <thead>\n",
       "    <tr style=\"text-align: right;\">\n",
       "      <th></th>\n",
       "      <th>State</th>\n",
       "      <th>State FIPS</th>\n",
       "      <th>Place</th>\n",
       "      <th>Place FIPS</th>\n",
       "      <th>County</th>\n",
       "    </tr>\n",
       "  </thead>\n",
       "  <tbody>\n",
       "    <tr>\n",
       "      <th>41395</th>\n",
       "      <td>PR</td>\n",
       "      <td>72</td>\n",
       "      <td>Tallaboa comunidad</td>\n",
       "      <td>81413</td>\n",
       "      <td>Penuelas Municipio</td>\n",
       "    </tr>\n",
       "  </tbody>\n",
       "</table>\n",
       "</div>"
      ],
      "text/plain": [
       "      State  State FIPS               Place  Place FIPS              County\n",
       "41395    PR          72  Tallaboa comunidad       81413  Penuelas Municipio"
      ]
     },
     "execution_count": 21,
     "metadata": {},
     "output_type": "execute_result"
    }
   ],
   "source": [
    "# this row previously contained a diacritic in the \"County\" column\n",
    "df_place.loc[df_place['Place FIPS'] == 81413]"
   ]
  },
  {
   "cell_type": "markdown",
   "id": "c63b4ed1-d385-4edb-9847-19f36b0e59e0",
   "metadata": {},
   "source": [
    "Our diacritic marks have been taken care of. Now, let's add to *df_place* the \"State Name\" column, by merging in *df_state*."
   ]
  },
  {
   "cell_type": "code",
   "execution_count": 22,
   "id": "f6a9b50e-3b5e-4ed2-ac96-fb69c9897c41",
   "metadata": {},
   "outputs": [
    {
     "data": {
      "text/html": [
       "<div>\n",
       "<style scoped>\n",
       "    .dataframe tbody tr th:only-of-type {\n",
       "        vertical-align: middle;\n",
       "    }\n",
       "\n",
       "    .dataframe tbody tr th {\n",
       "        vertical-align: top;\n",
       "    }\n",
       "\n",
       "    .dataframe thead th {\n",
       "        text-align: right;\n",
       "    }\n",
       "</style>\n",
       "<table border=\"1\" class=\"dataframe\">\n",
       "  <thead>\n",
       "    <tr style=\"text-align: right;\">\n",
       "      <th></th>\n",
       "      <th>State Name</th>\n",
       "      <th>State</th>\n",
       "      <th>State FIPS</th>\n",
       "      <th>Place</th>\n",
       "      <th>Place FIPS</th>\n",
       "      <th>County</th>\n",
       "    </tr>\n",
       "  </thead>\n",
       "  <tbody>\n",
       "    <tr>\n",
       "      <th>0</th>\n",
       "      <td>Alabama</td>\n",
       "      <td>AL</td>\n",
       "      <td>1</td>\n",
       "      <td>Abanda CDP</td>\n",
       "      <td>100</td>\n",
       "      <td>Chambers County</td>\n",
       "    </tr>\n",
       "    <tr>\n",
       "      <th>1</th>\n",
       "      <td>Alabama</td>\n",
       "      <td>AL</td>\n",
       "      <td>1</td>\n",
       "      <td>Abbeville city</td>\n",
       "      <td>124</td>\n",
       "      <td>Henry County</td>\n",
       "    </tr>\n",
       "    <tr>\n",
       "      <th>2</th>\n",
       "      <td>Alabama</td>\n",
       "      <td>AL</td>\n",
       "      <td>1</td>\n",
       "      <td>Adamsville city</td>\n",
       "      <td>460</td>\n",
       "      <td>Jefferson County</td>\n",
       "    </tr>\n",
       "  </tbody>\n",
       "</table>\n",
       "</div>"
      ],
      "text/plain": [
       "  State Name State  State FIPS            Place  Place FIPS            County\n",
       "0    Alabama    AL           1       Abanda CDP         100   Chambers County\n",
       "1    Alabama    AL           1   Abbeville city         124      Henry County\n",
       "2    Alabama    AL           1  Adamsville city         460  Jefferson County"
      ]
     },
     "execution_count": 22,
     "metadata": {},
     "output_type": "execute_result"
    }
   ],
   "source": [
    "# df_place = pd.merge(df_place, df_state_county ) \n",
    "df_place = pd.merge(df_place, df_state) \n",
    "df_place = df_place[['State Name', 'State', 'State FIPS', 'Place', 'Place FIPS', 'County',]] # reorder columns\n",
    "df_place.head(3)"
   ]
  },
  {
   "cell_type": "markdown",
   "id": "43a0d0da-9e60-4b4e-ba88-86695d78753a",
   "metadata": {},
   "source": [
    "We can now perform our search for missing values and incorrect data types."
   ]
  },
  {
   "cell_type": "code",
   "execution_count": 23,
   "id": "c58dc87e-c7f8-4c08-bccf-0a1ffbaa8abe",
   "metadata": {},
   "outputs": [
    {
     "name": "stdout",
     "output_type": "stream",
     "text": [
      "<class 'pandas.core.frame.DataFrame'>\n",
      "Int64Index: 41414 entries, 0 to 41413\n",
      "Data columns (total 6 columns):\n",
      " #   Column      Non-Null Count  Dtype \n",
      "---  ------      --------------  ----- \n",
      " 0   State Name  41414 non-null  object\n",
      " 1   State       41414 non-null  object\n",
      " 2   State FIPS  41414 non-null  int64 \n",
      " 3   Place       41414 non-null  object\n",
      " 4   Place FIPS  41414 non-null  int64 \n",
      " 5   County      41414 non-null  object\n",
      "dtypes: int64(2), object(4)\n",
      "memory usage: 2.2+ MB\n"
     ]
    }
   ],
   "source": [
    "df_place.info() # check for missing values"
   ]
  },
  {
   "cell_type": "code",
   "execution_count": 24,
   "id": "2760fdad-513b-4f51-92bd-0a754a16af26",
   "metadata": {},
   "outputs": [
    {
     "data": {
      "text/plain": [
       "State Name    0\n",
       "State         0\n",
       "State FIPS    0\n",
       "Place         0\n",
       "Place FIPS    0\n",
       "County        0\n",
       "dtype: int64"
      ]
     },
     "execution_count": 24,
     "metadata": {},
     "output_type": "execute_result"
    }
   ],
   "source": [
    "df_place.isna().sum() # another check for missing values"
   ]
  },
  {
   "cell_type": "code",
   "execution_count": 25,
   "id": "0916348a-386b-452f-ab47-d4026024a92c",
   "metadata": {},
   "outputs": [
    {
     "data": {
      "text/plain": [
       "State Name    object\n",
       "State         object\n",
       "State FIPS     int64\n",
       "Place         object\n",
       "Place FIPS     int64\n",
       "County        object\n",
       "dtype: object"
      ]
     },
     "execution_count": 25,
     "metadata": {},
     "output_type": "execute_result"
    }
   ],
   "source": [
    "df_place.dtypes # confirming data types are correct"
   ]
  },
  {
   "cell_type": "markdown",
   "id": "fbc49738-a375-42ba-aa28-2afc07473a42",
   "metadata": {},
   "source": [
    "Looks good! No missing value and our data types make sense. Since we'll be mapping the place \"New York City\" in our initial mapping exercise, let's take a look at places that begin with the words \"New York\"."
   ]
  },
  {
   "cell_type": "code",
   "execution_count": 26,
   "id": "4424b254-40f4-4628-8f30-f8a866fd2d29",
   "metadata": {},
   "outputs": [
    {
     "data": {
      "text/html": [
       "<div>\n",
       "<style scoped>\n",
       "    .dataframe tbody tr th:only-of-type {\n",
       "        vertical-align: middle;\n",
       "    }\n",
       "\n",
       "    .dataframe tbody tr th {\n",
       "        vertical-align: top;\n",
       "    }\n",
       "\n",
       "    .dataframe thead th {\n",
       "        text-align: right;\n",
       "    }\n",
       "</style>\n",
       "<table border=\"1\" class=\"dataframe\">\n",
       "  <thead>\n",
       "    <tr style=\"text-align: right;\">\n",
       "      <th></th>\n",
       "      <th>State Name</th>\n",
       "      <th>State</th>\n",
       "      <th>State FIPS</th>\n",
       "      <th>Place</th>\n",
       "      <th>Place FIPS</th>\n",
       "      <th>County</th>\n",
       "    </tr>\n",
       "  </thead>\n",
       "  <tbody>\n",
       "    <tr>\n",
       "      <th>17317</th>\n",
       "      <td>Minnesota</td>\n",
       "      <td>MN</td>\n",
       "      <td>27</td>\n",
       "      <td>New York Mills city</td>\n",
       "      <td>46060</td>\n",
       "      <td>Otter Tail County</td>\n",
       "    </tr>\n",
       "    <tr>\n",
       "      <th>17318</th>\n",
       "      <td>Minnesota</td>\n",
       "      <td>MN</td>\n",
       "      <td>27</td>\n",
       "      <td>New York Mills city</td>\n",
       "      <td>46060</td>\n",
       "      <td>Otter Tail County</td>\n",
       "    </tr>\n",
       "    <tr>\n",
       "      <th>24316</th>\n",
       "      <td>New York</td>\n",
       "      <td>NY</td>\n",
       "      <td>36</td>\n",
       "      <td>New York city</td>\n",
       "      <td>51000</td>\n",
       "      <td>Bronx County, Kings County, New York County, Queens County, Richmond County</td>\n",
       "    </tr>\n",
       "    <tr>\n",
       "      <th>24317</th>\n",
       "      <td>New York</td>\n",
       "      <td>NY</td>\n",
       "      <td>36</td>\n",
       "      <td>New York Mills village</td>\n",
       "      <td>51011</td>\n",
       "      <td>Oneida County</td>\n",
       "    </tr>\n",
       "  </tbody>\n",
       "</table>\n",
       "</div>"
      ],
      "text/plain": [
       "      State Name State  State FIPS                   Place  Place FIPS  \\\n",
       "17317  Minnesota    MN          27     New York Mills city       46060   \n",
       "17318  Minnesota    MN          27     New York Mills city       46060   \n",
       "24316   New York    NY          36           New York city       51000   \n",
       "24317   New York    NY          36  New York Mills village       51011   \n",
       "\n",
       "                                                                            County  \n",
       "17317                                                            Otter Tail County  \n",
       "17318                                                            Otter Tail County  \n",
       "24316  Bronx County, Kings County, New York County, Queens County, Richmond County  \n",
       "24317                                                                Oneida County  "
      ]
     },
     "execution_count": 26,
     "metadata": {},
     "output_type": "execute_result"
    }
   ],
   "source": [
    "df_place.loc[df_place['Place'].str.startswith(\"New York\")]"
   ]
  },
  {
   "cell_type": "markdown",
   "id": "cacc4dfc-7610-4c98-ab80-06b83e9659bd",
   "metadata": {},
   "source": [
    "Strangely, the word \"city\" in the name \"New York city\" is not capitalized. Let's change this throughout our DataFrame, so that every place name is in titlecase. "
   ]
  },
  {
   "cell_type": "code",
   "execution_count": 27,
   "id": "b368a017-1775-4b8a-9b19-4190501822a0",
   "metadata": {},
   "outputs": [
    {
     "data": {
      "text/html": [
       "<div>\n",
       "<style scoped>\n",
       "    .dataframe tbody tr th:only-of-type {\n",
       "        vertical-align: middle;\n",
       "    }\n",
       "\n",
       "    .dataframe tbody tr th {\n",
       "        vertical-align: top;\n",
       "    }\n",
       "\n",
       "    .dataframe thead th {\n",
       "        text-align: right;\n",
       "    }\n",
       "</style>\n",
       "<table border=\"1\" class=\"dataframe\">\n",
       "  <thead>\n",
       "    <tr style=\"text-align: right;\">\n",
       "      <th></th>\n",
       "      <th>State Name</th>\n",
       "      <th>State</th>\n",
       "      <th>State FIPS</th>\n",
       "      <th>Place</th>\n",
       "      <th>Place FIPS</th>\n",
       "      <th>County</th>\n",
       "    </tr>\n",
       "  </thead>\n",
       "  <tbody>\n",
       "    <tr>\n",
       "      <th>17317</th>\n",
       "      <td>Minnesota</td>\n",
       "      <td>MN</td>\n",
       "      <td>27</td>\n",
       "      <td>New York Mills City</td>\n",
       "      <td>46060</td>\n",
       "      <td>Otter Tail County</td>\n",
       "    </tr>\n",
       "    <tr>\n",
       "      <th>17318</th>\n",
       "      <td>Minnesota</td>\n",
       "      <td>MN</td>\n",
       "      <td>27</td>\n",
       "      <td>New York Mills City</td>\n",
       "      <td>46060</td>\n",
       "      <td>Otter Tail County</td>\n",
       "    </tr>\n",
       "    <tr>\n",
       "      <th>24316</th>\n",
       "      <td>New York</td>\n",
       "      <td>NY</td>\n",
       "      <td>36</td>\n",
       "      <td>New York City</td>\n",
       "      <td>51000</td>\n",
       "      <td>Bronx County, Kings County, New York County, Queens County, Richmond County</td>\n",
       "    </tr>\n",
       "    <tr>\n",
       "      <th>24317</th>\n",
       "      <td>New York</td>\n",
       "      <td>NY</td>\n",
       "      <td>36</td>\n",
       "      <td>New York Mills Village</td>\n",
       "      <td>51011</td>\n",
       "      <td>Oneida County</td>\n",
       "    </tr>\n",
       "  </tbody>\n",
       "</table>\n",
       "</div>"
      ],
      "text/plain": [
       "      State Name State  State FIPS                   Place  Place FIPS  \\\n",
       "17317  Minnesota    MN          27     New York Mills City       46060   \n",
       "17318  Minnesota    MN          27     New York Mills City       46060   \n",
       "24316   New York    NY          36           New York City       51000   \n",
       "24317   New York    NY          36  New York Mills Village       51011   \n",
       "\n",
       "                                                                            County  \n",
       "17317                                                            Otter Tail County  \n",
       "17318                                                            Otter Tail County  \n",
       "24316  Bronx County, Kings County, New York County, Queens County, Richmond County  \n",
       "24317                                                                Oneida County  "
      ]
     },
     "execution_count": 27,
     "metadata": {},
     "output_type": "execute_result"
    }
   ],
   "source": [
    "df_place['Place'] = df_place['Place'].str.title()\n",
    "df_place.loc[df_place['Place'].str.startswith(\"New York\")]"
   ]
  },
  {
   "cell_type": "markdown",
   "id": "a056bff6-5682-4d53-b668-747e69b12748",
   "metadata": {},
   "source": [
    "Done. We now have one clean DataFrame of state and county FIPS codes and another with place FIPS codes. We can go ahead have save them both as Parquet files. "
   ]
  },
  {
   "cell_type": "code",
   "execution_count": 28,
   "id": "5e1de9ba-e187-4d63-93f7-0530137da0f1",
   "metadata": {},
   "outputs": [],
   "source": [
    "# save DF as Parquet \n",
    "df_state_county.head(3)\n",
    "clean_codes_state_county_file = os.path.join(clean_data_dir,'state_county.parquet')\n",
    "df_state_county.to_parquet(clean_codes_state_county_file, compression='BROTLI')"
   ]
  },
  {
   "cell_type": "code",
   "execution_count": 29,
   "id": "03ccbb59-9b2d-4b2c-bdbb-89aa9f45550e",
   "metadata": {},
   "outputs": [],
   "source": [
    "# save DF as Parquet \n",
    "df_place.head(3)\n",
    "clean_codes_place_file = os.path.join(clean_data_dir,'place.parquet')\n",
    "df_place.to_parquet(clean_codes_place_file, compression='BROTLI')"
   ]
  }
 ],
 "metadata": {
  "kernelspec": {
   "display_name": "Python 3 (ipykernel)",
   "language": "python",
   "name": "python3"
  },
  "language_info": {
   "codemirror_mode": {
    "name": "ipython",
    "version": 3
   },
   "file_extension": ".py",
   "mimetype": "text/x-python",
   "name": "python",
   "nbconvert_exporter": "python",
   "pygments_lexer": "ipython3",
   "version": "3.8.10"
  }
 },
 "nbformat": 4,
 "nbformat_minor": 5
}
