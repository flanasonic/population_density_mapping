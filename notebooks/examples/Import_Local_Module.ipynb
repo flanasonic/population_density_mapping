{
 "cells": [
  {
   "cell_type": "code",
   "execution_count": 1,
   "id": "ee862234-39fb-4afa-9b31-7fd82a552df2",
   "metadata": {},
   "outputs": [
    {
     "ename": "ModuleNotFoundError",
     "evalue": "No module named 'clean'",
     "output_type": "error",
     "traceback": [
      "\u001b[0;31m---------------------------------------------------------------------------\u001b[0m",
      "\u001b[0;31mModuleNotFoundError\u001b[0m                       Traceback (most recent call last)",
      "Input \u001b[0;32mIn [1]\u001b[0m, in \u001b[0;36m<cell line: 10>\u001b[0;34m()\u001b[0m\n\u001b[1;32m      7\u001b[0m sys\u001b[38;5;241m.\u001b[39mpath\u001b[38;5;241m.\u001b[39minsert(\u001b[38;5;241m1\u001b[39m,source_dir)\n\u001b[1;32m      9\u001b[0m \u001b[38;5;66;03m#now you can import your module from the src dir\u001b[39;00m\n\u001b[0;32m---> 10\u001b[0m \u001b[38;5;28;01mfrom\u001b[39;00m \u001b[38;5;21;01mclean\u001b[39;00m \u001b[38;5;28;01mimport\u001b[39;00m hello\n",
      "\u001b[0;31mModuleNotFoundError\u001b[0m: No module named 'clean'"
     ]
    }
   ],
   "source": [
    "import os, sys, pathlib\n",
    "# get the source folder location\n",
    "source_dir = os.path.join(pathlib.Path(os.getcwd()).parent,\"src\")\n",
    "\n",
    "# add the source folder to the list of places\n",
    "# python looks in when importing modules...\n",
    "sys.path.insert(1,source_dir)\n",
    "\n",
    "#now you can import your module from the src dir\n",
    "from clean import hello"
   ]
  },
  {
   "cell_type": "code",
   "execution_count": 3,
   "id": "c6d80aef-7e5c-4ef7-af78-f0665b1679da",
   "metadata": {},
   "outputs": [
    {
     "ename": "NameError",
     "evalue": "name 'hello' is not defined",
     "output_type": "error",
     "traceback": [
      "\u001b[0;31m---------------------------------------------------------------------------\u001b[0m",
      "\u001b[0;31mNameError\u001b[0m                                 Traceback (most recent call last)",
      "Input \u001b[0;32mIn [3]\u001b[0m, in \u001b[0;36m<cell line: 1>\u001b[0;34m()\u001b[0m\n\u001b[0;32m----> 1\u001b[0m \u001b[43mhello\u001b[49m()\n",
      "\u001b[0;31mNameError\u001b[0m: name 'hello' is not defined"
     ]
    }
   ],
   "source": [
    "hello()"
   ]
  },
  {
   "cell_type": "code",
   "execution_count": null,
   "id": "e0aac921-6f27-463f-ae72-d16f6b817bee",
   "metadata": {},
   "outputs": [],
   "source": [
    "# if you copy/paste this into another notebook and find\n",
    "# it doesn't work... try printing directory..\n",
    "print(\"Source Dir:\")\n",
    "print(source_dir)"
   ]
  },
  {
   "cell_type": "code",
   "execution_count": null,
   "id": "029fdf15-bdb5-4905-b7cf-160711ccfcd7",
   "metadata": {},
   "outputs": [],
   "source": [
    "# if that doesn't help... list the files in that dir\n",
    "print(f\"Contents of {source_dir}\")\n",
    "for f in os.listdir(source_dir):\n",
    "    print(f\" *  {f}\")"
   ]
  },
  {
   "cell_type": "code",
   "execution_count": null,
   "id": "b71fffc6-0d4d-416e-a498-1ca558a767ec",
   "metadata": {},
   "outputs": [],
   "source": [
    "# if you see this isn't the right directory... \n",
    "# this will change the path to the parent directory\n",
    "parent_dir = pathlib.Path(source_dir).parent\n",
    "print(\"One more directory up...\")\n",
    "print(parent_dir)"
   ]
  }
 ],
 "metadata": {
  "kernelspec": {
   "display_name": "Python 3 (ipykernel)",
   "language": "python",
   "name": "python3"
  },
  "language_info": {
   "codemirror_mode": {
    "name": "ipython",
    "version": 3
   },
   "file_extension": ".py",
   "mimetype": "text/x-python",
   "name": "python",
   "nbconvert_exporter": "python",
   "pygments_lexer": "ipython3",
   "version": "3.8.10"
  }
 },
 "nbformat": 4,
 "nbformat_minor": 5
}
