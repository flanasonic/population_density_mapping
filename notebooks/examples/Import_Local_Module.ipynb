{
 "cells": [
  {
   "cell_type": "code",
   "execution_count": 27,
   "id": "ee862234-39fb-4afa-9b31-7fd82a552df2",
   "metadata": {},
   "outputs": [],
   "source": [
    "import os, sys, pathlib\n",
    "# get the source folder location\n",
    "source_dir = os.path.join(pathlib.Path(os.getcwd()).parent,\"src\")\n",
    "\n",
    "# add the source folder to the list of places\n",
    "# python looks in when importing modules...\n",
    "sys.path.insert(1,source_dir)\n",
    "\n",
    "#now you can import your module from the src dir\n",
    "from clean import hello"
   ]
  },
  {
   "cell_type": "code",
   "execution_count": 16,
   "id": "c6d80aef-7e5c-4ef7-af78-f0665b1679da",
   "metadata": {},
   "outputs": [
    {
     "name": "stdout",
     "output_type": "stream",
     "text": [
      "Hello :-) \n"
     ]
    }
   ],
   "source": [
    "hello()"
   ]
  },
  {
   "cell_type": "code",
   "execution_count": 22,
   "id": "e0aac921-6f27-463f-ae72-d16f6b817bee",
   "metadata": {},
   "outputs": [
    {
     "name": "stdout",
     "output_type": "stream",
     "text": [
      "Source Dir:\n",
      "C:\\Users\\Julie\\git\\portfolio\\src\n"
     ]
    }
   ],
   "source": [
    "# if you copy/paste this into another notebook and find\n",
    "# it doesn't work... try printing directory..\n",
    "print(\"Source Dir:\")\n",
    "print(source_dir)"
   ]
  },
  {
   "cell_type": "code",
   "execution_count": 26,
   "id": "029fdf15-bdb5-4905-b7cf-160711ccfcd7",
   "metadata": {},
   "outputs": [
    {
     "name": "stdout",
     "output_type": "stream",
     "text": [
      "Contents of C:\\Users\\Julie\\git\\portfolio\\src\n",
      " *  clean.py\n",
      " *  __pycache__\n"
     ]
    }
   ],
   "source": [
    "# if that doesn't help... list the files in that dir\n",
    "print(f\"Contents of {source_dir}\")\n",
    "for f in os.listdir(source_dir):\n",
    "    print(f\" *  {f}\")"
   ]
  },
  {
   "cell_type": "code",
   "execution_count": 23,
   "id": "b71fffc6-0d4d-416e-a498-1ca558a767ec",
   "metadata": {},
   "outputs": [
    {
     "name": "stdout",
     "output_type": "stream",
     "text": [
      "C:\\Users\\Julie\\git\\portfolio\n"
     ]
    }
   ],
   "source": [
    "# if you see this isn't the right directory... \n",
    "# this will change the path to the parent directory\n",
    "parent_dir = pathlib.Path(source_dir).parent\n",
    "print(\"One more directory up...\")\n",
    "print(parent_dir)"
   ]
  }
 ],
 "metadata": {
  "kernelspec": {
   "display_name": "Python 3 (ipykernel)",
   "language": "python",
   "name": "python3"
  },
  "language_info": {
   "codemirror_mode": {
    "name": "ipython",
    "version": 3
   },
   "file_extension": ".py",
   "mimetype": "text/x-python",
   "name": "python",
   "nbconvert_exporter": "python",
   "pygments_lexer": "ipython3",
   "version": "3.9.0"
  }
 },
 "nbformat": 4,
 "nbformat_minor": 5
}
