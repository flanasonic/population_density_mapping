{
 "cells": [
  {
   "cell_type": "code",
   "execution_count": 1,
   "id": "583ad648-8b54-4a66-871e-dd0c4012f023",
   "metadata": {},
   "outputs": [],
   "source": [
    "import os, sys, pathlib\n",
    "source_dir = os.path.join(pathlib.Path(os.getcwd()).parent,\"src\")\n",
    "sys.path.insert(1,source_dir)"
   ]
  },
  {
   "cell_type": "code",
   "execution_count": 2,
   "id": "cc73fdcc-cbca-4e3a-97fa-451ee3bab7b3",
   "metadata": {},
   "outputs": [
    {
     "ename": "ModuleNotFoundError",
     "evalue": "No module named 'clean'",
     "output_type": "error",
     "traceback": [
      "\u001b[0;31m---------------------------------------------------------------------------\u001b[0m",
      "\u001b[0;31mModuleNotFoundError\u001b[0m                       Traceback (most recent call last)",
      "Input \u001b[0;32mIn [2]\u001b[0m, in \u001b[0;36m<cell line: 1>\u001b[0;34m()\u001b[0m\n\u001b[0;32m----> 1\u001b[0m \u001b[38;5;28;01mfrom\u001b[39;00m \u001b[38;5;21;01mclean\u001b[39;00m \u001b[38;5;28;01mimport\u001b[39;00m hello\n",
      "\u001b[0;31mModuleNotFoundError\u001b[0m: No module named 'clean'"
     ]
    }
   ],
   "source": [
    "from clean import hello"
   ]
  },
  {
   "cell_type": "code",
   "execution_count": null,
   "id": "f1c3d9f3-e03d-4d44-9d05-cad46a40de94",
   "metadata": {},
   "outputs": [],
   "source": [
    "print(\"Source Dir:\")\n",
    "print(source_dir)"
   ]
  },
  {
   "cell_type": "code",
   "execution_count": null,
   "id": "f25f6ebc-58a9-4f6c-90e3-518db2e37cdb",
   "metadata": {},
   "outputs": [],
   "source": [
    "print(f\"Contents of {source_dir}\")\n",
    "for f in os.listdir(source_dir):\n",
    "    print(f\" *  {f}\")"
   ]
  }
 ],
 "metadata": {
  "kernelspec": {
   "display_name": "Python 3 (ipykernel)",
   "language": "python",
   "name": "python3"
  },
  "language_info": {
   "codemirror_mode": {
    "name": "ipython",
    "version": 3
   },
   "file_extension": ".py",
   "mimetype": "text/x-python",
   "name": "python",
   "nbconvert_exporter": "python",
   "pygments_lexer": "ipython3",
   "version": "3.8.10"
  }
 },
 "nbformat": 4,
 "nbformat_minor": 5
}
