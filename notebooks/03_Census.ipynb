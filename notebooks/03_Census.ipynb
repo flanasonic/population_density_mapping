{
 "cells": [
  {
   "cell_type": "markdown",
   "id": "cf99b011-96b6-42d5-b117-511a3c83389b",
   "metadata": {},
   "source": [
    "## Mapping New York"
   ]
  },
  {
   "cell_type": "markdown",
   "id": "8714c9ba-7e90-49d6-9bdd-4780a7211937",
   "metadata": {},
   "source": [
    "## Steps\n",
    "\n",
    "3. Geographic data - shapefiles for NY State at the census tract level\n",
    "   - create a GEO DataFrame for NY State, \"geodf_tract_ny\"\n",
    "   - open population DataFrame, \"df_census_pop\"\n",
    "   - merge the two on \"GEOID Census Tract\"\n",
    "   - add a new column that calculates population density\n",
    "   - map NY state census tracts with population desnity in Kepler\n",
    "   - load the \"Places\" DataFrame \n",
    "   - make a NYC Place DataFrame\n",
    "   - map NYC"
   ]
  },
  {
   "cell_type": "markdown",
   "id": "3550cf87-f338-4538-8c63-e69ea164f762",
   "metadata": {},
   "source": [
    "### Data Sources\n",
    "\n",
    "Below are the data sources used for this section of the project and the specific steps I followed to access them.\n",
    "\n",
    "***Geographic Data:***\n",
    "\n",
    "Files downloaded from the Census Bureau's FTP server archive via FTP client\n",
    "\n",
    "*2020 Census Redistricting Data (P.L. 94-171) Shapefiles - census tract level, NY State*\n",
    "* file location: ftp2.census.gov/geo/tiger/TIGER2020PL/LAYER/TRACT/2020\n",
    "* files names beginning with \"tl_2020_36\" (NY State FIPS code is 36)\n",
    "\n",
    "*2020 Census Redistricting Data (P.L. 94-171) Shapefiles - places level, NY State*\n",
    "* file location: ftp2.census.gov/geo/tiger/TIGER2020PL/LAYER/PLACE/2020\n",
    "* files name: tl_2020_36_place20.zip  (36 for NY State)"
   ]
  },
  {
   "cell_type": "code",
   "execution_count": 1,
   "id": "1fa95a7d-cb90-4835-92cd-1f2743492428",
   "metadata": {},
   "outputs": [],
   "source": [
    "import os, pathlib\n",
    "base_dir = pathlib.Path(os.getcwd()).parent\n",
    "data_archive_dir = os.path.join(base_dir, \"data_archive\")\n",
    "clean_data_dir = os.path.join(data_archive_dir, \"clean\")\n",
    "data_dir = os.path.join(base_dir, \"data\")\n",
    "shapes_dir = os.path.join(data_dir,\"shapes\")\n",
    "json_dir = os.path.join(data_dir,\"geojson\")"
   ]
  },
  {
   "cell_type": "markdown",
   "id": "906a4d43-1cfe-4ef7-ac6d-9cb27a6a173a",
   "metadata": {},
   "source": [
    "## Population Data\n",
    "\n",
    "Let's bring in as a DataFrame the US population data we cleaned earlier. We'll be merging it with our NY State geographic data shortly."
   ]
  },
  {
   "cell_type": "code",
   "execution_count": 2,
   "id": "4a252a2b-803c-4c12-9efe-12f5c8c135e2",
   "metadata": {},
   "outputs": [
    {
     "data": {
      "text/html": [
       "<div>\n",
       "<style scoped>\n",
       "    .dataframe tbody tr th:only-of-type {\n",
       "        vertical-align: middle;\n",
       "    }\n",
       "\n",
       "    .dataframe tbody tr th {\n",
       "        vertical-align: top;\n",
       "    }\n",
       "\n",
       "    .dataframe thead th {\n",
       "        text-align: right;\n",
       "    }\n",
       "</style>\n",
       "<table border=\"1\" class=\"dataframe\">\n",
       "  <thead>\n",
       "    <tr style=\"text-align: right;\">\n",
       "      <th></th>\n",
       "      <th>GEOID Census Tract Full</th>\n",
       "      <th>Census Tract Name</th>\n",
       "      <th>Population</th>\n",
       "      <th>GEOID Census Tract</th>\n",
       "    </tr>\n",
       "  </thead>\n",
       "  <tbody>\n",
       "    <tr>\n",
       "      <th>1</th>\n",
       "      <td>1400000US01001020100</td>\n",
       "      <td>Census Tract 201, Autauga County, Alabama</td>\n",
       "      <td>1775</td>\n",
       "      <td>1001020100</td>\n",
       "    </tr>\n",
       "    <tr>\n",
       "      <th>2</th>\n",
       "      <td>1400000US01001020200</td>\n",
       "      <td>Census Tract 202, Autauga County, Alabama</td>\n",
       "      <td>2055</td>\n",
       "      <td>1001020200</td>\n",
       "    </tr>\n",
       "    <tr>\n",
       "      <th>3</th>\n",
       "      <td>1400000US01001020300</td>\n",
       "      <td>Census Tract 203, Autauga County, Alabama</td>\n",
       "      <td>3216</td>\n",
       "      <td>1001020300</td>\n",
       "    </tr>\n",
       "  </tbody>\n",
       "</table>\n",
       "</div>"
      ],
      "text/plain": [
       "  GEOID Census Tract Full                          Census Tract Name  \\\n",
       "1    1400000US01001020100  Census Tract 201, Autauga County, Alabama   \n",
       "2    1400000US01001020200  Census Tract 202, Autauga County, Alabama   \n",
       "3    1400000US01001020300  Census Tract 203, Autauga County, Alabama   \n",
       "\n",
       "   Population  GEOID Census Tract  \n",
       "1        1775          1001020100  \n",
       "2        2055          1001020200  \n",
       "3        3216          1001020300  "
      ]
     },
     "execution_count": 2,
     "metadata": {},
     "output_type": "execute_result"
    }
   ],
   "source": [
    "import pandas as pd\n",
    "\n",
    "clean_census_pop_file = os.path.join(clean_data_dir, 'census_pop.csv')\n",
    "df_census_pop = pd.read_csv(clean_census_pop_file, low_memory=False, dtype={'GEOID Census Tract Full': 'str', 'Census Tract Name':'str', 'Population':'int', 'GEOID Census Tract': 'int'}, index_col=0)\n",
    "df_census_pop.head(3)"
   ]
  },
  {
   "cell_type": "code",
   "execution_count": 3,
   "id": "0a197f9f-25b7-4471-8e9d-1ed19bd46dca",
   "metadata": {},
   "outputs": [
    {
     "data": {
      "text/plain": [
       "GEOID Census Tract Full    object\n",
       "Census Tract Name          object\n",
       "Population                  int64\n",
       "GEOID Census Tract          int64\n",
       "dtype: object"
      ]
     },
     "execution_count": 3,
     "metadata": {},
     "output_type": "execute_result"
    }
   ],
   "source": [
    "df_census_pop.dtypes"
   ]
  },
  {
   "cell_type": "code",
   "execution_count": 4,
   "id": "57b373f2-fb0d-4fce-9243-9bce63f44723",
   "metadata": {},
   "outputs": [
    {
     "data": {
      "text/plain": [
       "53"
      ]
     },
     "execution_count": 4,
     "metadata": {},
     "output_type": "execute_result"
    }
   ],
   "source": [
    "# df_census_pop[df_census_pop.isna().any(axis=1)]\n",
    "len(df_census_pop)\n",
    "len(df_census_pop[(df_census_pop['Population'] == 0) & (df_census_pop['Census Tract Name'].str.endswith('New York'))])"
   ]
  },
  {
   "cell_type": "markdown",
   "id": "6578110c-5f3b-47c7-8ed0-3f7acec27065",
   "metadata": {},
   "source": [
    "## Mapping the Population Density of NY State\n",
    "\n",
    "The Census Bureau provides geographic information in shapefile format. Let's load the NY State Census Tract shapefiles as a GEO DataFrame and call it *geodf_tract_ny*."
   ]
  },
  {
   "cell_type": "code",
   "execution_count": 5,
   "id": "c882cc25-70ed-41b1-befc-54b50886a1f1",
   "metadata": {},
   "outputs": [],
   "source": [
    "# Uses the geopandas function read_file to grab our file\n",
    "import geopandas as gpd\n",
    "\n",
    "# the re module provides regex matching operations\n",
    "import re "
   ]
  },
  {
   "cell_type": "code",
   "execution_count": 6,
   "id": "84242a80-5b49-4a9d-be93-29a493de9abc",
   "metadata": {},
   "outputs": [],
   "source": [
    "shapefile_tract = os.path.join(shapes_dir,\"tiger2020PL_NY_tracts\") # provide the full path to our shapefiles\n",
    "# shapefile_tract_ny=[x for x in pathlib.Path(shapefile_tract).iterdir() if x.is_file()] # make a list of all the files in the directory with their full path\n",
    "\n",
    "tract_file_re = \"tl_2020_[0-9]{5}\" # use regex to find filenames containing a digit in the range 0-9, repeated 5 times \n",
    "shapefile_tract_ny=[x for x in pathlib.Path(shapefile_tract).iterdir() if x.is_file() and re.search(tract_file_re, x.name)] # make a list of all files in the dir with their full path, as long as they meet above criteria"
   ]
  },
  {
   "cell_type": "code",
   "execution_count": 7,
   "id": "453ddcdc-d46b-4ca3-8c3c-ea5944718e47",
   "metadata": {},
   "outputs": [],
   "source": [
    "#import re\n",
    "#tract_file_re = \"tl_2020_[0-9]{5}\"\n",
    "#for file in shapefile_tract_ny:\n",
    "#    print(f\"{file.name} {re.search(tract_file_re,file.name)}\")"
   ]
  },
  {
   "cell_type": "code",
   "execution_count": 8,
   "id": "8ab795d8-7c84-4ac1-a99c-53831d6b9cae",
   "metadata": {},
   "outputs": [
    {
     "data": {
      "text/html": [
       "<div>\n",
       "<style scoped>\n",
       "    .dataframe tbody tr th:only-of-type {\n",
       "        vertical-align: middle;\n",
       "    }\n",
       "\n",
       "    .dataframe tbody tr th {\n",
       "        vertical-align: top;\n",
       "    }\n",
       "\n",
       "    .dataframe thead th {\n",
       "        text-align: right;\n",
       "    }\n",
       "</style>\n",
       "<table border=\"1\" class=\"dataframe\">\n",
       "  <thead>\n",
       "    <tr style=\"text-align: right;\">\n",
       "      <th></th>\n",
       "      <th>State FIPS</th>\n",
       "      <th>County FIPS</th>\n",
       "      <th>Census Tract Code</th>\n",
       "      <th>GEOID Census Tract</th>\n",
       "      <th>Land Area</th>\n",
       "      <th>geometry</th>\n",
       "    </tr>\n",
       "  </thead>\n",
       "  <tbody>\n",
       "    <tr>\n",
       "      <th>0</th>\n",
       "      <td>36</td>\n",
       "      <td>25</td>\n",
       "      <td>970101</td>\n",
       "      <td>36025970101</td>\n",
       "      <td>108853793</td>\n",
       "      <td>POLYGON ((-74.79374 42.49635, -74.79359 42.496...</td>\n",
       "    </tr>\n",
       "    <tr>\n",
       "      <th>1</th>\n",
       "      <td>36</td>\n",
       "      <td>25</td>\n",
       "      <td>970102</td>\n",
       "      <td>36025970102</td>\n",
       "      <td>133548339</td>\n",
       "      <td>POLYGON ((-75.05907 42.43064, -75.05219 42.430...</td>\n",
       "    </tr>\n",
       "    <tr>\n",
       "      <th>2</th>\n",
       "      <td>36</td>\n",
       "      <td>25</td>\n",
       "      <td>970200</td>\n",
       "      <td>36025970200</td>\n",
       "      <td>312229586</td>\n",
       "      <td>POLYGON ((-75.04411 42.37059, -75.04274 42.371...</td>\n",
       "    </tr>\n",
       "  </tbody>\n",
       "</table>\n",
       "</div>"
      ],
      "text/plain": [
       "   State FIPS  County FIPS  Census Tract Code  GEOID Census Tract  Land Area  \\\n",
       "0          36           25             970101         36025970101  108853793   \n",
       "1          36           25             970102         36025970102  133548339   \n",
       "2          36           25             970200         36025970200  312229586   \n",
       "\n",
       "                                            geometry  \n",
       "0  POLYGON ((-74.79374 42.49635, -74.79359 42.496...  \n",
       "1  POLYGON ((-75.05907 42.43064, -75.05219 42.430...  \n",
       "2  POLYGON ((-75.04411 42.37059, -75.04274 42.371...  "
      ]
     },
     "execution_count": 8,
     "metadata": {},
     "output_type": "execute_result"
    }
   ],
   "source": [
    "geodf_tract_ny = pd.DataFrame() # create any empty DataFrame\n",
    "for file in shapefile_tract_ny: # for every file in our list of shapefiles\n",
    "    gpd.read_file(file) # read the file into a GEO DataFrame\n",
    "    geodf_tract_ny = pd.concat([geodf_tract_ny, gpd.read_file(file)], ignore_index=True, copy=False) # concatenate each GEO DataFrame to geodf_tract_ny\n",
    "\n",
    "# Select only the columns we want from the DataFrame \n",
    "geodf_tract_ny = geodf_tract_ny[['STATEFP20', 'COUNTYFP20', 'TRACTCE20', 'GEOID20', 'ALAND20', 'geometry']]\n",
    "\n",
    "# Make sure the data types of each column are as we want them to be\n",
    "geodf_tract_ny = geodf_tract_ny.astype({'STATEFP20': 'int', 'COUNTYFP20':'int', 'TRACTCE20':'int', 'GEOID20': 'int', 'ALAND20': 'int'})\n",
    "\n",
    "# Rename the columns\n",
    "geodf_tract_ny = geodf_tract_ny.rename(columns={'STATEFP20': 'State FIPS', 'COUNTYFP20': 'County FIPS', 'TRACTCE20': 'Census Tract Code', 'GEOID20': 'GEOID Census Tract', 'ALAND20': 'Land Area'})\n",
    "\n",
    "geodf_tract_ny.head(3)"
   ]
  },
  {
   "cell_type": "code",
   "execution_count": 9,
   "id": "c7e2e6c7-17b5-45ad-9c9f-f67ab0b6ce37",
   "metadata": {},
   "outputs": [
    {
     "data": {
      "text/html": [
       "<div>\n",
       "<style scoped>\n",
       "    .dataframe tbody tr th:only-of-type {\n",
       "        vertical-align: middle;\n",
       "    }\n",
       "\n",
       "    .dataframe tbody tr th {\n",
       "        vertical-align: top;\n",
       "    }\n",
       "\n",
       "    .dataframe thead th {\n",
       "        text-align: right;\n",
       "    }\n",
       "</style>\n",
       "<table border=\"1\" class=\"dataframe\">\n",
       "  <thead>\n",
       "    <tr style=\"text-align: right;\">\n",
       "      <th></th>\n",
       "      <th>State FIPS</th>\n",
       "      <th>County FIPS</th>\n",
       "      <th>Census Tract Code</th>\n",
       "      <th>GEOID Census Tract</th>\n",
       "      <th>Land Area</th>\n",
       "      <th>geometry</th>\n",
       "    </tr>\n",
       "  </thead>\n",
       "  <tbody>\n",
       "    <tr>\n",
       "      <th>0</th>\n",
       "      <td>36</td>\n",
       "      <td>25</td>\n",
       "      <td>970101</td>\n",
       "      <td>36025970101</td>\n",
       "      <td>108853793</td>\n",
       "      <td>POLYGON ((-74.79374 42.49635, -74.79359 42.496...</td>\n",
       "    </tr>\n",
       "  </tbody>\n",
       "</table>\n",
       "</div>"
      ],
      "text/plain": [
       "   State FIPS  County FIPS  Census Tract Code  GEOID Census Tract  Land Area  \\\n",
       "0          36           25             970101         36025970101  108853793   \n",
       "\n",
       "                                            geometry  \n",
       "0  POLYGON ((-74.79374 42.49635, -74.79359 42.496...  "
      ]
     },
     "execution_count": 9,
     "metadata": {},
     "output_type": "execute_result"
    }
   ],
   "source": [
    "geodf_tract_ny[ geodf_tract_ny['GEOID Census Tract'] == 36025970101 ]"
   ]
  },
  {
   "cell_type": "code",
   "execution_count": 10,
   "id": "56dc08db-d638-4086-853a-0895a08b5372",
   "metadata": {},
   "outputs": [
    {
     "data": {
      "text/plain": [
       "(5411, 6)"
      ]
     },
     "execution_count": 10,
     "metadata": {},
     "output_type": "execute_result"
    }
   ],
   "source": [
    "geodf_tract_ny.shape"
   ]
  },
  {
   "cell_type": "code",
   "execution_count": 11,
   "id": "9f0e06da-8b48-4205-9cbf-4a2d19ed1ac3",
   "metadata": {},
   "outputs": [
    {
     "data": {
      "text/plain": [
       "State FIPS               int64\n",
       "County FIPS              int64\n",
       "Census Tract Code        int64\n",
       "GEOID Census Tract       int64\n",
       "Land Area                int64\n",
       "geometry              geometry\n",
       "dtype: object"
      ]
     },
     "execution_count": 11,
     "metadata": {},
     "output_type": "execute_result"
    }
   ],
   "source": [
    "geodf_tract_ny.dtypes"
   ]
  },
  {
   "cell_type": "code",
   "execution_count": 12,
   "id": "26b112f6-5b1e-4dc3-9d5a-57e8acf77c0b",
   "metadata": {},
   "outputs": [
    {
     "data": {
      "text/html": [
       "<div>\n",
       "<style scoped>\n",
       "    .dataframe tbody tr th:only-of-type {\n",
       "        vertical-align: middle;\n",
       "    }\n",
       "\n",
       "    .dataframe tbody tr th {\n",
       "        vertical-align: top;\n",
       "    }\n",
       "\n",
       "    .dataframe thead th {\n",
       "        text-align: right;\n",
       "    }\n",
       "</style>\n",
       "<table border=\"1\" class=\"dataframe\">\n",
       "  <thead>\n",
       "    <tr style=\"text-align: right;\">\n",
       "      <th></th>\n",
       "      <th>State FIPS</th>\n",
       "      <th>County FIPS</th>\n",
       "      <th>Census Tract Code</th>\n",
       "      <th>GEOID Census Tract</th>\n",
       "      <th>Land Area</th>\n",
       "      <th>geometry</th>\n",
       "    </tr>\n",
       "  </thead>\n",
       "  <tbody>\n",
       "  </tbody>\n",
       "</table>\n",
       "</div>"
      ],
      "text/plain": [
       "Empty GeoDataFrame\n",
       "Columns: [State FIPS, County FIPS, Census Tract Code, GEOID Census Tract, Land Area, geometry]\n",
       "Index: []"
      ]
     },
     "execution_count": 12,
     "metadata": {},
     "output_type": "execute_result"
    }
   ],
   "source": [
    "# check for null values\n",
    "geodf_tract_ny[geodf_tract_ny.isna().any(axis=1)]"
   ]
  },
  {
   "cell_type": "markdown",
   "id": "64ec631c-8ab0-4d6c-9563-d97bb27f76e7",
   "metadata": {},
   "source": [
    "Bring in population data by merging *df_census_pop* into *geodf_tract_ny* on column \"GEOID Census Tract\"."
   ]
  },
  {
   "cell_type": "code",
   "execution_count": 13,
   "id": "145d39e8-990c-44a4-971f-52016b12d8ba",
   "metadata": {},
   "outputs": [
    {
     "data": {
      "text/plain": [
       "5411"
      ]
     },
     "execution_count": 13,
     "metadata": {},
     "output_type": "execute_result"
    }
   ],
   "source": [
    "geodf_tract_ny = geodf_tract_ny.merge(df_census_pop, on=['GEOID Census Tract'])\n",
    "geodf_tract_ny = geodf_tract_ny[['State FIPS', 'County FIPS', 'Census Tract Name', 'GEOID Census Tract', 'Population', 'Land Area', 'geometry']]\n",
    "geodf_tract_ny.head()\n",
    "len(geodf_tract_ny) # make sure our merge hasn't inadvertantly changed length, should still be 5411"
   ]
  },
  {
   "cell_type": "markdown",
   "id": "e38a2c18-179a-445b-8ec1-c05514e9fb0f",
   "metadata": {},
   "source": [
    "Calculate population density."
   ]
  },
  {
   "cell_type": "code",
   "execution_count": 14,
   "id": "ba45254b-b7c7-405e-b2b9-6f22bf5951af",
   "metadata": {},
   "outputs": [
    {
     "data": {
      "text/html": [
       "<div>\n",
       "<style scoped>\n",
       "    .dataframe tbody tr th:only-of-type {\n",
       "        vertical-align: middle;\n",
       "    }\n",
       "\n",
       "    .dataframe tbody tr th {\n",
       "        vertical-align: top;\n",
       "    }\n",
       "\n",
       "    .dataframe thead th {\n",
       "        text-align: right;\n",
       "    }\n",
       "</style>\n",
       "<table border=\"1\" class=\"dataframe\">\n",
       "  <thead>\n",
       "    <tr style=\"text-align: right;\">\n",
       "      <th></th>\n",
       "      <th>State FIPS</th>\n",
       "      <th>County FIPS</th>\n",
       "      <th>Census Tract Name</th>\n",
       "      <th>GEOID Census Tract</th>\n",
       "      <th>Population</th>\n",
       "      <th>Land Area</th>\n",
       "      <th>Population Density</th>\n",
       "      <th>geometry</th>\n",
       "    </tr>\n",
       "  </thead>\n",
       "  <tbody>\n",
       "    <tr>\n",
       "      <th>0</th>\n",
       "      <td>36</td>\n",
       "      <td>25</td>\n",
       "      <td>Census Tract 9701.01, Delaware County, New York</td>\n",
       "      <td>36025970101</td>\n",
       "      <td>1442</td>\n",
       "      <td>108853793</td>\n",
       "      <td>34.0</td>\n",
       "      <td>POLYGON ((-74.79374 42.49635, -74.79359 42.496...</td>\n",
       "    </tr>\n",
       "    <tr>\n",
       "      <th>1</th>\n",
       "      <td>36</td>\n",
       "      <td>25</td>\n",
       "      <td>Census Tract 9701.02, Delaware County, New York</td>\n",
       "      <td>36025970102</td>\n",
       "      <td>2955</td>\n",
       "      <td>133548339</td>\n",
       "      <td>57.0</td>\n",
       "      <td>POLYGON ((-75.05907 42.43064, -75.05219 42.430...</td>\n",
       "    </tr>\n",
       "    <tr>\n",
       "      <th>2</th>\n",
       "      <td>36</td>\n",
       "      <td>25</td>\n",
       "      <td>Census Tract 9702, Delaware County, New York</td>\n",
       "      <td>36025970200</td>\n",
       "      <td>3028</td>\n",
       "      <td>312229586</td>\n",
       "      <td>25.0</td>\n",
       "      <td>POLYGON ((-75.04411 42.37059, -75.04274 42.371...</td>\n",
       "    </tr>\n",
       "  </tbody>\n",
       "</table>\n",
       "</div>"
      ],
      "text/plain": [
       "   State FIPS  County FIPS                                Census Tract Name  \\\n",
       "0          36           25  Census Tract 9701.01, Delaware County, New York   \n",
       "1          36           25  Census Tract 9701.02, Delaware County, New York   \n",
       "2          36           25     Census Tract 9702, Delaware County, New York   \n",
       "\n",
       "   GEOID Census Tract  Population  Land Area  Population Density  \\\n",
       "0         36025970101        1442  108853793                34.0   \n",
       "1         36025970102        2955  133548339                57.0   \n",
       "2         36025970200        3028  312229586                25.0   \n",
       "\n",
       "                                            geometry  \n",
       "0  POLYGON ((-74.79374 42.49635, -74.79359 42.496...  \n",
       "1  POLYGON ((-75.05907 42.43064, -75.05219 42.430...  \n",
       "2  POLYGON ((-75.04411 42.37059, -75.04274 42.371...  "
      ]
     },
     "execution_count": 14,
     "metadata": {},
     "output_type": "execute_result"
    }
   ],
   "source": [
    "# add a column to calculate population density\n",
    "# land area measured in whole sq meters\n",
    "# sq miles = sq meters/2,589,988 \n",
    "# population density in sq miles  = population/ (land area sq meters / 2,589,988)\n",
    "geodf_tract_ny['Population Density'] = (geodf_tract_ny['Population']/(geodf_tract_ny['Land Area']/2589988)).round(0)\n",
    "geodf_tract_ny = geodf_tract_ny[['State FIPS', 'County FIPS', 'Census Tract Name', 'GEOID Census Tract', 'Population', 'Land Area', 'Population Density', 'geometry']]\n",
    "geodf_tract_ny.head(3)"
   ]
  },
  {
   "cell_type": "code",
   "execution_count": 15,
   "id": "d20d7a13-fc15-4596-b744-99afdccc07e3",
   "metadata": {},
   "outputs": [],
   "source": [
    "# check for tracts where population == 0 because these will result in Population Density of NaN\n",
    "# replace the NaNs with 0s\n",
    "geodf_tract_ny[geodf_tract_ny['Population'] == 0]\n",
    "geodf_tract_ny['Population Density'] = geodf_tract_ny['Population Density'].fillna(0)\n",
    "geodf_tract_ny['Population Density'] = geodf_tract_ny['Population Density'].astype(int) # change dtype to integer"
   ]
  },
  {
   "cell_type": "code",
   "execution_count": 16,
   "id": "9d697080-c56a-4b7c-bf83-df6ad8c8e65a",
   "metadata": {},
   "outputs": [
    {
     "data": {
      "text/plain": [
       "State FIPS               int64\n",
       "County FIPS              int64\n",
       "Census Tract Name       object\n",
       "GEOID Census Tract       int64\n",
       "Population               int64\n",
       "Land Area                int64\n",
       "Population Density       int64\n",
       "geometry              geometry\n",
       "dtype: object"
      ]
     },
     "execution_count": 16,
     "metadata": {},
     "output_type": "execute_result"
    }
   ],
   "source": [
    "geodf_tract_ny.dtypes"
   ]
  },
  {
   "cell_type": "code",
   "execution_count": 17,
   "id": "b420c006-345b-4f9e-bb8c-d5a14feea2bb",
   "metadata": {},
   "outputs": [
    {
     "data": {
      "text/plain": [
       "(5411, 8)"
      ]
     },
     "execution_count": 17,
     "metadata": {},
     "output_type": "execute_result"
    }
   ],
   "source": [
    "geodf_tract_ny.shape"
   ]
  },
  {
   "cell_type": "code",
   "execution_count": 18,
   "id": "da9add8d-ea1c-4129-9135-276669b786ae",
   "metadata": {},
   "outputs": [],
   "source": [
    "# df_state = pd.read_csv(file_state, \n",
    "#                        usecols=['STATE', 'STUSAB', 'STATE_NAME'], # use only these columns\n",
    "#                        delimiter=\"|\", # load txt file as pandas DataFrame \n",
    "#                        encoding=\"iso-8859-1\", \n",
    "#                        encoding_errors='ignore')[['STATE_NAME', 'STUSAB', 'STATE',]] # reorder cols"
   ]
  },
  {
   "cell_type": "markdown",
   "id": "f960b27d-f933-42a7-b5f3-c6e04de5115d",
   "metadata": {},
   "source": [
    "### Outlining the place \"New York City\"\n",
    "\n",
    "First, let's bring in as a DataFrame the \"Places\" list we cleaned earlier. "
   ]
  },
  {
   "cell_type": "code",
   "execution_count": 19,
   "id": "d638e973-3905-4718-b923-d74f04c75eee",
   "metadata": {},
   "outputs": [
    {
     "data": {
      "text/html": [
       "<div>\n",
       "<style scoped>\n",
       "    .dataframe tbody tr th:only-of-type {\n",
       "        vertical-align: middle;\n",
       "    }\n",
       "\n",
       "    .dataframe tbody tr th {\n",
       "        vertical-align: top;\n",
       "    }\n",
       "\n",
       "    .dataframe thead th {\n",
       "        text-align: right;\n",
       "    }\n",
       "</style>\n",
       "<table border=\"1\" class=\"dataframe\">\n",
       "  <thead>\n",
       "    <tr style=\"text-align: right;\">\n",
       "      <th></th>\n",
       "      <th>State Name</th>\n",
       "      <th>State</th>\n",
       "      <th>State FIPS</th>\n",
       "      <th>Place</th>\n",
       "      <th>Place FIPS</th>\n",
       "      <th>County</th>\n",
       "    </tr>\n",
       "  </thead>\n",
       "  <tbody>\n",
       "    <tr>\n",
       "      <th>0</th>\n",
       "      <td>Alabama</td>\n",
       "      <td>AL</td>\n",
       "      <td>1</td>\n",
       "      <td>Abanda Cdp</td>\n",
       "      <td>100</td>\n",
       "      <td>Chambers County</td>\n",
       "    </tr>\n",
       "    <tr>\n",
       "      <th>1</th>\n",
       "      <td>Alabama</td>\n",
       "      <td>AL</td>\n",
       "      <td>1</td>\n",
       "      <td>Abbeville City</td>\n",
       "      <td>124</td>\n",
       "      <td>Henry County</td>\n",
       "    </tr>\n",
       "    <tr>\n",
       "      <th>2</th>\n",
       "      <td>Alabama</td>\n",
       "      <td>AL</td>\n",
       "      <td>1</td>\n",
       "      <td>Adamsville City</td>\n",
       "      <td>460</td>\n",
       "      <td>Jefferson County</td>\n",
       "    </tr>\n",
       "  </tbody>\n",
       "</table>\n",
       "</div>"
      ],
      "text/plain": [
       "  State Name State  State FIPS            Place  Place FIPS            County\n",
       "0    Alabama    AL           1       Abanda Cdp         100   Chambers County\n",
       "1    Alabama    AL           1   Abbeville City         124      Henry County\n",
       "2    Alabama    AL           1  Adamsville City         460  Jefferson County"
      ]
     },
     "execution_count": 19,
     "metadata": {},
     "output_type": "execute_result"
    }
   ],
   "source": [
    "clean_place_file = os.path.join(clean_data_dir, 'place.csv')\n",
    "df_place = pd.read_csv(clean_place_file, index_col=0)\n",
    "df_place.head(3)"
   ]
  },
  {
   "cell_type": "code",
   "execution_count": 20,
   "id": "e24019ba-970f-4b42-8aa3-e018a52c9804",
   "metadata": {},
   "outputs": [
    {
     "data": {
      "text/html": [
       "<div>\n",
       "<style scoped>\n",
       "    .dataframe tbody tr th:only-of-type {\n",
       "        vertical-align: middle;\n",
       "    }\n",
       "\n",
       "    .dataframe tbody tr th {\n",
       "        vertical-align: top;\n",
       "    }\n",
       "\n",
       "    .dataframe thead th {\n",
       "        text-align: right;\n",
       "    }\n",
       "</style>\n",
       "<table border=\"1\" class=\"dataframe\">\n",
       "  <thead>\n",
       "    <tr style=\"text-align: right;\">\n",
       "      <th></th>\n",
       "      <th>State Name</th>\n",
       "      <th>State</th>\n",
       "      <th>State FIPS</th>\n",
       "      <th>Place</th>\n",
       "      <th>Place FIPS</th>\n",
       "      <th>County</th>\n",
       "    </tr>\n",
       "  </thead>\n",
       "  <tbody>\n",
       "    <tr>\n",
       "      <th>24316</th>\n",
       "      <td>New York</td>\n",
       "      <td>NY</td>\n",
       "      <td>36</td>\n",
       "      <td>New York City</td>\n",
       "      <td>51000</td>\n",
       "      <td>Bronx County, Kings County, New York County, Q...</td>\n",
       "    </tr>\n",
       "  </tbody>\n",
       "</table>\n",
       "</div>"
      ],
      "text/plain": [
       "      State Name State  State FIPS          Place  Place FIPS  \\\n",
       "24316   New York    NY          36  New York City       51000   \n",
       "\n",
       "                                                  County  \n",
       "24316  Bronx County, Kings County, New York County, Q...  "
      ]
     },
     "execution_count": 20,
     "metadata": {},
     "output_type": "execute_result"
    }
   ],
   "source": [
    "df_place[df_place['Place'] == \"New York City\"]"
   ]
  },
  {
   "cell_type": "code",
   "execution_count": 21,
   "id": "24cb86dc-516d-4b6b-a6ef-588476f61fd7",
   "metadata": {},
   "outputs": [
    {
     "data": {
      "text/plain": [
       "State Name    object\n",
       "State         object\n",
       "State FIPS     int64\n",
       "Place         object\n",
       "Place FIPS     int64\n",
       "County        object\n",
       "dtype: object"
      ]
     },
     "execution_count": 21,
     "metadata": {},
     "output_type": "execute_result"
    }
   ],
   "source": [
    "df_place.dtypes"
   ]
  },
  {
   "cell_type": "code",
   "execution_count": 22,
   "id": "b7dd8c3d-cf1d-4eba-9d5c-2bcc026420ee",
   "metadata": {},
   "outputs": [
    {
     "data": {
      "text/html": [
       "<div>\n",
       "<style scoped>\n",
       "    .dataframe tbody tr th:only-of-type {\n",
       "        vertical-align: middle;\n",
       "    }\n",
       "\n",
       "    .dataframe tbody tr th {\n",
       "        vertical-align: top;\n",
       "    }\n",
       "\n",
       "    .dataframe thead th {\n",
       "        text-align: right;\n",
       "    }\n",
       "</style>\n",
       "<table border=\"1\" class=\"dataframe\">\n",
       "  <thead>\n",
       "    <tr style=\"text-align: right;\">\n",
       "      <th></th>\n",
       "      <th>State FIPS</th>\n",
       "      <th>Place FIPS</th>\n",
       "      <th>GEOID</th>\n",
       "      <th>Name</th>\n",
       "      <th>Land Area</th>\n",
       "      <th>geometry</th>\n",
       "    </tr>\n",
       "  </thead>\n",
       "  <tbody>\n",
       "    <tr>\n",
       "      <th>0</th>\n",
       "      <td>36</td>\n",
       "      <td>1517</td>\n",
       "      <td>3601517</td>\n",
       "      <td>Altamont</td>\n",
       "      <td>3279144</td>\n",
       "      <td>MULTIPOLYGON (((-74.02271 42.70420, -74.02231 ...</td>\n",
       "    </tr>\n",
       "    <tr>\n",
       "      <th>1</th>\n",
       "      <td>36</td>\n",
       "      <td>56979</td>\n",
       "      <td>3656979</td>\n",
       "      <td>Peekskill</td>\n",
       "      <td>11251161</td>\n",
       "      <td>POLYGON ((-73.95544 41.27786, -73.95204 41.280...</td>\n",
       "    </tr>\n",
       "    <tr>\n",
       "      <th>2</th>\n",
       "      <td>36</td>\n",
       "      <td>18388</td>\n",
       "      <td>3618388</td>\n",
       "      <td>Cortland</td>\n",
       "      <td>10085376</td>\n",
       "      <td>POLYGON ((-76.20049 42.61248, -76.19596 42.612...</td>\n",
       "    </tr>\n",
       "    <tr>\n",
       "      <th>3</th>\n",
       "      <td>36</td>\n",
       "      <td>35276</td>\n",
       "      <td>3635276</td>\n",
       "      <td>Homer</td>\n",
       "      <td>4986794</td>\n",
       "      <td>POLYGON ((-76.20248 42.63292, -76.20161 42.633...</td>\n",
       "    </tr>\n",
       "    <tr>\n",
       "      <th>4</th>\n",
       "      <td>36</td>\n",
       "      <td>42147</td>\n",
       "      <td>3642147</td>\n",
       "      <td>Lewiston</td>\n",
       "      <td>2840234</td>\n",
       "      <td>POLYGON ((-79.05292 43.17400, -79.05287 43.177...</td>\n",
       "    </tr>\n",
       "    <tr>\n",
       "      <th>...</th>\n",
       "      <td>...</td>\n",
       "      <td>...</td>\n",
       "      <td>...</td>\n",
       "      <td>...</td>\n",
       "      <td>...</td>\n",
       "      <td>...</td>\n",
       "    </tr>\n",
       "    <tr>\n",
       "      <th>1288</th>\n",
       "      <td>36</td>\n",
       "      <td>83426</td>\n",
       "      <td>3683426</td>\n",
       "      <td>Yaphank</td>\n",
       "      <td>35336639</td>\n",
       "      <td>POLYGON ((-72.96103 40.85172, -72.96021 40.851...</td>\n",
       "    </tr>\n",
       "    <tr>\n",
       "      <th>1289</th>\n",
       "      <td>36</td>\n",
       "      <td>84011</td>\n",
       "      <td>3684011</td>\n",
       "      <td>York</td>\n",
       "      <td>7133085</td>\n",
       "      <td>POLYGON ((-77.90695 42.87215, -77.90689 42.873...</td>\n",
       "    </tr>\n",
       "    <tr>\n",
       "      <th>1290</th>\n",
       "      <td>36</td>\n",
       "      <td>84044</td>\n",
       "      <td>3684044</td>\n",
       "      <td>Yorkshire</td>\n",
       "      <td>4778096</td>\n",
       "      <td>POLYGON ((-78.49301 42.51619, -78.49283 42.519...</td>\n",
       "    </tr>\n",
       "    <tr>\n",
       "      <th>1291</th>\n",
       "      <td>36</td>\n",
       "      <td>84088</td>\n",
       "      <td>3684088</td>\n",
       "      <td>Yorktown Heights</td>\n",
       "      <td>2379367</td>\n",
       "      <td>POLYGON ((-73.78428 41.27440, -73.78427 41.274...</td>\n",
       "    </tr>\n",
       "    <tr>\n",
       "      <th>1292</th>\n",
       "      <td>36</td>\n",
       "      <td>84187</td>\n",
       "      <td>3684187</td>\n",
       "      <td>Zena</td>\n",
       "      <td>7918800</td>\n",
       "      <td>POLYGON ((-74.10614 42.02338, -74.10604 42.023...</td>\n",
       "    </tr>\n",
       "  </tbody>\n",
       "</table>\n",
       "<p>1293 rows × 6 columns</p>\n",
       "</div>"
      ],
      "text/plain": [
       "      State FIPS  Place FIPS    GEOID              Name  Land Area  \\\n",
       "0             36        1517  3601517          Altamont    3279144   \n",
       "1             36       56979  3656979         Peekskill   11251161   \n",
       "2             36       18388  3618388          Cortland   10085376   \n",
       "3             36       35276  3635276             Homer    4986794   \n",
       "4             36       42147  3642147          Lewiston    2840234   \n",
       "...          ...         ...      ...               ...        ...   \n",
       "1288          36       83426  3683426           Yaphank   35336639   \n",
       "1289          36       84011  3684011              York    7133085   \n",
       "1290          36       84044  3684044         Yorkshire    4778096   \n",
       "1291          36       84088  3684088  Yorktown Heights    2379367   \n",
       "1292          36       84187  3684187              Zena    7918800   \n",
       "\n",
       "                                               geometry  \n",
       "0     MULTIPOLYGON (((-74.02271 42.70420, -74.02231 ...  \n",
       "1     POLYGON ((-73.95544 41.27786, -73.95204 41.280...  \n",
       "2     POLYGON ((-76.20049 42.61248, -76.19596 42.612...  \n",
       "3     POLYGON ((-76.20248 42.63292, -76.20161 42.633...  \n",
       "4     POLYGON ((-79.05292 43.17400, -79.05287 43.177...  \n",
       "...                                                 ...  \n",
       "1288  POLYGON ((-72.96103 40.85172, -72.96021 40.851...  \n",
       "1289  POLYGON ((-77.90695 42.87215, -77.90689 42.873...  \n",
       "1290  POLYGON ((-78.49301 42.51619, -78.49283 42.519...  \n",
       "1291  POLYGON ((-73.78428 41.27440, -73.78427 41.274...  \n",
       "1292  POLYGON ((-74.10614 42.02338, -74.10604 42.023...  \n",
       "\n",
       "[1293 rows x 6 columns]"
      ]
     },
     "execution_count": 22,
     "metadata": {},
     "output_type": "execute_result"
    }
   ],
   "source": [
    "# make GEO DataFrame from the NY State \"places\" shapefiles\n",
    "shapefile_place_ny = os.path.join(shapes_dir,\"tl_2020_36_place20.zip\")\n",
    "geodf_place_ny = gpd.read_file(shapefile_place_ny,  \n",
    "                            encoding_errors='ignore')\n",
    "\n",
    "# Select only the columns we want from the DataFrame \n",
    "geodf_place_ny = geodf_place_ny[['STATEFP20', 'PLACEFP20', 'GEOID20', 'NAME20', 'ALAND20', 'geometry']]\n",
    "\n",
    "# rename the columns\n",
    "geodf_place_ny.rename(columns={'STATEFP20': 'State FIPS', 'PLACEFP20': 'Place FIPS', 'GEOID20': 'GEOID', 'NAME20': 'Name', 'ALAND20': 'Land Area'}, inplace=True)\n",
    "\n",
    "# Make sure the data types of each column are as we want them to be\n",
    "geodf_place_ny['State FIPS'] = geodf_place_ny['State FIPS'].astype(int)\n",
    "geodf_place_ny['Place FIPS'] = geodf_place_ny['Place FIPS'].astype(int)\n",
    "geodf_place_ny['GEOID'] = geodf_place_ny['GEOID'].astype(int)\n",
    "\n",
    "geodf_place_ny"
   ]
  },
  {
   "cell_type": "code",
   "execution_count": 23,
   "id": "cc8eec1e-0449-4cdd-8a40-0cc13e2ae52f",
   "metadata": {},
   "outputs": [
    {
     "data": {
      "text/plain": [
       "State FIPS       int64\n",
       "Place FIPS       int64\n",
       "GEOID            int64\n",
       "Name            object\n",
       "Land Area        int64\n",
       "geometry      geometry\n",
       "dtype: object"
      ]
     },
     "execution_count": 23,
     "metadata": {},
     "output_type": "execute_result"
    }
   ],
   "source": [
    "geodf_place_ny.dtypes"
   ]
  },
  {
   "cell_type": "markdown",
   "id": "f55662e0-3cb9-454c-9290-49358c54341a",
   "metadata": {},
   "source": [
    "For some reason, the place names are inconsistent between our places shapefiles and our places list. Specifically, Place FIPS 51000 is referred to by our places list as \"New York City\", while as we can see below, our shapefile refers to it as \"New York\". This is confusing! We like the version in our places list and would rather use this. So, let's bring in the merge *shapefile_place_ny* with *df_place* to bring in the \"Place\" column we like from our place list."
   ]
  },
  {
   "cell_type": "code",
   "execution_count": 24,
   "id": "916ba487-da9d-44ef-bde7-853a42414c2b",
   "metadata": {},
   "outputs": [
    {
     "data": {
      "text/html": [
       "<div>\n",
       "<style scoped>\n",
       "    .dataframe tbody tr th:only-of-type {\n",
       "        vertical-align: middle;\n",
       "    }\n",
       "\n",
       "    .dataframe tbody tr th {\n",
       "        vertical-align: top;\n",
       "    }\n",
       "\n",
       "    .dataframe thead th {\n",
       "        text-align: right;\n",
       "    }\n",
       "</style>\n",
       "<table border=\"1\" class=\"dataframe\">\n",
       "  <thead>\n",
       "    <tr style=\"text-align: right;\">\n",
       "      <th></th>\n",
       "      <th>State FIPS</th>\n",
       "      <th>Place FIPS</th>\n",
       "      <th>GEOID</th>\n",
       "      <th>Name</th>\n",
       "      <th>Land Area</th>\n",
       "      <th>geometry</th>\n",
       "    </tr>\n",
       "  </thead>\n",
       "  <tbody>\n",
       "    <tr>\n",
       "      <th>398</th>\n",
       "      <td>36</td>\n",
       "      <td>51000</td>\n",
       "      <td>3651000</td>\n",
       "      <td>New York</td>\n",
       "      <td>778165283</td>\n",
       "      <td>MULTIPOLYGON (((-74.04075 40.70017, -74.04073 ...</td>\n",
       "    </tr>\n",
       "  </tbody>\n",
       "</table>\n",
       "</div>"
      ],
      "text/plain": [
       "     State FIPS  Place FIPS    GEOID      Name  Land Area  \\\n",
       "398          36       51000  3651000  New York  778165283   \n",
       "\n",
       "                                              geometry  \n",
       "398  MULTIPOLYGON (((-74.04075 40.70017, -74.04073 ...  "
      ]
     },
     "execution_count": 24,
     "metadata": {},
     "output_type": "execute_result"
    }
   ],
   "source": [
    "geodf_place_ny[geodf_place_ny['Place FIPS'] == 51000]"
   ]
  },
  {
   "cell_type": "code",
   "execution_count": 25,
   "id": "4846d44f-6ae3-46fe-ad19-c458acf39825",
   "metadata": {},
   "outputs": [
    {
     "data": {
      "text/html": [
       "<div>\n",
       "<style scoped>\n",
       "    .dataframe tbody tr th:only-of-type {\n",
       "        vertical-align: middle;\n",
       "    }\n",
       "\n",
       "    .dataframe tbody tr th {\n",
       "        vertical-align: top;\n",
       "    }\n",
       "\n",
       "    .dataframe thead th {\n",
       "        text-align: right;\n",
       "    }\n",
       "</style>\n",
       "<table border=\"1\" class=\"dataframe\">\n",
       "  <thead>\n",
       "    <tr style=\"text-align: right;\">\n",
       "      <th></th>\n",
       "      <th>State Name</th>\n",
       "      <th>State</th>\n",
       "      <th>State FIPS</th>\n",
       "      <th>Place</th>\n",
       "      <th>Place FIPS</th>\n",
       "      <th>County</th>\n",
       "      <th>Land Area</th>\n",
       "      <th>geometry</th>\n",
       "    </tr>\n",
       "  </thead>\n",
       "  <tbody>\n",
       "    <tr>\n",
       "      <th>0</th>\n",
       "      <td>New York</td>\n",
       "      <td>NY</td>\n",
       "      <td>36</td>\n",
       "      <td>Altamont Village</td>\n",
       "      <td>1517</td>\n",
       "      <td>Albany County</td>\n",
       "      <td>3279144</td>\n",
       "      <td>MULTIPOLYGON (((-74.02271 42.70420, -74.02231 ...</td>\n",
       "    </tr>\n",
       "    <tr>\n",
       "      <th>1</th>\n",
       "      <td>New York</td>\n",
       "      <td>NY</td>\n",
       "      <td>36</td>\n",
       "      <td>Peekskill City</td>\n",
       "      <td>56979</td>\n",
       "      <td>Westchester County</td>\n",
       "      <td>11251161</td>\n",
       "      <td>POLYGON ((-73.95544 41.27786, -73.95204 41.280...</td>\n",
       "    </tr>\n",
       "    <tr>\n",
       "      <th>2</th>\n",
       "      <td>New York</td>\n",
       "      <td>NY</td>\n",
       "      <td>36</td>\n",
       "      <td>Peekskill City</td>\n",
       "      <td>56979</td>\n",
       "      <td>Westchester County</td>\n",
       "      <td>11251161</td>\n",
       "      <td>POLYGON ((-73.95544 41.27786, -73.95204 41.280...</td>\n",
       "    </tr>\n",
       "    <tr>\n",
       "      <th>3</th>\n",
       "      <td>New York</td>\n",
       "      <td>NY</td>\n",
       "      <td>36</td>\n",
       "      <td>Cortland City</td>\n",
       "      <td>18388</td>\n",
       "      <td>Cortland County</td>\n",
       "      <td>10085376</td>\n",
       "      <td>POLYGON ((-76.20049 42.61248, -76.19596 42.612...</td>\n",
       "    </tr>\n",
       "    <tr>\n",
       "      <th>4</th>\n",
       "      <td>New York</td>\n",
       "      <td>NY</td>\n",
       "      <td>36</td>\n",
       "      <td>Cortland City</td>\n",
       "      <td>18388</td>\n",
       "      <td>Cortland County</td>\n",
       "      <td>10085376</td>\n",
       "      <td>POLYGON ((-76.20049 42.61248, -76.19596 42.612...</td>\n",
       "    </tr>\n",
       "  </tbody>\n",
       "</table>\n",
       "</div>"
      ],
      "text/plain": [
       "  State Name State  State FIPS             Place  Place FIPS  \\\n",
       "0   New York    NY          36  Altamont Village        1517   \n",
       "1   New York    NY          36    Peekskill City       56979   \n",
       "2   New York    NY          36    Peekskill City       56979   \n",
       "3   New York    NY          36     Cortland City       18388   \n",
       "4   New York    NY          36     Cortland City       18388   \n",
       "\n",
       "               County  Land Area  \\\n",
       "0       Albany County    3279144   \n",
       "1  Westchester County   11251161   \n",
       "2  Westchester County   11251161   \n",
       "3     Cortland County   10085376   \n",
       "4     Cortland County   10085376   \n",
       "\n",
       "                                            geometry  \n",
       "0  MULTIPOLYGON (((-74.02271 42.70420, -74.02231 ...  \n",
       "1  POLYGON ((-73.95544 41.27786, -73.95204 41.280...  \n",
       "2  POLYGON ((-73.95544 41.27786, -73.95204 41.280...  \n",
       "3  POLYGON ((-76.20049 42.61248, -76.19596 42.612...  \n",
       "4  POLYGON ((-76.20049 42.61248, -76.19596 42.612...  "
      ]
     },
     "execution_count": 25,
     "metadata": {},
     "output_type": "execute_result"
    }
   ],
   "source": [
    "# don't include \"name\"\n",
    "geodf_place_ny = geodf_place_ny.merge(df_place, on =['State FIPS', 'Place FIPS'])\n",
    "geodf_place_ny = geodf_place_ny[['State Name', 'State', 'State FIPS', 'Place', 'Place FIPS', 'County', 'Land Area', 'geometry']]\n",
    "geodf_place_ny.head()"
   ]
  },
  {
   "cell_type": "code",
   "execution_count": 26,
   "id": "d37c8e08-3b96-4066-81cf-42922540042e",
   "metadata": {},
   "outputs": [
    {
     "data": {
      "text/plain": [
       "State Name      object\n",
       "State           object\n",
       "State FIPS       int64\n",
       "Place           object\n",
       "Place FIPS       int64\n",
       "County          object\n",
       "Land Area        int64\n",
       "geometry      geometry\n",
       "dtype: object"
      ]
     },
     "execution_count": 26,
     "metadata": {},
     "output_type": "execute_result"
    }
   ],
   "source": [
    "geodf_place_ny.dtypes"
   ]
  },
  {
   "cell_type": "code",
   "execution_count": 27,
   "id": "fd703130-0ee8-40d6-9527-6c20d8dbec2c",
   "metadata": {},
   "outputs": [],
   "source": [
    "geodf_place_nyc = geodf_place_ny[geodf_place_ny['Place FIPS'] == 51000]"
   ]
  },
  {
   "cell_type": "code",
   "execution_count": 28,
   "id": "96d55923-0f53-4041-a502-e523f40a38a6",
   "metadata": {
    "tags": []
   },
   "outputs": [],
   "source": [
    "from keplergl import KeplerGl\n",
    "ny_map = KeplerGl( height=600, show_docs=False)\n",
    "ny_map.add_data(geodf_tract_ny, name='NY State') # map NY state, should include Population Density?\n",
    "ny_map.add_data(geodf_place_nyc, name='New York City')\n",
    "# ny_map.add_data(ny_tract_shapes_df, name='Population') \n"
   ]
  },
  {
   "cell_type": "code",
   "execution_count": 29,
   "id": "05f59056-5086-4db9-83b1-87dc7c125633",
   "metadata": {},
   "outputs": [
    {
     "data": {
      "text/plain": [
       "<AxesSubplot:>"
      ]
     },
     "execution_count": 29,
     "metadata": {},
     "output_type": "execute_result"
    },
    {
     "data": {
      "image/png": "[encoded data removed]",
      "text/plain": [
       "<Figure size 432x288 with 1 Axes>"
      ]
     },
     "metadata": {
      "needs_background": "light"
     },
     "output_type": "display_data"
    }
   ],
   "source": [
    "#geodf_place_nyc[\"geometry\"].explode().iloc[2]\n",
    "geodf_place_nyc.boundary.plot()"
   ]
  },
  {
   "cell_type": "code",
   "execution_count": 30,
   "id": "72568770-f2cb-4373-9008-d291865d4c9c",
   "metadata": {
    "tags": []
   },
   "outputs": [],
   "source": [
    "ny_map.config = {\n",
    "    \"version\": \"v1\",\n",
    "    \"config\": {\n",
    "        \"visState\": {\n",
    "            \"filters\": [],\n",
    "            \"layers\": [\n",
    "                {\n",
    "                    \"id\": \"5xtj533\",\n",
    "                    \"type\": \"geojson\",\n",
    "                    \"config\": {\n",
    "                        \"dataId\": \"New York City\",\n",
    "                        \"label\": \"New York City\",\n",
    "                        \"color\": [\n",
    "                            183,\n",
    "                            136,\n",
    "                            94\n",
    "                        ],\n",
    "                        \"highlightColor\": [\n",
    "                            252,\n",
    "                            242,\n",
    "                            26,\n",
    "                            255\n",
    "                        ],\n",
    "                        \"columns\": {\n",
    "                            \"geojson\": \"geometry\"\n",
    "                        },\n",
    "                        \"isVisible\": True,\n",
    "                        \"visConfig\": {\n",
    "                            \"opacity\": 0.8,\n",
    "                            \"strokeOpacity\": 0.8,\n",
    "                            \"thickness\": 1.6,\n",
    "                            \"strokeColor\": [\n",
    "                                125,\n",
    "                                201,\n",
    "                                127\n",
    "                            ],\n",
    "                            \"colorRange\": {\n",
    "                                \"name\": \"Global Warming\",\n",
    "                                \"type\": \"sequential\",\n",
    "                                \"category\": \"Uber\",\n",
    "                                \"colors\": [\n",
    "                                    \"#5A1846\",\n",
    "                                    \"#900C3F\",\n",
    "                                    \"#C70039\",\n",
    "                                    \"#E3611C\",\n",
    "                                    \"#F1920E\",\n",
    "                                    \"#FFC300\"\n",
    "                                ]\n",
    "                            },\n",
    "                            \"strokeColorRange\": {\n",
    "                                \"name\": \"Global Warming\",\n",
    "                                \"type\": \"sequential\",\n",
    "                                \"category\": \"Uber\",\n",
    "                                \"colors\": [\n",
    "                                    \"#5A1846\",\n",
    "                                    \"#900C3F\",\n",
    "                                    \"#C70039\",\n",
    "                                    \"#E3611C\",\n",
    "                                    \"#F1920E\",\n",
    "                                    \"#FFC300\"\n",
    "                                ]\n",
    "                            },\n",
    "                            \"radius\": 10,\n",
    "                            \"sizeRange\": [\n",
    "                                0,\n",
    "                                10\n",
    "                            ],\n",
    "                            \"radiusRange\": [\n",
    "                                0,\n",
    "                                50\n",
    "                            ],\n",
    "                            \"heightRange\": [\n",
    "                                0,\n",
    "                                500\n",
    "                            ],\n",
    "                            \"elevationScale\": 5,\n",
    "                            \"enableElevationZoomFactor\": True,\n",
    "                            \"stroked\": True,\n",
    "                            \"filled\": False,\n",
    "                            \"enable3d\": False,\n",
    "                            \"wireframe\": False\n",
    "                        },\n",
    "                        \"hidden\": False,\n",
    "                        \"textLabel\": [\n",
    "                            {\n",
    "                                \"field\": None,\n",
    "                                \"color\": [\n",
    "                                    255,\n",
    "                                    255,\n",
    "                                    255\n",
    "                                ],\n",
    "                                \"size\": 18,\n",
    "                                \"offset\": [\n",
    "                                    0,\n",
    "                                    0\n",
    "                                ],\n",
    "                                \"anchor\": \"start\",\n",
    "                                \"alignment\": \"center\"\n",
    "                            }\n",
    "                        ]\n",
    "                    },\n",
    "                    \"visualChannels\": {\n",
    "                        \"colorField\": None,\n",
    "                        \"colorScale\": \"quantile\",\n",
    "                        \"strokeColorField\": None,\n",
    "                        \"strokeColorScale\": \"quantile\",\n",
    "                        \"sizeField\": None,\n",
    "                        \"sizeScale\": \"linear\",\n",
    "                        \"heightField\": None,\n",
    "                        \"heightScale\": \"linear\",\n",
    "                        \"radiusField\": None,\n",
    "                        \"radiusScale\": \"linear\"\n",
    "                    }\n",
    "                },\n",
    "                {\n",
    "                    \"id\": \"3xpf35a\",\n",
    "                    \"type\": \"geojson\",\n",
    "                    \"config\": {\n",
    "                        \"dataId\": \"NY State\",\n",
    "                        \"label\": \"NY State\",\n",
    "                        \"color\": [\n",
    "                            23,\n",
    "                            184,\n",
    "                            190\n",
    "                        ],\n",
    "                        \"highlightColor\": [\n",
    "                            252,\n",
    "                            242,\n",
    "                            26,\n",
    "                            255\n",
    "                        ],\n",
    "                        \"columns\": {\n",
    "                            \"geojson\": \"geometry\"\n",
    "                        },\n",
    "                        \"isVisible\": True,\n",
    "                        \"visConfig\": {\n",
    "                            \"opacity\": 0.8,\n",
    "                            \"strokeOpacity\": 0.8,\n",
    "                            \"thickness\": 0.5,\n",
    "                            \"strokeColor\": [\n",
    "                                246,\n",
    "                                209,\n",
    "                                138\n",
    "                            ],\n",
    "                            \"colorRange\": {\n",
    "                                \"name\": \"Global Warming\",\n",
    "                                \"type\": \"sequential\",\n",
    "                                \"category\": \"Uber\",\n",
    "                                \"colors\": [\n",
    "                                    \"#5A1846\",\n",
    "                                    \"#900C3F\",\n",
    "                                    \"#C70039\",\n",
    "                                    \"#E3611C\",\n",
    "                                    \"#F1920E\",\n",
    "                                    \"#FFC300\"\n",
    "                                ]\n",
    "                            },\n",
    "                            \"strokeColorRange\": {\n",
    "                                \"name\": \"Global Warming\",\n",
    "                                \"type\": \"sequential\",\n",
    "                                \"category\": \"Uber\",\n",
    "                                \"colors\": [\n",
    "                                    \"#5A1846\",\n",
    "                                    \"#900C3F\",\n",
    "                                    \"#C70039\",\n",
    "                                    \"#E3611C\",\n",
    "                                    \"#F1920E\",\n",
    "                                    \"#FFC300\"\n",
    "                                ]\n",
    "                            },\n",
    "                            \"radius\": 10,\n",
    "                            \"sizeRange\": [\n",
    "                                0,\n",
    "                                10\n",
    "                            ],\n",
    "                            \"radiusRange\": [\n",
    "                                0,\n",
    "                                50\n",
    "                            ],\n",
    "                            \"heightRange\": [\n",
    "                                0,\n",
    "                                500\n",
    "                            ],\n",
    "                            \"elevationScale\": 5,\n",
    "                            \"enableElevationZoomFactor\": True,\n",
    "                            \"stroked\": False,\n",
    "                            \"filled\": True,\n",
    "                            \"enable3d\": False,\n",
    "                            \"wireframe\": False\n",
    "                        },\n",
    "                        \"hidden\": False,\n",
    "                        \"textLabel\": [\n",
    "                            {\n",
    "                                \"field\": None,\n",
    "                                \"color\": [\n",
    "                                    255,\n",
    "                                    255,\n",
    "                                    255\n",
    "                                ],\n",
    "                                \"size\": 18,\n",
    "                                \"offset\": [\n",
    "                                    0,\n",
    "                                    0\n",
    "                                ],\n",
    "                                \"anchor\": \"start\",\n",
    "                                \"alignment\": \"center\"\n",
    "                            }\n",
    "                        ]\n",
    "                    },\n",
    "                    \"visualChannels\": {\n",
    "                        \"colorField\": {\n",
    "                            \"name\": \"Population Density\",\n",
    "                            \"type\": \"integer\"\n",
    "                        },\n",
    "                        \"colorScale\": \"quantile\",\n",
    "                        \"strokeColorField\": None,\n",
    "                        \"strokeColorScale\": \"quantile\",\n",
    "                        \"sizeField\": None,\n",
    "                        \"sizeScale\": \"linear\",\n",
    "                        \"heightField\": None,\n",
    "                        \"heightScale\": \"linear\",\n",
    "                        \"radiusField\": None,\n",
    "                        \"radiusScale\": \"linear\"\n",
    "                    }\n",
    "                }\n",
    "            ],\n",
    "            \"interactionConfig\": {\n",
    "                \"tooltip\": {\n",
    "                    \"fieldsToShow\": {\n",
    "                        \"NY State\": [\n",
    "                            {\n",
    "                                \"name\": \"State FIPS\",\n",
    "                                \"format\": None\n",
    "                            },\n",
    "                            {\n",
    "                                \"name\": \"County FIPS\",\n",
    "                                \"format\": None\n",
    "                            },\n",
    "                            {\n",
    "                                \"name\": \"Census Tract Code\",\n",
    "                                \"format\": None\n",
    "                            },\n",
    "                            {\n",
    "                                \"name\": \"GEOID Census Tract\",\n",
    "                                \"format\": None\n",
    "                            },\n",
    "                            {\n",
    "                                \"name\": \"Land Area\",\n",
    "                                \"format\": None\n",
    "                            }\n",
    "                        ],\n",
    "                        \"New York City\": [\n",
    "                            {\n",
    "                                \"name\": \"State Name\",\n",
    "                                \"format\": None\n",
    "                            },\n",
    "                            {\n",
    "                                \"name\": \"State\",\n",
    "                                \"format\": None\n",
    "                            },\n",
    "                            {\n",
    "                                \"name\": \"State FIPS\",\n",
    "                                \"format\": None\n",
    "                            },\n",
    "                            {\n",
    "                                \"name\": \"Place\",\n",
    "                                \"format\": None\n",
    "                            },\n",
    "                            {\n",
    "                                \"name\": \"Place FIPS\",\n",
    "                                \"format\": None\n",
    "                            }\n",
    "                        ]\n",
    "                    },\n",
    "                    \"compareMode\": False,\n",
    "                    \"compareType\": \"absolute\",\n",
    "                    \"enabled\": True\n",
    "                },\n",
    "                \"brush\": {\n",
    "                    \"size\": 0.5,\n",
    "                    \"enabled\": False\n",
    "                },\n",
    "                \"geocoder\": {\n",
    "                    \"enabled\": False\n",
    "                },\n",
    "                \"coordinate\": {\n",
    "                    \"enabled\": False\n",
    "                }\n",
    "            },\n",
    "            \"layerBlending\": \"additive\",\n",
    "            \"splitMaps\": [],\n",
    "            \"animationConfig\": {\n",
    "                \"currentTime\": None,\n",
    "                \"speed\": 1\n",
    "            }\n",
    "        },\n",
    "        \"mapState\": {\n",
    "            \"bearing\": 0,\n",
    "            \"dragRotate\": False,\n",
    "            \"latitude\": 42.93740667647843,\n",
    "            \"longitude\": -77.20412718754224,\n",
    "            \"pitch\": 0,\n",
    "            \"zoom\": 6,\n",
    "            \"isSplit\": False\n",
    "        },\n",
    "        \"mapStyle\": {\n",
    "            \"styleType\": \"dark\",\n",
    "            \"topLayerGroups\": {},\n",
    "            \"visibleLayerGroups\": {\n",
    "                \"label\": True,\n",
    "                \"road\": True,\n",
    "                \"border\": False,\n",
    "                \"building\": True,\n",
    "                \"water\": True,\n",
    "                \"land\": True,\n",
    "                \"3d building\": False\n",
    "            },\n",
    "            \"threeDBuildingColor\": [\n",
    "                9.665468314072013,\n",
    "                17.18305478057247,\n",
    "                31.1442867897876\n",
    "            ],\n",
    "            \"mapStyles\": {}\n",
    "        }\n",
    "    }\n",
    "}\n"
   ]
  },
  {
   "cell_type": "code",
   "execution_count": 31,
   "id": "006edbd8-660b-4241-af65-93c33fb5d4c4",
   "metadata": {},
   "outputs": [
    {
     "data": {
      "application/vnd.jupyter.widget-view+json": {
       "model_id": "75c8eca7c9834e11a96725dc63eedb45",
       "version_major": 2,
       "version_minor": 0
      },
      "text/plain": [
       "KeplerGl(config={'version': 'v1', 'config': {'visState': {'filters': [], 'layers': [{'id': '5xtj533', 'type': …"
      ]
     },
     "metadata": {},
     "output_type": "display_data"
    }
   ],
   "source": [
    "ny_map"
   ]
  },
  {
   "cell_type": "code",
   "execution_count": 32,
   "id": "ee9e4c3c-b8ea-44d5-9960-07fc87096043",
   "metadata": {
    "tags": []
   },
   "outputs": [],
   "source": [
    "# Uncomment this to show the current configuration of the map \n",
    "# after you play with the settings (but before you reload)\n",
    "#ny_map.config"
   ]
  },
  {
   "cell_type": "code",
   "execution_count": 33,
   "id": "8bfb1562-131c-482a-b8aa-fa245cba9196",
   "metadata": {},
   "outputs": [],
   "source": [
    "# # lets zip our 3 lists into one and call it 'files_to_load'\n",
    "# files_list = list(zip(state_codes, county_codes, filtered_shapefiles))"
   ]
  },
  {
   "cell_type": "code",
   "execution_count": 34,
   "id": "1265f324-8a81-4e67-8153-4f6dbb24095a",
   "metadata": {},
   "outputs": [
    {
     "ename": "NameError",
     "evalue": "name 'files_list' is not defined",
     "output_type": "error",
     "traceback": [
      "\u001b[0;31m---------------------------------------------------------------------------\u001b[0m",
      "\u001b[0;31mNameError\u001b[0m                                 Traceback (most recent call last)",
      "Input \u001b[0;32mIn [34]\u001b[0m, in \u001b[0;36m<cell line: 2>\u001b[0;34m()\u001b[0m\n\u001b[1;32m      1\u001b[0m \u001b[38;5;66;03m# now let's turn it into a DataFrame and rename the columns for consistency\u001b[39;00m\n\u001b[0;32m----> 2\u001b[0m df_ny_files \u001b[38;5;241m=\u001b[39m pd\u001b[38;5;241m.\u001b[39mDataFrame\u001b[38;5;241m.\u001b[39mfrom_records(\u001b[43mfiles_list\u001b[49m)\u001b[38;5;241m.\u001b[39mrename({\u001b[38;5;241m0\u001b[39m: \u001b[38;5;124m'\u001b[39m\u001b[38;5;124mState FIPS\u001b[39m\u001b[38;5;124m'\u001b[39m, \u001b[38;5;241m1\u001b[39m: \u001b[38;5;124m'\u001b[39m\u001b[38;5;124mCounty FIPS\u001b[39m\u001b[38;5;124m'\u001b[39m, \u001b[38;5;241m2\u001b[39m: \u001b[38;5;124m'\u001b[39m\u001b[38;5;124mFile name\u001b[39m\u001b[38;5;124m'\u001b[39m}, axis\u001b[38;5;241m=\u001b[39m\u001b[38;5;241m1\u001b[39m)\n\u001b[1;32m      3\u001b[0m df_ny_files[\u001b[38;5;124m'\u001b[39m\u001b[38;5;124mState FIPS\u001b[39m\u001b[38;5;124m'\u001b[39m]\u001b[38;5;241m=\u001b[39mdf_ny_files[\u001b[38;5;124m'\u001b[39m\u001b[38;5;124mState FIPS\u001b[39m\u001b[38;5;124m'\u001b[39m]\u001b[38;5;241m.\u001b[39mastype(\u001b[38;5;28mint\u001b[39m)\n\u001b[1;32m      4\u001b[0m df_ny_files[\u001b[38;5;124m'\u001b[39m\u001b[38;5;124mCounty FIPS\u001b[39m\u001b[38;5;124m'\u001b[39m]\u001b[38;5;241m=\u001b[39mdf_ny_files[\u001b[38;5;124m'\u001b[39m\u001b[38;5;124mCounty FIPS\u001b[39m\u001b[38;5;124m'\u001b[39m]\u001b[38;5;241m.\u001b[39mastype(\u001b[38;5;28mint\u001b[39m)\n",
      "\u001b[0;31mNameError\u001b[0m: name 'files_list' is not defined"
     ]
    }
   ],
   "source": [
    "# now let's turn it into a DataFrame and rename the columns for consistency\n",
    "df_ny_files = pd.DataFrame.from_records(files_list).rename({0: 'State FIPS', 1: 'County FIPS', 2: 'File name'}, axis=1)\n",
    "df_ny_files['State FIPS']=df_ny_files['State FIPS'].astype(int)\n",
    "df_ny_files['County FIPS']=df_ny_files['County FIPS'].astype(int)\n",
    "df_ny_files\n",
    "\n",
    "# let's check out the datatypes\n",
    "df_ny_files.info()"
   ]
  },
  {
   "cell_type": "code",
   "execution_count": null,
   "id": "fdeb81ba-ca85-4928-a045-4304b5c7bffa",
   "metadata": {},
   "outputs": [],
   "source": [
    "df_ny_files.head()"
   ]
  },
  {
   "cell_type": "code",
   "execution_count": null,
   "id": "dbfb02b9-219b-4286-a963-c162421e66c2",
   "metadata": {},
   "outputs": [],
   "source": [
    "df_codes = pd.read_csv('codes.csv')\n",
    "# need to drop column \"unnamed: 0\"\n",
    "df_codes['State FIPS']=df_codes['State FIPS'].astype(int)\n",
    "df_codes['County FIPS']=df_codes['County FIPS'].astype(int)\n",
    "df_codes.head()"
   ]
  },
  {
   "cell_type": "code",
   "execution_count": null,
   "id": "a0822f2a-4260-4a62-b448-55bb5e853ce5",
   "metadata": {},
   "outputs": [],
   "source": [
    "# make a df here with just the files for ny state, including columns: State Name, State FIPS, County, County Fips, File name\n",
    "df_ny_codes_files = pd.merge(df_codes, df_ny_files)\n",
    "df_ny_codes_files\n",
    "df_ny_codes_files.head()\n",
    "# df_ny_codes_files[['State Name', 'State FIPS', 'County', 'County FIPS', 'File name']]"
   ]
  },
  {
   "cell_type": "code",
   "execution_count": null,
   "id": "e3e0b790-db12-4a4b-aa89-70061385f439",
   "metadata": {},
   "outputs": [],
   "source": [
    "df_ny_codes_files.shape"
   ]
  },
  {
   "cell_type": "code",
   "execution_count": null,
   "id": "011863da-4b53-413a-bc4f-121040f5cc6d",
   "metadata": {},
   "outputs": [],
   "source": [
    "#### now I want to load the map of NY state census tracts\n",
    "\n",
    "from keplergl import KeplerGl\n",
    "ny_map = KeplerGl(height=600, show_docs=False)\n",
    "for row in df_ny_codes_files.itertuples():\n",
    "    zipfile = f\"zip://{row[7]}\"\n",
    "    ny_map.add_data(data=gpd.read_file(zipfile), name=row[5])\n",
    "ny_map"
   ]
  },
  {
   "cell_type": "code",
   "execution_count": null,
   "id": "8f2f39e6-759d-4180-a8b3-38f943cea21b",
   "metadata": {},
   "outputs": [],
   "source": [
    "# now I want to load the population data for just NYC and add it to the map\n",
    "# should i join this with geo_df_nyc?\n",
    "import tarfile\n",
    "\n",
    "# 32mb+ of census data saved in a 4.7mb archive\n",
    "census_data_archive = os.path.join(data_archive_dir, \"census_data_2022_03_01.tgz\")\n",
    "\n",
    "# This is the US Census file with population data we will extract\n",
    "# this file is contained in the above tgz file\n",
    "census_2020_file = \"DECENNIALPL2020.P1_data_with_overlays_2021-12-02T121459.csv\"\n",
    "\n",
    "use_cols = [0, 1, 2]\n",
    "col_names = ['GEOID', 'CENSUS TRACT NAME', 'POPULATION']\n",
    "\n",
    "# This extracts a DataFrame from a tgz archived file\n",
    "def extract_from_tgz(filename):\n",
    "    with tarfile.open(filename) as tf:\n",
    "        for file in tf.getmembers():\n",
    "            if file.name == census_2020_file:\n",
    "                data = tf.extractfile(file)\n",
    "                return pd.read_csv(data, low_memory=False, skiprows=1, header=0, usecols=use_cols, names=col_names)\n",
    "\n",
    "df_census_pop_raw = extract_from_tgz(census_data_archive)\n",
    "\n",
    "# change some options that determine how much data is displayed in the notebook\n",
    "\n",
    "\n",
    "df_census_pop_raw.head(5)"
   ]
  },
  {
   "cell_type": "markdown",
   "id": "c3a11c52-a102-4953-9d4d-0320f1a6446b",
   "metadata": {},
   "source": [
    "The last 6 digits of the GEOID are the census tract code."
   ]
  },
  {
   "cell_type": "code",
   "execution_count": null,
   "id": "3758e47f-6639-4891-b714-5894c1d47114",
   "metadata": {},
   "outputs": [],
   "source": [
    "# make a GEO DataFrame for all of NY State, so that I can add in population data and calculate pop density\n",
    "# geo_df_ny.info()"
   ]
  },
  {
   "cell_type": "code",
   "execution_count": null,
   "id": "75133e4d-fc96-48d6-bcd9-24363cf98145",
   "metadata": {},
   "outputs": [],
   "source": [
    "# this is for later if i want to save the config file for my map\n",
    "#ny_map.config"
   ]
  },
  {
   "cell_type": "code",
   "execution_count": null,
   "id": "5490656e-3442-4591-b1da-5be7968d8705",
   "metadata": {},
   "outputs": [],
   "source": [
    "# state_fp = df_census_pop_raw['GEOID'].str.slice(9,11).rename('State FIPS').astype(int)\n",
    "# county_fp = df_census_pop_raw['GEOID'].str.slice(11,14).rename('County FIPS').astype(int)\n",
    "# df_census_pop = pd.concat([df_census_pop_raw, state_fp, county_fp], axis=1).drop('GEOID', axis=1)\n",
    "# df_census_pop"
   ]
  },
  {
   "cell_type": "code",
   "execution_count": null,
   "id": "e1e89e10-6ca8-466d-96b0-590e1e385403",
   "metadata": {},
   "outputs": [],
   "source": []
  },
  {
   "cell_type": "code",
   "execution_count": null,
   "id": "456a6aa7-ad7a-4800-a224-a286938640b1",
   "metadata": {},
   "outputs": [],
   "source": []
  }
 ],
 "metadata": {
  "kernelspec": {
   "display_name": "Python 3 (ipykernel)",
   "language": "python",
   "name": "python3"
  },
  "language_info": {
   "codemirror_mode": {
    "name": "ipython",
    "version": 3
   },
   "file_extension": ".py",
   "mimetype": "text/x-python",
   "name": "python",
   "nbconvert_exporter": "python",
   "pygments_lexer": "ipython3",
   "version": "3.8.10"
  }
 },
 "nbformat": 4,
 "nbformat_minor": 5
}
