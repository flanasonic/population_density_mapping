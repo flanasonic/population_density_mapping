{
 "cells": [
  {
   "cell_type": "markdown",
   "id": "a94d0488-4e38-4b02-b6f5-0dbbf917a90e",
   "metadata": {},
   "source": [
    "- Question - in what kinds of locations are indoor farms located?\n",
    "- Gather data - population density, addresses o\n",
    "- Clean data\n",
    "- Analyze it\n",
    "- Learn things\n",
    "- Do it again"
   ]
  },
  {
   "cell_type": "code",
   "execution_count": null,
   "id": "1d9efbcb-d46c-4456-b244-59e405754451",
   "metadata": {},
   "outputs": [],
   "source": []
  }
 ],
 "metadata": {
  "kernelspec": {
   "display_name": "Python 3 (ipykernel)",
   "language": "python",
   "name": "python3"
  },
  "language_info": {
   "codemirror_mode": {
    "name": "ipython",
    "version": 3
   },
   "file_extension": ".py",
   "mimetype": "text/x-python",
   "name": "python",
   "nbconvert_exporter": "python",
   "pygments_lexer": "ipython3",
   "version": "3.9.0"
  }
 },
 "nbformat": 4,
 "nbformat_minor": 5
}
