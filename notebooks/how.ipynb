{
 "cells": [
  {
   "cell_type": "markdown",
   "id": "a94d0488-4e38-4b02-b6f5-0dbbf917a90e",
   "metadata": {},
   "source": [
    "### Ask a question\n",
    "What's the state of urban farming in the US? Or, what kinds of places become home to urban farms? \n",
    "\n",
    "There a lot of ways to characterize a place, so we'll start by narrowing our scope to population denstity. \n",
    "\n",
    "### Gather data\n",
    "\n",
    "*Population data* - from US Census Bureau\n",
    "- 2020 US Census population by census tract\n",
    "- area of census tracts in square miles\n",
    "- population densities by census tract, calculate from above data\n",
    "- geo coordinates of tracts - for mapping population density\n",
    "\n",
    "*Farm data* - gathered from my own reading and research\n",
    "- addresses of farms & facilities\n",
    "- geo coordinates of farms & facilities\n",
    "\n",
    "### Visualize data\n",
    "- locations of vertical farms plotted on US map overlayed with population density \n",
    "\n",
    "### Analyze data\n",
    "- see what stands out\n",
    "- learn some things\n",
    "\n",
    "### Repeat."
   ]
  },
  {
   "cell_type": "code",
   "execution_count": null,
   "id": "1d9efbcb-d46c-4456-b244-59e405754451",
   "metadata": {},
   "outputs": [],
   "source": []
  }
 ],
 "metadata": {
  "kernelspec": {
   "display_name": "Python 3 (ipykernel)",
   "language": "python",
   "name": "python3"
  },
  "language_info": {
   "codemirror_mode": {
    "name": "ipython",
    "version": 3
   },
   "file_extension": ".py",
   "mimetype": "text/x-python",
   "name": "python",
   "nbconvert_exporter": "python",
   "pygments_lexer": "ipython3",
   "version": "3.9.0"
  }
 },
 "nbformat": 4,
 "nbformat_minor": 5
}
